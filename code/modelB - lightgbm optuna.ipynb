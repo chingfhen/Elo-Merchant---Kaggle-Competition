{
 "cells": [
  {
   "cell_type": "markdown",
   "id": "285d8cee",
   "metadata": {
    "scrolled": true
   },
   "source": [
    "### load data"
   ]
  },
  {
   "cell_type": "code",
   "execution_count": 1,
   "id": "afec4832",
   "metadata": {},
   "outputs": [],
   "source": [
    "from pandas import read_pickle\n",
    "path = r\"C:\\Users\\tanch\\Documents\\NTU\\NTU Year 4\\Semester 1\\CZ4041 - Machine Learning\\Team Project\\data\\full_train2.pkl\"\n",
    "data = read_pickle(path)\n",
    "X_cols = [col for col in data.columns if col not in [\"card_id\",\"target\"]]\n",
    "X, y = data[X_cols], data['target']"
   ]
  },
  {
   "cell_type": "code",
   "execution_count": 2,
   "id": "32f3a462",
   "metadata": {},
   "outputs": [],
   "source": [
    "import lightgbm as lgb\n",
    "data = lgb.Dataset(X,y)"
   ]
  },
  {
   "cell_type": "markdown",
   "id": "09df6774",
   "metadata": {},
   "source": [
    "### commence optuna"
   ]
  },
  {
   "cell_type": "code",
   "execution_count": 15,
   "id": "4f6d8ec8",
   "metadata": {},
   "outputs": [],
   "source": [
    "import optuna"
   ]
  },
  {
   "cell_type": "code",
   "execution_count": 17,
   "id": "dc46524d",
   "metadata": {},
   "outputs": [],
   "source": [
    "def objective(trial):\n",
    "\n",
    "    params = {\n",
    "        \"num_leaves\": trial.suggest_int('num_leaves', 193-30, 193+30),# 193\n",
    "        \"min_data_in_leaf\": 325,\n",
    "        \"bagging_fraction\": 0.9229024640381899, #trial.suggest_float(\"bagging_fraction\", 0.69-0.3,0.69+0.3),\n",
    "        \"bagging_freq\": 5, \n",
    "        \"feature_fraction_bynode\" : 0.5257141178498, # trial.suggest_float(\"feature_fraction_bynode\", 0.45-0.3,0.45+0.3),\n",
    "        \"feature_fraction\": 0.8016157141983071, # trial.suggest_float(\"feature_fraction\", 0.56-0.3,0.56+0.3),\n",
    "#         \"min_gain_to_split\": trial.suggest_float(\"min_gain_to_split\", 0.0001,0.5, log = False), # 0.05621632216128067,     \n",
    "        \"lambda_l1\": 0.0006897572783007315, # trial.suggest_float(\"lambda_l1\", 0.0001,0.01, log = True), # 0.00019163693019842484,\n",
    "        \"lambda_l2\": 0.0047642304039302, # trial.suggest_float(\"lambda_l2\", 0.0001,0.01, log = True), # 0.0027009967266884796,   \n",
    "        \"learning_rate\": 0.01,  # trial.suggest_float(\"learning_rate\", 0.001,0.01), # 0.01051003661177018,\n",
    "        \n",
    "        \"boosting\": \"gbdt\",\n",
    "        \"extra_trees\": False,\n",
    "        \"objective\": \"regression\",\n",
    "        \"max_depth\":  -1,\n",
    "        \"bagging_freq\": 10  ,                  # resamples rows at every k-th iteration\n",
    "        \"max_bin\": 255 ,                        # bins continuous values\n",
    "#         \"device_type\":  \"cuda\",\n",
    "        \"force_col_wise\":  True  ,                 # reduce memory cost\n",
    "        \"weight_column\": \"\"\n",
    "    }\n",
    "    \n",
    "    pruning_callback = optuna.integration.LightGBMPruningCallback(trial, \"rmse\")\n",
    "    \n",
    "    eval_hist  = lgb.cv(\n",
    "        params = params, \n",
    "        train_set = data, \n",
    "        num_boost_round = 1000, \n",
    "        nfold=3, \n",
    "        metrics = [\"rmse\"],\n",
    "        stratified = False, \n",
    "        categorical_feature = \"auto\",\n",
    "        verbose_eval = 10,\n",
    "        early_stopping_rounds = 10,\n",
    "        callbacks  = [pruning_callback]\n",
    "    )\n",
    "    \n",
    "    return min(eval_hist['rmse-mean'])"
   ]
  },
  {
   "cell_type": "code",
   "execution_count": 18,
   "id": "09b153eb",
   "metadata": {
    "scrolled": true
   },
   "outputs": [
    {
     "name": "stderr",
     "output_type": "stream",
     "text": [
      "\u001b[32m[I 2022-10-25 16:43:36,029]\u001b[0m A new study created in memory with name: no-name-863c145b-9944-4b02-a1a4-03be79a77686\u001b[0m\n"
     ]
    },
    {
     "name": "stdout",
     "output_type": "stream",
     "text": [
      "[LightGBM] [Info] Total Bins 80720\n",
      "[LightGBM] [Info] Number of data points in the train set: 134610, number of used features: 424\n",
      "[LightGBM] [Info] Total Bins 80720\n",
      "[LightGBM] [Info] Number of data points in the train set: 134610, number of used features: 424\n",
      "[LightGBM] [Info] Total Bins 80720\n",
      "[LightGBM] [Info] Number of data points in the train set: 134610, number of used features: 424\n",
      "[LightGBM] [Info] Start training from score -0.384681\n",
      "[LightGBM] [Info] Start training from score -0.399389\n",
      "[LightGBM] [Info] Start training from score -0.396838\n",
      "[10]\tcv_agg's rmse: 3.82346 + 0.0583556\n",
      "[20]\tcv_agg's rmse: 3.8006 + 0.0583248\n",
      "[30]\tcv_agg's rmse: 3.78145 + 0.0582927\n",
      "[40]\tcv_agg's rmse: 3.76481 + 0.0583505\n",
      "[50]\tcv_agg's rmse: 3.75095 + 0.0582905\n",
      "[60]\tcv_agg's rmse: 3.73895 + 0.0581663\n",
      "[70]\tcv_agg's rmse: 3.72877 + 0.0578588\n",
      "[80]\tcv_agg's rmse: 3.72025 + 0.0578955\n",
      "[90]\tcv_agg's rmse: 3.71282 + 0.0577076\n",
      "[100]\tcv_agg's rmse: 3.70623 + 0.0573615\n",
      "[110]\tcv_agg's rmse: 3.70066 + 0.0572917\n",
      "[120]\tcv_agg's rmse: 3.69581 + 0.0573281\n",
      "[130]\tcv_agg's rmse: 3.69146 + 0.057065\n",
      "[140]\tcv_agg's rmse: 3.68791 + 0.0569116\n",
      "[150]\tcv_agg's rmse: 3.68476 + 0.0567653\n",
      "[160]\tcv_agg's rmse: 3.68204 + 0.0566019\n",
      "[170]\tcv_agg's rmse: 3.67973 + 0.0564625\n",
      "[180]\tcv_agg's rmse: 3.67749 + 0.056319\n",
      "[190]\tcv_agg's rmse: 3.67552 + 0.0562606\n",
      "[200]\tcv_agg's rmse: 3.67385 + 0.0561606\n",
      "[210]\tcv_agg's rmse: 3.67243 + 0.0561175\n",
      "[220]\tcv_agg's rmse: 3.67116 + 0.0558424\n",
      "[230]\tcv_agg's rmse: 3.66998 + 0.0558497\n",
      "[240]\tcv_agg's rmse: 3.66904 + 0.0558784\n",
      "[250]\tcv_agg's rmse: 3.66794 + 0.0557621\n",
      "[260]\tcv_agg's rmse: 3.66694 + 0.0556436\n",
      "[270]\tcv_agg's rmse: 3.66625 + 0.05553\n",
      "[280]\tcv_agg's rmse: 3.66558 + 0.0554378\n",
      "[290]\tcv_agg's rmse: 3.66506 + 0.0554238\n",
      "[300]\tcv_agg's rmse: 3.66447 + 0.0554241\n",
      "[310]\tcv_agg's rmse: 3.66367 + 0.055169\n",
      "[320]\tcv_agg's rmse: 3.66328 + 0.0551679\n",
      "[330]\tcv_agg's rmse: 3.66282 + 0.0551914\n",
      "[340]\tcv_agg's rmse: 3.66222 + 0.0550136\n",
      "[350]\tcv_agg's rmse: 3.66193 + 0.0549412\n",
      "[360]\tcv_agg's rmse: 3.66172 + 0.0549996\n",
      "[370]\tcv_agg's rmse: 3.66145 + 0.0551039\n",
      "[380]\tcv_agg's rmse: 3.66113 + 0.0551386\n",
      "[390]\tcv_agg's rmse: 3.66093 + 0.0551945\n",
      "[400]\tcv_agg's rmse: 3.66052 + 0.0550129\n",
      "[410]\tcv_agg's rmse: 3.66031 + 0.0549989\n",
      "[420]\tcv_agg's rmse: 3.66013 + 0.0549292\n",
      "[430]\tcv_agg's rmse: 3.65992 + 0.0548576\n",
      "[440]\tcv_agg's rmse: 3.65976 + 0.0548587\n",
      "[450]\tcv_agg's rmse: 3.65968 + 0.0549371\n",
      "[460]\tcv_agg's rmse: 3.65963 + 0.0549079\n",
      "[470]\tcv_agg's rmse: 3.65946 + 0.0549121\n",
      "[480]\tcv_agg's rmse: 3.65934 + 0.0548535\n"
     ]
    },
    {
     "name": "stderr",
     "output_type": "stream",
     "text": [
      "\u001b[32m[I 2022-10-25 16:48:50,472]\u001b[0m Trial 0 finished with value: 3.6593246974489815 and parameters: {'num_leaves': 181}. Best is trial 0 with value: 3.6593246974489815.\u001b[0m\n"
     ]
    },
    {
     "name": "stdout",
     "output_type": "stream",
     "text": [
      "[LightGBM] [Info] Total Bins 80720\n",
      "[LightGBM] [Info] Number of data points in the train set: 134610, number of used features: 424\n",
      "[LightGBM] [Info] Total Bins 80720\n",
      "[LightGBM] [Info] Number of data points in the train set: 134610, number of used features: 424\n",
      "[LightGBM] [Info] Total Bins 80720\n",
      "[LightGBM] [Info] Number of data points in the train set: 134610, number of used features: 424\n",
      "[LightGBM] [Info] Start training from score -0.384681\n",
      "[LightGBM] [Info] Start training from score -0.399389\n",
      "[LightGBM] [Info] Start training from score -0.396838\n",
      "[10]\tcv_agg's rmse: 3.8236 + 0.0586192\n",
      "[20]\tcv_agg's rmse: 3.80091 + 0.0585964\n",
      "[30]\tcv_agg's rmse: 3.78159 + 0.0585146\n",
      "[40]\tcv_agg's rmse: 3.76503 + 0.0584611\n",
      "[50]\tcv_agg's rmse: 3.75132 + 0.0584694\n",
      "[60]\tcv_agg's rmse: 3.73931 + 0.0583922\n",
      "[70]\tcv_agg's rmse: 3.72913 + 0.0582898\n",
      "[80]\tcv_agg's rmse: 3.72037 + 0.0581793\n",
      "[90]\tcv_agg's rmse: 3.71293 + 0.0581372\n",
      "[100]\tcv_agg's rmse: 3.70651 + 0.0577855\n",
      "[110]\tcv_agg's rmse: 3.70084 + 0.0576981\n",
      "[120]\tcv_agg's rmse: 3.69608 + 0.0578227\n",
      "[130]\tcv_agg's rmse: 3.69196 + 0.0576362\n",
      "[140]\tcv_agg's rmse: 3.6885 + 0.0574676\n",
      "[150]\tcv_agg's rmse: 3.6853 + 0.0573995\n",
      "[160]\tcv_agg's rmse: 3.68262 + 0.0574746\n",
      "[170]\tcv_agg's rmse: 3.68019 + 0.0573994\n",
      "[180]\tcv_agg's rmse: 3.67807 + 0.0572785\n",
      "[190]\tcv_agg's rmse: 3.67622 + 0.0571169\n",
      "[200]\tcv_agg's rmse: 3.67455 + 0.0570418\n",
      "[210]\tcv_agg's rmse: 3.67315 + 0.0568671\n",
      "[220]\tcv_agg's rmse: 3.67206 + 0.0566784\n",
      "[230]\tcv_agg's rmse: 3.67086 + 0.0565633\n",
      "[240]\tcv_agg's rmse: 3.66971 + 0.0565157\n",
      "[250]\tcv_agg's rmse: 3.66873 + 0.0564409\n",
      "[260]\tcv_agg's rmse: 3.66787 + 0.0563995\n",
      "[270]\tcv_agg's rmse: 3.66717 + 0.0563763\n",
      "[280]\tcv_agg's rmse: 3.66655 + 0.0564338\n",
      "[290]\tcv_agg's rmse: 3.66581 + 0.0564401\n",
      "[300]\tcv_agg's rmse: 3.66525 + 0.0563815\n",
      "[310]\tcv_agg's rmse: 3.66458 + 0.0562363\n",
      "[320]\tcv_agg's rmse: 3.66427 + 0.0561856\n",
      "[330]\tcv_agg's rmse: 3.6639 + 0.056199\n",
      "[340]\tcv_agg's rmse: 3.66339 + 0.0560708\n",
      "[350]\tcv_agg's rmse: 3.66295 + 0.0559028\n",
      "[360]\tcv_agg's rmse: 3.66269 + 0.0559486\n",
      "[370]\tcv_agg's rmse: 3.6625 + 0.0559653\n",
      "[380]\tcv_agg's rmse: 3.6621 + 0.0560434\n",
      "[390]\tcv_agg's rmse: 3.66182 + 0.0560525\n",
      "[400]\tcv_agg's rmse: 3.66157 + 0.055944\n",
      "[410]\tcv_agg's rmse: 3.66133 + 0.0559807\n",
      "[420]\tcv_agg's rmse: 3.6612 + 0.0558839\n",
      "[430]\tcv_agg's rmse: 3.66103 + 0.0558112\n",
      "[440]\tcv_agg's rmse: 3.66083 + 0.0557643\n",
      "[450]\tcv_agg's rmse: 3.66066 + 0.0556936\n",
      "[460]\tcv_agg's rmse: 3.66057 + 0.0557262\n",
      "[470]\tcv_agg's rmse: 3.66046 + 0.0557777\n",
      "[480]\tcv_agg's rmse: 3.6603 + 0.0558011\n",
      "[490]\tcv_agg's rmse: 3.6603 + 0.0557863\n",
      "[500]\tcv_agg's rmse: 3.6601 + 0.0558616\n",
      "[510]\tcv_agg's rmse: 3.66007 + 0.0558561\n"
     ]
    },
    {
     "name": "stderr",
     "output_type": "stream",
     "text": [
      "\u001b[32m[I 2022-10-25 16:54:48,854]\u001b[0m Trial 1 finished with value: 3.6600228269404695 and parameters: {'num_leaves': 191}. Best is trial 0 with value: 3.6593246974489815.\u001b[0m\n"
     ]
    },
    {
     "name": "stdout",
     "output_type": "stream",
     "text": [
      "[LightGBM] [Info] Total Bins 80720\n",
      "[LightGBM] [Info] Number of data points in the train set: 134610, number of used features: 424\n",
      "[LightGBM] [Info] Total Bins 80720\n",
      "[LightGBM] [Info] Number of data points in the train set: 134610, number of used features: 424\n",
      "[LightGBM] [Info] Total Bins 80720\n",
      "[LightGBM] [Info] Number of data points in the train set: 134610, number of used features: 424\n",
      "[LightGBM] [Info] Start training from score -0.384681\n",
      "[LightGBM] [Info] Start training from score -0.399389\n",
      "[LightGBM] [Info] Start training from score -0.396838\n",
      "[10]\tcv_agg's rmse: 3.82338 + 0.0584426\n",
      "[20]\tcv_agg's rmse: 3.80079 + 0.058343\n",
      "[30]\tcv_agg's rmse: 3.78162 + 0.05832\n",
      "[40]\tcv_agg's rmse: 3.76511 + 0.058417\n",
      "[50]\tcv_agg's rmse: 3.75105 + 0.0581909\n",
      "[60]\tcv_agg's rmse: 3.73926 + 0.0581965\n",
      "[70]\tcv_agg's rmse: 3.72916 + 0.058035\n",
      "[80]\tcv_agg's rmse: 3.72064 + 0.0578331\n",
      "[90]\tcv_agg's rmse: 3.71314 + 0.057625\n",
      "[100]\tcv_agg's rmse: 3.70663 + 0.0575594\n",
      "[110]\tcv_agg's rmse: 3.70097 + 0.0573335\n",
      "[120]\tcv_agg's rmse: 3.6962 + 0.0572608\n",
      "[130]\tcv_agg's rmse: 3.69204 + 0.0571356\n",
      "[140]\tcv_agg's rmse: 3.68841 + 0.0570309\n",
      "[150]\tcv_agg's rmse: 3.68531 + 0.0569982\n",
      "[160]\tcv_agg's rmse: 3.68258 + 0.0568965\n",
      "[170]\tcv_agg's rmse: 3.68022 + 0.0568822\n",
      "[180]\tcv_agg's rmse: 3.67803 + 0.0568494\n",
      "[190]\tcv_agg's rmse: 3.67617 + 0.0567392\n",
      "[200]\tcv_agg's rmse: 3.6744 + 0.0565135\n",
      "[210]\tcv_agg's rmse: 3.67293 + 0.0564309\n",
      "[220]\tcv_agg's rmse: 3.67171 + 0.0561845\n",
      "[230]\tcv_agg's rmse: 3.6705 + 0.0561659\n",
      "[240]\tcv_agg's rmse: 3.66945 + 0.0561552\n",
      "[250]\tcv_agg's rmse: 3.66848 + 0.0559404\n",
      "[260]\tcv_agg's rmse: 3.6675 + 0.0558405\n",
      "[270]\tcv_agg's rmse: 3.66693 + 0.0557096\n",
      "[280]\tcv_agg's rmse: 3.66628 + 0.0557375\n",
      "[290]\tcv_agg's rmse: 3.66557 + 0.0556247\n",
      "[300]\tcv_agg's rmse: 3.66487 + 0.0555545\n",
      "[310]\tcv_agg's rmse: 3.66416 + 0.0554513\n",
      "[320]\tcv_agg's rmse: 3.66377 + 0.0554222\n",
      "[330]\tcv_agg's rmse: 3.66326 + 0.0552949\n",
      "[340]\tcv_agg's rmse: 3.66285 + 0.0551927\n",
      "[350]\tcv_agg's rmse: 3.6625 + 0.0551306\n",
      "[360]\tcv_agg's rmse: 3.66222 + 0.0551217\n",
      "[370]\tcv_agg's rmse: 3.66217 + 0.0551358\n",
      "[380]\tcv_agg's rmse: 3.66188 + 0.0551099\n",
      "[390]\tcv_agg's rmse: 3.66161 + 0.055082\n",
      "[400]\tcv_agg's rmse: 3.66134 + 0.0549939\n",
      "[410]\tcv_agg's rmse: 3.66124 + 0.0550474\n",
      "[420]\tcv_agg's rmse: 3.66108 + 0.0551686\n",
      "[430]\tcv_agg's rmse: 3.66087 + 0.0551555\n",
      "[440]\tcv_agg's rmse: 3.6607 + 0.0550698\n",
      "[450]\tcv_agg's rmse: 3.66054 + 0.0550405\n",
      "[460]\tcv_agg's rmse: 3.66048 + 0.0550536\n",
      "[470]\tcv_agg's rmse: 3.66037 + 0.0551516\n",
      "[480]\tcv_agg's rmse: 3.66032 + 0.0551609\n"
     ]
    },
    {
     "name": "stderr",
     "output_type": "stream",
     "text": [
      "\u001b[32m[I 2022-10-25 17:00:31,725]\u001b[0m Trial 2 finished with value: 3.66028946203356 and parameters: {'num_leaves': 182}. Best is trial 0 with value: 3.6593246974489815.\u001b[0m\n"
     ]
    },
    {
     "name": "stdout",
     "output_type": "stream",
     "text": [
      "[LightGBM] [Info] Total Bins 80720\n",
      "[LightGBM] [Info] Number of data points in the train set: 134610, number of used features: 424\n",
      "[LightGBM] [Info] Total Bins 80720\n",
      "[LightGBM] [Info] Number of data points in the train set: 134610, number of used features: 424\n",
      "[LightGBM] [Info] Total Bins 80720\n",
      "[LightGBM] [Info] Number of data points in the train set: 134610, number of used features: 424\n",
      "[LightGBM] [Info] Start training from score -0.384681\n",
      "[LightGBM] [Info] Start training from score -0.399389\n",
      "[LightGBM] [Info] Start training from score -0.396838\n",
      "[10]\tcv_agg's rmse: 3.82344 + 0.0585146\n",
      "[20]\tcv_agg's rmse: 3.80059 + 0.0581514\n",
      "[30]\tcv_agg's rmse: 3.78135 + 0.0580667\n",
      "[40]\tcv_agg's rmse: 3.76495 + 0.0581786\n",
      "[50]\tcv_agg's rmse: 3.75105 + 0.0580892\n",
      "[60]\tcv_agg's rmse: 3.7389 + 0.0581346\n",
      "[70]\tcv_agg's rmse: 3.72882 + 0.0579155\n",
      "[80]\tcv_agg's rmse: 3.72029 + 0.0579124\n",
      "[90]\tcv_agg's rmse: 3.71269 + 0.0577334\n",
      "[100]\tcv_agg's rmse: 3.70658 + 0.0574152\n",
      "[110]\tcv_agg's rmse: 3.70085 + 0.0572397\n",
      "[120]\tcv_agg's rmse: 3.69599 + 0.0572905\n",
      "[130]\tcv_agg's rmse: 3.69171 + 0.0570488\n",
      "[140]\tcv_agg's rmse: 3.68806 + 0.0569669\n",
      "[150]\tcv_agg's rmse: 3.68482 + 0.0569327\n",
      "[160]\tcv_agg's rmse: 3.68216 + 0.0568707\n",
      "[170]\tcv_agg's rmse: 3.67988 + 0.0568442\n",
      "[180]\tcv_agg's rmse: 3.67785 + 0.0567741\n",
      "[190]\tcv_agg's rmse: 3.67587 + 0.0565325\n",
      "[200]\tcv_agg's rmse: 3.67427 + 0.0564136\n",
      "[210]\tcv_agg's rmse: 3.67298 + 0.0562367\n",
      "[220]\tcv_agg's rmse: 3.67174 + 0.0561558\n",
      "[230]\tcv_agg's rmse: 3.67063 + 0.0560494\n",
      "[240]\tcv_agg's rmse: 3.66959 + 0.0559709\n",
      "[250]\tcv_agg's rmse: 3.66851 + 0.0558845\n",
      "[260]\tcv_agg's rmse: 3.66752 + 0.055836\n",
      "[270]\tcv_agg's rmse: 3.66691 + 0.055725\n",
      "[280]\tcv_agg's rmse: 3.66623 + 0.0556826\n",
      "[290]\tcv_agg's rmse: 3.66553 + 0.0556118\n",
      "[300]\tcv_agg's rmse: 3.6648 + 0.0557334\n",
      "[310]\tcv_agg's rmse: 3.66417 + 0.0555349\n",
      "[320]\tcv_agg's rmse: 3.6638 + 0.0556161\n",
      "[330]\tcv_agg's rmse: 3.66348 + 0.0555785\n",
      "[340]\tcv_agg's rmse: 3.66298 + 0.055605\n",
      "[350]\tcv_agg's rmse: 3.66256 + 0.055595\n",
      "[360]\tcv_agg's rmse: 3.66226 + 0.0555672\n",
      "[370]\tcv_agg's rmse: 3.66197 + 0.0556181\n",
      "[380]\tcv_agg's rmse: 3.66159 + 0.0556882\n",
      "[390]\tcv_agg's rmse: 3.66135 + 0.0556848\n",
      "[400]\tcv_agg's rmse: 3.66105 + 0.0555555\n",
      "[410]\tcv_agg's rmse: 3.66085 + 0.0555008\n",
      "[420]\tcv_agg's rmse: 3.66074 + 0.0554718\n",
      "[430]\tcv_agg's rmse: 3.6606 + 0.0552588\n",
      "[440]\tcv_agg's rmse: 3.66042 + 0.0552669\n",
      "[450]\tcv_agg's rmse: 3.66036 + 0.0553058\n",
      "[460]\tcv_agg's rmse: 3.66015 + 0.055387\n",
      "[470]\tcv_agg's rmse: 3.66001 + 0.0554911\n",
      "[480]\tcv_agg's rmse: 3.65994 + 0.0555304\n",
      "[490]\tcv_agg's rmse: 3.65983 + 0.0554963\n",
      "[500]\tcv_agg's rmse: 3.6597 + 0.0553917\n",
      "[510]\tcv_agg's rmse: 3.65972 + 0.0553807\n"
     ]
    },
    {
     "name": "stderr",
     "output_type": "stream",
     "text": [
      "\u001b[32m[I 2022-10-25 17:06:20,748]\u001b[0m Trial 3 finished with value: 3.6596791231014776 and parameters: {'num_leaves': 216}. Best is trial 0 with value: 3.6593246974489815.\u001b[0m\n"
     ]
    },
    {
     "name": "stdout",
     "output_type": "stream",
     "text": [
      "[LightGBM] [Info] Total Bins 80720\n",
      "[LightGBM] [Info] Number of data points in the train set: 134610, number of used features: 424\n",
      "[LightGBM] [Info] Total Bins 80720\n",
      "[LightGBM] [Info] Number of data points in the train set: 134610, number of used features: 424\n",
      "[LightGBM] [Info] Total Bins 80720\n",
      "[LightGBM] [Info] Number of data points in the train set: 134610, number of used features: 424\n",
      "[LightGBM] [Info] Start training from score -0.384681\n",
      "[LightGBM] [Info] Start training from score -0.399389\n",
      "[LightGBM] [Info] Start training from score -0.396838\n",
      "[10]\tcv_agg's rmse: 3.82347 + 0.0585033\n",
      "[20]\tcv_agg's rmse: 3.80094 + 0.0586301\n",
      "[30]\tcv_agg's rmse: 3.78167 + 0.0583681\n",
      "[40]\tcv_agg's rmse: 3.76498 + 0.0584106\n",
      "[50]\tcv_agg's rmse: 3.75114 + 0.0581339\n",
      "[60]\tcv_agg's rmse: 3.73933 + 0.058145\n",
      "[70]\tcv_agg's rmse: 3.72924 + 0.0581015\n",
      "[80]\tcv_agg's rmse: 3.72054 + 0.0579552\n",
      "[90]\tcv_agg's rmse: 3.71295 + 0.0575106\n",
      "[100]\tcv_agg's rmse: 3.70644 + 0.0573639\n",
      "[110]\tcv_agg's rmse: 3.70087 + 0.0570739\n",
      "[120]\tcv_agg's rmse: 3.6961 + 0.0569984\n",
      "[130]\tcv_agg's rmse: 3.69196 + 0.0566539\n",
      "[140]\tcv_agg's rmse: 3.68854 + 0.0566293\n",
      "[150]\tcv_agg's rmse: 3.68543 + 0.0565615\n",
      "[160]\tcv_agg's rmse: 3.68265 + 0.0564639\n",
      "[170]\tcv_agg's rmse: 3.68015 + 0.0563715\n",
      "[180]\tcv_agg's rmse: 3.67797 + 0.0562764\n",
      "[190]\tcv_agg's rmse: 3.67605 + 0.0560548\n",
      "[200]\tcv_agg's rmse: 3.67439 + 0.0559772\n",
      "[210]\tcv_agg's rmse: 3.67297 + 0.0559653\n",
      "[220]\tcv_agg's rmse: 3.67166 + 0.0557959\n",
      "[230]\tcv_agg's rmse: 3.67036 + 0.0557466\n",
      "[240]\tcv_agg's rmse: 3.66928 + 0.055622\n",
      "[250]\tcv_agg's rmse: 3.66828 + 0.0554708\n",
      "[260]\tcv_agg's rmse: 3.66728 + 0.0552777\n",
      "[270]\tcv_agg's rmse: 3.66656 + 0.0552352\n",
      "[280]\tcv_agg's rmse: 3.66593 + 0.0550619\n",
      "[290]\tcv_agg's rmse: 3.66528 + 0.0551124\n",
      "[300]\tcv_agg's rmse: 3.66466 + 0.055108\n",
      "[310]\tcv_agg's rmse: 3.66405 + 0.0550965\n",
      "[320]\tcv_agg's rmse: 3.66362 + 0.0551834\n",
      "[330]\tcv_agg's rmse: 3.66331 + 0.0551689\n",
      "[340]\tcv_agg's rmse: 3.66264 + 0.055054\n",
      "[350]\tcv_agg's rmse: 3.66228 + 0.0549648\n",
      "[360]\tcv_agg's rmse: 3.66203 + 0.0549376\n",
      "[370]\tcv_agg's rmse: 3.66194 + 0.0548853\n",
      "[380]\tcv_agg's rmse: 3.66153 + 0.054951\n",
      "[390]\tcv_agg's rmse: 3.66134 + 0.0550074\n",
      "[400]\tcv_agg's rmse: 3.66113 + 0.0550113\n",
      "[410]\tcv_agg's rmse: 3.66093 + 0.055006\n",
      "[420]\tcv_agg's rmse: 3.66078 + 0.0550497\n",
      "[430]\tcv_agg's rmse: 3.66054 + 0.0549383\n",
      "[440]\tcv_agg's rmse: 3.66037 + 0.0549027\n",
      "[450]\tcv_agg's rmse: 3.66031 + 0.0549004\n",
      "[460]\tcv_agg's rmse: 3.66016 + 0.0547285\n",
      "[470]\tcv_agg's rmse: 3.65996 + 0.0546735\n",
      "[480]\tcv_agg's rmse: 3.65984 + 0.0545136\n",
      "[490]\tcv_agg's rmse: 3.65981 + 0.054616\n",
      "[500]\tcv_agg's rmse: 3.65976 + 0.0545784\n",
      "[510]\tcv_agg's rmse: 3.65979 + 0.0546079\n"
     ]
    },
    {
     "name": "stderr",
     "output_type": "stream",
     "text": [
      "\u001b[32m[I 2022-10-25 17:12:07,672]\u001b[0m Trial 4 finished with value: 3.6597376791051572 and parameters: {'num_leaves': 171}. Best is trial 0 with value: 3.6593246974489815.\u001b[0m\n"
     ]
    },
    {
     "name": "stdout",
     "output_type": "stream",
     "text": [
      "[LightGBM] [Info] Total Bins 80720\n",
      "[LightGBM] [Info] Number of data points in the train set: 134610, number of used features: 424\n",
      "[LightGBM] [Info] Total Bins 80720\n",
      "[LightGBM] [Info] Number of data points in the train set: 134610, number of used features: 424\n",
      "[LightGBM] [Info] Total Bins 80720\n",
      "[LightGBM] [Info] Number of data points in the train set: 134610, number of used features: 424\n",
      "[LightGBM] [Info] Start training from score -0.384681\n",
      "[LightGBM] [Info] Start training from score -0.399389\n",
      "[LightGBM] [Info] Start training from score -0.396838\n"
     ]
    },
    {
     "name": "stderr",
     "output_type": "stream",
     "text": [
      "\u001b[32m[I 2022-10-25 17:12:09,840]\u001b[0m Trial 5 pruned. Trial was pruned at iteration 0.\u001b[0m\n"
     ]
    },
    {
     "name": "stdout",
     "output_type": "stream",
     "text": [
      "[LightGBM] [Info] Total Bins 80720\n",
      "[LightGBM] [Info] Number of data points in the train set: 134610, number of used features: 424\n",
      "[LightGBM] [Info] Total Bins 80720\n",
      "[LightGBM] [Info] Number of data points in the train set: 134610, number of used features: 424\n",
      "[LightGBM] [Info] Total Bins 80720\n",
      "[LightGBM] [Info] Number of data points in the train set: 134610, number of used features: 424\n",
      "[LightGBM] [Info] Start training from score -0.384681\n",
      "[LightGBM] [Info] Start training from score -0.399389\n",
      "[LightGBM] [Info] Start training from score -0.396838\n"
     ]
    },
    {
     "name": "stderr",
     "output_type": "stream",
     "text": [
      "\u001b[32m[I 2022-10-25 17:12:15,471]\u001b[0m Trial 6 pruned. Trial was pruned at iteration 2.\u001b[0m\n"
     ]
    },
    {
     "name": "stdout",
     "output_type": "stream",
     "text": [
      "[LightGBM] [Info] Total Bins 80720\n",
      "[LightGBM] [Info] Number of data points in the train set: 134610, number of used features: 424\n",
      "[LightGBM] [Info] Total Bins 80720\n",
      "[LightGBM] [Info] Number of data points in the train set: 134610, number of used features: 424\n",
      "[LightGBM] [Info] Total Bins 80720\n",
      "[LightGBM] [Info] Number of data points in the train set: 134610, number of used features: 424\n",
      "[LightGBM] [Info] Start training from score -0.384681\n",
      "[LightGBM] [Info] Start training from score -0.399389\n",
      "[LightGBM] [Info] Start training from score -0.396838\n"
     ]
    },
    {
     "name": "stderr",
     "output_type": "stream",
     "text": [
      "\u001b[32m[I 2022-10-25 17:12:19,632]\u001b[0m Trial 7 pruned. Trial was pruned at iteration 1.\u001b[0m\n"
     ]
    },
    {
     "name": "stdout",
     "output_type": "stream",
     "text": [
      "[LightGBM] [Info] Total Bins 80720\n",
      "[LightGBM] [Info] Number of data points in the train set: 134610, number of used features: 424\n",
      "[LightGBM] [Info] Total Bins 80720\n",
      "[LightGBM] [Info] Number of data points in the train set: 134610, number of used features: 424\n",
      "[LightGBM] [Info] Total Bins 80720\n",
      "[LightGBM] [Info] Number of data points in the train set: 134610, number of used features: 424\n",
      "[LightGBM] [Info] Start training from score -0.384681\n",
      "[LightGBM] [Info] Start training from score -0.399389\n",
      "[LightGBM] [Info] Start training from score -0.396838\n"
     ]
    },
    {
     "name": "stderr",
     "output_type": "stream",
     "text": [
      "\u001b[32m[I 2022-10-25 17:12:26,665]\u001b[0m Trial 8 pruned. Trial was pruned at iteration 4.\u001b[0m\n"
     ]
    },
    {
     "name": "stdout",
     "output_type": "stream",
     "text": [
      "[LightGBM] [Info] Total Bins 80720\n",
      "[LightGBM] [Info] Number of data points in the train set: 134610, number of used features: 424\n",
      "[LightGBM] [Info] Total Bins 80720\n",
      "[LightGBM] [Info] Number of data points in the train set: 134610, number of used features: 424\n",
      "[LightGBM] [Info] Total Bins 80720\n",
      "[LightGBM] [Info] Number of data points in the train set: 134610, number of used features: 424\n",
      "[LightGBM] [Info] Start training from score -0.384681\n",
      "[LightGBM] [Info] Start training from score -0.399389\n",
      "[LightGBM] [Info] Start training from score -0.396838\n"
     ]
    },
    {
     "name": "stderr",
     "output_type": "stream",
     "text": [
      "\u001b[32m[I 2022-10-25 17:12:29,065]\u001b[0m Trial 9 pruned. Trial was pruned at iteration 1.\u001b[0m\n"
     ]
    },
    {
     "name": "stdout",
     "output_type": "stream",
     "text": [
      "[LightGBM] [Info] Total Bins 80720\n",
      "[LightGBM] [Info] Number of data points in the train set: 134610, number of used features: 424\n",
      "[LightGBM] [Info] Total Bins 80720\n",
      "[LightGBM] [Info] Number of data points in the train set: 134610, number of used features: 424\n",
      "[LightGBM] [Info] Total Bins 80720\n",
      "[LightGBM] [Info] Number of data points in the train set: 134610, number of used features: 424\n",
      "[LightGBM] [Info] Start training from score -0.384681\n",
      "[LightGBM] [Info] Start training from score -0.399389\n",
      "[LightGBM] [Info] Start training from score -0.396838\n"
     ]
    },
    {
     "name": "stderr",
     "output_type": "stream",
     "text": [
      "\u001b[32m[I 2022-10-25 17:12:31,361]\u001b[0m Trial 10 pruned. Trial was pruned at iteration 0.\u001b[0m\n"
     ]
    },
    {
     "name": "stdout",
     "output_type": "stream",
     "text": [
      "[LightGBM] [Info] Total Bins 80720\n",
      "[LightGBM] [Info] Number of data points in the train set: 134610, number of used features: 424\n",
      "[LightGBM] [Info] Total Bins 80720\n",
      "[LightGBM] [Info] Number of data points in the train set: 134610, number of used features: 424\n",
      "[LightGBM] [Info] Total Bins 80720\n",
      "[LightGBM] [Info] Number of data points in the train set: 134610, number of used features: 424\n",
      "[LightGBM] [Info] Start training from score -0.384681\n",
      "[LightGBM] [Info] Start training from score -0.399389\n",
      "[LightGBM] [Info] Start training from score -0.396838\n",
      "[10]\tcv_agg's rmse: 3.82341 + 0.0581802\n"
     ]
    },
    {
     "name": "stderr",
     "output_type": "stream",
     "text": [
      "\u001b[32m[I 2022-10-25 17:12:40,753]\u001b[0m Trial 11 pruned. Trial was pruned at iteration 10.\u001b[0m\n"
     ]
    },
    {
     "name": "stdout",
     "output_type": "stream",
     "text": [
      "[LightGBM] [Info] Total Bins 80720\n",
      "[LightGBM] [Info] Number of data points in the train set: 134610, number of used features: 424\n",
      "[LightGBM] [Info] Total Bins 80720\n",
      "[LightGBM] [Info] Number of data points in the train set: 134610, number of used features: 424\n",
      "[LightGBM] [Info] Total Bins 80720\n",
      "[LightGBM] [Info] Number of data points in the train set: 134610, number of used features: 424\n",
      "[LightGBM] [Info] Start training from score -0.384681\n",
      "[LightGBM] [Info] Start training from score -0.399389\n",
      "[LightGBM] [Info] Start training from score -0.396838\n"
     ]
    },
    {
     "name": "stderr",
     "output_type": "stream",
     "text": [
      "\u001b[32m[I 2022-10-25 17:12:46,093]\u001b[0m Trial 12 pruned. Trial was pruned at iteration 5.\u001b[0m\n"
     ]
    },
    {
     "name": "stdout",
     "output_type": "stream",
     "text": [
      "[LightGBM] [Info] Total Bins 80720\n",
      "[LightGBM] [Info] Number of data points in the train set: 134610, number of used features: 424\n",
      "[LightGBM] [Info] Total Bins 80720\n",
      "[LightGBM] [Info] Number of data points in the train set: 134610, number of used features: 424\n",
      "[LightGBM] [Info] Total Bins 80720\n",
      "[LightGBM] [Info] Number of data points in the train set: 134610, number of used features: 424\n",
      "[LightGBM] [Info] Start training from score -0.384681\n",
      "[LightGBM] [Info] Start training from score -0.399389\n",
      "[LightGBM] [Info] Start training from score -0.396838\n"
     ]
    },
    {
     "name": "stderr",
     "output_type": "stream",
     "text": [
      "\u001b[32m[I 2022-10-25 17:12:51,574]\u001b[0m Trial 13 pruned. Trial was pruned at iteration 5.\u001b[0m\n"
     ]
    },
    {
     "name": "stdout",
     "output_type": "stream",
     "text": [
      "[LightGBM] [Info] Total Bins 80720\n",
      "[LightGBM] [Info] Number of data points in the train set: 134610, number of used features: 424\n",
      "[LightGBM] [Info] Total Bins 80720\n",
      "[LightGBM] [Info] Number of data points in the train set: 134610, number of used features: 424\n",
      "[LightGBM] [Info] Total Bins 80720\n",
      "[LightGBM] [Info] Number of data points in the train set: 134610, number of used features: 424\n",
      "[LightGBM] [Info] Start training from score -0.384681\n",
      "[LightGBM] [Info] Start training from score -0.399389\n",
      "[LightGBM] [Info] Start training from score -0.396838\n",
      "[10]\tcv_agg's rmse: 3.82322 + 0.058471\n",
      "[20]\tcv_agg's rmse: 3.80029 + 0.0584896\n",
      "[30]\tcv_agg's rmse: 3.78122 + 0.0581661\n",
      "[40]\tcv_agg's rmse: 3.76465 + 0.0582316\n",
      "[50]\tcv_agg's rmse: 3.75073 + 0.0579753\n",
      "[60]\tcv_agg's rmse: 3.73887 + 0.0578921\n",
      "[70]\tcv_agg's rmse: 3.72899 + 0.057575\n"
     ]
    },
    {
     "name": "stderr",
     "output_type": "stream",
     "text": [
      "\u001b[32m[I 2022-10-25 17:13:44,497]\u001b[0m Trial 14 pruned. Trial was pruned at iteration 73.\u001b[0m\n"
     ]
    },
    {
     "name": "stdout",
     "output_type": "stream",
     "text": [
      "[LightGBM] [Info] Total Bins 80720\n",
      "[LightGBM] [Info] Number of data points in the train set: 134610, number of used features: 424\n",
      "[LightGBM] [Info] Total Bins 80720\n",
      "[LightGBM] [Info] Number of data points in the train set: 134610, number of used features: 424\n",
      "[LightGBM] [Info] Total Bins 80720\n",
      "[LightGBM] [Info] Number of data points in the train set: 134610, number of used features: 424\n",
      "[LightGBM] [Info] Start training from score -0.384681\n",
      "[LightGBM] [Info] Start training from score -0.399389\n",
      "[LightGBM] [Info] Start training from score -0.396838\n"
     ]
    },
    {
     "name": "stderr",
     "output_type": "stream",
     "text": [
      "\u001b[32m[I 2022-10-25 17:13:47,690]\u001b[0m Trial 15 pruned. Trial was pruned at iteration 1.\u001b[0m\n"
     ]
    },
    {
     "name": "stdout",
     "output_type": "stream",
     "text": [
      "[LightGBM] [Info] Total Bins 80720\n",
      "[LightGBM] [Info] Number of data points in the train set: 134610, number of used features: 424\n",
      "[LightGBM] [Info] Total Bins 80720\n",
      "[LightGBM] [Info] Number of data points in the train set: 134610, number of used features: 424\n",
      "[LightGBM] [Info] Total Bins 80720\n",
      "[LightGBM] [Info] Number of data points in the train set: 134610, number of used features: 424\n",
      "[LightGBM] [Info] Start training from score -0.384681\n",
      "[LightGBM] [Info] Start training from score -0.399389\n",
      "[LightGBM] [Info] Start training from score -0.396838\n",
      "[10]\tcv_agg's rmse: 3.82317 + 0.0585987\n",
      "[20]\tcv_agg's rmse: 3.80046 + 0.0587083\n",
      "[30]\tcv_agg's rmse: 3.78107 + 0.0584988\n",
      "[40]\tcv_agg's rmse: 3.76436 + 0.0586345\n",
      "[50]\tcv_agg's rmse: 3.75076 + 0.0582108\n",
      "[60]\tcv_agg's rmse: 3.73872 + 0.0579526\n",
      "[70]\tcv_agg's rmse: 3.72861 + 0.0576926\n",
      "[80]\tcv_agg's rmse: 3.72017 + 0.0576723\n",
      "[90]\tcv_agg's rmse: 3.71259 + 0.0572674\n",
      "[100]\tcv_agg's rmse: 3.70608 + 0.0570721\n",
      "[110]\tcv_agg's rmse: 3.70059 + 0.0568193\n",
      "[120]\tcv_agg's rmse: 3.69571 + 0.0568473\n",
      "[130]\tcv_agg's rmse: 3.69159 + 0.0566677\n",
      "[140]\tcv_agg's rmse: 3.68811 + 0.0567138\n",
      "[150]\tcv_agg's rmse: 3.6849 + 0.0566335\n",
      "[160]\tcv_agg's rmse: 3.68223 + 0.0565586\n",
      "[170]\tcv_agg's rmse: 3.67993 + 0.0565825\n",
      "[180]\tcv_agg's rmse: 3.67777 + 0.0564594\n",
      "[190]\tcv_agg's rmse: 3.67583 + 0.0563655\n",
      "[200]\tcv_agg's rmse: 3.67419 + 0.0562303\n",
      "[210]\tcv_agg's rmse: 3.67274 + 0.056072\n",
      "[220]\tcv_agg's rmse: 3.67159 + 0.0560192\n",
      "[230]\tcv_agg's rmse: 3.67023 + 0.05588\n",
      "[240]\tcv_agg's rmse: 3.66921 + 0.0557863\n",
      "[250]\tcv_agg's rmse: 3.66831 + 0.0555729\n",
      "[260]\tcv_agg's rmse: 3.66727 + 0.0554588\n",
      "[270]\tcv_agg's rmse: 3.66653 + 0.055484\n",
      "[280]\tcv_agg's rmse: 3.66575 + 0.0554411\n",
      "[290]\tcv_agg's rmse: 3.66503 + 0.0554773\n",
      "[300]\tcv_agg's rmse: 3.66439 + 0.0554907\n",
      "[310]\tcv_agg's rmse: 3.66367 + 0.0553021\n",
      "[320]\tcv_agg's rmse: 3.66315 + 0.0553382\n",
      "[330]\tcv_agg's rmse: 3.66283 + 0.0553528\n",
      "[340]\tcv_agg's rmse: 3.66219 + 0.0552571\n",
      "[350]\tcv_agg's rmse: 3.66177 + 0.0552254\n",
      "[360]\tcv_agg's rmse: 3.66159 + 0.0552534\n",
      "[370]\tcv_agg's rmse: 3.66145 + 0.0552202\n",
      "[380]\tcv_agg's rmse: 3.66115 + 0.0552523\n",
      "[390]\tcv_agg's rmse: 3.66096 + 0.0550951\n",
      "[400]\tcv_agg's rmse: 3.66068 + 0.0549919\n",
      "[410]\tcv_agg's rmse: 3.66066 + 0.0551345\n"
     ]
    },
    {
     "name": "stderr",
     "output_type": "stream",
     "text": [
      "\u001b[32m[I 2022-10-25 17:18:55,224]\u001b[0m Trial 16 finished with value: 3.660602396033994 and parameters: {'num_leaves': 192}. Best is trial 0 with value: 3.6593246974489815.\u001b[0m\n"
     ]
    },
    {
     "name": "stdout",
     "output_type": "stream",
     "text": [
      "[LightGBM] [Info] Total Bins 80720\n",
      "[LightGBM] [Info] Number of data points in the train set: 134610, number of used features: 424\n",
      "[LightGBM] [Info] Total Bins 80720\n",
      "[LightGBM] [Info] Number of data points in the train set: 134610, number of used features: 424\n",
      "[LightGBM] [Info] Total Bins 80720\n",
      "[LightGBM] [Info] Number of data points in the train set: 134610, number of used features: 424\n",
      "[LightGBM] [Info] Start training from score -0.384681\n",
      "[LightGBM] [Info] Start training from score -0.399389\n",
      "[LightGBM] [Info] Start training from score -0.396838\n"
     ]
    },
    {
     "name": "stderr",
     "output_type": "stream",
     "text": [
      "\u001b[32m[I 2022-10-25 17:18:56,693]\u001b[0m Trial 17 pruned. Trial was pruned at iteration 0.\u001b[0m\n"
     ]
    },
    {
     "name": "stdout",
     "output_type": "stream",
     "text": [
      "[LightGBM] [Info] Total Bins 80720\n",
      "[LightGBM] [Info] Number of data points in the train set: 134610, number of used features: 424\n",
      "[LightGBM] [Info] Total Bins 80720\n",
      "[LightGBM] [Info] Number of data points in the train set: 134610, number of used features: 424\n",
      "[LightGBM] [Info] Total Bins 80720\n",
      "[LightGBM] [Info] Number of data points in the train set: 134610, number of used features: 424\n",
      "[LightGBM] [Info] Start training from score -0.384681\n",
      "[LightGBM] [Info] Start training from score -0.399389\n",
      "[LightGBM] [Info] Start training from score -0.396838\n"
     ]
    },
    {
     "name": "stderr",
     "output_type": "stream",
     "text": [
      "\u001b[32m[I 2022-10-25 17:18:58,902]\u001b[0m Trial 18 pruned. Trial was pruned at iteration 1.\u001b[0m\n"
     ]
    },
    {
     "name": "stdout",
     "output_type": "stream",
     "text": [
      "[LightGBM] [Info] Total Bins 80720\n",
      "[LightGBM] [Info] Number of data points in the train set: 134610, number of used features: 424\n",
      "[LightGBM] [Info] Total Bins 80720\n",
      "[LightGBM] [Info] Number of data points in the train set: 134610, number of used features: 424\n",
      "[LightGBM] [Info] Total Bins 80720\n",
      "[LightGBM] [Info] Number of data points in the train set: 134610, number of used features: 424\n",
      "[LightGBM] [Info] Start training from score -0.384681\n",
      "[LightGBM] [Info] Start training from score -0.399389\n",
      "[LightGBM] [Info] Start training from score -0.396838\n"
     ]
    },
    {
     "name": "stderr",
     "output_type": "stream",
     "text": [
      "\u001b[32m[I 2022-10-25 17:19:01,869]\u001b[0m Trial 19 pruned. Trial was pruned at iteration 1.\u001b[0m\n"
     ]
    },
    {
     "name": "stdout",
     "output_type": "stream",
     "text": [
      "[LightGBM] [Info] Total Bins 80720\n",
      "[LightGBM] [Info] Number of data points in the train set: 134610, number of used features: 424\n",
      "[LightGBM] [Info] Total Bins 80720\n",
      "[LightGBM] [Info] Number of data points in the train set: 134610, number of used features: 424\n",
      "[LightGBM] [Info] Total Bins 80720\n",
      "[LightGBM] [Info] Number of data points in the train set: 134610, number of used features: 424\n",
      "[LightGBM] [Info] Start training from score -0.384681\n",
      "[LightGBM] [Info] Start training from score -0.399389\n",
      "[LightGBM] [Info] Start training from score -0.396838\n"
     ]
    },
    {
     "name": "stderr",
     "output_type": "stream",
     "text": [
      "\u001b[32m[I 2022-10-25 17:19:04,419]\u001b[0m Trial 20 pruned. Trial was pruned at iteration 1.\u001b[0m\n"
     ]
    },
    {
     "name": "stdout",
     "output_type": "stream",
     "text": [
      "[LightGBM] [Info] Total Bins 80720\n",
      "[LightGBM] [Info] Number of data points in the train set: 134610, number of used features: 424\n",
      "[LightGBM] [Info] Total Bins 80720\n",
      "[LightGBM] [Info] Number of data points in the train set: 134610, number of used features: 424\n",
      "[LightGBM] [Info] Total Bins 80720\n",
      "[LightGBM] [Info] Number of data points in the train set: 134610, number of used features: 424\n",
      "[LightGBM] [Info] Start training from score -0.384681\n",
      "[LightGBM] [Info] Start training from score -0.399389\n",
      "[LightGBM] [Info] Start training from score -0.396838\n"
     ]
    },
    {
     "name": "stderr",
     "output_type": "stream",
     "text": [
      "\u001b[32m[I 2022-10-25 17:19:06,073]\u001b[0m Trial 21 pruned. Trial was pruned at iteration 0.\u001b[0m\n"
     ]
    },
    {
     "name": "stdout",
     "output_type": "stream",
     "text": [
      "[LightGBM] [Info] Total Bins 80720\n",
      "[LightGBM] [Info] Number of data points in the train set: 134610, number of used features: 424\n",
      "[LightGBM] [Info] Total Bins 80720\n",
      "[LightGBM] [Info] Number of data points in the train set: 134610, number of used features: 424\n",
      "[LightGBM] [Info] Total Bins 80720\n",
      "[LightGBM] [Info] Number of data points in the train set: 134610, number of used features: 424\n",
      "[LightGBM] [Info] Start training from score -0.384681\n",
      "[LightGBM] [Info] Start training from score -0.399389\n",
      "[LightGBM] [Info] Start training from score -0.396838\n"
     ]
    },
    {
     "name": "stderr",
     "output_type": "stream",
     "text": [
      "\u001b[32m[I 2022-10-25 17:19:07,675]\u001b[0m Trial 22 pruned. Trial was pruned at iteration 0.\u001b[0m\n"
     ]
    },
    {
     "name": "stdout",
     "output_type": "stream",
     "text": [
      "[LightGBM] [Info] Total Bins 80720\n",
      "[LightGBM] [Info] Number of data points in the train set: 134610, number of used features: 424\n",
      "[LightGBM] [Info] Total Bins 80720\n",
      "[LightGBM] [Info] Number of data points in the train set: 134610, number of used features: 424\n",
      "[LightGBM] [Info] Total Bins 80720\n",
      "[LightGBM] [Info] Number of data points in the train set: 134610, number of used features: 424\n",
      "[LightGBM] [Info] Start training from score -0.384681\n",
      "[LightGBM] [Info] Start training from score -0.399389\n",
      "[LightGBM] [Info] Start training from score -0.396838\n"
     ]
    },
    {
     "name": "stderr",
     "output_type": "stream",
     "text": [
      "\u001b[32m[I 2022-10-25 17:19:09,549]\u001b[0m Trial 23 pruned. Trial was pruned at iteration 0.\u001b[0m\n"
     ]
    },
    {
     "name": "stdout",
     "output_type": "stream",
     "text": [
      "[LightGBM] [Info] Total Bins 80720\n",
      "[LightGBM] [Info] Number of data points in the train set: 134610, number of used features: 424\n",
      "[LightGBM] [Info] Total Bins 80720\n",
      "[LightGBM] [Info] Number of data points in the train set: 134610, number of used features: 424\n",
      "[LightGBM] [Info] Total Bins 80720\n",
      "[LightGBM] [Info] Number of data points in the train set: 134610, number of used features: 424\n",
      "[LightGBM] [Info] Start training from score -0.384681\n",
      "[LightGBM] [Info] Start training from score -0.399389\n",
      "[LightGBM] [Info] Start training from score -0.396838\n"
     ]
    },
    {
     "name": "stderr",
     "output_type": "stream",
     "text": [
      "\u001b[32m[I 2022-10-25 17:19:11,178]\u001b[0m Trial 24 pruned. Trial was pruned at iteration 0.\u001b[0m\n"
     ]
    },
    {
     "name": "stdout",
     "output_type": "stream",
     "text": [
      "[LightGBM] [Info] Total Bins 80720\n",
      "[LightGBM] [Info] Number of data points in the train set: 134610, number of used features: 424\n",
      "[LightGBM] [Info] Total Bins 80720\n",
      "[LightGBM] [Info] Number of data points in the train set: 134610, number of used features: 424\n",
      "[LightGBM] [Info] Total Bins 80720\n",
      "[LightGBM] [Info] Number of data points in the train set: 134610, number of used features: 424\n",
      "[LightGBM] [Info] Start training from score -0.384681\n",
      "[LightGBM] [Info] Start training from score -0.399389\n",
      "[LightGBM] [Info] Start training from score -0.396838\n"
     ]
    },
    {
     "name": "stderr",
     "output_type": "stream",
     "text": [
      "\u001b[32m[I 2022-10-25 17:19:13,517]\u001b[0m Trial 25 pruned. Trial was pruned at iteration 1.\u001b[0m\n"
     ]
    },
    {
     "name": "stdout",
     "output_type": "stream",
     "text": [
      "[LightGBM] [Info] Total Bins 80720\n",
      "[LightGBM] [Info] Number of data points in the train set: 134610, number of used features: 424\n",
      "[LightGBM] [Info] Total Bins 80720\n",
      "[LightGBM] [Info] Number of data points in the train set: 134610, number of used features: 424\n",
      "[LightGBM] [Info] Total Bins 80720\n",
      "[LightGBM] [Info] Number of data points in the train set: 134610, number of used features: 424\n",
      "[LightGBM] [Info] Start training from score -0.384681\n",
      "[LightGBM] [Info] Start training from score -0.399389\n"
     ]
    },
    {
     "name": "stderr",
     "output_type": "stream",
     "text": [
      "\u001b[32m[I 2022-10-25 17:19:15,186]\u001b[0m Trial 26 pruned. Trial was pruned at iteration 0.\u001b[0m\n"
     ]
    },
    {
     "name": "stdout",
     "output_type": "stream",
     "text": [
      "[LightGBM] [Info] Start training from score -0.396838\n",
      "[LightGBM] [Info] Total Bins 80720\n",
      "[LightGBM] [Info] Number of data points in the train set: 134610, number of used features: 424\n",
      "[LightGBM] [Info] Total Bins 80720\n",
      "[LightGBM] [Info] Number of data points in the train set: 134610, number of used features: 424\n",
      "[LightGBM] [Info] Total Bins 80720\n",
      "[LightGBM] [Info] Number of data points in the train set: 134610, number of used features: 424\n",
      "[LightGBM] [Info] Start training from score -0.384681\n",
      "[LightGBM] [Info] Start training from score -0.399389\n",
      "[LightGBM] [Info] Start training from score -0.396838\n"
     ]
    },
    {
     "name": "stderr",
     "output_type": "stream",
     "text": [
      "\u001b[32m[I 2022-10-25 17:19:17,451]\u001b[0m Trial 27 pruned. Trial was pruned at iteration 0.\u001b[0m\n"
     ]
    },
    {
     "name": "stdout",
     "output_type": "stream",
     "text": [
      "[LightGBM] [Info] Total Bins 80720\n",
      "[LightGBM] [Info] Number of data points in the train set: 134610, number of used features: 424\n",
      "[LightGBM] [Info] Total Bins 80720\n",
      "[LightGBM] [Info] Number of data points in the train set: 134610, number of used features: 424\n",
      "[LightGBM] [Info] Total Bins 80720\n",
      "[LightGBM] [Info] Number of data points in the train set: 134610, number of used features: 424\n",
      "[LightGBM] [Info] Start training from score -0.384681\n",
      "[LightGBM] [Info] Start training from score -0.399389\n",
      "[LightGBM] [Info] Start training from score -0.396838\n"
     ]
    },
    {
     "name": "stderr",
     "output_type": "stream",
     "text": [
      "\u001b[32m[I 2022-10-25 17:19:19,065]\u001b[0m Trial 28 pruned. Trial was pruned at iteration 0.\u001b[0m\n"
     ]
    },
    {
     "name": "stdout",
     "output_type": "stream",
     "text": [
      "[LightGBM] [Info] Total Bins 80720\n",
      "[LightGBM] [Info] Number of data points in the train set: 134610, number of used features: 424\n",
      "[LightGBM] [Info] Total Bins 80720\n",
      "[LightGBM] [Info] Number of data points in the train set: 134610, number of used features: 424\n",
      "[LightGBM] [Info] Total Bins 80720\n",
      "[LightGBM] [Info] Number of data points in the train set: 134610, number of used features: 424\n",
      "[LightGBM] [Info] Start training from score -0.384681\n",
      "[LightGBM] [Info] Start training from score -0.399389\n",
      "[LightGBM] [Info] Start training from score -0.396838\n"
     ]
    },
    {
     "name": "stderr",
     "output_type": "stream",
     "text": [
      "\u001b[32m[I 2022-10-25 17:19:21,748]\u001b[0m Trial 29 pruned. Trial was pruned at iteration 1.\u001b[0m\n"
     ]
    }
   ],
   "source": [
    "study = optuna.create_study(\n",
    "    direction='minimize',                     \n",
    "    sampler= None,          # use TPESampler if None\n",
    "    pruner= None            # use median Sampler if None\n",
    ")\n",
    "study.optimize(objective, n_trials=30)"
   ]
  },
  {
   "cell_type": "code",
   "execution_count": 19,
   "id": "513dc53b",
   "metadata": {},
   "outputs": [
    {
     "data": {
      "text/plain": [
       "({'num_leaves': 181}, 3.6593246974489815)"
      ]
     },
     "execution_count": 19,
     "metadata": {},
     "output_type": "execute_result"
    }
   ],
   "source": [
    "study.best_trial.params, study.best_trial.value"
   ]
  },
  {
   "cell_type": "code",
   "execution_count": null,
   "id": "784ec53f",
   "metadata": {},
   "outputs": [],
   "source": [
    "({'lambda_l1': 0.0006897572783007315, 'lambda_l2': 0.0047642304039302},\n",
    " 3.658316019575457)\n",
    "({'bagging_fraction': 0.9229024640381899,\n",
    "  'feature_fraction_bynode': 0.5257141178498,\n",
    "  'feature_fraction': 0.8016157141983071},\n",
    " 3.658712467143704)"
   ]
  },
  {
   "cell_type": "code",
   "execution_count": null,
   "id": "9d8ab2c5",
   "metadata": {},
   "outputs": [],
   "source": [
    "params = {\n",
    "        \"num_leaves\": trial.suggest_int('num_leaves', 100, 200),\n",
    "        \"min_data_in_leaf\": 325,\n",
    "        \"bagging_fraction\": 0.6909615826257344, # trial.suggest_float(\"bagging_fraction\", 0.55,0.8),\n",
    "        \"bagging_freq\": 5, # trial.suggest_int(\"bagging_freq\", 4,6),\n",
    "        \"feature_fraction_bynode\" :0.4540787460650182, # trial.suggest_float(\"feature_fraction_bynode\", 0.45-0.3,0.45+0.3),\n",
    "        \"feature_fraction\": trial.suggest_float(\"feature_fraction\", 0.56-0.3,0.56+0.3),\n",
    "        \"min_gain_to_split\": 0.05621632216128067,     \n",
    "        \"lambda_l1\": 0.00019163693019842484,\n",
    "        \"lambda_l2\": 0.0027009967266884796,   \n",
    "        \"learning_rate\": 0.05,  # trial.suggest_float(\"learning_rate\", 0.001,0.01), # 0.01051003661177018,\n",
    "        \n",
    "        \"boosting\": \"gbdt\",\n",
    "        \"extra_trees\": False,\n",
    "        \"objective\": \"regression\",\n",
    "        \"max_depth\":  -1,\n",
    "        \"bagging_freq\": 10  ,                  # resamples rows at every k-th iteration\n",
    "        \"max_bin\": 255 ,                        # bins continuous values\n",
    "#         \"device_type\":  \"cuda\",\n",
    "        \"force_col_wise\":  True  ,                 # reduce memory cost\n",
    "        \"weight_column\": \"\"\n",
    "    }"
   ]
  }
 ],
 "metadata": {
  "kernelspec": {
   "display_name": "ml",
   "language": "python",
   "name": "ml"
  },
  "language_info": {
   "codemirror_mode": {
    "name": "ipython",
    "version": 3
   },
   "file_extension": ".py",
   "mimetype": "text/x-python",
   "name": "python",
   "nbconvert_exporter": "python",
   "pygments_lexer": "ipython3",
   "version": "3.9.12"
  }
 },
 "nbformat": 4,
 "nbformat_minor": 5
}
