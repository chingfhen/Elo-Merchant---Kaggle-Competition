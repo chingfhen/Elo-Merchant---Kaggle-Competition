{
 "cells": [
  {
   "cell_type": "markdown",
   "id": "50b0a8fd",
   "metadata": {},
   "source": [
    "# ABOUT\n",
    "- this notebook just validates the processed data taken from manoj"
   ]
  },
  {
   "cell_type": "markdown",
   "id": "5e85c7ba",
   "metadata": {},
   "source": [
    "### processed train data\n",
    "- card_id of processed data matches those from unprocessed"
   ]
  },
  {
   "cell_type": "code",
   "execution_count": 1,
   "id": "274ad5f0",
   "metadata": {},
   "outputs": [],
   "source": [
    "import pickle\n",
    "path = r\"C:\\Users\\tanch\\Documents\\NTU\\NTU Year 4\\Semester 1\\CZ4041 - Machine Learning\\Team Project\\data\\train_df.pkl\\train_df.pkl\"\n",
    "with open(path, \"rb\") as f:\n",
    "    data = pickle.load(f)"
   ]
  },
  {
   "cell_type": "code",
   "execution_count": 2,
   "id": "7cf7af96",
   "metadata": {},
   "outputs": [
    {
     "data": {
      "text/plain": [
       "301"
      ]
     },
     "execution_count": 2,
     "metadata": {},
     "output_type": "execute_result"
    }
   ],
   "source": [
    "len(data.columns)"
   ]
  },
  {
   "cell_type": "code",
   "execution_count": 3,
   "id": "34eb5c1c",
   "metadata": {
    "scrolled": true
   },
   "outputs": [
    {
     "name": "stdout",
     "output_type": "stream",
     "text": [
      "['card_id', 'old_hist_count', 'old_authorized_flag__0_count', 'old_authorized_flag__1_count', 'old_authorized_flag__0_fraction', 'old_authorized_flag__1_fraction', 'old_category_1__0_count', 'old_category_1__1_count', 'old_category_1__0_fraction', 'old_category_1__1_fraction', 'old_category_2__1.0_count', 'old_category_2__2.0_count', 'old_category_2__3.0_count', 'old_category_2__4.0_count', 'old_category_2__5.0_count', 'old_category_2__1.0_fraction', 'old_category_2__2.0_fraction', 'old_category_2__3.0_fraction', 'old_category_2__4.0_fraction', 'old_category_2__5.0_fraction', 'old_category_3__A_count', 'old_category_3__B_count', 'old_category_3__C_count', 'old_category_3__A_fraction', 'old_category_3__B_fraction', 'old_category_3__C_fraction', 'old_city_id_bins__(3.806, 9.441]_count', 'old_city_id_bins__(9.441, 9.928]_count', 'old_city_id_bins__(9.928, 10.474]_count', 'old_city_id_bins__(10.474, 11.183]_count', 'old_city_id_bins__(11.183, 15.391]_count', 'old_city_id_bins__(3.806, 9.441]_fraction', 'old_city_id_bins__(9.441, 9.928]_fraction', 'old_city_id_bins__(9.928, 10.474]_fraction', 'old_city_id_bins__(10.474, 11.183]_fraction', 'old_city_id_bins__(11.183, 15.391]_fraction', 'old_merchant_category_id_bins__(-0.001, 5.533]_count', 'old_merchant_category_id_bins__(5.533, 7.849]_count', 'old_merchant_category_id_bins__(7.849, 9.368]_count', 'old_merchant_category_id_bins__(9.368, 10.692]_count', 'old_merchant_category_id_bins__(10.692, 15.53]_count', 'old_merchant_category_id_bins__(-0.001, 5.533]_fraction', 'old_merchant_category_id_bins__(5.533, 7.849]_fraction', 'old_merchant_category_id_bins__(7.849, 9.368]_fraction', 'old_merchant_category_id_bins__(9.368, 10.692]_fraction', 'old_merchant_category_id_bins__(10.692, 15.53]_fraction', 'old_merchant_id_bins__(-0.001, 1.099]_count', 'old_merchant_id_bins__(1.099, 2.197]_count', 'old_merchant_id_bins__(2.197, 3.091]_count', 'old_merchant_id_bins__(3.091, 4.111]_count', 'old_merchant_id_bins__(4.111, 14.042]_count', 'old_merchant_id_bins__(-0.001, 1.099]_fraction', 'old_merchant_id_bins__(1.099, 2.197]_fraction', 'old_merchant_id_bins__(2.197, 3.091]_fraction', 'old_merchant_id_bins__(3.091, 4.111]_fraction', 'old_merchant_id_bins__(4.111, 14.042]_fraction', 'old_state_id_bins__(8.885, 12.236]_count', 'old_state_id_bins__(12.236, 12.862]_count', 'old_state_id_bins__(12.862, 13.479]_count', 'old_state_id_bins__(13.479, 14.065]_count', 'old_state_id_bins__(14.065, 16.173]_count', 'old_state_id_bins__(8.885, 12.236]_fraction', 'old_state_id_bins__(12.236, 12.862]_fraction', 'old_state_id_bins__(12.862, 13.479]_fraction', 'old_state_id_bins__(13.479, 14.065]_fraction', 'old_state_id_bins__(14.065, 16.173]_fraction', 'old_subsector_id_bins__(4.819, 10.06]_count', 'old_subsector_id_bins__(10.06, 11.614]_count', 'old_subsector_id_bins__(11.614, 12.465]_count', 'old_subsector_id_bins__(12.465, 13.476]_count', 'old_subsector_id_bins__(13.476, 15.537]_count', 'old_subsector_id_bins__(4.819, 10.06]_fraction', 'old_subsector_id_bins__(10.06, 11.614]_fraction', 'old_subsector_id_bins__(11.614, 12.465]_fraction', 'old_subsector_id_bins__(12.465, 13.476]_fraction', 'old_subsector_id_bins__(13.476, 15.537]_fraction', 'old_installments_mean', 'old_month_lag_mean', 'old_purchase_amount_mean', 'old_installments_max', 'old_month_lag_max', 'old_purchase_amount_max', 'old_installments_median', 'old_month_lag_median', 'old_purchase_amount_median', 'old_installments_std', 'old_month_lag_std', 'old_purchase_amount_std', 'old_installments_skew', 'old_month_lag_skew', 'old_purchase_amount_skew', 'old_installments_mad', 'old_month_lag_mad', 'old_purchase_amount_mad', 'old_installments_sum', 'old_month_lag_sum', 'old_purchase_amount_sum', 'old_purchase_date_month_diff_mean', 'old_purchase_date_month_diff_median', 'old_purchase_date_month_diff_std', 'old_purchase_date_month_diff_max', 'old_purchase_date_month_diff_min', 'old_purchase_date_month_diff_sum', 'old_month_mean', 'old_month_min', 'old_month_max', 'old_hour_nunique', 'old_hour_mean', 'old_hour_min', 'old_hour_max', 'old_weekofyear_nunique', 'old_weekofyear_mean', 'old_weekofyear_min', 'old_weekofyear_max', 'old_weekday_mean', 'old_weekday_min', 'old_weekday_max', 'old_day_nunique', 'old_day_mean', 'old_day_min', 'old_day_max', 'old_purchase_date_max', 'old_purchase_date_min', 'old_weekend_mean', 'old_price_mean', 'old_price_max', 'old_price_min', 'old_price_var', 'old_Christmas_Day_2017_mean', 'old_Children_day_2017_mean', 'old_Black_Friday_2017_mean', 'old_Mothers_Day_2018_mean', 'old_duration_mean', 'old_duration_min', 'old_duration_max', 'old_duration_var', 'old_duration_skew', 'old_amount_month_ratio_mean', 'old_amount_month_ratio_min', 'old_amount_month_ratio_max', 'old_amount_month_ratio_var', 'old_amount_month_ratio_skew', 'old_purchase_date_diff', 'old_purchase_date_uptonow', 'old_purchase_date_uptomin', 'new_hist_count', 'new_category_2__1.0_count', 'new_category_2__2.0_count', 'new_category_2__3.0_count', 'new_category_2__4.0_count', 'new_category_2__5.0_count', 'new_category_2__1.0_fraction', 'new_category_2__2.0_fraction', 'new_category_2__3.0_fraction', 'new_category_2__4.0_fraction', 'new_category_2__5.0_fraction', 'new_category_3__A_count', 'new_category_3__B_count', 'new_category_3__C_count', 'new_category_3__A_fraction', 'new_category_3__B_fraction', 'new_category_3__C_fraction', 'new_city_id_bins__(1.608, 6.778]_count', 'new_city_id_bins__(6.778, 7.249]_count', 'new_city_id_bins__(7.249, 7.814]_count', 'new_city_id_bins__(7.814, 8.641]_count', 'new_city_id_bins__(8.641, 12.704]_count', 'new_city_id_bins__(1.608, 6.778]_fraction', 'new_city_id_bins__(6.778, 7.249]_fraction', 'new_city_id_bins__(7.249, 7.814]_fraction', 'new_city_id_bins__(7.814, 8.641]_fraction', 'new_city_id_bins__(8.641, 12.704]_fraction', 'new_merchant_category_id_bins__(-0.001, 3.434]_count', 'new_merchant_category_id_bins__(3.434, 5.822]_count', 'new_merchant_category_id_bins__(5.822, 7.156]_count', 'new_merchant_category_id_bins__(7.156, 8.485]_count', 'new_merchant_category_id_bins__(8.485, 12.163]_count', 'new_merchant_category_id_bins__(-0.001, 3.434]_fraction', 'new_merchant_category_id_bins__(3.434, 5.822]_fraction', 'new_merchant_category_id_bins__(5.822, 7.156]_fraction', 'new_merchant_category_id_bins__(7.156, 8.485]_fraction', 'new_merchant_category_id_bins__(8.485, 12.163]_fraction', 'new_merchant_id_bins__(-0.001, 0.693]_count', 'new_merchant_id_bins__(0.693, 1.386]_count', 'new_merchant_id_bins__(1.386, 2.079]_count', 'new_merchant_id_bins__(2.079, 10.804]_count', 'new_merchant_id_bins__(-0.001, 0.693]_fraction', 'new_merchant_id_bins__(0.693, 1.386]_fraction', 'new_merchant_id_bins__(1.386, 2.079]_fraction', 'new_merchant_id_bins__(2.079, 10.804]_fraction', 'new_state_id_bins__(5.877, 9.474]_count', 'new_state_id_bins__(9.474, 10.222]_count', 'new_state_id_bins__(10.222, 10.886]_count', 'new_state_id_bins__(10.886, 11.433]_count', 'new_state_id_bins__(11.433, 13.505]_count', 'new_state_id_bins__(5.877, 9.474]_fraction', 'new_state_id_bins__(9.474, 10.222]_fraction', 'new_state_id_bins__(10.222, 10.886]_fraction', 'new_state_id_bins__(10.886, 11.433]_fraction', 'new_state_id_bins__(11.433, 13.505]_fraction', 'new_subsector_id_bins__(2.0780000000000003, 7.706]_count', 'new_subsector_id_bins__(7.706, 9.477]_count', 'new_subsector_id_bins__(9.477, 10.053]_count', 'new_subsector_id_bins__(10.053, 11.111]_count', 'new_subsector_id_bins__(11.111, 12.737]_count', 'new_subsector_id_bins__(2.0780000000000003, 7.706]_fraction', 'new_subsector_id_bins__(7.706, 9.477]_fraction', 'new_subsector_id_bins__(9.477, 10.053]_fraction', 'new_subsector_id_bins__(10.053, 11.111]_fraction', 'new_subsector_id_bins__(11.111, 12.737]_fraction', 'new_installments_mean', 'new_month_lag_mean', 'new_purchase_amount_mean', 'new_installments_max', 'new_month_lag_max', 'new_purchase_amount_max', 'new_installments_median', 'new_month_lag_median', 'new_purchase_amount_median', 'new_installments_std', 'new_month_lag_std', 'new_purchase_amount_std', 'new_installments_skew', 'new_month_lag_skew', 'new_purchase_amount_skew', 'new_installments_mad', 'new_month_lag_mad', 'new_purchase_amount_mad', 'new_installments_sum', 'new_month_lag_sum', 'new_purchase_amount_sum', 'new_month_mean', 'new_month_min', 'new_month_max', 'new_hour_nunique', 'new_hour_mean', 'new_hour_min', 'new_hour_max', 'new_weekofyear_nunique', 'new_weekofyear_mean', 'new_weekofyear_min', 'new_weekofyear_max', 'new_weekday_mean', 'new_weekday_min', 'new_weekday_max', 'new_day_nunique', 'new_day_mean', 'new_day_min', 'new_day_max', 'new_purchase_date_max', 'new_purchase_date_min', 'new_weekend_mean', 'new_price_mean', 'new_price_max', 'new_price_min', 'new_price_var', 'new_Christmas_Day_2017_mean', 'new_Children_day_2017_mean', 'new_Black_Friday_2017_mean', 'new_Mothers_Day_2018_mean', 'new_duration_mean', 'new_duration_min', 'new_duration_max', 'new_duration_var', 'new_duration_skew', 'new_amount_month_ratio_mean', 'new_amount_month_ratio_min', 'new_amount_month_ratio_max', 'new_amount_month_ratio_var', 'new_amount_month_ratio_skew', 'new_purchase_date_diff', 'new_purchase_date_uptonow', 'new_purchase_date_uptomin', 'first_active_month', 'feature_1', 'feature_2', 'feature_3', 'target', 'quarter', 'elapsed_time', 'days_feature1', 'days_feature2', 'days_feature3', 'days_feature1_ratio', 'days_feature2_ratio', 'days_feature3_ratio', 'feature_sum', 'feature_mean', 'feature_max', 'feature_min', 'feature_var', 'feature1_1', 'feature1_2', 'feature1_3', 'feature1_4', 'feature1_5', 'feature2_1', 'feature2_2', 'feature2_3', 'feature3_0', 'feature3_1']\n"
     ]
    }
   ],
   "source": [
    "print(list(data.columns))"
   ]
  },
  {
   "cell_type": "code",
   "execution_count": 4,
   "id": "71b8937a",
   "metadata": {},
   "outputs": [],
   "source": [
    "import pandas as pd\n",
    "path = r\"C:\\Users\\tanch\\Documents\\NTU\\NTU Year 4\\Semester 1\\CZ4041 - Machine Learning\\Team Project\\data\\train.csv\"\n",
    "train = pd.read_csv(path)"
   ]
  },
  {
   "cell_type": "code",
   "execution_count": 5,
   "id": "6b95bfaa",
   "metadata": {
    "scrolled": true
   },
   "outputs": [
    {
     "data": {
      "text/plain": [
       "True"
      ]
     },
     "execution_count": 5,
     "metadata": {},
     "output_type": "execute_result"
    }
   ],
   "source": [
    "set(train.card_id) == set(data.card_id)"
   ]
  },
  {
   "cell_type": "markdown",
   "id": "7f3f86bc",
   "metadata": {},
   "source": [
    "### processed test data\n",
    "- card_id of processed data matches those from unprocessed"
   ]
  },
  {
   "cell_type": "code",
   "execution_count": 6,
   "id": "6ca4e172",
   "metadata": {},
   "outputs": [],
   "source": [
    "import pickle\n",
    "path = r\"C:\\Users\\tanch\\Documents\\NTU\\NTU Year 4\\Semester 1\\CZ4041 - Machine Learning\\Team Project\\data\\test_df.pkl\\test_df.pkl\"\n",
    "with open(path, \"rb\") as f:\n",
    "    data = pickle.load(f)"
   ]
  },
  {
   "cell_type": "code",
   "execution_count": 7,
   "id": "16513365",
   "metadata": {},
   "outputs": [
    {
     "data": {
      "text/plain": [
       "300"
      ]
     },
     "execution_count": 7,
     "metadata": {},
     "output_type": "execute_result"
    }
   ],
   "source": [
    "len(data.columns)"
   ]
  },
  {
   "cell_type": "code",
   "execution_count": 8,
   "id": "dc8315e4",
   "metadata": {},
   "outputs": [],
   "source": [
    "import pandas as pd\n",
    "path = r\"C:\\Users\\tanch\\Documents\\NTU\\NTU Year 4\\Semester 1\\CZ4041 - Machine Learning\\Team Project\\data\\test.csv\"\n",
    "test = pd.read_csv(path)"
   ]
  },
  {
   "cell_type": "code",
   "execution_count": 9,
   "id": "95d60145",
   "metadata": {
    "scrolled": true
   },
   "outputs": [
    {
     "data": {
      "text/plain": [
       "True"
      ]
     },
     "execution_count": 9,
     "metadata": {},
     "output_type": "execute_result"
    }
   ],
   "source": [
    "set(test.card_id) == set(data.card_id)"
   ]
  },
  {
   "cell_type": "code",
   "execution_count": null,
   "id": "199999a3",
   "metadata": {},
   "outputs": [],
   "source": []
  }
 ],
 "metadata": {
  "kernelspec": {
   "display_name": "ml",
   "language": "python",
   "name": "ml"
  },
  "language_info": {
   "codemirror_mode": {
    "name": "ipython",
    "version": 3
   },
   "file_extension": ".py",
   "mimetype": "text/x-python",
   "name": "python",
   "nbconvert_exporter": "python",
   "pygments_lexer": "ipython3",
   "version": "3.9.12"
  }
 },
 "nbformat": 4,
 "nbformat_minor": 5
}
