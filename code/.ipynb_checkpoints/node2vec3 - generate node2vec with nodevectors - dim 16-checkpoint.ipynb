{
 "cells": [
  {
   "cell_type": "markdown",
   "id": "bed3dd36",
   "metadata": {},
   "source": [
    "# ABOUT\n",
    "- this code trains node2vec embeddings for every \"card_id to ID_COL\" pair\n",
    "- background:\n",
    "    - it may be useful to generate embeddings for id columns\n",
    "    - dataset is too large to apply the original node2vec algorithm\n",
    "    - instead, the graph structure is converted to csr matrices and used to train node2vec\n",
    "- steps:\n",
    "    - convert to csr matrix\n",
    "    - use GGvec to generate node2vec embeddings\n",
    "\n",
    "- GGVec notes:\n",
    "    - If you are using GGVec, keep order at 1. Using higher order embeddings will take quadratically more time. Additionally, keep negative_ratio low (0.05-0.1), learning_rate high (0.1), and use aggressive early stopping values. GGVec generally only needs a few (less than 100) epochs to get most of the embedding quality you need."
   ]
  },
  {
   "cell_type": "markdown",
   "id": "3356a7f8",
   "metadata": {},
   "source": [
    "## load data\n",
    "- a csr matrix representing a graph"
   ]
  },
  {
   "cell_type": "code",
   "execution_count": 32,
   "id": "c9090b61",
   "metadata": {},
   "outputs": [],
   "source": [
    "import csrgraph as cg\n",
    "import nodevectors"
   ]
  },
  {
   "cell_type": "code",
   "execution_count": 33,
   "id": "7e9efbd9",
   "metadata": {},
   "outputs": [],
   "source": [
    "# generate graph from edge list\n",
    "path = r\"C:\\Users\\tanch\\Documents\\NTU\\NTU Year 4\\Semester 1\\CZ4041 - Machine Learning\\Team Project\\data\\edgelist for node2vec\\card_id_merchant_id.csv\"\n",
    "G = cg.read_edgelist(path, directed=False, sep=',')"
   ]
  },
  {
   "cell_type": "code",
   "execution_count": 34,
   "id": "59267596",
   "metadata": {
    "scrolled": true
   },
   "outputs": [
    {
     "data": {
      "text/plain": [
       "660173"
      ]
     },
     "execution_count": 34,
     "metadata": {},
     "output_type": "execute_result"
    }
   ],
   "source": [
    "G.nnodes"
   ]
  },
  {
   "cell_type": "markdown",
   "id": "53472fde",
   "metadata": {},
   "source": [
    "## train node2vec\n",
    "- train node2vec embeddings and save"
   ]
  },
  {
   "cell_type": "code",
   "execution_count": 39,
   "id": "b13e1844",
   "metadata": {},
   "outputs": [
    {
     "name": "stderr",
     "output_type": "stream",
     "text": [
      "Loss: 0.0218\t:  47%|██████████████████████████████▊                                  | 166/350 [03:58<04:24,  1.44s/it]"
     ]
    },
    {
     "name": "stdout",
     "output_type": "stream",
     "text": [
      "Converged! Loss: 0.0218\n"
     ]
    },
    {
     "name": "stderr",
     "output_type": "stream",
     "text": [
      "\n"
     ]
    }
   ],
   "source": [
    "ggvec_model = nodevectors.GGVec(learning_rate = 0.1,\n",
    "                                n_components = 32,\n",
    "                                negative_ratio = 0.075, \n",
    "                                max_epoch = 350, \n",
    "                                tol = \"auto\", \n",
    "                                verbose = True) \n",
    "ggvec_model.fit(G)"
   ]
  },
  {
   "cell_type": "code",
   "execution_count": 40,
   "id": "a137b90e",
   "metadata": {},
   "outputs": [],
   "source": [
    "path = r\"C:\\Users\\tanch\\Documents\\NTU\\NTU Year 4\\Semester 1\\CZ4041 - Machine Learning\\Team Project\\model\\node2vec_card_id_merchant_group_id\"\n",
    "ggvec_model.save(path)"
   ]
  },
  {
   "cell_type": "code",
   "execution_count": null,
   "id": "e5c307f8",
   "metadata": {},
   "outputs": [],
   "source": []
  },
  {
   "cell_type": "code",
   "execution_count": null,
   "id": "eb47e110",
   "metadata": {},
   "outputs": [],
   "source": []
  },
  {
   "cell_type": "markdown",
   "id": "b1b0cddd",
   "metadata": {},
   "source": [
    "### here we show that indeed similar nodes have similar embeddings i.e high dot product"
   ]
  },
  {
   "cell_type": "code",
   "execution_count": 54,
   "id": "a38c9802",
   "metadata": {},
   "outputs": [
    {
     "data": {
      "text/plain": [
       "(True, False, False, True)"
      ]
     },
     "execution_count": 54,
     "metadata": {},
     "output_type": "execute_result"
    }
   ],
   "source": [
    "# given  4 nodes, a and b are connected, c and d are connected\n",
    "from numpy import dot\n",
    "a = \"C_ID_0001506ef0\"\n",
    "b = \"M_ID_19799774fc\"\n",
    "c = \"C_ID_0002709b5a\"\n",
    "d = \"M_ID_be730907ce\"\n",
    "b in G[a], d in G[a], b in G[c], d in G[c]"
   ]
  },
  {
   "cell_type": "code",
   "execution_count": 62,
   "id": "4976719f",
   "metadata": {},
   "outputs": [
    {
     "data": {
      "text/plain": [
       "(0.7478426979817574, 0.16052633975867792)"
      ]
     },
     "execution_count": 62,
     "metadata": {},
     "output_type": "execute_result"
    }
   ],
   "source": [
    "dot(ggvec_model.model[a],ggvec_model.model[b]), dot(ggvec_model.model[a],ggvec_model.model[d])"
   ]
  },
  {
   "cell_type": "code",
   "execution_count": 63,
   "id": "7126988a",
   "metadata": {},
   "outputs": [
    {
     "data": {
      "text/plain": [
       "(-0.02798832961395234, 0.8640927129767475)"
      ]
     },
     "execution_count": 63,
     "metadata": {},
     "output_type": "execute_result"
    }
   ],
   "source": [
    "dot(ggvec_model.model[c], ggvec_model.model[b]), dot(ggvec_model.model[c], ggvec_model.model[d])"
   ]
  },
  {
   "cell_type": "code",
   "execution_count": null,
   "id": "660777d9",
   "metadata": {},
   "outputs": [],
   "source": []
  }
 ],
 "metadata": {
  "kernelspec": {
   "display_name": "ml",
   "language": "python",
   "name": "ml"
  },
  "language_info": {
   "codemirror_mode": {
    "name": "ipython",
    "version": 3
   },
   "file_extension": ".py",
   "mimetype": "text/x-python",
   "name": "python",
   "nbconvert_exporter": "python",
   "pygments_lexer": "ipython3",
   "version": "3.9.12"
  }
 },
 "nbformat": 4,
 "nbformat_minor": 5
}
