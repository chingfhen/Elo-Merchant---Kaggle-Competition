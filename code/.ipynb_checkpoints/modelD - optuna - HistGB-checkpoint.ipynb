{
 "cells": [
  {
   "cell_type": "code",
   "execution_count": 1,
   "id": "984a0012",
   "metadata": {
    "scrolled": true
   },
   "outputs": [
    {
     "name": "stderr",
     "output_type": "stream",
     "text": [
      "C:\\Users\\tanch\\anaconda3\\envs\\ml\\lib\\site-packages\\tqdm\\auto.py:22: TqdmWarning: IProgress not found. Please update jupyter and ipywidgets. See https://ipywidgets.readthedocs.io/en/stable/user_install.html\n",
      "  from .autonotebook import tqdm as notebook_tqdm\n"
     ]
    }
   ],
   "source": [
    "import optuna"
   ]
  },
  {
   "cell_type": "code",
   "execution_count": 2,
   "id": "b48940c6",
   "metadata": {},
   "outputs": [],
   "source": [
    "colnames = ['old_hist_count', 'old_authorized_flag_0_count', 'old_authorized_flag_1_count', 'old_authorized_flag_0_fraction', 'old_authorized_flag_1_fraction', 'old_category_1_0_count', 'old_category_1_0_fraction', 'old_category_2_1_0_count', 'old_category_2_1_0_fraction', 'old_category_3_A_count', 'old_category_3_B_count', 'old_category_3_A_fraction', 'old_category_3_B_fraction', 'old_city_id_bins_11_183_15_391_count', 'old_city_id_bins_11_183_15_391_fraction', 'old_merchant_category_id_bins_9_368_10_692_count', 'old_merchant_category_id_bins_10_692_15_53_count', 'old_merchant_category_id_bins_9_368_10_692_fraction', 'old_merchant_category_id_bins_10_692_15_53_fraction', 'old_merchant_id_bins_3_091_4_111_count', 'old_merchant_id_bins_4_111_14_042_count', 'old_merchant_id_bins_3_091_4_111_fraction', 'old_merchant_id_bins_4_111_14_042_fraction', 'old_state_id_bins_14_065_16_173_count', 'old_state_id_bins_14_065_16_173_fraction', 'old_subsector_id_bins_12_465_13_476_count', 'old_subsector_id_bins_13_476_15_537_count', 'old_subsector_id_bins_12_465_13_476_fraction', 'old_subsector_id_bins_13_476_15_537_fraction', 'old_installments_mean', 'old_month_lag_mean', 'old_purchase_amount_mean', 'old_installments_max', 'old_month_lag_max', 'old_purchase_amount_max', 'old_installments_median', 'old_month_lag_median', 'old_purchase_amount_median', 'old_installments_std', 'old_month_lag_std', 'old_purchase_amount_std', 'old_installments_skew', 'old_month_lag_skew', 'old_purchase_amount_skew', 'old_installments_mad', 'old_month_lag_mad', 'old_purchase_amount_mad', 'old_installments_sum', 'old_month_lag_sum', 'old_purchase_amount_sum', 'old_purchase_date_month_diff_mean', 'old_purchase_date_month_diff_median', 'old_purchase_date_month_diff_std', 'old_purchase_date_month_diff_max', 'old_purchase_date_month_diff_min', 'old_purchase_date_month_diff_sum', 'old_month_mean', 'old_month_min', 'old_month_max', 'old_hour_nunique', 'old_hour_mean', 'old_hour_min', 'old_hour_max', 'old_weekofyear_nunique', 'old_weekofyear_mean', 'old_weekofyear_min', 'old_weekofyear_max', 'old_weekday_mean', 'old_weekday_min', 'old_weekday_max', 'old_day_nunique', 'old_day_mean', 'old_day_min', 'old_day_max', 'old_weekend_mean', 'old_price_mean', 'old_price_max', 'old_price_min', 'old_Christmas_Day_2017_mean', 'old_Children_day_2017_mean', 'old_Black_Friday_2017_mean', 'old_Mothers_Day_2018_mean', 'old_duration_mean', 'old_duration_min', 'old_duration_max', 'old_duration_var', 'old_duration_skew', 'old_amount_month_ratio_mean', 'old_amount_month_ratio_min', 'old_amount_month_ratio_max', 'old_amount_month_ratio_var', 'old_amount_month_ratio_skew', 'old_purchase_date_diff', 'old_purchase_date_uptonow', 'old_purchase_date_uptomin', 'new_hist_count', 'new_city_id_bins_8_641_12_704_count', 'new_city_id_bins_8_641_12_704_fraction', 'new_merchant_category_id_bins_8_485_12_163_count', 'new_merchant_category_id_bins_8_485_12_163_fraction', 'new_merchant_id_bins_2_079_10_804_count', 'new_merchant_id_bins_2_079_10_804_fraction', 'new_subsector_id_bins_11_111_12_737_count', 'new_subsector_id_bins_11_111_12_737_fraction', 'new_installments_mean', 'new_month_lag_mean', 'new_purchase_amount_mean', 'new_installments_max', 'new_month_lag_max', 'new_purchase_amount_max', 'new_installments_median', 'new_month_lag_median', 'new_purchase_amount_median', 'new_installments_std', 'new_month_lag_std', 'new_purchase_amount_std', 'new_installments_mad', 'new_month_lag_mad', 'new_purchase_amount_mad', 'new_installments_sum', 'new_month_lag_sum', 'new_purchase_amount_sum', 'new_month_mean', 'new_month_min', 'new_month_max', 'new_hour_nunique', 'new_hour_mean', 'new_hour_min', 'new_hour_max', 'new_weekofyear_nunique', 'new_weekofyear_mean', 'new_weekofyear_min', 'new_weekofyear_max', 'new_weekday_mean', 'new_weekday_min', 'new_weekday_max', 'new_day_nunique', 'new_day_mean', 'new_day_min', 'new_day_max', 'new_weekend_mean', 'new_price_mean', 'new_price_max', 'new_price_min', 'new_Christmas_Day_2017_mean', 'new_Children_day_2017_mean', 'new_Black_Friday_2017_mean', 'new_Mothers_Day_2018_mean', 'new_duration_mean', 'new_duration_min', 'new_duration_max', 'new_duration_var', 'new_amount_month_ratio_mean', 'new_amount_month_ratio_min', 'new_amount_month_ratio_max', 'new_amount_month_ratio_var', 'new_purchase_date_diff', 'new_purchase_date_uptonow', 'new_purchase_date_uptomin', 'feature_1', 'feature_2', 'feature_3', 'quarter', 'elapsed_time', 'days_feature1', 'days_feature2', 'days_feature3', 'days_feature1_ratio', 'days_feature2_ratio', 'days_feature3_ratio', 'feature_sum', 'feature_mean', 'feature_max', 'feature_min', 'feature_var', 'feature1_1', 'feature1_2', 'feature1_3', 'feature1_4', 'feature1_5', 'feature2_1', 'feature2_2', 'feature2_3', 'feature3_0', 'feature3_1', 'embedding_merchant_id_0', 'embedding_merchant_id_1', 'embedding_merchant_id_2', 'embedding_merchant_id_3', 'embedding_merchant_id_4', 'embedding_merchant_id_5', 'embedding_merchant_id_6', 'embedding_merchant_id_7', 'embedding_merchant_id_8', 'embedding_merchant_id_9', 'embedding_merchant_id_10', 'embedding_merchant_id_11', 'embedding_merchant_id_12', 'embedding_merchant_id_13', 'embedding_merchant_id_14', 'embedding_merchant_id_15', 'embedding_merchant_group_id_0', 'embedding_merchant_group_id_1', 'embedding_merchant_group_id_2', 'embedding_merchant_group_id_3', 'embedding_merchant_group_id_4', 'embedding_merchant_group_id_5', 'embedding_merchant_group_id_6', 'embedding_merchant_group_id_7', 'embedding_merchant_group_id_8', 'embedding_merchant_group_id_9', 'embedding_merchant_group_id_10', 'embedding_merchant_group_id_11', 'embedding_merchant_group_id_12', 'embedding_merchant_group_id_13', 'embedding_merchant_group_id_14', 'embedding_merchant_group_id_15', 'embedding_merchant_category_id_0', 'embedding_merchant_category_id_1', 'embedding_merchant_category_id_2', 'embedding_merchant_category_id_3', 'embedding_merchant_category_id_4', 'embedding_merchant_category_id_5', 'embedding_merchant_category_id_6', 'embedding_merchant_category_id_7', 'embedding_merchant_category_id_8', 'embedding_merchant_category_id_9', 'embedding_merchant_category_id_10', 'embedding_merchant_category_id_11', 'embedding_merchant_category_id_12', 'embedding_merchant_category_id_13', 'embedding_merchant_category_id_14', 'embedding_merchant_category_id_15', 'embedding_subsector_id_0', 'embedding_subsector_id_1', 'embedding_subsector_id_2', 'embedding_subsector_id_3', 'embedding_subsector_id_4', 'embedding_subsector_id_5', 'embedding_subsector_id_6', 'embedding_subsector_id_7', 'embedding_subsector_id_8', 'embedding_subsector_id_9', 'embedding_subsector_id_10', 'embedding_subsector_id_11', 'embedding_subsector_id_12', 'embedding_subsector_id_13', 'embedding_subsector_id_14', 'embedding_subsector_id_15', 'embedding_city_id_0', 'embedding_city_id_1', 'embedding_city_id_2', 'embedding_city_id_3', 'embedding_city_id_4', 'embedding_city_id_5', 'embedding_city_id_6', 'embedding_city_id_7', 'embedding_city_id_8', 'embedding_city_id_9', 'embedding_city_id_10', 'embedding_city_id_11', 'embedding_city_id_12', 'embedding_city_id_13', 'embedding_city_id_14', 'embedding_city_id_15', 'embedding_state_id_0', 'embedding_state_id_1', 'embedding_state_id_2', 'embedding_state_id_3', 'embedding_state_id_4', 'embedding_state_id_5', 'embedding_state_id_6', 'embedding_state_id_7', 'embedding_state_id_8', 'embedding_state_id_9', 'embedding_state_id_10', 'embedding_state_id_11', 'embedding_state_id_12', 'embedding_state_id_13', 'embedding_state_id_14', 'embedding_state_id_15', 'nunique_merchant_id', 'count_merchant_id', 'nunique_count_frac_merchant_id', 'nunique_merchant_group_id', 'count_merchant_group_id', 'nunique_count_frac_merchant_group_id', 'nunique_merchant_category_id', 'count_merchant_category_id', 'nunique_count_frac_merchant_category_id', 'nunique_subsector_id', 'count_subsector_id', 'nunique_count_frac_subsector_id', 'nunique_city_id', 'count_city_id', 'nunique_count_frac_city_id', 'nunique_state_id', 'count_state_id', 'nunique_count_frac_state_id', 'city_id_similarity_min', 'city_id_similarity_max', 'city_id_similarity_sum', 'city_id_similarity_mean', 'city_id_similarity_std', 'merchant_category_id_similarity_min', 'merchant_category_id_similarity_max', 'merchant_category_id_similarity_sum', 'merchant_category_id_similarity_mean', 'merchant_category_id_similarity_std', 'merchant_group_id_similarity_min', 'merchant_group_id_similarity_max', 'merchant_group_id_similarity_sum', 'merchant_group_id_similarity_mean', 'merchant_group_id_similarity_std', 'merchant_id_similarity_min', 'merchant_id_similarity_max', 'merchant_id_similarity_sum', 'merchant_id_similarity_mean', 'merchant_id_similarity_std', 'state_id_similarity_min', 'state_id_similarity_max', 'state_id_similarity_sum', 'state_id_similarity_mean', 'state_id_similarity_std', 'subsector_id_similarity_min', 'subsector_id_similarity_max', 'subsector_id_similarity_sum', 'subsector_id_similarity_mean', 'subsector_id_similarity_std', 'old_purchase_date_max_month', 'old_purchase_date_max_year', 'old_purchase_date_min_month', 'old_purchase_date_min_year', 'new_purchase_date_max_month', 'new_purchase_date_max_year', 'new_purchase_date_min_month', 'new_purchase_date_min_year', 'first_active_month_month', 'first_active_month_year']\n",
    "categorical_feature = [\n",
    "    'feature1_1', 'feature1_2', 'feature1_3', 'feature1_4', 'feature1_5', 'feature2_1', 'feature2_2', 'feature2_3', 'feature3_0', 'feature3_1',\n",
    "    \"feature_sum\",\"feature_max\",\"feature_min\", \"quarter\",\"feature_1\",\"feature_2\",\"feature_3\",'first_active_month_month',\n",
    "    'first_active_month_year', 'old_purchase_date_max_month',\n",
    "    'old_purchase_date_max_year', 'old_purchase_date_min_month',\n",
    "    'old_purchase_date_min_year','new_purchase_date_max_month', 'new_purchase_date_max_year',\n",
    "    'new_purchase_date_min_month', 'new_purchase_date_min_year'\n",
    "]"
   ]
  },
  {
   "cell_type": "code",
   "execution_count": 3,
   "id": "32f3a462",
   "metadata": {},
   "outputs": [],
   "source": [
    "import lightgbm as lgb\n",
    "path = r\"C:\\Users\\tanch\\Documents\\NTU\\NTU Year 4\\Semester 1\\CZ4041 - Machine Learning\\Team Project\\data\\train.bin\"\n",
    "data = lgb.Dataset(path, categorical_feature = categorical_feature, feature_name = colnames, free_raw_data = False)"
   ]
  },
  {
   "cell_type": "code",
   "execution_count": 7,
   "id": "dc46524d",
   "metadata": {},
   "outputs": [],
   "source": [
    "def objective(trial):\n",
    "\n",
    "    params = {\n",
    "        \"num_leaves\":  163, # trial.suggest_int('num_leaves', 100, 200),\n",
    "        \"min_data_in_leaf\":  325, # trial.suggest_int('min_data_in_leaf', 100, 1000),\n",
    "        \"min_gain_to_split\":  0.05621632216128067,              \n",
    "        \"bagging_fraction\":  0.8940498057598245,\n",
    "        \"lambda_l1\":  0.00019163693019842484,\n",
    "        \"lambda_l2\":  0.0027009967266884796,   # smaller values are sampled more frequently note: log turns big values smaller\n",
    "        \"feature_fraction\":  0.5590704561219212,\n",
    "        \"boosting\": \"gbdt\",   # trial.suggest_categorical(\"boosting\", [\"gbdt\", \"dart\"]),\n",
    "        \"extra_trees\": False,    #trial.suggest_categorical(\"extra_trees\", [True, False]),\n",
    "        \"learning_rate\":  trial.suggest_float(\"learning_rate\", 0.01,0.019158124821682523), # 0.01051003661177018,\n",
    "        \n",
    "        \"objective\": \"regression\",\n",
    "        \"max_depth\":  -1,\n",
    "        \"bagging_freq\": 10  ,                  # resamples rows at every k-th iteration\n",
    "        \"max_bin\": 255 ,                        # bins continuous values\n",
    "#         \"device_type\":  \"cuda\",\n",
    "        \"force_col_wise\":  True  ,                 # reduce memory cost\n",
    "        \"weight_column\": \"\"\n",
    "    }\n",
    "    \n",
    "    pruning_callback = optuna.integration.LightGBMPruningCallback(trial, \"rmse\")\n",
    "    \n",
    "    eval_hist  = lgb.cv(\n",
    "        params = params, \n",
    "        train_set = data, \n",
    "        num_boost_round = 1000, \n",
    "        nfold=3, \n",
    "        metrics = [\"rmse\"],\n",
    "        stratified = False, \n",
    "        categorical_feature = \"auto\",\n",
    "        verbose_eval = 10,\n",
    "        early_stopping_rounds = 10,\n",
    "        callbacks  = [pruning_callback]\n",
    "    )\n",
    "    \n",
    "    return min(eval_hist['rmse-mean'])"
   ]
  },
  {
   "cell_type": "code",
   "execution_count": null,
   "id": "09b153eb",
   "metadata": {
    "scrolled": true
   },
   "outputs": [
    {
     "name": "stderr",
     "output_type": "stream",
     "text": [
      "\u001b[32m[I 2022-10-06 16:02:11,141]\u001b[0m A new study created in memory with name: no-name-9e95068f-bf80-43ee-b1e8-810a83e99032\u001b[0m\n"
     ]
    },
    {
     "name": "stdout",
     "output_type": "stream",
     "text": [
      "[LightGBM] [Info] Total Bins 66292\n",
      "[LightGBM] [Info] Number of data points in the train set: 134610, number of used features: 338\n",
      "[LightGBM] [Info] Total Bins 66292\n",
      "[LightGBM] [Info] Number of data points in the train set: 134610, number of used features: 338\n",
      "[LightGBM] [Info] Total Bins 66292\n",
      "[LightGBM] [Info] Number of data points in the train set: 134610, number of used features: 338\n",
      "[LightGBM] [Info] Start training from score -0.384681\n",
      "[LightGBM] [Info] Start training from score -0.399389\n",
      "[LightGBM] [Info] Start training from score -0.396838\n",
      "[10]\tcv_agg's rmse: 3.81951 + 0.058751\n",
      "[20]\tcv_agg's rmse: 3.79393 + 0.0585384\n",
      "[30]\tcv_agg's rmse: 3.77296 + 0.0586548\n",
      "[40]\tcv_agg's rmse: 3.75567 + 0.0589994\n",
      "[50]\tcv_agg's rmse: 3.74172 + 0.0590475\n",
      "[60]\tcv_agg's rmse: 3.73008 + 0.0588941\n",
      "[70]\tcv_agg's rmse: 3.72002 + 0.0587388\n",
      "[80]\tcv_agg's rmse: 3.71188 + 0.0587979\n",
      "[90]\tcv_agg's rmse: 3.70501 + 0.0585321\n",
      "[100]\tcv_agg's rmse: 3.69913 + 0.0584861\n",
      "[110]\tcv_agg's rmse: 3.6941 + 0.0583601\n",
      "[120]\tcv_agg's rmse: 3.69001 + 0.0585683\n",
      "[130]\tcv_agg's rmse: 3.68635 + 0.0584721\n",
      "[140]\tcv_agg's rmse: 3.68335 + 0.0584654\n",
      "[150]\tcv_agg's rmse: 3.68065 + 0.0581395\n",
      "[160]\tcv_agg's rmse: 3.6784 + 0.0582878\n",
      "[170]\tcv_agg's rmse: 3.67631 + 0.0583287\n",
      "[180]\tcv_agg's rmse: 3.6745 + 0.0584761\n",
      "[190]\tcv_agg's rmse: 3.67296 + 0.0583379\n",
      "[200]\tcv_agg's rmse: 3.67157 + 0.0582067\n",
      "[210]\tcv_agg's rmse: 3.67019 + 0.0582179\n",
      "[220]\tcv_agg's rmse: 3.6692 + 0.0579769\n",
      "[230]\tcv_agg's rmse: 3.66831 + 0.0578477\n",
      "[240]\tcv_agg's rmse: 3.66752 + 0.0577851\n",
      "[250]\tcv_agg's rmse: 3.66653 + 0.0577171\n",
      "[260]\tcv_agg's rmse: 3.6657 + 0.0576298\n",
      "[270]\tcv_agg's rmse: 3.66517 + 0.0576694\n",
      "[280]\tcv_agg's rmse: 3.66463 + 0.0576305\n",
      "[290]\tcv_agg's rmse: 3.66412 + 0.0576353\n",
      "[300]\tcv_agg's rmse: 3.66363 + 0.0578407\n",
      "[310]\tcv_agg's rmse: 3.66312 + 0.0576223\n",
      "[320]\tcv_agg's rmse: 3.66285 + 0.0574915\n",
      "[330]\tcv_agg's rmse: 3.66257 + 0.0573268\n",
      "[340]\tcv_agg's rmse: 3.66238 + 0.0572867\n",
      "[350]\tcv_agg's rmse: 3.66204 + 0.0572516\n",
      "[360]\tcv_agg's rmse: 3.66187 + 0.057226\n",
      "[370]\tcv_agg's rmse: 3.6619 + 0.057225\n",
      "[380]\tcv_agg's rmse: 3.66168 + 0.057116\n",
      "[390]\tcv_agg's rmse: 3.66152 + 0.0571474\n"
     ]
    },
    {
     "name": "stderr",
     "output_type": "stream",
     "text": [
      "\u001b[32m[I 2022-10-06 16:04:35,768]\u001b[0m Trial 0 finished with value: 3.6615189997630964 and parameters: {'learning_rate': 0.01184918227831539}. Best is trial 0 with value: 3.6615189997630964.\u001b[0m\n"
     ]
    },
    {
     "name": "stdout",
     "output_type": "stream",
     "text": [
      "[400]\tcv_agg's rmse: 3.66154 + 0.0571377\n",
      "[LightGBM] [Info] Total Bins 66292\n",
      "[LightGBM] [Info] Number of data points in the train set: 134610, number of used features: 338\n",
      "[LightGBM] [Info] Total Bins 66292\n",
      "[LightGBM] [Info] Number of data points in the train set: 134610, number of used features: 338\n",
      "[LightGBM] [Info] Total Bins 66292\n",
      "[LightGBM] [Info] Number of data points in the train set: 134610, number of used features: 338\n",
      "[LightGBM] [Info] Start training from score -0.384681\n",
      "[LightGBM] [Info] Start training from score -0.399389\n",
      "[LightGBM] [Info] Start training from score -0.396838\n",
      "[10]\tcv_agg's rmse: 3.82269 + 0.0587082\n",
      "[20]\tcv_agg's rmse: 3.79927 + 0.0585669\n",
      "[30]\tcv_agg's rmse: 3.77968 + 0.0586299\n",
      "[40]\tcv_agg's rmse: 3.7633 + 0.0589126\n",
      "[50]\tcv_agg's rmse: 3.74974 + 0.0590069\n",
      "[60]\tcv_agg's rmse: 3.73822 + 0.0587984\n",
      "[70]\tcv_agg's rmse: 3.72796 + 0.0588224\n",
      "[80]\tcv_agg's rmse: 3.71962 + 0.058716\n",
      "[90]\tcv_agg's rmse: 3.71231 + 0.0584764\n",
      "[100]\tcv_agg's rmse: 3.70597 + 0.0584405\n",
      "[110]\tcv_agg's rmse: 3.70052 + 0.0584568\n",
      "[120]\tcv_agg's rmse: 3.69601 + 0.0584955\n",
      "[130]\tcv_agg's rmse: 3.69176 + 0.0584263\n",
      "[140]\tcv_agg's rmse: 3.68842 + 0.0584573\n",
      "[150]\tcv_agg's rmse: 3.68525 + 0.058325\n",
      "[160]\tcv_agg's rmse: 3.68255 + 0.0583585\n",
      "[170]\tcv_agg's rmse: 3.68008 + 0.0584271\n",
      "[180]\tcv_agg's rmse: 3.6779 + 0.0583846\n",
      "[190]\tcv_agg's rmse: 3.67602 + 0.0582658\n",
      "[200]\tcv_agg's rmse: 3.67444 + 0.0580064\n",
      "[210]\tcv_agg's rmse: 3.67294 + 0.058063\n",
      "[220]\tcv_agg's rmse: 3.67178 + 0.057892\n",
      "[230]\tcv_agg's rmse: 3.67057 + 0.0577176\n",
      "[240]\tcv_agg's rmse: 3.66956 + 0.0578007\n",
      "[250]\tcv_agg's rmse: 3.66839 + 0.0577133\n",
      "[260]\tcv_agg's rmse: 3.66745 + 0.0575567\n",
      "[270]\tcv_agg's rmse: 3.66671 + 0.0575775\n",
      "[280]\tcv_agg's rmse: 3.66609 + 0.0574927\n",
      "[290]\tcv_agg's rmse: 3.66538 + 0.0574701\n",
      "[300]\tcv_agg's rmse: 3.66476 + 0.0575849\n",
      "[310]\tcv_agg's rmse: 3.6641 + 0.0574312\n",
      "[320]\tcv_agg's rmse: 3.66386 + 0.0573306\n",
      "[330]\tcv_agg's rmse: 3.66342 + 0.0572457\n",
      "[340]\tcv_agg's rmse: 3.66307 + 0.0571417\n",
      "[350]\tcv_agg's rmse: 3.66275 + 0.0570393\n",
      "[360]\tcv_agg's rmse: 3.66246 + 0.0569514\n",
      "[370]\tcv_agg's rmse: 3.66226 + 0.0570081\n",
      "[380]\tcv_agg's rmse: 3.66193 + 0.0570728\n",
      "[390]\tcv_agg's rmse: 3.66175 + 0.0570734\n",
      "[400]\tcv_agg's rmse: 3.66164 + 0.0570936\n",
      "[410]\tcv_agg's rmse: 3.66156 + 0.0572181\n",
      "[420]\tcv_agg's rmse: 3.66145 + 0.0572069\n",
      "[430]\tcv_agg's rmse: 3.66126 + 0.0571066\n",
      "[440]\tcv_agg's rmse: 3.66116 + 0.057163\n",
      "[450]\tcv_agg's rmse: 3.661 + 0.0571841\n",
      "[460]\tcv_agg's rmse: 3.66097 + 0.0570072\n",
      "[470]\tcv_agg's rmse: 3.66085 + 0.05698\n",
      "[480]\tcv_agg's rmse: 3.66062 + 0.0568647\n",
      "[490]\tcv_agg's rmse: 3.6606 + 0.0569777\n",
      "[500]\tcv_agg's rmse: 3.6605 + 0.0568443\n",
      "[510]\tcv_agg's rmse: 3.6604 + 0.0568353\n",
      "[520]\tcv_agg's rmse: 3.66032 + 0.0568179\n",
      "[530]\tcv_agg's rmse: 3.66036 + 0.0567302\n"
     ]
    },
    {
     "name": "stderr",
     "output_type": "stream",
     "text": [
      "\u001b[32m[I 2022-10-06 16:07:53,688]\u001b[0m Trial 1 finished with value: 3.6602953902375064 and parameters: {'learning_rate': 0.010510036611770182}. Best is trial 1 with value: 3.6602953902375064.\u001b[0m\n"
     ]
    },
    {
     "name": "stdout",
     "output_type": "stream",
     "text": [
      "[LightGBM] [Info] Total Bins 66292\n",
      "[LightGBM] [Info] Number of data points in the train set: 134610, number of used features: 338\n",
      "[LightGBM] [Info] Total Bins 66292\n",
      "[LightGBM] [Info] Number of data points in the train set: 134610, number of used features: 338\n",
      "[LightGBM] [Info] Total Bins 66292\n",
      "[LightGBM] [Info] Number of data points in the train set: 134610, number of used features: 338\n",
      "[LightGBM] [Info] Start training from score -0.384681\n",
      "[LightGBM] [Info] Start training from score -0.399389\n",
      "[LightGBM] [Info] Start training from score -0.396838\n",
      "[10]\tcv_agg's rmse: 3.82155 + 0.0587195\n",
      "[20]\tcv_agg's rmse: 3.79734 + 0.0585646\n",
      "[30]\tcv_agg's rmse: 3.77716 + 0.0587232\n",
      "[40]\tcv_agg's rmse: 3.76038 + 0.0590066\n",
      "[50]\tcv_agg's rmse: 3.74666 + 0.0590924\n",
      "[60]\tcv_agg's rmse: 3.73515 + 0.0589333\n",
      "[70]\tcv_agg's rmse: 3.725 + 0.0588883\n",
      "[80]\tcv_agg's rmse: 3.71676 + 0.0588758\n",
      "[90]\tcv_agg's rmse: 3.70968 + 0.0586777\n",
      "[100]\tcv_agg's rmse: 3.70351 + 0.0586449\n",
      "[110]\tcv_agg's rmse: 3.69819 + 0.0585779\n",
      "[120]\tcv_agg's rmse: 3.6939 + 0.0586296\n",
      "[130]\tcv_agg's rmse: 3.68987 + 0.0584738\n",
      "[140]\tcv_agg's rmse: 3.68651 + 0.0585237\n",
      "[150]\tcv_agg's rmse: 3.68359 + 0.0584474\n",
      "[160]\tcv_agg's rmse: 3.68104 + 0.0585703\n",
      "[170]\tcv_agg's rmse: 3.67875 + 0.0585383\n",
      "[180]\tcv_agg's rmse: 3.67672 + 0.0585665\n",
      "[190]\tcv_agg's rmse: 3.67496 + 0.0584769\n",
      "[200]\tcv_agg's rmse: 3.67343 + 0.0582304\n",
      "[210]\tcv_agg's rmse: 3.67196 + 0.0583395\n",
      "[220]\tcv_agg's rmse: 3.67086 + 0.0581929\n",
      "[230]\tcv_agg's rmse: 3.66989 + 0.0580878\n",
      "[240]\tcv_agg's rmse: 3.66893 + 0.0581481\n",
      "[250]\tcv_agg's rmse: 3.66786 + 0.0581718\n",
      "[260]\tcv_agg's rmse: 3.66697 + 0.0581167\n",
      "[270]\tcv_agg's rmse: 3.66636 + 0.0581677\n",
      "[280]\tcv_agg's rmse: 3.66584 + 0.0580889\n",
      "[290]\tcv_agg's rmse: 3.66526 + 0.0581049\n",
      "[300]\tcv_agg's rmse: 3.66468 + 0.0582283\n",
      "[310]\tcv_agg's rmse: 3.66401 + 0.0579669\n",
      "[320]\tcv_agg's rmse: 3.66373 + 0.0578781\n",
      "[330]\tcv_agg's rmse: 3.66322 + 0.0576391\n",
      "[340]\tcv_agg's rmse: 3.66289 + 0.0574791\n",
      "[350]\tcv_agg's rmse: 3.66257 + 0.057328\n",
      "[360]\tcv_agg's rmse: 3.66227 + 0.0573088\n",
      "[370]\tcv_agg's rmse: 3.66223 + 0.0573594\n",
      "[380]\tcv_agg's rmse: 3.66195 + 0.057292\n",
      "[390]\tcv_agg's rmse: 3.66175 + 0.057355\n",
      "[400]\tcv_agg's rmse: 3.66163 + 0.0572369\n",
      "[410]\tcv_agg's rmse: 3.66146 + 0.0572429\n",
      "[420]\tcv_agg's rmse: 3.66129 + 0.0571646\n",
      "[430]\tcv_agg's rmse: 3.66111 + 0.057088\n",
      "[440]\tcv_agg's rmse: 3.66106 + 0.0571247\n",
      "[450]\tcv_agg's rmse: 3.66096 + 0.0571112\n",
      "[460]\tcv_agg's rmse: 3.66087 + 0.0570399\n",
      "[470]\tcv_agg's rmse: 3.6609 + 0.0570095\n",
      "[480]\tcv_agg's rmse: 3.66077 + 0.0570434\n",
      "[490]\tcv_agg's rmse: 3.66076 + 0.0570492\n"
     ]
    },
    {
     "name": "stderr",
     "output_type": "stream",
     "text": [
      "\u001b[32m[I 2022-10-06 16:10:52,667]\u001b[0m Trial 2 finished with value: 3.6607091834996957 and parameters: {'learning_rate': 0.010988471574861654}. Best is trial 1 with value: 3.6602953902375064.\u001b[0m\n"
     ]
    },
    {
     "name": "stdout",
     "output_type": "stream",
     "text": [
      "[LightGBM] [Info] Total Bins 66292\n",
      "[LightGBM] [Info] Number of data points in the train set: 134610, number of used features: 338\n",
      "[LightGBM] [Info] Total Bins 66292\n",
      "[LightGBM] [Info] Number of data points in the train set: 134610, number of used features: 338\n",
      "[LightGBM] [Info] Total Bins 66292\n",
      "[LightGBM] [Info] Number of data points in the train set: 134610, number of used features: 338\n",
      "[LightGBM] [Info] Start training from score -0.384681\n",
      "[LightGBM] [Info] Start training from score -0.399389\n",
      "[LightGBM] [Info] Start training from score -0.396838\n",
      "[10]\tcv_agg's rmse: 3.81828 + 0.0587539\n",
      "[20]\tcv_agg's rmse: 3.7919 + 0.0584991\n",
      "[30]\tcv_agg's rmse: 3.77042 + 0.0586601\n",
      "[40]\tcv_agg's rmse: 3.75291 + 0.0589481\n",
      "[50]\tcv_agg's rmse: 3.73876 + 0.0590699\n",
      "[60]\tcv_agg's rmse: 3.72719 + 0.0588945\n",
      "[70]\tcv_agg's rmse: 3.71729 + 0.0587679\n",
      "[80]\tcv_agg's rmse: 3.70918 + 0.0586277\n",
      "[90]\tcv_agg's rmse: 3.70249 + 0.0584355\n",
      "[100]\tcv_agg's rmse: 3.69674 + 0.0583376\n",
      "[110]\tcv_agg's rmse: 3.69188 + 0.0581762\n"
     ]
    }
   ],
   "source": [
    "study = optuna.create_study(\n",
    "    direction='minimize',                     \n",
    "    sampler= None,          # use TPESampler if None\n",
    "    pruner= None            # use median Sampler if None\n",
    ")\n",
    "study.optimize(objective, n_trials=10)"
   ]
  },
  {
   "cell_type": "code",
   "execution_count": 1,
   "id": "e7a8f99f",
   "metadata": {},
   "outputs": [],
   "source": [
    "def show_best(study):\n",
    "    print(\"Number of finished trials: {}\".format(len(study.trials)))\n",
    "    print(\"Best trial:\")\n",
    "    trial = study.best_trial\n",
    "    print(\"  Value: {}\".format(trial.value))\n",
    "    print(\"  Params: \")\n",
    "    for key, value in trial.params.items():\n",
    "        print(\"    {}: {}\".format(key, value))"
   ]
  },
  {
   "cell_type": "code",
   "execution_count": null,
   "id": "2503bc11",
   "metadata": {},
   "outputs": [],
   "source": []
  },
  {
   "cell_type": "code",
   "execution_count": 49,
   "id": "68d9a49d",
   "metadata": {},
   "outputs": [
    {
     "name": "stdout",
     "output_type": "stream",
     "text": [
      "Number of finished trials: 100\n",
      "Best trial:\n",
      "  Value: 3.6675052989853714\n",
      "  Params: \n",
      "    num_leaves: 121\n",
      "    min_data_in_leaf: 529\n",
      "    min_gain_to_split: 3.246973414475895e-08\n",
      "    bagging_fraction: 0.9605504347395785\n",
      "    lambda_l1: 7.532323286970454e-08\n",
      "    lambda_l2: 4.969932820316884e-06\n",
      "    feature_fraction: 0.6387931915387738\n",
      "    boosting: gbdt\n",
      "    extra_trees: False\n"
     ]
    }
   ],
   "source": [
    "show_best(study)"
   ]
  },
  {
   "cell_type": "code",
   "execution_count": 52,
   "id": "513dc53b",
   "metadata": {},
   "outputs": [
    {
     "data": {
      "text/plain": [
       "{'num_leaves': 121,\n",
       " 'min_data_in_leaf': 529,\n",
       " 'min_gain_to_split': 3.246973414475895e-08,\n",
       " 'bagging_fraction': 0.9605504347395785,\n",
       " 'lambda_l1': 7.532323286970454e-08,\n",
       " 'lambda_l2': 4.969932820316884e-06,\n",
       " 'feature_fraction': 0.6387931915387738,\n",
       " 'boosting': 'gbdt',\n",
       " 'extra_trees': False}"
      ]
     },
     "execution_count": 52,
     "metadata": {},
     "output_type": "execute_result"
    }
   ],
   "source": [
    "study.best_trial.params"
   ]
  }
 ],
 "metadata": {
  "kernelspec": {
   "display_name": "ml",
   "language": "python",
   "name": "ml"
  },
  "language_info": {
   "codemirror_mode": {
    "name": "ipython",
    "version": 3
   },
   "file_extension": ".py",
   "mimetype": "text/x-python",
   "name": "python",
   "nbconvert_exporter": "python",
   "pygments_lexer": "ipython3",
   "version": "3.9.12"
  }
 },
 "nbformat": 4,
 "nbformat_minor": 5
}
