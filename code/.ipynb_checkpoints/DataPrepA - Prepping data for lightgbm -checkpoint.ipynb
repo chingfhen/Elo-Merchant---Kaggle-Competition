{
 "cells": [
  {
   "cell_type": "markdown",
   "id": "eab1d70e",
   "metadata": {},
   "source": [
    "#### read data"
   ]
  },
  {
   "cell_type": "code",
   "execution_count": 1,
   "id": "76f24376",
   "metadata": {},
   "outputs": [],
   "source": [
    "import pandas as pd\n",
    "import os\n",
    "\n",
    "def get_data():\n",
    "    base_path = r\"C:\\Users\\tanch\\Documents\\NTU\\NTU Year 4\\Semester 1\\CZ4041 - Machine Learning\\Team Project\\data\\train_df.pkl\\train_df.pkl\"\n",
    "    embedding_path = r\"C:\\Users\\tanch\\Documents\\NTU\\NTU Year 4\\Semester 1\\CZ4041 - Machine Learning\\Team Project\\data\\train_df.pkl\\train_node2vec_embeddings.pkl\"\n",
    "    more_id_path = r\"C:\\Users\\tanch\\Documents\\NTU\\NTU Year 4\\Semester 1\\CZ4041 - Machine Learning\\Team Project\\data\\train_df.pkl\\more_train_id_features.pkl\"\n",
    "    output = pd.read_pickle(base_path)\n",
    "    # embedding features e.g embedding_merchant_id_1\n",
    "    temp = pd.read_pickle(embedding_path)\n",
    "    output = output.merge(temp, how = \"left\", on = \"card_id\")\n",
    "    # id_features e.g nunique_merchant_id\n",
    "    temp = pd.read_pickle(more_id_path)\n",
    "    output = output.merge(temp, how = \"left\", on = \"card_id\")\n",
    "    # similarity_features e.g marchant_id_similarity_min\n",
    "    node_similarity_feature_dir = r\"C:\\Users\\tanch\\Documents\\NTU\\NTU Year 4\\Semester 1\\CZ4041 - Machine Learning\\Team Project\\data\\node2vec similarities\"\n",
    "    os.chdir(node_similarity_feature_dir)\n",
    "    for filename in os.listdir(node_similarity_feature_dir):\n",
    "        temp = pd.read_pickle(filename)\n",
    "        output = output.merge(temp, how = \"left\", on = \"card_id\")\n",
    "    return output"
   ]
  },
  {
   "cell_type": "code",
   "execution_count": 2,
   "id": "6adf57e9",
   "metadata": {},
   "outputs": [],
   "source": [
    "data = get_data()"
   ]
  },
  {
   "cell_type": "markdown",
   "id": "5e4e74a3",
   "metadata": {},
   "source": [
    "#### additional features: month and year"
   ]
  },
  {
   "cell_type": "code",
   "execution_count": 3,
   "id": "9d7b566b",
   "metadata": {},
   "outputs": [],
   "source": [
    "datetime_features = [\"old_purchase_date_max\", \"old_purchase_date_min\", \"new_purchase_date_max\", \"new_purchase_date_min\", \"first_active_month\"]\n",
    "def add_year_month_features(data, features):\n",
    "    for feature in features:\n",
    "        data[f\"{feature}_month\"] = data[feature].apply(lambda date: date.month)\n",
    "        data[f\"{feature}_year\"] = data[feature].apply(lambda date: date.year)\n",
    "    return data\n",
    "data = add_year_month_features(data,datetime_features)"
   ]
  },
  {
   "cell_type": "markdown",
   "id": "67fa62a9",
   "metadata": {},
   "source": [
    "#### find columns with too many NAs"
   ]
  },
  {
   "cell_type": "code",
   "execution_count": 4,
   "id": "7ba78ff0",
   "metadata": {},
   "outputs": [],
   "source": [
    "too_many_na_features = []\n",
    "threshold = 0.3\n",
    "\n",
    "na = data.isna().sum()/len(data)\n",
    "for feature, num_na in na.items():\n",
    "    if num_na>threshold:\n",
    "        too_many_na_features.append(feature)"
   ]
  },
  {
   "cell_type": "code",
   "execution_count": 5,
   "id": "bef450f4",
   "metadata": {},
   "outputs": [
    {
     "data": {
      "text/plain": [
       "['old_category_1__1_count',\n",
       " 'old_category_1__1_fraction',\n",
       " 'old_category_2__2.0_count',\n",
       " 'old_category_2__3.0_count',\n",
       " 'old_category_2__4.0_count',\n",
       " 'old_category_2__5.0_count',\n",
       " 'old_category_2__2.0_fraction',\n",
       " 'old_category_2__3.0_fraction',\n",
       " 'old_category_2__4.0_fraction',\n",
       " 'old_category_2__5.0_fraction',\n",
       " 'old_category_3__C_count',\n",
       " 'old_category_3__C_fraction',\n",
       " 'old_city_id_bins__(3.806, 9.441]_count',\n",
       " 'old_city_id_bins__(9.441, 9.928]_count',\n",
       " 'old_city_id_bins__(9.928, 10.474]_count',\n",
       " 'old_city_id_bins__(10.474, 11.183]_count',\n",
       " 'old_city_id_bins__(3.806, 9.441]_fraction',\n",
       " 'old_city_id_bins__(9.441, 9.928]_fraction',\n",
       " 'old_city_id_bins__(9.928, 10.474]_fraction',\n",
       " 'old_city_id_bins__(10.474, 11.183]_fraction',\n",
       " 'old_merchant_category_id_bins__(-0.001, 5.533]_count',\n",
       " 'old_merchant_category_id_bins__(5.533, 7.849]_count',\n",
       " 'old_merchant_category_id_bins__(7.849, 9.368]_count',\n",
       " 'old_merchant_category_id_bins__(-0.001, 5.533]_fraction',\n",
       " 'old_merchant_category_id_bins__(5.533, 7.849]_fraction',\n",
       " 'old_merchant_category_id_bins__(7.849, 9.368]_fraction',\n",
       " 'old_merchant_id_bins__(-0.001, 1.099]_count',\n",
       " 'old_merchant_id_bins__(1.099, 2.197]_count',\n",
       " 'old_merchant_id_bins__(2.197, 3.091]_count',\n",
       " 'old_merchant_id_bins__(-0.001, 1.099]_fraction',\n",
       " 'old_merchant_id_bins__(1.099, 2.197]_fraction',\n",
       " 'old_merchant_id_bins__(2.197, 3.091]_fraction',\n",
       " 'old_state_id_bins__(8.885, 12.236]_count',\n",
       " 'old_state_id_bins__(12.236, 12.862]_count',\n",
       " 'old_state_id_bins__(12.862, 13.479]_count',\n",
       " 'old_state_id_bins__(13.479, 14.065]_count',\n",
       " 'old_state_id_bins__(8.885, 12.236]_fraction',\n",
       " 'old_state_id_bins__(12.236, 12.862]_fraction',\n",
       " 'old_state_id_bins__(12.862, 13.479]_fraction',\n",
       " 'old_state_id_bins__(13.479, 14.065]_fraction',\n",
       " 'old_subsector_id_bins__(4.819, 10.06]_count',\n",
       " 'old_subsector_id_bins__(10.06, 11.614]_count',\n",
       " 'old_subsector_id_bins__(11.614, 12.465]_count',\n",
       " 'old_subsector_id_bins__(4.819, 10.06]_fraction',\n",
       " 'old_subsector_id_bins__(10.06, 11.614]_fraction',\n",
       " 'old_subsector_id_bins__(11.614, 12.465]_fraction',\n",
       " 'old_price_var',\n",
       " 'new_category_2__1.0_count',\n",
       " 'new_category_2__2.0_count',\n",
       " 'new_category_2__3.0_count',\n",
       " 'new_category_2__4.0_count',\n",
       " 'new_category_2__5.0_count',\n",
       " 'new_category_2__1.0_fraction',\n",
       " 'new_category_2__2.0_fraction',\n",
       " 'new_category_2__3.0_fraction',\n",
       " 'new_category_2__4.0_fraction',\n",
       " 'new_category_2__5.0_fraction',\n",
       " 'new_category_3__A_count',\n",
       " 'new_category_3__B_count',\n",
       " 'new_category_3__C_count',\n",
       " 'new_category_3__A_fraction',\n",
       " 'new_category_3__B_fraction',\n",
       " 'new_category_3__C_fraction',\n",
       " 'new_city_id_bins__(1.608, 6.778]_count',\n",
       " 'new_city_id_bins__(6.778, 7.249]_count',\n",
       " 'new_city_id_bins__(7.249, 7.814]_count',\n",
       " 'new_city_id_bins__(7.814, 8.641]_count',\n",
       " 'new_city_id_bins__(1.608, 6.778]_fraction',\n",
       " 'new_city_id_bins__(6.778, 7.249]_fraction',\n",
       " 'new_city_id_bins__(7.249, 7.814]_fraction',\n",
       " 'new_city_id_bins__(7.814, 8.641]_fraction',\n",
       " 'new_merchant_category_id_bins__(-0.001, 3.434]_count',\n",
       " 'new_merchant_category_id_bins__(3.434, 5.822]_count',\n",
       " 'new_merchant_category_id_bins__(5.822, 7.156]_count',\n",
       " 'new_merchant_category_id_bins__(7.156, 8.485]_count',\n",
       " 'new_merchant_category_id_bins__(-0.001, 3.434]_fraction',\n",
       " 'new_merchant_category_id_bins__(3.434, 5.822]_fraction',\n",
       " 'new_merchant_category_id_bins__(5.822, 7.156]_fraction',\n",
       " 'new_merchant_category_id_bins__(7.156, 8.485]_fraction',\n",
       " 'new_merchant_id_bins__(-0.001, 0.693]_count',\n",
       " 'new_merchant_id_bins__(0.693, 1.386]_count',\n",
       " 'new_merchant_id_bins__(1.386, 2.079]_count',\n",
       " 'new_merchant_id_bins__(-0.001, 0.693]_fraction',\n",
       " 'new_merchant_id_bins__(0.693, 1.386]_fraction',\n",
       " 'new_merchant_id_bins__(1.386, 2.079]_fraction',\n",
       " 'new_state_id_bins__(5.877, 9.474]_count',\n",
       " 'new_state_id_bins__(9.474, 10.222]_count',\n",
       " 'new_state_id_bins__(10.222, 10.886]_count',\n",
       " 'new_state_id_bins__(10.886, 11.433]_count',\n",
       " 'new_state_id_bins__(11.433, 13.505]_count',\n",
       " 'new_state_id_bins__(5.877, 9.474]_fraction',\n",
       " 'new_state_id_bins__(9.474, 10.222]_fraction',\n",
       " 'new_state_id_bins__(10.222, 10.886]_fraction',\n",
       " 'new_state_id_bins__(10.886, 11.433]_fraction',\n",
       " 'new_state_id_bins__(11.433, 13.505]_fraction',\n",
       " 'new_subsector_id_bins__(2.0780000000000003, 7.706]_count',\n",
       " 'new_subsector_id_bins__(7.706, 9.477]_count',\n",
       " 'new_subsector_id_bins__(9.477, 10.053]_count',\n",
       " 'new_subsector_id_bins__(10.053, 11.111]_count',\n",
       " 'new_subsector_id_bins__(2.0780000000000003, 7.706]_fraction',\n",
       " 'new_subsector_id_bins__(7.706, 9.477]_fraction',\n",
       " 'new_subsector_id_bins__(9.477, 10.053]_fraction',\n",
       " 'new_subsector_id_bins__(10.053, 11.111]_fraction',\n",
       " 'new_installments_skew',\n",
       " 'new_month_lag_skew',\n",
       " 'new_purchase_amount_skew',\n",
       " 'new_price_var',\n",
       " 'new_duration_skew',\n",
       " 'new_amount_month_ratio_skew']"
      ]
     },
     "execution_count": 5,
     "metadata": {},
     "output_type": "execute_result"
    }
   ],
   "source": [
    "too_many_na_features"
   ]
  },
  {
   "cell_type": "markdown",
   "id": "d2843d17",
   "metadata": {},
   "source": [
    "#### define training columns"
   ]
  },
  {
   "cell_type": "code",
   "execution_count": 6,
   "id": "ccb11747",
   "metadata": {},
   "outputs": [],
   "source": [
    "#define columns\n",
    "X_cols = [col for col in data.columns if col not in [\"target\",\"card_id\",*too_many_na_features, *datetime_features]]\n",
    "y_col = \"target\"\n",
    "categorical_feature = [\n",
    "    'feature1_1', 'feature1_2', 'feature1_3', 'feature1_4', 'feature1_5', 'feature2_1', 'feature2_2', 'feature2_3', 'feature3_0', 'feature3_1',\n",
    "    \"feature_sum\",\"feature_max\",\"feature_min\", \"quarter\",\"feature_1\",\"feature_2\",\"feature_3\",'first_active_month_month',\n",
    "    'first_active_month_year', 'old_purchase_date_max_month',\n",
    "    'old_purchase_date_max_year', 'old_purchase_date_min_month',\n",
    "    'old_purchase_date_min_year','new_purchase_date_max_month', 'new_purchase_date_max_year',\n",
    "    'new_purchase_date_min_month', 'new_purchase_date_min_year'\n",
    "]"
   ]
  },
  {
   "cell_type": "markdown",
   "id": "715491c3",
   "metadata": {},
   "source": [
    "## Subset and save"
   ]
  },
  {
   "cell_type": "code",
   "execution_count": 7,
   "id": "39805993",
   "metadata": {},
   "outputs": [],
   "source": [
    "X, y = data[X_cols],data[y_col]"
   ]
  },
  {
   "cell_type": "code",
   "execution_count": 8,
   "id": "04993396",
   "metadata": {},
   "outputs": [],
   "source": [
    "import re\n",
    "def clean_colname(colname):\n",
    "    return re.sub('[^A-Za-z0-9]+', '_', colname)\n",
    "X.columns = [clean_colname(col) for col in X.columns]"
   ]
  },
  {
   "cell_type": "code",
   "execution_count": 9,
   "id": "7dfeb0af",
   "metadata": {
    "scrolled": true
   },
   "outputs": [
    {
     "name": "stdout",
     "output_type": "stream",
     "text": [
      "['old_hist_count', 'old_authorized_flag_0_count', 'old_authorized_flag_1_count', 'old_authorized_flag_0_fraction', 'old_authorized_flag_1_fraction', 'old_category_1_0_count', 'old_category_1_0_fraction', 'old_category_2_1_0_count', 'old_category_2_1_0_fraction', 'old_category_3_A_count', 'old_category_3_B_count', 'old_category_3_A_fraction', 'old_category_3_B_fraction', 'old_city_id_bins_11_183_15_391_count', 'old_city_id_bins_11_183_15_391_fraction', 'old_merchant_category_id_bins_9_368_10_692_count', 'old_merchant_category_id_bins_10_692_15_53_count', 'old_merchant_category_id_bins_9_368_10_692_fraction', 'old_merchant_category_id_bins_10_692_15_53_fraction', 'old_merchant_id_bins_3_091_4_111_count', 'old_merchant_id_bins_4_111_14_042_count', 'old_merchant_id_bins_3_091_4_111_fraction', 'old_merchant_id_bins_4_111_14_042_fraction', 'old_state_id_bins_14_065_16_173_count', 'old_state_id_bins_14_065_16_173_fraction', 'old_subsector_id_bins_12_465_13_476_count', 'old_subsector_id_bins_13_476_15_537_count', 'old_subsector_id_bins_12_465_13_476_fraction', 'old_subsector_id_bins_13_476_15_537_fraction', 'old_installments_mean', 'old_month_lag_mean', 'old_purchase_amount_mean', 'old_installments_max', 'old_month_lag_max', 'old_purchase_amount_max', 'old_installments_median', 'old_month_lag_median', 'old_purchase_amount_median', 'old_installments_std', 'old_month_lag_std', 'old_purchase_amount_std', 'old_installments_skew', 'old_month_lag_skew', 'old_purchase_amount_skew', 'old_installments_mad', 'old_month_lag_mad', 'old_purchase_amount_mad', 'old_installments_sum', 'old_month_lag_sum', 'old_purchase_amount_sum', 'old_purchase_date_month_diff_mean', 'old_purchase_date_month_diff_median', 'old_purchase_date_month_diff_std', 'old_purchase_date_month_diff_max', 'old_purchase_date_month_diff_min', 'old_purchase_date_month_diff_sum', 'old_month_mean', 'old_month_min', 'old_month_max', 'old_hour_nunique', 'old_hour_mean', 'old_hour_min', 'old_hour_max', 'old_weekofyear_nunique', 'old_weekofyear_mean', 'old_weekofyear_min', 'old_weekofyear_max', 'old_weekday_mean', 'old_weekday_min', 'old_weekday_max', 'old_day_nunique', 'old_day_mean', 'old_day_min', 'old_day_max', 'old_weekend_mean', 'old_price_mean', 'old_price_max', 'old_price_min', 'old_Christmas_Day_2017_mean', 'old_Children_day_2017_mean', 'old_Black_Friday_2017_mean', 'old_Mothers_Day_2018_mean', 'old_duration_mean', 'old_duration_min', 'old_duration_max', 'old_duration_var', 'old_duration_skew', 'old_amount_month_ratio_mean', 'old_amount_month_ratio_min', 'old_amount_month_ratio_max', 'old_amount_month_ratio_var', 'old_amount_month_ratio_skew', 'old_purchase_date_diff', 'old_purchase_date_uptonow', 'old_purchase_date_uptomin', 'new_hist_count', 'new_city_id_bins_8_641_12_704_count', 'new_city_id_bins_8_641_12_704_fraction', 'new_merchant_category_id_bins_8_485_12_163_count', 'new_merchant_category_id_bins_8_485_12_163_fraction', 'new_merchant_id_bins_2_079_10_804_count', 'new_merchant_id_bins_2_079_10_804_fraction', 'new_subsector_id_bins_11_111_12_737_count', 'new_subsector_id_bins_11_111_12_737_fraction', 'new_installments_mean', 'new_month_lag_mean', 'new_purchase_amount_mean', 'new_installments_max', 'new_month_lag_max', 'new_purchase_amount_max', 'new_installments_median', 'new_month_lag_median', 'new_purchase_amount_median', 'new_installments_std', 'new_month_lag_std', 'new_purchase_amount_std', 'new_installments_mad', 'new_month_lag_mad', 'new_purchase_amount_mad', 'new_installments_sum', 'new_month_lag_sum', 'new_purchase_amount_sum', 'new_month_mean', 'new_month_min', 'new_month_max', 'new_hour_nunique', 'new_hour_mean', 'new_hour_min', 'new_hour_max', 'new_weekofyear_nunique', 'new_weekofyear_mean', 'new_weekofyear_min', 'new_weekofyear_max', 'new_weekday_mean', 'new_weekday_min', 'new_weekday_max', 'new_day_nunique', 'new_day_mean', 'new_day_min', 'new_day_max', 'new_weekend_mean', 'new_price_mean', 'new_price_max', 'new_price_min', 'new_Christmas_Day_2017_mean', 'new_Children_day_2017_mean', 'new_Black_Friday_2017_mean', 'new_Mothers_Day_2018_mean', 'new_duration_mean', 'new_duration_min', 'new_duration_max', 'new_duration_var', 'new_amount_month_ratio_mean', 'new_amount_month_ratio_min', 'new_amount_month_ratio_max', 'new_amount_month_ratio_var', 'new_purchase_date_diff', 'new_purchase_date_uptonow', 'new_purchase_date_uptomin', 'feature_1', 'feature_2', 'feature_3', 'quarter', 'elapsed_time', 'days_feature1', 'days_feature2', 'days_feature3', 'days_feature1_ratio', 'days_feature2_ratio', 'days_feature3_ratio', 'feature_sum', 'feature_mean', 'feature_max', 'feature_min', 'feature_var', 'feature1_1', 'feature1_2', 'feature1_3', 'feature1_4', 'feature1_5', 'feature2_1', 'feature2_2', 'feature2_3', 'feature3_0', 'feature3_1', 'embedding_merchant_id_0', 'embedding_merchant_id_1', 'embedding_merchant_id_2', 'embedding_merchant_id_3', 'embedding_merchant_id_4', 'embedding_merchant_id_5', 'embedding_merchant_id_6', 'embedding_merchant_id_7', 'embedding_merchant_id_8', 'embedding_merchant_id_9', 'embedding_merchant_id_10', 'embedding_merchant_id_11', 'embedding_merchant_id_12', 'embedding_merchant_id_13', 'embedding_merchant_id_14', 'embedding_merchant_id_15', 'embedding_merchant_group_id_0', 'embedding_merchant_group_id_1', 'embedding_merchant_group_id_2', 'embedding_merchant_group_id_3', 'embedding_merchant_group_id_4', 'embedding_merchant_group_id_5', 'embedding_merchant_group_id_6', 'embedding_merchant_group_id_7', 'embedding_merchant_group_id_8', 'embedding_merchant_group_id_9', 'embedding_merchant_group_id_10', 'embedding_merchant_group_id_11', 'embedding_merchant_group_id_12', 'embedding_merchant_group_id_13', 'embedding_merchant_group_id_14', 'embedding_merchant_group_id_15', 'embedding_merchant_category_id_0', 'embedding_merchant_category_id_1', 'embedding_merchant_category_id_2', 'embedding_merchant_category_id_3', 'embedding_merchant_category_id_4', 'embedding_merchant_category_id_5', 'embedding_merchant_category_id_6', 'embedding_merchant_category_id_7', 'embedding_merchant_category_id_8', 'embedding_merchant_category_id_9', 'embedding_merchant_category_id_10', 'embedding_merchant_category_id_11', 'embedding_merchant_category_id_12', 'embedding_merchant_category_id_13', 'embedding_merchant_category_id_14', 'embedding_merchant_category_id_15', 'embedding_subsector_id_0', 'embedding_subsector_id_1', 'embedding_subsector_id_2', 'embedding_subsector_id_3', 'embedding_subsector_id_4', 'embedding_subsector_id_5', 'embedding_subsector_id_6', 'embedding_subsector_id_7', 'embedding_subsector_id_8', 'embedding_subsector_id_9', 'embedding_subsector_id_10', 'embedding_subsector_id_11', 'embedding_subsector_id_12', 'embedding_subsector_id_13', 'embedding_subsector_id_14', 'embedding_subsector_id_15', 'embedding_city_id_0', 'embedding_city_id_1', 'embedding_city_id_2', 'embedding_city_id_3', 'embedding_city_id_4', 'embedding_city_id_5', 'embedding_city_id_6', 'embedding_city_id_7', 'embedding_city_id_8', 'embedding_city_id_9', 'embedding_city_id_10', 'embedding_city_id_11', 'embedding_city_id_12', 'embedding_city_id_13', 'embedding_city_id_14', 'embedding_city_id_15', 'embedding_state_id_0', 'embedding_state_id_1', 'embedding_state_id_2', 'embedding_state_id_3', 'embedding_state_id_4', 'embedding_state_id_5', 'embedding_state_id_6', 'embedding_state_id_7', 'embedding_state_id_8', 'embedding_state_id_9', 'embedding_state_id_10', 'embedding_state_id_11', 'embedding_state_id_12', 'embedding_state_id_13', 'embedding_state_id_14', 'embedding_state_id_15', 'nunique_merchant_id', 'count_merchant_id', 'nunique_count_frac_merchant_id', 'nunique_merchant_group_id', 'count_merchant_group_id', 'nunique_count_frac_merchant_group_id', 'nunique_merchant_category_id', 'count_merchant_category_id', 'nunique_count_frac_merchant_category_id', 'nunique_subsector_id', 'count_subsector_id', 'nunique_count_frac_subsector_id', 'nunique_city_id', 'count_city_id', 'nunique_count_frac_city_id', 'nunique_state_id', 'count_state_id', 'nunique_count_frac_state_id', 'city_id_similarity_min', 'city_id_similarity_max', 'city_id_similarity_sum', 'city_id_similarity_mean', 'city_id_similarity_std', 'merchant_category_id_similarity_min', 'merchant_category_id_similarity_max', 'merchant_category_id_similarity_sum', 'merchant_category_id_similarity_mean', 'merchant_category_id_similarity_std', 'merchant_group_id_similarity_min', 'merchant_group_id_similarity_max', 'merchant_group_id_similarity_sum', 'merchant_group_id_similarity_mean', 'merchant_group_id_similarity_std', 'merchant_id_similarity_min', 'merchant_id_similarity_max', 'merchant_id_similarity_sum', 'merchant_id_similarity_mean', 'merchant_id_similarity_std', 'state_id_similarity_min', 'state_id_similarity_max', 'state_id_similarity_sum', 'state_id_similarity_mean', 'state_id_similarity_std', 'subsector_id_similarity_min', 'subsector_id_similarity_max', 'subsector_id_similarity_sum', 'subsector_id_similarity_mean', 'subsector_id_similarity_std', 'old_purchase_date_max_month', 'old_purchase_date_max_year', 'old_purchase_date_min_month', 'old_purchase_date_min_year', 'new_purchase_date_max_month', 'new_purchase_date_max_year', 'new_purchase_date_min_month', 'new_purchase_date_min_year', 'first_active_month_month', 'first_active_month_year']\n"
     ]
    }
   ],
   "source": [
    "print(list(X.columns))"
   ]
  },
  {
   "cell_type": "markdown",
   "id": "f2f14b7b",
   "metadata": {},
   "source": [
    "### save lgb dataset"
   ]
  },
  {
   "cell_type": "code",
   "execution_count": 41,
   "id": "2eaf5b35",
   "metadata": {},
   "outputs": [],
   "source": [
    "import lightgbm as lgb\n",
    "lgb_data = lgb.Dataset(X, label = y, categorical_feature = categorical_feature, feature_name = list(X.columns), weight = None)"
   ]
  },
  {
   "cell_type": "code",
   "execution_count": 43,
   "id": "200ff9fb",
   "metadata": {
    "scrolled": true
   },
   "outputs": [
    {
     "name": "stdout",
     "output_type": "stream",
     "text": [
      "[LightGBM] [Info] Saving data to binary file C:\\Users\\tanch\\Documents\\NTU\\NTU Year 4\\Semester 1\\CZ4041 - Machine Learning\\Team Project\\data\\train.bin\n"
     ]
    },
    {
     "data": {
      "text/plain": [
       "<lightgbm.basic.Dataset at 0x22409e1dbe0>"
      ]
     },
     "execution_count": 43,
     "metadata": {},
     "output_type": "execute_result"
    }
   ],
   "source": [
    "path = r\"C:\\Users\\tanch\\Documents\\NTU\\NTU Year 4\\Semester 1\\CZ4041 - Machine Learning\\Team Project\\data\\train.bin\"\n",
    "lgb_data.save_binary(path)"
   ]
  },
  {
   "cell_type": "markdown",
   "id": "c149d176",
   "metadata": {
    "scrolled": true
   },
   "source": [
    "### save pickle"
   ]
  },
  {
   "cell_type": "code",
   "execution_count": 15,
   "id": "dbb40d6f",
   "metadata": {},
   "outputs": [],
   "source": [
    "path = r\"C:\\Users\\tanch\\Documents\\NTU\\NTU Year 4\\Semester 1\\CZ4041 - Machine Learning\\Team Project\\data\\full_train1.pkl\"\n",
    "data[[\"card_id\",y_col]+X_cols].to_pickle(path)"
   ]
  },
  {
   "cell_type": "markdown",
   "id": "eabab920",
   "metadata": {},
   "source": [
    "## Repeat for test set"
   ]
  },
  {
   "cell_type": "code",
   "execution_count": 45,
   "id": "98f81197",
   "metadata": {},
   "outputs": [],
   "source": [
    "import pandas as pd\n",
    "\n",
    "def get_data():\n",
    "    base_path = r\"C:\\Users\\tanch\\Documents\\NTU\\NTU Year 4\\Semester 1\\CZ4041 - Machine Learning\\Team Project\\data\\train_df.pkl\\test_df.pkl\"\n",
    "    embedding_path = r\"C:\\Users\\tanch\\Documents\\NTU\\NTU Year 4\\Semester 1\\CZ4041 - Machine Learning\\Team Project\\data\\train_df.pkl\\test_node2vec_embeddings.pkl\"\n",
    "    more_id_path = r\"C:\\Users\\tanch\\Documents\\NTU\\NTU Year 4\\Semester 1\\CZ4041 - Machine Learning\\Team Project\\data\\train_df.pkl\\more_test_id_features.pkl\"\n",
    "    output = pd.read_pickle(base_path)\n",
    "    # embedding features e.g embedding_merchant_id_1\n",
    "    temp = pd.read_pickle(embedding_path)\n",
    "    output = output.merge(temp, how = \"left\", on = \"card_id\")\n",
    "    # id_features e.g nunique_merchant_id\n",
    "    temp = pd.read_pickle(more_id_path)\n",
    "    output = output.merge(temp, how = \"left\", on = \"card_id\")\n",
    "    # similarity_features e.g marchant_id_similarity_min\n",
    "    node_similarity_feature_dir = r\"C:\\Users\\tanch\\Documents\\NTU\\NTU Year 4\\Semester 1\\CZ4041 - Machine Learning\\Team Project\\data\\node2vec similarities\"\n",
    "    os.chdir(node_similarity_feature_dir)\n",
    "    for filename in os.listdir(node_similarity_feature_dir):\n",
    "        temp = pd.read_pickle(filename)\n",
    "        output = output.merge(temp, how = \"left\", on = \"card_id\")\n",
    "    return output\n",
    "data = get_data()\n",
    "datetime_features = [\"old_purchase_date_max\", \"old_purchase_date_min\", \"new_purchase_date_max\", \"new_purchase_date_min\", \"first_active_month\"]\n",
    "data = add_year_month_features(data,datetime_features)"
   ]
  },
  {
   "cell_type": "code",
   "execution_count": 46,
   "id": "2349a1ac",
   "metadata": {},
   "outputs": [],
   "source": [
    "X = data[[\"card_id\"]+ X_cols]"
   ]
  },
  {
   "cell_type": "code",
   "execution_count": 47,
   "id": "993956b1",
   "metadata": {},
   "outputs": [],
   "source": [
    "X.columns = [clean_colname(col) for col in X.columns]"
   ]
  },
  {
   "cell_type": "markdown",
   "id": "75af09e3",
   "metadata": {},
   "source": [
    "### save pickle"
   ]
  },
  {
   "cell_type": "code",
   "execution_count": 48,
   "id": "16dfe32d",
   "metadata": {},
   "outputs": [],
   "source": [
    "path = r\"C:\\Users\\tanch\\Documents\\NTU\\NTU Year 4\\Semester 1\\CZ4041 - Machine Learning\\Team Project\\data\\full_test1.pkl\"\n",
    "X.to_pickle(path)"
   ]
  },
  {
   "cell_type": "code",
   "execution_count": null,
   "id": "80d873ce",
   "metadata": {},
   "outputs": [],
   "source": []
  },
  {
   "cell_type": "code",
   "execution_count": null,
   "id": "4c609342",
   "metadata": {},
   "outputs": [],
   "source": []
  },
  {
   "cell_type": "code",
   "execution_count": null,
   "id": "420d5894",
   "metadata": {},
   "outputs": [],
   "source": []
  },
  {
   "cell_type": "code",
   "execution_count": null,
   "id": "5772d19b",
   "metadata": {},
   "outputs": [],
   "source": []
  },
  {
   "cell_type": "code",
   "execution_count": 49,
   "id": "7a09f375",
   "metadata": {},
   "outputs": [
    {
     "data": {
      "text/plain": [
       "<AxesSubplot:>"
      ]
     },
     "execution_count": 49,
     "metadata": {},
     "output_type": "execute_result"
    },
    {
     "data": {
      "image/png": "[encoded data removed]",
      "text/plain": [
       "<Figure size 640x480 with 1 Axes>"
      ]
     },
     "metadata": {},
     "output_type": "display_data"
    }
   ],
   "source": [
    "from seaborn import boxplot\n",
    "boxplot(data = data.target[data.target>min(data.target)])"
   ]
  },
  {
   "cell_type": "code",
   "execution_count": null,
   "id": "bf8a008d",
   "metadata": {},
   "outputs": [],
   "source": []
  },
  {
   "cell_type": "code",
   "execution_count": null,
   "id": "74c80f93",
   "metadata": {},
   "outputs": [],
   "source": []
  }
 ],
 "metadata": {
  "kernelspec": {
   "display_name": "ml",
   "language": "python",
   "name": "ml"
  },
  "language_info": {
   "codemirror_mode": {
    "name": "ipython",
    "version": 3
   },
   "file_extension": ".py",
   "mimetype": "text/x-python",
   "name": "python",
   "nbconvert_exporter": "python",
   "pygments_lexer": "ipython3",
   "version": "3.9.12"
  }
 },
 "nbformat": 4,
 "nbformat_minor": 5
}
