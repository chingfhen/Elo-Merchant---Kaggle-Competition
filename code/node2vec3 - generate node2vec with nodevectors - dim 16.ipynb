{
 "cells": [
  {
   "cell_type": "markdown",
   "id": "bed3dd36",
   "metadata": {},
   "source": [
    "# ABOUT\n",
    "- generate nod2vec at dim 16\n",
    "   - background:\n",
    "       - we found that dim 16 works well, better than 8\n",
    "       - we do not want to much dimensions for fear of curse of dimensionality thus"
   ]
  },
  {
   "cell_type": "markdown",
   "id": "3356a7f8",
   "metadata": {},
   "source": [
    "## load data\n",
    "- a csr matrix representing a graph"
   ]
  },
  {
   "cell_type": "code",
   "execution_count": 1,
   "id": "c9090b61",
   "metadata": {},
   "outputs": [],
   "source": [
    "import csrgraph as cg\n",
    "import nodevectors\n",
    "import os\n",
    "from tqdm import tqdm"
   ]
  },
  {
   "cell_type": "code",
   "execution_count": 2,
   "id": "8ba0bf22",
   "metadata": {},
   "outputs": [],
   "source": [
    "def get_save_path(datapath, save_dir = r\"C:\\Users\\tanch\\Documents\\NTU\\NTU Year 4\\Semester 1\\CZ4041 - Machine Learning\\Team Project\\model\"):\n",
    "    temp = datapath.split(\".\")[0]\n",
    "    filename = f\"node2vec_{temp}\"\n",
    "    return os.path.join(save_dir,filename)"
   ]
  },
  {
   "cell_type": "code",
   "execution_count": 3,
   "id": "7e9efbd9",
   "metadata": {},
   "outputs": [
    {
     "name": "stderr",
     "output_type": "stream",
     "text": [
      "100%|████████████████████████████████████████████████████████████████████████████████████| 6/6 [08:02<00:00, 80.46s/it]\n"
     ]
    }
   ],
   "source": [
    "# for every edgelist in edgelist_dir:\n",
    "# 1. convert to csr matrix\n",
    "# 2. train node2vev\n",
    "# 3. save node2vev\n",
    "edgelist_dir = r\"C:\\Users\\tanch\\Documents\\NTU\\NTU Year 4\\Semester 1\\CZ4041 - Machine Learning\\Team Project\\data\\edgelist for node2vec\"\n",
    "os.chdir(edgelist_dir)\n",
    "datapaths = os.listdir(edgelist_dir)\n",
    "# datapaths = ['card_id_city_id.csv', 'card_id_merchant_category_id.csv', 'card_id_merchant_id.csv', 'card_id_state_id.csv', 'card_id_subsector_id.csv']\n",
    "for datapath in tqdm(datapaths):\n",
    "    G = cg.read_edgelist(datapath, directed=False, sep=',')\n",
    "    ggvec_model = nodevectors.GGVec(learning_rate = 0.1,\n",
    "                                    n_components = 16,\n",
    "                                    negative_ratio = 0.1, \n",
    "                                    max_epoch = 200, \n",
    "                                    tol = \"auto\", \n",
    "                                    tol_samples = 10,\n",
    "                                    verbose = None) \n",
    "    ggvec_model.fit(G)\n",
    "    ggvec_model.save(get_save_path(datapath))\n",
    "#     print(datapath, get_save_path(datapath))"
   ]
  }
 ],
 "metadata": {
  "kernelspec": {
   "display_name": "ml",
   "language": "python",
   "name": "ml"
  },
  "language_info": {
   "codemirror_mode": {
    "name": "ipython",
    "version": 3
   },
   "file_extension": ".py",
   "mimetype": "text/x-python",
   "name": "python",
   "nbconvert_exporter": "python",
   "pygments_lexer": "ipython3",
   "version": "3.9.12"
  }
 },
 "nbformat": 4,
 "nbformat_minor": 5
}
