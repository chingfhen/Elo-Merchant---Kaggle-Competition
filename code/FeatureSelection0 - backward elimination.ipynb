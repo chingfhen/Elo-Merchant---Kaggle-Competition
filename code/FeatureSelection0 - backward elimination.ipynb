{
 "cells": [
  {
   "cell_type": "markdown",
   "id": "597bd117",
   "metadata": {},
   "source": [
    "# ABOUT:\n",
    "- this code performs backward elimnation using feature importance values from lightgbm\n",
    "- approach:\n",
    "    - acquire feature importances\n",
    "    1. perform cv \n",
    "    2. remove the least important feature\n",
    "    3. repeat 1-2 until no improvement in cv"
   ]
  },
  {
   "cell_type": "markdown",
   "id": "2f62f32b",
   "metadata": {},
   "source": [
    "### train model"
   ]
  },
  {
   "cell_type": "code",
   "execution_count": 1,
   "id": "6c0bc77f",
   "metadata": {},
   "outputs": [],
   "source": [
    "from pandas import read_pickle\n",
    "import lightgbm as lgb"
   ]
  },
  {
   "cell_type": "code",
   "execution_count": 2,
   "id": "2fb8bcd0",
   "metadata": {},
   "outputs": [],
   "source": [
    "path = r\"C:\\Users\\tanch\\Documents\\NTU\\NTU Year 4\\Semester 1\\CZ4041 - Machine Learning\\Team Project\\data\\full_train1.pkl\"\n",
    "data = read_pickle(path)"
   ]
  },
  {
   "cell_type": "code",
   "execution_count": 3,
   "id": "9bc63637",
   "metadata": {
    "scrolled": true
   },
   "outputs": [],
   "source": [
    "X_cols = [col for col in data.columns if col not in [\"card_id\",\"target\"]]\n",
    "X, y = data[X_cols], data['target']"
   ]
  },
  {
   "cell_type": "code",
   "execution_count": 11,
   "id": "6368f1b8",
   "metadata": {},
   "outputs": [
    {
     "name": "stdout",
     "output_type": "stream",
     "text": [
      "old_hist_count, old_authorized_flag_0_count, old_authorized_flag_1_count, old_authorized_flag_0_fraction, old_authorized_flag_1_fraction, old_category_1_0_count, old_category_1_1_count, old_category_1_0_fraction, old_category_1_1_fraction, old_category_2_1_0_count, old_category_2_2_0_count, old_category_2_3_0_count, old_category_2_4_0_count, old_category_2_5_0_count, old_category_2_1_0_fraction, old_category_2_2_0_fraction, old_category_2_3_0_fraction, old_category_2_4_0_fraction, old_category_2_5_0_fraction, old_category_3_A_count, old_category_3_B_count, old_category_3_C_count, old_category_3_A_fraction, old_category_3_B_fraction, old_category_3_C_fraction, old_city_id_bins_3_806_9_441_count, old_city_id_bins_9_441_9_928_count, old_city_id_bins_9_928_10_474_count, old_city_id_bins_10_474_11_183_count, old_city_id_bins_11_183_15_391_count, old_city_id_bins_3_806_9_441_fraction, old_city_id_bins_9_441_9_928_fraction, old_city_id_bins_9_928_10_474_fraction, old_city_id_bins_10_474_11_183_fraction, old_city_id_bins_11_183_15_391_fraction, old_merchant_category_id_bins_0_001_5_533_count, old_merchant_category_id_bins_5_533_7_849_count, old_merchant_category_id_bins_7_849_9_368_count, old_merchant_category_id_bins_9_368_10_692_count, old_merchant_category_id_bins_10_692_15_53_count, old_merchant_category_id_bins_0_001_5_533_fraction, old_merchant_category_id_bins_5_533_7_849_fraction, old_merchant_category_id_bins_7_849_9_368_fraction, old_merchant_category_id_bins_9_368_10_692_fraction, old_merchant_category_id_bins_10_692_15_53_fraction, old_merchant_id_bins_0_001_1_099_count, old_merchant_id_bins_1_099_2_197_count, old_merchant_id_bins_2_197_3_091_count, old_merchant_id_bins_3_091_4_111_count, old_merchant_id_bins_4_111_14_042_count, old_merchant_id_bins_0_001_1_099_fraction, old_merchant_id_bins_1_099_2_197_fraction, old_merchant_id_bins_2_197_3_091_fraction, old_merchant_id_bins_3_091_4_111_fraction, old_merchant_id_bins_4_111_14_042_fraction, old_state_id_bins_8_885_12_236_count, old_state_id_bins_12_236_12_862_count, old_state_id_bins_12_862_13_479_count, old_state_id_bins_13_479_14_065_count, old_state_id_bins_14_065_16_173_count, old_state_id_bins_8_885_12_236_fraction, old_state_id_bins_12_236_12_862_fraction, old_state_id_bins_12_862_13_479_fraction, old_state_id_bins_13_479_14_065_fraction, old_state_id_bins_14_065_16_173_fraction, old_subsector_id_bins_4_819_10_06_count, old_subsector_id_bins_10_06_11_614_count, old_subsector_id_bins_11_614_12_465_count, old_subsector_id_bins_12_465_13_476_count, old_subsector_id_bins_13_476_15_537_count, old_subsector_id_bins_4_819_10_06_fraction, old_subsector_id_bins_10_06_11_614_fraction, old_subsector_id_bins_11_614_12_465_fraction, old_subsector_id_bins_12_465_13_476_fraction, old_subsector_id_bins_13_476_15_537_fraction, old_installments_mean, old_month_lag_mean, old_purchase_amount_mean, old_installments_max, old_month_lag_max, old_purchase_amount_max, old_installments_median, old_month_lag_median, old_purchase_amount_median, old_installments_std, old_month_lag_std, old_purchase_amount_std, old_installments_skew, old_month_lag_skew, old_purchase_amount_skew, old_installments_mad, old_month_lag_mad, old_purchase_amount_mad, old_installments_sum, old_month_lag_sum, old_purchase_amount_sum, old_purchase_date_month_diff_mean, old_purchase_date_month_diff_median, old_purchase_date_month_diff_std, old_purchase_date_month_diff_max, old_purchase_date_month_diff_min, old_purchase_date_month_diff_sum, old_month_mean, old_month_min, old_month_max, old_hour_nunique, old_hour_mean, old_hour_min, old_hour_max, old_weekofyear_nunique, old_weekofyear_mean, old_weekofyear_min, old_weekofyear_max, old_weekday_mean, old_weekday_min, old_weekday_max, old_day_nunique, old_day_mean, old_day_min, old_day_max, old_weekend_mean, old_price_mean, old_price_max, old_price_min, old_Christmas_Day_2017_mean, old_Children_day_2017_mean, old_Black_Friday_2017_mean, old_Mothers_Day_2018_mean, old_duration_mean, old_duration_min, old_duration_max, old_duration_var, old_duration_skew, old_amount_month_ratio_mean, old_amount_month_ratio_min, old_amount_month_ratio_max, old_amount_month_ratio_var, old_amount_month_ratio_skew, old_purchase_date_diff, old_purchase_date_uptonow, old_purchase_date_uptomin, new_hist_count, new_category_2_1_0_count, new_category_2_2_0_count, new_category_2_3_0_count, new_category_2_4_0_count, new_category_2_5_0_count, new_category_2_1_0_fraction, new_category_2_2_0_fraction, new_category_2_3_0_fraction, new_category_2_4_0_fraction, new_category_2_5_0_fraction, new_category_3_A_count, new_category_3_B_count, new_category_3_C_count, new_category_3_A_fraction, new_category_3_B_fraction, new_category_3_C_fraction, new_city_id_bins_1_608_6_778_count, new_city_id_bins_6_778_7_249_count, new_city_id_bins_7_249_7_814_count, new_city_id_bins_7_814_8_641_count, new_city_id_bins_8_641_12_704_count, new_city_id_bins_1_608_6_778_fraction, new_city_id_bins_6_778_7_249_fraction, new_city_id_bins_7_249_7_814_fraction, new_city_id_bins_7_814_8_641_fraction, new_city_id_bins_8_641_12_704_fraction, new_merchant_category_id_bins_0_001_3_434_count, new_merchant_category_id_bins_3_434_5_822_count, new_merchant_category_id_bins_5_822_7_156_count, new_merchant_category_id_bins_7_156_8_485_count, new_merchant_category_id_bins_8_485_12_163_count, new_merchant_category_id_bins_0_001_3_434_fraction, new_merchant_category_id_bins_3_434_5_822_fraction, new_merchant_category_id_bins_5_822_7_156_fraction, new_merchant_category_id_bins_7_156_8_485_fraction, new_merchant_category_id_bins_8_485_12_163_fraction, new_merchant_id_bins_0_001_0_693_count, new_merchant_id_bins_0_693_1_386_count, new_merchant_id_bins_1_386_2_079_count, new_merchant_id_bins_2_079_10_804_count, new_merchant_id_bins_0_001_0_693_fraction, new_merchant_id_bins_0_693_1_386_fraction, new_merchant_id_bins_1_386_2_079_fraction, new_merchant_id_bins_2_079_10_804_fraction, new_state_id_bins_5_877_9_474_count, new_state_id_bins_9_474_10_222_count, new_state_id_bins_10_222_10_886_count, new_state_id_bins_10_886_11_433_count, new_state_id_bins_11_433_13_505_count, new_state_id_bins_5_877_9_474_fraction, new_state_id_bins_9_474_10_222_fraction, new_state_id_bins_10_222_10_886_fraction, new_state_id_bins_10_886_11_433_fraction, new_state_id_bins_11_433_13_505_fraction, new_subsector_id_bins_2_0780000000000003_7_706_count, new_subsector_id_bins_7_706_9_477_count, new_subsector_id_bins_9_477_10_053_count, new_subsector_id_bins_10_053_11_111_count, new_subsector_id_bins_11_111_12_737_count, new_subsector_id_bins_2_0780000000000003_7_706_fraction, new_subsector_id_bins_7_706_9_477_fraction, new_subsector_id_bins_9_477_10_053_fraction, new_subsector_id_bins_10_053_11_111_fraction, new_subsector_id_bins_11_111_12_737_fraction, new_installments_mean, new_month_lag_mean, new_purchase_amount_mean, new_installments_max, new_month_lag_max, new_purchase_amount_max, new_installments_median, new_month_lag_median, new_purchase_amount_median, new_installments_std, new_month_lag_std, new_purchase_amount_std, new_installments_mad, new_month_lag_mad, new_purchase_amount_mad, new_installments_sum, new_month_lag_sum, new_purchase_amount_sum, new_month_mean, new_month_min, new_month_max, new_hour_nunique, new_hour_mean, new_hour_min, new_hour_max, new_weekofyear_nunique, new_weekofyear_mean, new_weekofyear_min, new_weekofyear_max, new_weekday_mean, new_weekday_min, new_weekday_max, new_day_nunique, new_day_mean, new_day_min, new_day_max, new_weekend_mean, new_price_mean, new_price_max, new_price_min, new_Christmas_Day_2017_mean, new_Children_day_2017_mean, new_Black_Friday_2017_mean, new_Mothers_Day_2018_mean, new_duration_mean, new_duration_min, new_duration_max, new_duration_var, new_amount_month_ratio_mean, new_amount_month_ratio_min, new_amount_month_ratio_max, new_amount_month_ratio_var, new_purchase_date_diff, new_purchase_date_uptonow, new_purchase_date_uptomin, feature_1, feature_2, feature_3, quarter, elapsed_time, days_feature1, days_feature2, days_feature3, days_feature1_ratio, days_feature2_ratio, days_feature3_ratio, feature_sum, feature_mean, feature_max, feature_min, feature_var, feature1_1, feature1_2, feature1_3, feature1_4, feature1_5, feature2_1, feature2_2, feature2_3, feature3_0, feature3_1, embedding_merchant_id_0, embedding_merchant_id_1, embedding_merchant_id_2, embedding_merchant_id_3, embedding_merchant_id_4, embedding_merchant_id_5, embedding_merchant_id_6, embedding_merchant_id_7, embedding_merchant_id_8, embedding_merchant_id_9, embedding_merchant_id_10, embedding_merchant_id_11, embedding_merchant_id_12, embedding_merchant_id_13, embedding_merchant_id_14, embedding_merchant_id_15, embedding_merchant_group_id_0, embedding_merchant_group_id_1, embedding_merchant_group_id_2, embedding_merchant_group_id_3, embedding_merchant_group_id_4, embedding_merchant_group_id_5, embedding_merchant_group_id_6, embedding_merchant_group_id_7, embedding_merchant_group_id_8, embedding_merchant_group_id_9, embedding_merchant_group_id_10, embedding_merchant_group_id_11, embedding_merchant_group_id_12, embedding_merchant_group_id_13, embedding_merchant_group_id_14, embedding_merchant_group_id_15, embedding_merchant_category_id_0, embedding_merchant_category_id_1, embedding_merchant_category_id_2, embedding_merchant_category_id_3, embedding_merchant_category_id_4, embedding_merchant_category_id_5, embedding_merchant_category_id_6, embedding_merchant_category_id_7, embedding_merchant_category_id_8, embedding_merchant_category_id_9, embedding_merchant_category_id_10, embedding_merchant_category_id_11, embedding_merchant_category_id_12, embedding_merchant_category_id_13, embedding_merchant_category_id_14, embedding_merchant_category_id_15, embedding_subsector_id_0, embedding_subsector_id_1, embedding_subsector_id_2, embedding_subsector_id_3, embedding_subsector_id_4, embedding_subsector_id_5, embedding_subsector_id_6, embedding_subsector_id_7, embedding_subsector_id_8, embedding_subsector_id_9, embedding_subsector_id_10, embedding_subsector_id_11, embedding_subsector_id_12, embedding_subsector_id_13, embedding_subsector_id_14, embedding_subsector_id_15, embedding_city_id_0, embedding_city_id_1, embedding_city_id_2, embedding_city_id_3, embedding_city_id_4, embedding_city_id_5, embedding_city_id_6, embedding_city_id_7, embedding_city_id_8, embedding_city_id_9, embedding_city_id_10, embedding_city_id_11, embedding_city_id_12, embedding_city_id_13, embedding_city_id_14, embedding_city_id_15, embedding_state_id_0, embedding_state_id_1, embedding_state_id_2, embedding_state_id_3, embedding_state_id_4, embedding_state_id_5, embedding_state_id_6, embedding_state_id_7, embedding_state_id_8, embedding_state_id_9, embedding_state_id_10, embedding_state_id_11, embedding_state_id_12, embedding_state_id_13, embedding_state_id_14, embedding_state_id_15, nunique_merchant_id, count_merchant_id, nunique_count_frac_merchant_id, nunique_merchant_group_id, count_merchant_group_id, nunique_count_frac_merchant_group_id, nunique_merchant_category_id, count_merchant_category_id, nunique_count_frac_merchant_category_id, nunique_subsector_id, count_subsector_id, nunique_count_frac_subsector_id, nunique_city_id, count_city_id, nunique_count_frac_city_id, nunique_state_id, count_state_id, nunique_count_frac_state_id, city_id_similarity_min, city_id_similarity_max, city_id_similarity_sum, city_id_similarity_mean, city_id_similarity_std, merchant_category_id_similarity_min, merchant_category_id_similarity_max, merchant_category_id_similarity_sum, merchant_category_id_similarity_mean, merchant_category_id_similarity_std, merchant_group_id_similarity_min, merchant_group_id_similarity_max, merchant_group_id_similarity_sum, merchant_group_id_similarity_mean, merchant_group_id_similarity_std, merchant_id_similarity_min, merchant_id_similarity_max, merchant_id_similarity_sum, merchant_id_similarity_mean, merchant_id_similarity_std, state_id_similarity_min, state_id_similarity_max, state_id_similarity_sum, state_id_similarity_mean, state_id_similarity_std, subsector_id_similarity_min, subsector_id_similarity_max, subsector_id_similarity_sum, subsector_id_similarity_mean, subsector_id_similarity_std, old_purchase_date_max_month, old_purchase_date_max_year, old_purchase_date_min_month, old_purchase_date_min_year, new_purchase_date_max_month, new_purchase_date_max_year, new_purchase_date_min_month, new_purchase_date_min_year, first_active_month_month, first_active_month_year, "
     ]
    }
   ],
   "source": [
    "for col in X.columns:\n",
    "    print(col,end = \", \")"
   ]
  },
  {
   "cell_type": "code",
   "execution_count": 183,
   "id": "fbd7aba4",
   "metadata": {},
   "outputs": [],
   "source": [
    "train = lgb.Dataset(data = X, label = y)"
   ]
  },
  {
   "cell_type": "code",
   "execution_count": 4,
   "id": "8285155e",
   "metadata": {},
   "outputs": [],
   "source": [
    "best_params = {\n",
    "    'num_leaves': 163,\n",
    "    'min_data_in_leaf': 325,\n",
    "    'min_gain_to_split': 0.05621632216128067,\n",
    "    'bagging_fraction': 0.8940498057598245,\n",
    "    'lambda_l1': 0.00019163693019842484,\n",
    "    'lambda_l2': 0.0027009967266884796,\n",
    "    'feature_fraction': 0.5590704561219212,\n",
    "    'boosting': 'gbdt',\n",
    "    'extra_trees': False,\n",
    "    \"learning_rate\":0.01,\n",
    "    \"objective\": \"regression\",\n",
    "    \"max_depth\":  -1,\n",
    "    \"bagging_freq\": 10 ,                  # resamples rows at every k-th iteration\n",
    "    \"max_bin\": 255,                        # bins continuous values\n",
    "    \"force_col_wise\":  True  ,                 # reduce memory cost\n",
    "    \"weight_column\": \"\"\n",
    "}"
   ]
  },
  {
   "cell_type": "code",
   "execution_count": 185,
   "id": "c6cfaae6",
   "metadata": {
    "scrolled": true
   },
   "outputs": [
    {
     "name": "stderr",
     "output_type": "stream",
     "text": [
      "C:\\Users\\tanch\\anaconda3\\envs\\ml\\lib\\site-packages\\lightgbm\\engine.py:577: UserWarning: 'early_stopping_rounds' argument is deprecated and will be removed in a future release of LightGBM. Pass 'early_stopping()' callback via 'callbacks' argument instead.\n",
      "  _log_warning(\"'early_stopping_rounds' argument is deprecated and will be removed in a future release of LightGBM. \"\n"
     ]
    },
    {
     "name": "stdout",
     "output_type": "stream",
     "text": [
      "[LightGBM] [Info] Total Bins 82704\n",
      "[LightGBM] [Info] Number of data points in the train set: 134610, number of used features: 443\n",
      "[LightGBM] [Info] Total Bins 82704\n",
      "[LightGBM] [Info] Number of data points in the train set: 134610, number of used features: 443\n",
      "[LightGBM] [Info] Total Bins 82704\n",
      "[LightGBM] [Info] Number of data points in the train set: 134610, number of used features: 443\n",
      "[LightGBM] [Info] Start training from score -0.384681\n"
     ]
    },
    {
     "name": "stderr",
     "output_type": "stream",
     "text": [
      "C:\\Users\\tanch\\anaconda3\\envs\\ml\\lib\\site-packages\\lightgbm\\engine.py:620: UserWarning: 'verbose_eval' argument is deprecated and will be removed in a future release of LightGBM. Pass 'log_evaluation()' callback via 'callbacks' argument instead.\n",
      "  _log_warning(\"'verbose_eval' argument is deprecated and will be removed in a future release of LightGBM. \"\n"
     ]
    },
    {
     "name": "stdout",
     "output_type": "stream",
     "text": [
      "[LightGBM] [Info] Start training from score -0.399389\n",
      "[LightGBM] [Info] Start training from score -0.396838\n",
      "[10]\tcv_agg's rmse: 3.82382 + 0.0585708\n",
      "[20]\tcv_agg's rmse: 3.80132 + 0.0585615\n",
      "[30]\tcv_agg's rmse: 3.78228 + 0.058588\n",
      "[40]\tcv_agg's rmse: 3.76579 + 0.058744\n",
      "[50]\tcv_agg's rmse: 3.75181 + 0.0587151\n",
      "[60]\tcv_agg's rmse: 3.73986 + 0.0584849\n",
      "[70]\tcv_agg's rmse: 3.72977 + 0.0581794\n",
      "[80]\tcv_agg's rmse: 3.72122 + 0.0581783\n",
      "[90]\tcv_agg's rmse: 3.71382 + 0.057766\n",
      "[100]\tcv_agg's rmse: 3.70744 + 0.0575698\n",
      "[110]\tcv_agg's rmse: 3.70211 + 0.0572309\n",
      "[120]\tcv_agg's rmse: 3.69713 + 0.0571097\n",
      "[130]\tcv_agg's rmse: 3.693 + 0.0568\n",
      "[140]\tcv_agg's rmse: 3.68929 + 0.0567248\n",
      "[150]\tcv_agg's rmse: 3.68619 + 0.0564707\n",
      "[160]\tcv_agg's rmse: 3.68355 + 0.056506\n",
      "[170]\tcv_agg's rmse: 3.68105 + 0.0565231\n",
      "[180]\tcv_agg's rmse: 3.67895 + 0.0564028\n",
      "[190]\tcv_agg's rmse: 3.67708 + 0.0562731\n",
      "[200]\tcv_agg's rmse: 3.67542 + 0.0560911\n",
      "[210]\tcv_agg's rmse: 3.67399 + 0.0560956\n",
      "[220]\tcv_agg's rmse: 3.67262 + 0.0559661\n",
      "[230]\tcv_agg's rmse: 3.6715 + 0.0561242\n",
      "[240]\tcv_agg's rmse: 3.67048 + 0.0561139\n",
      "[250]\tcv_agg's rmse: 3.66945 + 0.0560037\n",
      "[260]\tcv_agg's rmse: 3.66838 + 0.0559261\n",
      "[270]\tcv_agg's rmse: 3.66766 + 0.0559135\n",
      "[280]\tcv_agg's rmse: 3.66705 + 0.0559056\n",
      "[290]\tcv_agg's rmse: 3.66635 + 0.0556575\n",
      "[300]\tcv_agg's rmse: 3.66575 + 0.055628\n",
      "[310]\tcv_agg's rmse: 3.66499 + 0.0556288\n",
      "[320]\tcv_agg's rmse: 3.66455 + 0.0555988\n",
      "[330]\tcv_agg's rmse: 3.66394 + 0.0554042\n",
      "[340]\tcv_agg's rmse: 3.66332 + 0.0554118\n",
      "[350]\tcv_agg's rmse: 3.66294 + 0.0553371\n",
      "[360]\tcv_agg's rmse: 3.66258 + 0.0553116\n",
      "[370]\tcv_agg's rmse: 3.66228 + 0.055297\n",
      "[380]\tcv_agg's rmse: 3.66192 + 0.0552911\n",
      "[390]\tcv_agg's rmse: 3.66161 + 0.0553838\n",
      "[400]\tcv_agg's rmse: 3.66127 + 0.0553483\n",
      "[410]\tcv_agg's rmse: 3.66098 + 0.0553821\n",
      "[420]\tcv_agg's rmse: 3.66076 + 0.055333\n",
      "[430]\tcv_agg's rmse: 3.66047 + 0.0553215\n",
      "[440]\tcv_agg's rmse: 3.66042 + 0.0553838\n",
      "[450]\tcv_agg's rmse: 3.66023 + 0.0553791\n",
      "[460]\tcv_agg's rmse: 3.66007 + 0.0553349\n",
      "[470]\tcv_agg's rmse: 3.66004 + 0.0553388\n",
      "[480]\tcv_agg's rmse: 3.65988 + 0.0551895\n",
      "[490]\tcv_agg's rmse: 3.65981 + 0.055203\n",
      "[500]\tcv_agg's rmse: 3.65975 + 0.0552076\n",
      "[510]\tcv_agg's rmse: 3.65966 + 0.0550777\n",
      "[520]\tcv_agg's rmse: 3.65965 + 0.0550948\n"
     ]
    }
   ],
   "source": [
    "cv = lgb.cv(\n",
    "    params = best_params, \n",
    "    train_set = train, \n",
    "    num_boost_round = 1000, \n",
    "    nfold=3, \n",
    "    metrics = [\"rmse\"],\n",
    "    stratified = False, \n",
    "    categorical_feature = \"auto\",\n",
    "    verbose_eval = 10,\n",
    "    early_stopping_rounds = 10,\n",
    "    return_cvbooster = True\n",
    ")"
   ]
  },
  {
   "cell_type": "markdown",
   "id": "1a8424c2",
   "metadata": {},
   "source": [
    "### get feature importances\n"
   ]
  },
  {
   "cell_type": "code",
   "execution_count": 15,
   "id": "39991e13",
   "metadata": {},
   "outputs": [],
   "source": [
    "from seaborn import barplot, lineplot\n",
    "from numpy import array, percentile\n",
    "from pandas import DataFrame"
   ]
  },
  {
   "cell_type": "code",
   "execution_count": 6,
   "id": "5a34d76f",
   "metadata": {},
   "outputs": [],
   "source": [
    "# path = r\"C:\\Users\\tanch\\Documents\\NTU\\NTU Year 4\\Semester 1\\CZ4041 - Machine Learning\\Team Project\\data\\lightgbm_importances.pkl\"\n",
    "# feature_importances.to_pickle(path)\n",
    "path = r\"C:\\Users\\tanch\\Documents\\NTU\\NTU Year 4\\Semester 1\\CZ4041 - Machine Learning\\Team Project\\data\\lightgbm_importances.pkl\"\n",
    "feature_importances = read_pickle(path)"
   ]
  },
  {
   "cell_type": "code",
   "execution_count": 187,
   "id": "7fc543ec",
   "metadata": {
    "scrolled": true
   },
   "outputs": [],
   "source": [
    "# feature_importances = array(cv[\"cvbooster\"].feature_importance()).mean(axis = 0)\n",
    "# feature_names = cv[\"cvbooster\"].feature_name()[0]\n",
    "# temp = DataFrame({\"Feature Importance\":feature_importances, \"Feature Name\":feature_names}).sort_values(by = \"Feature Importance\", ascending = False)\n",
    "# temp[\"rank\"] = range(len(temp)-1,-1, -1)\n",
    "# temp['percentile'] = temp[\"rank\"]/temp[\"rank\"].max()"
   ]
  },
  {
   "cell_type": "code",
   "execution_count": 33,
   "id": "f2256c01",
   "metadata": {
    "scrolled": false
   },
   "outputs": [
    {
     "data": {
      "text/plain": [
       "<AxesSubplot:xlabel='Feature Importance', ylabel='Feature Name'>"
      ]
     },
     "execution_count": 33,
     "metadata": {},
     "output_type": "execute_result"
    },
    {
     "data": {
      "image/png": "[encoded data removed]",
      "text/plain": [
       "<Figure size 640x480 with 1 Axes>"
      ]
     },
     "metadata": {},
     "output_type": "display_data"
    }
   ],
   "source": [
    "barplot(data = feature_importances.iloc[:20], x = \"Feature Importance\", y = \"Feature Name\")"
   ]
  },
  {
   "cell_type": "code",
   "execution_count": 34,
   "id": "43a8b571",
   "metadata": {},
   "outputs": [
    {
     "data": {
      "text/plain": [
       "<AxesSubplot:xlabel='Feature Importance', ylabel='Feature Name'>"
      ]
     },
     "execution_count": 34,
     "metadata": {},
     "output_type": "execute_result"
    },
    {
     "data": {
      "image/png": "[encoded data removed]",
      "text/plain": [
       "<Figure size 640x480 with 1 Axes>"
      ]
     },
     "metadata": {},
     "output_type": "display_data"
    }
   ],
   "source": [
    "barplot(data = feature_importances.iloc[-20:], x = \"Feature Importance\", y = \"Feature Name\")"
   ]
  },
  {
   "cell_type": "code",
   "execution_count": 36,
   "id": "e84474be",
   "metadata": {
    "scrolled": true
   },
   "outputs": [
    {
     "data": {
      "text/plain": [
       "0.6135767790262173"
      ]
     },
     "execution_count": 36,
     "metadata": {},
     "output_type": "execute_result"
    }
   ],
   "source": [
    "# feature importance percentile of embedding features\n",
    "feature_importances[feature_importances[\"Feature Name\"].apply(lambda name: \"embedding\" in name)][\"percentile\"].mean()"
   ]
  },
  {
   "cell_type": "code",
   "execution_count": 6,
   "id": "54e0b600",
   "metadata": {},
   "outputs": [
    {
     "data": {
      "text/plain": [
       "0.6185767790262173"
      ]
     },
     "execution_count": 6,
     "metadata": {},
     "output_type": "execute_result"
    }
   ],
   "source": [
    "# feature importance percentile of embedding similarity features\n",
    "feature_importances[feature_importances[\"Feature Name\"].apply(lambda name: \"similarity\" in name)][\"percentile\"].mean()"
   ]
  },
  {
   "cell_type": "markdown",
   "id": "ce4c65f7",
   "metadata": {},
   "source": [
    "### backward elimination"
   ]
  },
  {
   "cell_type": "code",
   "execution_count": 1,
   "id": "61564280",
   "metadata": {},
   "outputs": [],
   "source": [
    "from pandas import read_pickle\n",
    "import lightgbm as lgb"
   ]
  },
  {
   "cell_type": "code",
   "execution_count": 7,
   "id": "569ab6df",
   "metadata": {},
   "outputs": [],
   "source": [
    "BE_results = []"
   ]
  },
  {
   "cell_type": "code",
   "execution_count": 11,
   "id": "5ff93e70",
   "metadata": {
    "scrolled": true
   },
   "outputs": [
    {
     "name": "stderr",
     "output_type": "stream",
     "text": [
      "C:\\Users\\tanch\\anaconda3\\envs\\ml\\lib\\site-packages\\lightgbm\\engine.py:577: UserWarning: 'early_stopping_rounds' argument is deprecated and will be removed in a future release of LightGBM. Pass 'early_stopping()' callback via 'callbacks' argument instead.\n",
      "  _log_warning(\"'early_stopping_rounds' argument is deprecated and will be removed in a future release of LightGBM. \"\n"
     ]
    },
    {
     "name": "stdout",
     "output_type": "stream",
     "text": [
      "[LightGBM] [Info] Total Bins 81429\n",
      "[LightGBM] [Info] Number of data points in the train set: 161532, number of used features: 438\n",
      "[LightGBM] [Info] Total Bins 81429\n",
      "[LightGBM] [Info] Number of data points in the train set: 161532, number of used features: 438\n",
      "[LightGBM] [Info] Total Bins 81429\n",
      "[LightGBM] [Info] Number of data points in the train set: 161532, number of used features: 438\n",
      "[LightGBM] [Info] Total Bins 81429\n",
      "[LightGBM] [Info] Number of data points in the train set: 161532, number of used features: 438\n",
      "[LightGBM] [Info] Total Bins 81429\n",
      "[LightGBM] [Info] Number of data points in the train set: 161532, number of used features: 438\n",
      "[LightGBM] [Info] Start training from score -0.387307\n",
      "[LightGBM] [Info] Start training from score -0.394715\n"
     ]
    },
    {
     "name": "stderr",
     "output_type": "stream",
     "text": [
      "C:\\Users\\tanch\\anaconda3\\envs\\ml\\lib\\site-packages\\lightgbm\\engine.py:620: UserWarning: 'verbose_eval' argument is deprecated and will be removed in a future release of LightGBM. Pass 'log_evaluation()' callback via 'callbacks' argument instead.\n",
      "  _log_warning(\"'verbose_eval' argument is deprecated and will be removed in a future release of LightGBM. \"\n"
     ]
    },
    {
     "name": "stdout",
     "output_type": "stream",
     "text": [
      "[LightGBM] [Info] Start training from score -0.396989\n",
      "[LightGBM] [Info] Start training from score -0.400525\n",
      "[LightGBM] [Info] Start training from score -0.388645\n",
      "[10]\tcv_agg's rmse: 3.82255 + 0.070164\n",
      "[20]\tcv_agg's rmse: 3.79994 + 0.070288\n",
      "[30]\tcv_agg's rmse: 3.78075 + 0.0700187\n",
      "[40]\tcv_agg's rmse: 3.76428 + 0.0697281\n",
      "[50]\tcv_agg's rmse: 3.75024 + 0.0696638\n",
      "[60]\tcv_agg's rmse: 3.73863 + 0.0697181\n",
      "[70]\tcv_agg's rmse: 3.72841 + 0.069884\n",
      "[80]\tcv_agg's rmse: 3.72008 + 0.0698152\n",
      "[90]\tcv_agg's rmse: 3.71271 + 0.0697166\n",
      "[100]\tcv_agg's rmse: 3.70621 + 0.069602\n",
      "[110]\tcv_agg's rmse: 3.70039 + 0.0697897\n",
      "[120]\tcv_agg's rmse: 3.69569 + 0.0695674\n",
      "[130]\tcv_agg's rmse: 3.69143 + 0.0694324\n",
      "[140]\tcv_agg's rmse: 3.68795 + 0.0693524\n",
      "[150]\tcv_agg's rmse: 3.68489 + 0.0693902\n",
      "[160]\tcv_agg's rmse: 3.6823 + 0.0694168\n",
      "[170]\tcv_agg's rmse: 3.6799 + 0.0691723\n",
      "[180]\tcv_agg's rmse: 3.67771 + 0.0691296\n",
      "[190]\tcv_agg's rmse: 3.67581 + 0.0691372\n",
      "[200]\tcv_agg's rmse: 3.67428 + 0.06919\n",
      "[210]\tcv_agg's rmse: 3.67272 + 0.0690612\n",
      "[220]\tcv_agg's rmse: 3.67143 + 0.0690856\n",
      "[230]\tcv_agg's rmse: 3.67019 + 0.0689598\n",
      "[240]\tcv_agg's rmse: 3.6689 + 0.0688857\n",
      "[250]\tcv_agg's rmse: 3.66795 + 0.0689783\n",
      "[260]\tcv_agg's rmse: 3.66717 + 0.0688897\n",
      "[270]\tcv_agg's rmse: 3.66651 + 0.0689679\n",
      "[280]\tcv_agg's rmse: 3.66582 + 0.0689723\n",
      "[290]\tcv_agg's rmse: 3.66509 + 0.0690164\n",
      "[300]\tcv_agg's rmse: 3.66448 + 0.0690443\n",
      "[310]\tcv_agg's rmse: 3.66388 + 0.0689466\n",
      "[320]\tcv_agg's rmse: 3.66334 + 0.0688896\n",
      "[330]\tcv_agg's rmse: 3.66291 + 0.0688722\n",
      "[340]\tcv_agg's rmse: 3.66246 + 0.0688625\n",
      "[350]\tcv_agg's rmse: 3.66204 + 0.068882\n",
      "[360]\tcv_agg's rmse: 3.66175 + 0.068715\n",
      "[370]\tcv_agg's rmse: 3.66146 + 0.0687243\n",
      "[380]\tcv_agg's rmse: 3.66131 + 0.0686272\n",
      "[390]\tcv_agg's rmse: 3.66103 + 0.0686399\n",
      "[400]\tcv_agg's rmse: 3.66074 + 0.068573\n",
      "[410]\tcv_agg's rmse: 3.66057 + 0.0685904\n",
      "[420]\tcv_agg's rmse: 3.66041 + 0.06855\n",
      "[430]\tcv_agg's rmse: 3.66026 + 0.0685272\n",
      "[440]\tcv_agg's rmse: 3.66003 + 0.0684894\n",
      "[450]\tcv_agg's rmse: 3.6599 + 0.0684998\n",
      "[460]\tcv_agg's rmse: 3.65979 + 0.0685947\n",
      "[470]\tcv_agg's rmse: 3.65966 + 0.0684975\n",
      "[480]\tcv_agg's rmse: 3.65954 + 0.0684958\n",
      "[490]\tcv_agg's rmse: 3.65944 + 0.0685195\n",
      "[500]\tcv_agg's rmse: 3.65937 + 0.0684574\n",
      "[3.659312528156499]\n"
     ]
    },
    {
     "name": "stderr",
     "output_type": "stream",
     "text": [
      "C:\\Users\\tanch\\anaconda3\\envs\\ml\\lib\\site-packages\\lightgbm\\engine.py:577: UserWarning: 'early_stopping_rounds' argument is deprecated and will be removed in a future release of LightGBM. Pass 'early_stopping()' callback via 'callbacks' argument instead.\n",
      "  _log_warning(\"'early_stopping_rounds' argument is deprecated and will be removed in a future release of LightGBM. \"\n"
     ]
    },
    {
     "name": "stdout",
     "output_type": "stream",
     "text": [
      "[LightGBM] [Info] Total Bins 81427\n",
      "[LightGBM] [Info] Number of data points in the train set: 161532, number of used features: 437\n",
      "[LightGBM] [Info] Total Bins 81427\n",
      "[LightGBM] [Info] Number of data points in the train set: 161532, number of used features: 437\n",
      "[LightGBM] [Info] Total Bins 81427\n",
      "[LightGBM] [Info] Number of data points in the train set: 161532, number of used features: 437\n",
      "[LightGBM] [Info] Total Bins 81427\n",
      "[LightGBM] [Info] Number of data points in the train set: 161532, number of used features: 437\n",
      "[LightGBM] [Info] Total Bins 81427\n",
      "[LightGBM] [Info] Number of data points in the train set: 161532, number of used features: 437\n",
      "[LightGBM] [Info] Start training from score -0.387307\n"
     ]
    },
    {
     "name": "stderr",
     "output_type": "stream",
     "text": [
      "C:\\Users\\tanch\\anaconda3\\envs\\ml\\lib\\site-packages\\lightgbm\\engine.py:620: UserWarning: 'verbose_eval' argument is deprecated and will be removed in a future release of LightGBM. Pass 'log_evaluation()' callback via 'callbacks' argument instead.\n",
      "  _log_warning(\"'verbose_eval' argument is deprecated and will be removed in a future release of LightGBM. \"\n"
     ]
    },
    {
     "name": "stdout",
     "output_type": "stream",
     "text": [
      "[LightGBM] [Info] Start training from score -0.394715\n",
      "[LightGBM] [Info] Start training from score -0.396989\n",
      "[LightGBM] [Info] Start training from score -0.400525\n",
      "[LightGBM] [Info] Start training from score -0.388645\n",
      "[10]\tcv_agg's rmse: 3.82312 + 0.0702493\n",
      "[20]\tcv_agg's rmse: 3.8004 + 0.0704103\n",
      "[30]\tcv_agg's rmse: 3.78122 + 0.0704436\n",
      "[40]\tcv_agg's rmse: 3.7644 + 0.0701304\n",
      "[50]\tcv_agg's rmse: 3.75036 + 0.0700285\n",
      "[60]\tcv_agg's rmse: 3.73859 + 0.0701925\n",
      "[70]\tcv_agg's rmse: 3.72851 + 0.0702284\n",
      "[80]\tcv_agg's rmse: 3.71976 + 0.0702423\n",
      "[90]\tcv_agg's rmse: 3.71243 + 0.0701634\n",
      "[100]\tcv_agg's rmse: 3.70583 + 0.0700367\n",
      "[110]\tcv_agg's rmse: 3.70051 + 0.0699965\n",
      "[120]\tcv_agg's rmse: 3.69588 + 0.069947\n",
      "[130]\tcv_agg's rmse: 3.69163 + 0.0698787\n",
      "[140]\tcv_agg's rmse: 3.68782 + 0.0696953\n",
      "[150]\tcv_agg's rmse: 3.68475 + 0.0696374\n",
      "[160]\tcv_agg's rmse: 3.68224 + 0.0696153\n",
      "[170]\tcv_agg's rmse: 3.67991 + 0.0694017\n",
      "[180]\tcv_agg's rmse: 3.67778 + 0.0693732\n",
      "[190]\tcv_agg's rmse: 3.67602 + 0.0693106\n",
      "[200]\tcv_agg's rmse: 3.67446 + 0.0693565\n",
      "[210]\tcv_agg's rmse: 3.67289 + 0.0694412\n",
      "[220]\tcv_agg's rmse: 3.67164 + 0.0694991\n",
      "[230]\tcv_agg's rmse: 3.67045 + 0.0694208\n",
      "[240]\tcv_agg's rmse: 3.6693 + 0.069433\n",
      "[250]\tcv_agg's rmse: 3.66822 + 0.0695122\n",
      "[260]\tcv_agg's rmse: 3.66734 + 0.069528\n",
      "[270]\tcv_agg's rmse: 3.66658 + 0.0695406\n",
      "[280]\tcv_agg's rmse: 3.66593 + 0.0695595\n",
      "[290]\tcv_agg's rmse: 3.66531 + 0.0695442\n",
      "[300]\tcv_agg's rmse: 3.66473 + 0.0695262\n",
      "[310]\tcv_agg's rmse: 3.66411 + 0.0695031\n",
      "[320]\tcv_agg's rmse: 3.66344 + 0.0693971\n",
      "[330]\tcv_agg's rmse: 3.66299 + 0.06939\n",
      "[340]\tcv_agg's rmse: 3.66239 + 0.0694533\n",
      "[350]\tcv_agg's rmse: 3.66202 + 0.069369\n",
      "[360]\tcv_agg's rmse: 3.6617 + 0.0692335\n",
      "[370]\tcv_agg's rmse: 3.66139 + 0.0692789\n",
      "[380]\tcv_agg's rmse: 3.66122 + 0.0690877\n",
      "[390]\tcv_agg's rmse: 3.66094 + 0.069073\n",
      "[400]\tcv_agg's rmse: 3.66081 + 0.0690431\n",
      "[410]\tcv_agg's rmse: 3.66066 + 0.0691167\n",
      "[420]\tcv_agg's rmse: 3.66045 + 0.0691487\n",
      "[430]\tcv_agg's rmse: 3.6602 + 0.0691752\n",
      "[440]\tcv_agg's rmse: 3.65996 + 0.069155\n",
      "[450]\tcv_agg's rmse: 3.65975 + 0.0691205\n",
      "[460]\tcv_agg's rmse: 3.65963 + 0.0690683\n",
      "[470]\tcv_agg's rmse: 3.65946 + 0.0691796\n",
      "[480]\tcv_agg's rmse: 3.65935 + 0.0691761\n",
      "[490]\tcv_agg's rmse: 3.6594 + 0.0691497\n",
      "[3.659312528156499, 3.6593143714040357]\n"
     ]
    },
    {
     "name": "stderr",
     "output_type": "stream",
     "text": [
      "C:\\Users\\tanch\\anaconda3\\envs\\ml\\lib\\site-packages\\lightgbm\\engine.py:577: UserWarning: 'early_stopping_rounds' argument is deprecated and will be removed in a future release of LightGBM. Pass 'early_stopping()' callback via 'callbacks' argument instead.\n",
      "  _log_warning(\"'early_stopping_rounds' argument is deprecated and will be removed in a future release of LightGBM. \"\n"
     ]
    },
    {
     "name": "stdout",
     "output_type": "stream",
     "text": [
      "[LightGBM] [Info] Total Bins 81345\n",
      "[LightGBM] [Info] Number of data points in the train set: 161532, number of used features: 436\n",
      "[LightGBM] [Info] Total Bins 81345\n",
      "[LightGBM] [Info] Number of data points in the train set: 161532, number of used features: 436\n",
      "[LightGBM] [Info] Total Bins 81345\n",
      "[LightGBM] [Info] Number of data points in the train set: 161532, number of used features: 436\n",
      "[LightGBM] [Info] Total Bins 81345\n",
      "[LightGBM] [Info] Number of data points in the train set: 161532, number of used features: 436\n",
      "[LightGBM] [Info] Total Bins 81345\n",
      "[LightGBM] [Info] Number of data points in the train set: 161532, number of used features: 436\n",
      "[LightGBM] [Info] Start training from score -0.387307\n"
     ]
    },
    {
     "name": "stderr",
     "output_type": "stream",
     "text": [
      "C:\\Users\\tanch\\anaconda3\\envs\\ml\\lib\\site-packages\\lightgbm\\engine.py:620: UserWarning: 'verbose_eval' argument is deprecated and will be removed in a future release of LightGBM. Pass 'log_evaluation()' callback via 'callbacks' argument instead.\n",
      "  _log_warning(\"'verbose_eval' argument is deprecated and will be removed in a future release of LightGBM. \"\n"
     ]
    },
    {
     "name": "stdout",
     "output_type": "stream",
     "text": [
      "[LightGBM] [Info] Start training from score -0.394715\n",
      "[LightGBM] [Info] Start training from score -0.396989\n",
      "[LightGBM] [Info] Start training from score -0.400525\n",
      "[LightGBM] [Info] Start training from score -0.388645\n",
      "[10]\tcv_agg's rmse: 3.82332 + 0.0703262\n",
      "[20]\tcv_agg's rmse: 3.80041 + 0.0703517\n",
      "[30]\tcv_agg's rmse: 3.78108 + 0.0704362\n",
      "[40]\tcv_agg's rmse: 3.76441 + 0.0702691\n",
      "[50]\tcv_agg's rmse: 3.75037 + 0.0702387\n",
      "[60]\tcv_agg's rmse: 3.73868 + 0.0703791\n",
      "[70]\tcv_agg's rmse: 3.72865 + 0.0705272\n",
      "[80]\tcv_agg's rmse: 3.71978 + 0.0705591\n",
      "[90]\tcv_agg's rmse: 3.71253 + 0.0704942\n",
      "[100]\tcv_agg's rmse: 3.70604 + 0.0703713\n",
      "[110]\tcv_agg's rmse: 3.7002 + 0.0705599\n",
      "[120]\tcv_agg's rmse: 3.69537 + 0.0704685\n",
      "[130]\tcv_agg's rmse: 3.69135 + 0.0704379\n",
      "[140]\tcv_agg's rmse: 3.68765 + 0.0702345\n",
      "[150]\tcv_agg's rmse: 3.68452 + 0.0702061\n",
      "[160]\tcv_agg's rmse: 3.68196 + 0.0700895\n",
      "[170]\tcv_agg's rmse: 3.67949 + 0.0698399\n",
      "[180]\tcv_agg's rmse: 3.67729 + 0.0699677\n",
      "[190]\tcv_agg's rmse: 3.67535 + 0.0698466\n",
      "[200]\tcv_agg's rmse: 3.67368 + 0.0697623\n",
      "[210]\tcv_agg's rmse: 3.67222 + 0.0696955\n",
      "[220]\tcv_agg's rmse: 3.67108 + 0.0697261\n",
      "[230]\tcv_agg's rmse: 3.66978 + 0.06954\n",
      "[240]\tcv_agg's rmse: 3.66859 + 0.0695015\n",
      "[250]\tcv_agg's rmse: 3.66756 + 0.0695066\n",
      "[260]\tcv_agg's rmse: 3.66685 + 0.0695298\n",
      "[270]\tcv_agg's rmse: 3.66606 + 0.0694841\n",
      "[280]\tcv_agg's rmse: 3.66547 + 0.0695371\n",
      "[290]\tcv_agg's rmse: 3.66483 + 0.0695495\n",
      "[300]\tcv_agg's rmse: 3.66436 + 0.069608\n",
      "[310]\tcv_agg's rmse: 3.66389 + 0.0696238\n",
      "[320]\tcv_agg's rmse: 3.66346 + 0.0696818\n",
      "[330]\tcv_agg's rmse: 3.66293 + 0.0696812\n",
      "[340]\tcv_agg's rmse: 3.66252 + 0.0697068\n",
      "[350]\tcv_agg's rmse: 3.66211 + 0.0697783\n",
      "[360]\tcv_agg's rmse: 3.66178 + 0.069686\n",
      "[370]\tcv_agg's rmse: 3.66158 + 0.0696705\n",
      "[380]\tcv_agg's rmse: 3.66131 + 0.0697725\n",
      "[390]\tcv_agg's rmse: 3.66094 + 0.0698122\n",
      "[400]\tcv_agg's rmse: 3.66079 + 0.0698328\n",
      "[410]\tcv_agg's rmse: 3.66056 + 0.0698249\n",
      "[420]\tcv_agg's rmse: 3.66037 + 0.0697617\n",
      "[430]\tcv_agg's rmse: 3.66019 + 0.0697116\n",
      "[440]\tcv_agg's rmse: 3.65992 + 0.0696489\n",
      "[450]\tcv_agg's rmse: 3.65977 + 0.0695457\n",
      "[460]\tcv_agg's rmse: 3.65965 + 0.0695617\n",
      "[470]\tcv_agg's rmse: 3.65949 + 0.0694919\n",
      "[480]\tcv_agg's rmse: 3.65938 + 0.0695743\n",
      "[3.659312528156499, 3.6593143714040357, 3.6593731629323663]\n"
     ]
    },
    {
     "name": "stderr",
     "output_type": "stream",
     "text": [
      "C:\\Users\\tanch\\anaconda3\\envs\\ml\\lib\\site-packages\\lightgbm\\engine.py:577: UserWarning: 'early_stopping_rounds' argument is deprecated and will be removed in a future release of LightGBM. Pass 'early_stopping()' callback via 'callbacks' argument instead.\n",
      "  _log_warning(\"'early_stopping_rounds' argument is deprecated and will be removed in a future release of LightGBM. \"\n"
     ]
    },
    {
     "name": "stdout",
     "output_type": "stream",
     "text": [
      "[LightGBM] [Info] Total Bins 81341\n",
      "[LightGBM] [Info] Number of data points in the train set: 161532, number of used features: 435\n",
      "[LightGBM] [Info] Total Bins 81341\n",
      "[LightGBM] [Info] Number of data points in the train set: 161532, number of used features: 435\n",
      "[LightGBM] [Info] Total Bins 81341\n",
      "[LightGBM] [Info] Number of data points in the train set: 161532, number of used features: 435\n",
      "[LightGBM] [Info] Total Bins 81341\n",
      "[LightGBM] [Info] Number of data points in the train set: 161532, number of used features: 435\n",
      "[LightGBM] [Info] Total Bins 81341\n",
      "[LightGBM] [Info] Number of data points in the train set: 161532, number of used features: 435\n",
      "[LightGBM] [Info] Start training from score -0.387307\n"
     ]
    },
    {
     "name": "stderr",
     "output_type": "stream",
     "text": [
      "C:\\Users\\tanch\\anaconda3\\envs\\ml\\lib\\site-packages\\lightgbm\\engine.py:620: UserWarning: 'verbose_eval' argument is deprecated and will be removed in a future release of LightGBM. Pass 'log_evaluation()' callback via 'callbacks' argument instead.\n",
      "  _log_warning(\"'verbose_eval' argument is deprecated and will be removed in a future release of LightGBM. \"\n"
     ]
    },
    {
     "name": "stdout",
     "output_type": "stream",
     "text": [
      "[LightGBM] [Info] Start training from score -0.394715\n",
      "[LightGBM] [Info] Start training from score -0.396989\n",
      "[LightGBM] [Info] Start training from score -0.400525\n",
      "[LightGBM] [Info] Start training from score -0.388645\n",
      "[10]\tcv_agg's rmse: 3.82286 + 0.0702382\n",
      "[20]\tcv_agg's rmse: 3.80011 + 0.0704539\n",
      "[30]\tcv_agg's rmse: 3.78096 + 0.0705473\n",
      "[40]\tcv_agg's rmse: 3.7644 + 0.07021\n",
      "[50]\tcv_agg's rmse: 3.75047 + 0.0702952\n",
      "[60]\tcv_agg's rmse: 3.73881 + 0.0704542\n",
      "[70]\tcv_agg's rmse: 3.72882 + 0.0703292\n",
      "[80]\tcv_agg's rmse: 3.72033 + 0.0702626\n",
      "[90]\tcv_agg's rmse: 3.71288 + 0.0701645\n",
      "[100]\tcv_agg's rmse: 3.70641 + 0.0699337\n",
      "[110]\tcv_agg's rmse: 3.70102 + 0.0700849\n",
      "[120]\tcv_agg's rmse: 3.69627 + 0.0700236\n",
      "[130]\tcv_agg's rmse: 3.692 + 0.0698232\n",
      "[140]\tcv_agg's rmse: 3.68835 + 0.0698325\n",
      "[150]\tcv_agg's rmse: 3.68522 + 0.0697408\n",
      "[160]\tcv_agg's rmse: 3.68251 + 0.0697895\n",
      "[170]\tcv_agg's rmse: 3.68005 + 0.0695748\n",
      "[180]\tcv_agg's rmse: 3.67775 + 0.0695936\n",
      "[190]\tcv_agg's rmse: 3.67581 + 0.0695758\n",
      "[200]\tcv_agg's rmse: 3.67423 + 0.0695272\n",
      "[210]\tcv_agg's rmse: 3.67283 + 0.0695091\n",
      "[220]\tcv_agg's rmse: 3.67142 + 0.0694853\n",
      "[230]\tcv_agg's rmse: 3.67018 + 0.0694322\n",
      "[240]\tcv_agg's rmse: 3.66887 + 0.069357\n",
      "[250]\tcv_agg's rmse: 3.66802 + 0.069218\n",
      "[260]\tcv_agg's rmse: 3.66722 + 0.0691924\n",
      "[270]\tcv_agg's rmse: 3.66646 + 0.0691962\n",
      "[280]\tcv_agg's rmse: 3.66574 + 0.0691234\n",
      "[290]\tcv_agg's rmse: 3.66503 + 0.0691848\n",
      "[300]\tcv_agg's rmse: 3.66456 + 0.0691111\n",
      "[310]\tcv_agg's rmse: 3.66399 + 0.0691349\n",
      "[320]\tcv_agg's rmse: 3.6634 + 0.0689842\n",
      "[330]\tcv_agg's rmse: 3.66293 + 0.0689073\n",
      "[340]\tcv_agg's rmse: 3.66254 + 0.0688687\n",
      "[350]\tcv_agg's rmse: 3.66221 + 0.0688372\n",
      "[360]\tcv_agg's rmse: 3.66184 + 0.068812\n",
      "[370]\tcv_agg's rmse: 3.66158 + 0.0688874\n",
      "[380]\tcv_agg's rmse: 3.66131 + 0.0688172\n",
      "[390]\tcv_agg's rmse: 3.66108 + 0.0688412\n",
      "[400]\tcv_agg's rmse: 3.66085 + 0.0688589\n",
      "[410]\tcv_agg's rmse: 3.66064 + 0.0689074\n",
      "[420]\tcv_agg's rmse: 3.66048 + 0.0689273\n",
      "[430]\tcv_agg's rmse: 3.66026 + 0.0690054\n",
      "[440]\tcv_agg's rmse: 3.65998 + 0.0690297\n",
      "[450]\tcv_agg's rmse: 3.65986 + 0.0689538\n",
      "[460]\tcv_agg's rmse: 3.65964 + 0.0689569\n",
      "[470]\tcv_agg's rmse: 3.65945 + 0.0689227\n",
      "[480]\tcv_agg's rmse: 3.65936 + 0.0689787\n",
      "[490]\tcv_agg's rmse: 3.65944 + 0.0690027\n",
      "[3.659312528156499, 3.6593143714040357, 3.6593731629323663, 3.6593213315855686]\n"
     ]
    },
    {
     "name": "stderr",
     "output_type": "stream",
     "text": [
      "C:\\Users\\tanch\\anaconda3\\envs\\ml\\lib\\site-packages\\lightgbm\\engine.py:577: UserWarning: 'early_stopping_rounds' argument is deprecated and will be removed in a future release of LightGBM. Pass 'early_stopping()' callback via 'callbacks' argument instead.\n",
      "  _log_warning(\"'early_stopping_rounds' argument is deprecated and will be removed in a future release of LightGBM. \"\n"
     ]
    },
    {
     "name": "stdout",
     "output_type": "stream",
     "text": [
      "[LightGBM] [Info] Total Bins 81335\n",
      "[LightGBM] [Info] Number of data points in the train set: 161532, number of used features: 434\n",
      "[LightGBM] [Info] Total Bins 81335\n",
      "[LightGBM] [Info] Number of data points in the train set: 161532, number of used features: 434\n",
      "[LightGBM] [Info] Total Bins 81335\n",
      "[LightGBM] [Info] Number of data points in the train set: 161532, number of used features: 434\n",
      "[LightGBM] [Info] Total Bins 81335\n",
      "[LightGBM] [Info] Number of data points in the train set: 161532, number of used features: 434\n",
      "[LightGBM] [Info] Total Bins 81335\n",
      "[LightGBM] [Info] Number of data points in the train set: 161532, number of used features: 434\n",
      "[LightGBM] [Info] Start training from score -0.387307\n"
     ]
    },
    {
     "name": "stderr",
     "output_type": "stream",
     "text": [
      "C:\\Users\\tanch\\anaconda3\\envs\\ml\\lib\\site-packages\\lightgbm\\engine.py:620: UserWarning: 'verbose_eval' argument is deprecated and will be removed in a future release of LightGBM. Pass 'log_evaluation()' callback via 'callbacks' argument instead.\n",
      "  _log_warning(\"'verbose_eval' argument is deprecated and will be removed in a future release of LightGBM. \"\n"
     ]
    },
    {
     "name": "stdout",
     "output_type": "stream",
     "text": [
      "[LightGBM] [Info] Start training from score -0.394715\n",
      "[LightGBM] [Info] Start training from score -0.396989\n",
      "[LightGBM] [Info] Start training from score -0.400525\n",
      "[LightGBM] [Info] Start training from score -0.388645\n",
      "[10]\tcv_agg's rmse: 3.82285 + 0.0702478\n",
      "[20]\tcv_agg's rmse: 3.80011 + 0.0703418\n",
      "[30]\tcv_agg's rmse: 3.7811 + 0.070345\n",
      "[40]\tcv_agg's rmse: 3.76449 + 0.0700841\n",
      "[50]\tcv_agg's rmse: 3.75047 + 0.0701447\n",
      "[60]\tcv_agg's rmse: 3.7389 + 0.0702482\n",
      "[70]\tcv_agg's rmse: 3.72877 + 0.0703426\n",
      "[80]\tcv_agg's rmse: 3.72015 + 0.0703332\n",
      "[90]\tcv_agg's rmse: 3.71262 + 0.0703118\n",
      "[100]\tcv_agg's rmse: 3.70604 + 0.0702161\n",
      "[110]\tcv_agg's rmse: 3.70034 + 0.0702834\n",
      "[120]\tcv_agg's rmse: 3.69573 + 0.0701702\n",
      "[130]\tcv_agg's rmse: 3.69171 + 0.0701688\n",
      "[140]\tcv_agg's rmse: 3.68807 + 0.0700446\n",
      "[150]\tcv_agg's rmse: 3.68509 + 0.0700487\n",
      "[160]\tcv_agg's rmse: 3.68248 + 0.0700136\n",
      "[170]\tcv_agg's rmse: 3.67996 + 0.0698985\n",
      "[180]\tcv_agg's rmse: 3.67768 + 0.0698841\n",
      "[190]\tcv_agg's rmse: 3.67582 + 0.0697895\n",
      "[200]\tcv_agg's rmse: 3.67418 + 0.0697376\n",
      "[210]\tcv_agg's rmse: 3.67277 + 0.0697107\n",
      "[220]\tcv_agg's rmse: 3.67128 + 0.0697117\n",
      "[230]\tcv_agg's rmse: 3.67011 + 0.069561\n",
      "[240]\tcv_agg's rmse: 3.66878 + 0.0694241\n",
      "[250]\tcv_agg's rmse: 3.66776 + 0.0694418\n",
      "[260]\tcv_agg's rmse: 3.66698 + 0.0694477\n",
      "[270]\tcv_agg's rmse: 3.6662 + 0.0694169\n",
      "[280]\tcv_agg's rmse: 3.66551 + 0.0693237\n",
      "[290]\tcv_agg's rmse: 3.66469 + 0.0693842\n",
      "[300]\tcv_agg's rmse: 3.6641 + 0.069448\n",
      "[310]\tcv_agg's rmse: 3.66346 + 0.0693667\n",
      "[320]\tcv_agg's rmse: 3.66293 + 0.0693552\n",
      "[330]\tcv_agg's rmse: 3.66236 + 0.0693025\n",
      "[340]\tcv_agg's rmse: 3.66189 + 0.0693355\n",
      "[350]\tcv_agg's rmse: 3.66153 + 0.0693152\n",
      "[360]\tcv_agg's rmse: 3.66117 + 0.0692277\n",
      "[370]\tcv_agg's rmse: 3.66091 + 0.0692376\n",
      "[380]\tcv_agg's rmse: 3.66071 + 0.0691465\n",
      "[390]\tcv_agg's rmse: 3.66046 + 0.0691455\n",
      "[400]\tcv_agg's rmse: 3.6603 + 0.0691204\n",
      "[410]\tcv_agg's rmse: 3.66007 + 0.0690993\n",
      "[420]\tcv_agg's rmse: 3.6599 + 0.0690402\n",
      "[430]\tcv_agg's rmse: 3.65976 + 0.0690376\n",
      "[440]\tcv_agg's rmse: 3.65959 + 0.0689728\n",
      "[450]\tcv_agg's rmse: 3.65949 + 0.0689132\n",
      "[460]\tcv_agg's rmse: 3.65934 + 0.0688924\n",
      "[470]\tcv_agg's rmse: 3.65922 + 0.0687581\n",
      "[480]\tcv_agg's rmse: 3.6592 + 0.0687499\n",
      "[490]\tcv_agg's rmse: 3.65913 + 0.0687549\n",
      "[500]\tcv_agg's rmse: 3.6591 + 0.0686682\n",
      "[3.659312528156499, 3.6593143714040357, 3.6593731629323663, 3.6593213315855686, 3.6590754972585544]\n"
     ]
    },
    {
     "name": "stderr",
     "output_type": "stream",
     "text": [
      "C:\\Users\\tanch\\anaconda3\\envs\\ml\\lib\\site-packages\\lightgbm\\engine.py:577: UserWarning: 'early_stopping_rounds' argument is deprecated and will be removed in a future release of LightGBM. Pass 'early_stopping()' callback via 'callbacks' argument instead.\n",
      "  _log_warning(\"'early_stopping_rounds' argument is deprecated and will be removed in a future release of LightGBM. \"\n"
     ]
    },
    {
     "name": "stdout",
     "output_type": "stream",
     "text": [
      "[LightGBM] [Info] Total Bins 81331\n",
      "[LightGBM] [Info] Number of data points in the train set: 161532, number of used features: 433\n",
      "[LightGBM] [Info] Total Bins 81331\n",
      "[LightGBM] [Info] Number of data points in the train set: 161532, number of used features: 433\n",
      "[LightGBM] [Info] Total Bins 81331\n",
      "[LightGBM] [Info] Number of data points in the train set: 161532, number of used features: 433\n",
      "[LightGBM] [Info] Total Bins 81331\n",
      "[LightGBM] [Info] Number of data points in the train set: 161532, number of used features: 433\n",
      "[LightGBM] [Info] Total Bins 81331\n",
      "[LightGBM] [Info] Number of data points in the train set: 161532, number of used features: 433\n",
      "[LightGBM] [Info] Start training from score -0.387307\n"
     ]
    },
    {
     "name": "stderr",
     "output_type": "stream",
     "text": [
      "C:\\Users\\tanch\\anaconda3\\envs\\ml\\lib\\site-packages\\lightgbm\\engine.py:620: UserWarning: 'verbose_eval' argument is deprecated and will be removed in a future release of LightGBM. Pass 'log_evaluation()' callback via 'callbacks' argument instead.\n",
      "  _log_warning(\"'verbose_eval' argument is deprecated and will be removed in a future release of LightGBM. \"\n"
     ]
    },
    {
     "name": "stdout",
     "output_type": "stream",
     "text": [
      "[LightGBM] [Info] Start training from score -0.394715\n",
      "[LightGBM] [Info] Start training from score -0.396989\n",
      "[LightGBM] [Info] Start training from score -0.400525\n",
      "[LightGBM] [Info] Start training from score -0.388645\n",
      "[10]\tcv_agg's rmse: 3.82331 + 0.070385\n",
      "[20]\tcv_agg's rmse: 3.80066 + 0.0706167\n",
      "[30]\tcv_agg's rmse: 3.78108 + 0.0705682\n",
      "[40]\tcv_agg's rmse: 3.76454 + 0.0703269\n",
      "[50]\tcv_agg's rmse: 3.75062 + 0.0705028\n",
      "[60]\tcv_agg's rmse: 3.73859 + 0.0704778\n",
      "[70]\tcv_agg's rmse: 3.72844 + 0.0704963\n",
      "[80]\tcv_agg's rmse: 3.7199 + 0.070458\n",
      "[90]\tcv_agg's rmse: 3.71245 + 0.0704489\n",
      "[100]\tcv_agg's rmse: 3.70583 + 0.0703838\n",
      "[110]\tcv_agg's rmse: 3.70017 + 0.0704956\n",
      "[120]\tcv_agg's rmse: 3.69555 + 0.0703819\n",
      "[130]\tcv_agg's rmse: 3.69153 + 0.0701596\n",
      "[140]\tcv_agg's rmse: 3.68787 + 0.0699996\n",
      "[150]\tcv_agg's rmse: 3.68472 + 0.0697652\n",
      "[160]\tcv_agg's rmse: 3.68196 + 0.069717\n",
      "[170]\tcv_agg's rmse: 3.67967 + 0.0696227\n",
      "[180]\tcv_agg's rmse: 3.67738 + 0.0695577\n",
      "[190]\tcv_agg's rmse: 3.67543 + 0.0695147\n",
      "[200]\tcv_agg's rmse: 3.67389 + 0.0693825\n",
      "[210]\tcv_agg's rmse: 3.67244 + 0.0693358\n",
      "[220]\tcv_agg's rmse: 3.67118 + 0.0693078\n",
      "[230]\tcv_agg's rmse: 3.6698 + 0.0692037\n",
      "[240]\tcv_agg's rmse: 3.66845 + 0.069154\n",
      "[250]\tcv_agg's rmse: 3.66747 + 0.0691032\n",
      "[260]\tcv_agg's rmse: 3.66666 + 0.069176\n",
      "[270]\tcv_agg's rmse: 3.66574 + 0.0692677\n",
      "[280]\tcv_agg's rmse: 3.66506 + 0.0692082\n",
      "[290]\tcv_agg's rmse: 3.66442 + 0.0692497\n",
      "[300]\tcv_agg's rmse: 3.66382 + 0.0692815\n",
      "[310]\tcv_agg's rmse: 3.66326 + 0.0692321\n",
      "[320]\tcv_agg's rmse: 3.66275 + 0.0692117\n",
      "[330]\tcv_agg's rmse: 3.66236 + 0.0690856\n",
      "[340]\tcv_agg's rmse: 3.66187 + 0.0691492\n",
      "[350]\tcv_agg's rmse: 3.66142 + 0.0692182\n",
      "[360]\tcv_agg's rmse: 3.66109 + 0.069146\n",
      "[370]\tcv_agg's rmse: 3.66087 + 0.0692039\n",
      "[380]\tcv_agg's rmse: 3.66073 + 0.0691572\n",
      "[390]\tcv_agg's rmse: 3.66041 + 0.0692247\n",
      "[400]\tcv_agg's rmse: 3.66017 + 0.0692023\n",
      "[410]\tcv_agg's rmse: 3.65995 + 0.0691506\n",
      "[420]\tcv_agg's rmse: 3.65988 + 0.0690796\n",
      "[430]\tcv_agg's rmse: 3.65959 + 0.0690385\n",
      "[440]\tcv_agg's rmse: 3.65933 + 0.0689046\n",
      "[450]\tcv_agg's rmse: 3.65926 + 0.0688806\n",
      "[460]\tcv_agg's rmse: 3.65908 + 0.0687646\n",
      "[470]\tcv_agg's rmse: 3.65889 + 0.0687384\n",
      "[480]\tcv_agg's rmse: 3.65876 + 0.0687663\n",
      "[490]\tcv_agg's rmse: 3.65878 + 0.0686908\n",
      "[3.659312528156499, 3.6593143714040357, 3.6593731629323663, 3.6593213315855686, 3.6590754972585544, 3.6587630783031586]\n"
     ]
    },
    {
     "name": "stderr",
     "output_type": "stream",
     "text": [
      "C:\\Users\\tanch\\anaconda3\\envs\\ml\\lib\\site-packages\\lightgbm\\engine.py:577: UserWarning: 'early_stopping_rounds' argument is deprecated and will be removed in a future release of LightGBM. Pass 'early_stopping()' callback via 'callbacks' argument instead.\n",
      "  _log_warning(\"'early_stopping_rounds' argument is deprecated and will be removed in a future release of LightGBM. \"\n"
     ]
    },
    {
     "name": "stdout",
     "output_type": "stream",
     "text": [
      "[LightGBM] [Info] Total Bins 81331\n",
      "[LightGBM] [Info] Number of data points in the train set: 161532, number of used features: 433\n",
      "[LightGBM] [Info] Total Bins 81331\n",
      "[LightGBM] [Info] Number of data points in the train set: 161532, number of used features: 433\n",
      "[LightGBM] [Info] Total Bins 81331\n",
      "[LightGBM] [Info] Number of data points in the train set: 161532, number of used features: 433\n",
      "[LightGBM] [Info] Total Bins 81331\n",
      "[LightGBM] [Info] Number of data points in the train set: 161532, number of used features: 433\n",
      "[LightGBM] [Info] Total Bins 81331\n",
      "[LightGBM] [Info] Number of data points in the train set: 161532, number of used features: 433\n",
      "[LightGBM] [Info] Start training from score -0.387307\n"
     ]
    },
    {
     "name": "stderr",
     "output_type": "stream",
     "text": [
      "C:\\Users\\tanch\\anaconda3\\envs\\ml\\lib\\site-packages\\lightgbm\\engine.py:620: UserWarning: 'verbose_eval' argument is deprecated and will be removed in a future release of LightGBM. Pass 'log_evaluation()' callback via 'callbacks' argument instead.\n",
      "  _log_warning(\"'verbose_eval' argument is deprecated and will be removed in a future release of LightGBM. \"\n"
     ]
    },
    {
     "name": "stdout",
     "output_type": "stream",
     "text": [
      "[LightGBM] [Info] Start training from score -0.394715\n",
      "[LightGBM] [Info] Start training from score -0.396989\n",
      "[LightGBM] [Info] Start training from score -0.400525\n",
      "[LightGBM] [Info] Start training from score -0.388645\n",
      "[10]\tcv_agg's rmse: 3.82331 + 0.070385\n",
      "[20]\tcv_agg's rmse: 3.80066 + 0.0706167\n",
      "[30]\tcv_agg's rmse: 3.78108 + 0.0705682\n",
      "[40]\tcv_agg's rmse: 3.76454 + 0.0703269\n",
      "[50]\tcv_agg's rmse: 3.75062 + 0.0705028\n",
      "[60]\tcv_agg's rmse: 3.73859 + 0.0704778\n",
      "[70]\tcv_agg's rmse: 3.72844 + 0.0704963\n",
      "[80]\tcv_agg's rmse: 3.7199 + 0.070458\n",
      "[90]\tcv_agg's rmse: 3.71245 + 0.0704489\n",
      "[100]\tcv_agg's rmse: 3.70583 + 0.0703838\n",
      "[110]\tcv_agg's rmse: 3.70017 + 0.0704956\n",
      "[120]\tcv_agg's rmse: 3.69555 + 0.0703819\n",
      "[130]\tcv_agg's rmse: 3.69153 + 0.0701596\n",
      "[140]\tcv_agg's rmse: 3.68787 + 0.0699996\n",
      "[150]\tcv_agg's rmse: 3.68472 + 0.0697652\n",
      "[160]\tcv_agg's rmse: 3.68196 + 0.069717\n",
      "[170]\tcv_agg's rmse: 3.67967 + 0.0696227\n",
      "[180]\tcv_agg's rmse: 3.67738 + 0.0695577\n",
      "[190]\tcv_agg's rmse: 3.67543 + 0.0695147\n",
      "[200]\tcv_agg's rmse: 3.67389 + 0.0693825\n",
      "[210]\tcv_agg's rmse: 3.67244 + 0.0693358\n",
      "[220]\tcv_agg's rmse: 3.67118 + 0.0693078\n",
      "[230]\tcv_agg's rmse: 3.6698 + 0.0692037\n",
      "[240]\tcv_agg's rmse: 3.66845 + 0.069154\n",
      "[250]\tcv_agg's rmse: 3.66747 + 0.0691032\n",
      "[260]\tcv_agg's rmse: 3.66666 + 0.069176\n",
      "[270]\tcv_agg's rmse: 3.66574 + 0.0692677\n",
      "[280]\tcv_agg's rmse: 3.66506 + 0.0692082\n",
      "[290]\tcv_agg's rmse: 3.66442 + 0.0692497\n",
      "[300]\tcv_agg's rmse: 3.66382 + 0.0692815\n",
      "[310]\tcv_agg's rmse: 3.66326 + 0.0692321\n",
      "[320]\tcv_agg's rmse: 3.66275 + 0.0692117\n",
      "[330]\tcv_agg's rmse: 3.66236 + 0.0690856\n",
      "[340]\tcv_agg's rmse: 3.66187 + 0.0691492\n",
      "[350]\tcv_agg's rmse: 3.66142 + 0.0692182\n",
      "[360]\tcv_agg's rmse: 3.66109 + 0.069146\n",
      "[370]\tcv_agg's rmse: 3.66087 + 0.0692039\n",
      "[380]\tcv_agg's rmse: 3.66073 + 0.0691572\n",
      "[390]\tcv_agg's rmse: 3.66041 + 0.0692247\n",
      "[400]\tcv_agg's rmse: 3.66017 + 0.0692023\n",
      "[410]\tcv_agg's rmse: 3.65995 + 0.0691506\n",
      "[420]\tcv_agg's rmse: 3.65988 + 0.0690796\n",
      "[430]\tcv_agg's rmse: 3.65959 + 0.0690385\n",
      "[440]\tcv_agg's rmse: 3.65933 + 0.0689046\n",
      "[450]\tcv_agg's rmse: 3.65926 + 0.0688806\n",
      "[460]\tcv_agg's rmse: 3.65908 + 0.0687646\n",
      "[470]\tcv_agg's rmse: 3.65889 + 0.0687384\n",
      "[480]\tcv_agg's rmse: 3.65876 + 0.0687663\n",
      "[490]\tcv_agg's rmse: 3.65878 + 0.0686908\n",
      "[3.659312528156499, 3.6593143714040357, 3.6593731629323663, 3.6593213315855686, 3.6590754972585544, 3.6587630783031586, 3.6587630783031586]\n"
     ]
    },
    {
     "name": "stderr",
     "output_type": "stream",
     "text": [
      "C:\\Users\\tanch\\anaconda3\\envs\\ml\\lib\\site-packages\\lightgbm\\engine.py:577: UserWarning: 'early_stopping_rounds' argument is deprecated and will be removed in a future release of LightGBM. Pass 'early_stopping()' callback via 'callbacks' argument instead.\n",
      "  _log_warning(\"'early_stopping_rounds' argument is deprecated and will be removed in a future release of LightGBM. \"\n"
     ]
    },
    {
     "name": "stdout",
     "output_type": "stream",
     "text": [
      "[LightGBM] [Info] Total Bins 81331\n",
      "[LightGBM] [Info] Number of data points in the train set: 161532, number of used features: 433\n",
      "[LightGBM] [Info] Total Bins 81331\n",
      "[LightGBM] [Info] Number of data points in the train set: 161532, number of used features: 433\n",
      "[LightGBM] [Info] Total Bins 81331\n",
      "[LightGBM] [Info] Number of data points in the train set: 161532, number of used features: 433\n",
      "[LightGBM] [Info] Total Bins 81331\n",
      "[LightGBM] [Info] Number of data points in the train set: 161532, number of used features: 433\n",
      "[LightGBM] [Info] Total Bins 81331\n",
      "[LightGBM] [Info] Number of data points in the train set: 161532, number of used features: 433\n",
      "[LightGBM] [Info] Start training from score -0.387307\n",
      "[LightGBM] [Info] Start training from score -0.394715\n"
     ]
    },
    {
     "name": "stderr",
     "output_type": "stream",
     "text": [
      "C:\\Users\\tanch\\anaconda3\\envs\\ml\\lib\\site-packages\\lightgbm\\engine.py:620: UserWarning: 'verbose_eval' argument is deprecated and will be removed in a future release of LightGBM. Pass 'log_evaluation()' callback via 'callbacks' argument instead.\n",
      "  _log_warning(\"'verbose_eval' argument is deprecated and will be removed in a future release of LightGBM. \"\n"
     ]
    },
    {
     "name": "stdout",
     "output_type": "stream",
     "text": [
      "[LightGBM] [Info] Start training from score -0.396989\n",
      "[LightGBM] [Info] Start training from score -0.400525\n",
      "[LightGBM] [Info] Start training from score -0.388645\n",
      "[10]\tcv_agg's rmse: 3.82331 + 0.070385\n",
      "[20]\tcv_agg's rmse: 3.80066 + 0.0706167\n",
      "[30]\tcv_agg's rmse: 3.78108 + 0.0705682\n",
      "[40]\tcv_agg's rmse: 3.76454 + 0.0703269\n",
      "[50]\tcv_agg's rmse: 3.75062 + 0.0705028\n",
      "[60]\tcv_agg's rmse: 3.73859 + 0.0704778\n",
      "[70]\tcv_agg's rmse: 3.72844 + 0.0704963\n",
      "[80]\tcv_agg's rmse: 3.7199 + 0.070458\n",
      "[90]\tcv_agg's rmse: 3.71245 + 0.0704489\n",
      "[100]\tcv_agg's rmse: 3.70583 + 0.0703838\n",
      "[110]\tcv_agg's rmse: 3.70017 + 0.0704956\n",
      "[120]\tcv_agg's rmse: 3.69555 + 0.0703819\n",
      "[130]\tcv_agg's rmse: 3.69153 + 0.0701596\n",
      "[140]\tcv_agg's rmse: 3.68787 + 0.0699996\n",
      "[150]\tcv_agg's rmse: 3.68472 + 0.0697652\n",
      "[160]\tcv_agg's rmse: 3.68196 + 0.069717\n",
      "[170]\tcv_agg's rmse: 3.67967 + 0.0696227\n",
      "[180]\tcv_agg's rmse: 3.67738 + 0.0695577\n",
      "[190]\tcv_agg's rmse: 3.67543 + 0.0695147\n",
      "[200]\tcv_agg's rmse: 3.67389 + 0.0693825\n",
      "[210]\tcv_agg's rmse: 3.67244 + 0.0693358\n",
      "[220]\tcv_agg's rmse: 3.67118 + 0.0693078\n",
      "[230]\tcv_agg's rmse: 3.6698 + 0.0692037\n",
      "[240]\tcv_agg's rmse: 3.66845 + 0.069154\n",
      "[250]\tcv_agg's rmse: 3.66747 + 0.0691032\n",
      "[260]\tcv_agg's rmse: 3.66666 + 0.069176\n",
      "[270]\tcv_agg's rmse: 3.66574 + 0.0692677\n",
      "[280]\tcv_agg's rmse: 3.66506 + 0.0692082\n",
      "[290]\tcv_agg's rmse: 3.66442 + 0.0692497\n",
      "[300]\tcv_agg's rmse: 3.66382 + 0.0692815\n",
      "[310]\tcv_agg's rmse: 3.66326 + 0.0692321\n",
      "[320]\tcv_agg's rmse: 3.66275 + 0.0692117\n",
      "[330]\tcv_agg's rmse: 3.66236 + 0.0690856\n",
      "[340]\tcv_agg's rmse: 3.66187 + 0.0691492\n",
      "[350]\tcv_agg's rmse: 3.66142 + 0.0692182\n",
      "[360]\tcv_agg's rmse: 3.66109 + 0.069146\n",
      "[370]\tcv_agg's rmse: 3.66087 + 0.0692039\n",
      "[380]\tcv_agg's rmse: 3.66073 + 0.0691572\n",
      "[390]\tcv_agg's rmse: 3.66041 + 0.0692247\n",
      "[400]\tcv_agg's rmse: 3.66017 + 0.0692023\n",
      "[410]\tcv_agg's rmse: 3.65995 + 0.0691506\n",
      "[420]\tcv_agg's rmse: 3.65988 + 0.0690796\n",
      "[430]\tcv_agg's rmse: 3.65959 + 0.0690385\n",
      "[440]\tcv_agg's rmse: 3.65933 + 0.0689046\n",
      "[450]\tcv_agg's rmse: 3.65926 + 0.0688806\n",
      "[460]\tcv_agg's rmse: 3.65908 + 0.0687646\n",
      "[470]\tcv_agg's rmse: 3.65889 + 0.0687384\n",
      "[480]\tcv_agg's rmse: 3.65876 + 0.0687663\n",
      "[490]\tcv_agg's rmse: 3.65878 + 0.0686908\n",
      "[3.659312528156499, 3.6593143714040357, 3.6593731629323663, 3.6593213315855686, 3.6590754972585544, 3.6587630783031586, 3.6587630783031586, 3.6587630783031586]\n"
     ]
    },
    {
     "name": "stderr",
     "output_type": "stream",
     "text": [
      "C:\\Users\\tanch\\anaconda3\\envs\\ml\\lib\\site-packages\\lightgbm\\engine.py:577: UserWarning: 'early_stopping_rounds' argument is deprecated and will be removed in a future release of LightGBM. Pass 'early_stopping()' callback via 'callbacks' argument instead.\n",
      "  _log_warning(\"'early_stopping_rounds' argument is deprecated and will be removed in a future release of LightGBM. \"\n"
     ]
    },
    {
     "name": "stdout",
     "output_type": "stream",
     "text": [
      "[LightGBM] [Info] Total Bins 81331\n",
      "[LightGBM] [Info] Number of data points in the train set: 161532, number of used features: 433\n",
      "[LightGBM] [Info] Total Bins 81331\n",
      "[LightGBM] [Info] Number of data points in the train set: 161532, number of used features: 433\n",
      "[LightGBM] [Info] Total Bins 81331\n",
      "[LightGBM] [Info] Number of data points in the train set: 161532, number of used features: 433\n",
      "[LightGBM] [Info] Total Bins 81331\n",
      "[LightGBM] [Info] Number of data points in the train set: 161532, number of used features: 433\n",
      "[LightGBM] [Info] Total Bins 81331\n",
      "[LightGBM] [Info] Number of data points in the train set: 161532, number of used features: 433\n",
      "[LightGBM] [Info] Start training from score -0.387307\n"
     ]
    },
    {
     "name": "stderr",
     "output_type": "stream",
     "text": [
      "C:\\Users\\tanch\\anaconda3\\envs\\ml\\lib\\site-packages\\lightgbm\\engine.py:620: UserWarning: 'verbose_eval' argument is deprecated and will be removed in a future release of LightGBM. Pass 'log_evaluation()' callback via 'callbacks' argument instead.\n",
      "  _log_warning(\"'verbose_eval' argument is deprecated and will be removed in a future release of LightGBM. \"\n"
     ]
    },
    {
     "name": "stdout",
     "output_type": "stream",
     "text": [
      "[LightGBM] [Info] Start training from score -0.394715\n",
      "[LightGBM] [Info] Start training from score -0.396989\n",
      "[LightGBM] [Info] Start training from score -0.400525\n",
      "[LightGBM] [Info] Start training from score -0.388645\n",
      "[10]\tcv_agg's rmse: 3.82331 + 0.070385\n",
      "[20]\tcv_agg's rmse: 3.80066 + 0.0706167\n",
      "[30]\tcv_agg's rmse: 3.78108 + 0.0705682\n",
      "[40]\tcv_agg's rmse: 3.76454 + 0.0703269\n",
      "[50]\tcv_agg's rmse: 3.75062 + 0.0705028\n",
      "[60]\tcv_agg's rmse: 3.73859 + 0.0704778\n",
      "[70]\tcv_agg's rmse: 3.72844 + 0.0704963\n",
      "[80]\tcv_agg's rmse: 3.7199 + 0.070458\n",
      "[90]\tcv_agg's rmse: 3.71245 + 0.0704489\n",
      "[100]\tcv_agg's rmse: 3.70583 + 0.0703838\n",
      "[110]\tcv_agg's rmse: 3.70017 + 0.0704956\n",
      "[120]\tcv_agg's rmse: 3.69555 + 0.0703819\n",
      "[130]\tcv_agg's rmse: 3.69153 + 0.0701596\n",
      "[140]\tcv_agg's rmse: 3.68787 + 0.0699996\n",
      "[150]\tcv_agg's rmse: 3.68472 + 0.0697652\n",
      "[160]\tcv_agg's rmse: 3.68196 + 0.069717\n",
      "[170]\tcv_agg's rmse: 3.67967 + 0.0696227\n",
      "[180]\tcv_agg's rmse: 3.67738 + 0.0695577\n",
      "[190]\tcv_agg's rmse: 3.67543 + 0.0695147\n",
      "[200]\tcv_agg's rmse: 3.67389 + 0.0693825\n",
      "[210]\tcv_agg's rmse: 3.67244 + 0.0693358\n",
      "[220]\tcv_agg's rmse: 3.67118 + 0.0693078\n",
      "[230]\tcv_agg's rmse: 3.6698 + 0.0692037\n",
      "[240]\tcv_agg's rmse: 3.66845 + 0.069154\n",
      "[250]\tcv_agg's rmse: 3.66747 + 0.0691032\n",
      "[260]\tcv_agg's rmse: 3.66666 + 0.069176\n",
      "[270]\tcv_agg's rmse: 3.66574 + 0.0692677\n",
      "[280]\tcv_agg's rmse: 3.66506 + 0.0692082\n",
      "[290]\tcv_agg's rmse: 3.66442 + 0.0692497\n",
      "[300]\tcv_agg's rmse: 3.66382 + 0.0692815\n",
      "[310]\tcv_agg's rmse: 3.66326 + 0.0692321\n",
      "[320]\tcv_agg's rmse: 3.66275 + 0.0692117\n",
      "[330]\tcv_agg's rmse: 3.66236 + 0.0690856\n",
      "[340]\tcv_agg's rmse: 3.66187 + 0.0691492\n",
      "[350]\tcv_agg's rmse: 3.66142 + 0.0692182\n",
      "[360]\tcv_agg's rmse: 3.66109 + 0.069146\n",
      "[370]\tcv_agg's rmse: 3.66087 + 0.0692039\n",
      "[380]\tcv_agg's rmse: 3.66073 + 0.0691572\n",
      "[390]\tcv_agg's rmse: 3.66041 + 0.0692247\n",
      "[400]\tcv_agg's rmse: 3.66017 + 0.0692023\n",
      "[410]\tcv_agg's rmse: 3.65995 + 0.0691506\n",
      "[420]\tcv_agg's rmse: 3.65988 + 0.0690796\n",
      "[430]\tcv_agg's rmse: 3.65959 + 0.0690385\n",
      "[440]\tcv_agg's rmse: 3.65933 + 0.0689046\n",
      "[450]\tcv_agg's rmse: 3.65926 + 0.0688806\n",
      "[460]\tcv_agg's rmse: 3.65908 + 0.0687646\n",
      "[470]\tcv_agg's rmse: 3.65889 + 0.0687384\n",
      "[480]\tcv_agg's rmse: 3.65876 + 0.0687663\n",
      "[490]\tcv_agg's rmse: 3.65878 + 0.0686908\n",
      "[3.659312528156499, 3.6593143714040357, 3.6593731629323663, 3.6593213315855686, 3.6590754972585544, 3.6587630783031586, 3.6587630783031586, 3.6587630783031586, 3.6587630783031586]\n"
     ]
    },
    {
     "name": "stderr",
     "output_type": "stream",
     "text": [
      "C:\\Users\\tanch\\anaconda3\\envs\\ml\\lib\\site-packages\\lightgbm\\engine.py:577: UserWarning: 'early_stopping_rounds' argument is deprecated and will be removed in a future release of LightGBM. Pass 'early_stopping()' callback via 'callbacks' argument instead.\n",
      "  _log_warning(\"'early_stopping_rounds' argument is deprecated and will be removed in a future release of LightGBM. \"\n"
     ]
    },
    {
     "name": "stdout",
     "output_type": "stream",
     "text": [
      "[LightGBM] [Info] Total Bins 81076\n",
      "[LightGBM] [Info] Number of data points in the train set: 161532, number of used features: 432\n",
      "[LightGBM] [Info] Total Bins 81076\n",
      "[LightGBM] [Info] Number of data points in the train set: 161532, number of used features: 432\n",
      "[LightGBM] [Info] Total Bins 81076\n",
      "[LightGBM] [Info] Number of data points in the train set: 161532, number of used features: 432\n",
      "[LightGBM] [Info] Total Bins 81076\n",
      "[LightGBM] [Info] Number of data points in the train set: 161532, number of used features: 432\n",
      "[LightGBM] [Info] Total Bins 81076\n",
      "[LightGBM] [Info] Number of data points in the train set: 161532, number of used features: 432\n",
      "[LightGBM] [Info] Start training from score -0.387307\n"
     ]
    },
    {
     "name": "stderr",
     "output_type": "stream",
     "text": [
      "C:\\Users\\tanch\\anaconda3\\envs\\ml\\lib\\site-packages\\lightgbm\\engine.py:620: UserWarning: 'verbose_eval' argument is deprecated and will be removed in a future release of LightGBM. Pass 'log_evaluation()' callback via 'callbacks' argument instead.\n",
      "  _log_warning(\"'verbose_eval' argument is deprecated and will be removed in a future release of LightGBM. \"\n"
     ]
    },
    {
     "name": "stdout",
     "output_type": "stream",
     "text": [
      "[LightGBM] [Info] Start training from score -0.394715\n",
      "[LightGBM] [Info] Start training from score -0.396989\n",
      "[LightGBM] [Info] Start training from score -0.400525\n",
      "[LightGBM] [Info] Start training from score -0.388645\n",
      "[10]\tcv_agg's rmse: 3.823 + 0.0701037\n",
      "[20]\tcv_agg's rmse: 3.8003 + 0.0703135\n",
      "[30]\tcv_agg's rmse: 3.78098 + 0.0703278\n",
      "[40]\tcv_agg's rmse: 3.76452 + 0.070135\n",
      "[50]\tcv_agg's rmse: 3.75041 + 0.070259\n",
      "[60]\tcv_agg's rmse: 3.73854 + 0.0703925\n",
      "[70]\tcv_agg's rmse: 3.72833 + 0.070475\n",
      "[80]\tcv_agg's rmse: 3.7195 + 0.0704912\n",
      "[90]\tcv_agg's rmse: 3.71212 + 0.0703439\n",
      "[100]\tcv_agg's rmse: 3.70546 + 0.0701962\n",
      "[110]\tcv_agg's rmse: 3.69964 + 0.0702905\n",
      "[120]\tcv_agg's rmse: 3.69488 + 0.0703649\n",
      "[130]\tcv_agg's rmse: 3.69073 + 0.0702993\n",
      "[140]\tcv_agg's rmse: 3.687 + 0.070083\n",
      "[150]\tcv_agg's rmse: 3.68409 + 0.0701007\n",
      "[160]\tcv_agg's rmse: 3.68131 + 0.0701297\n",
      "[170]\tcv_agg's rmse: 3.67892 + 0.0700089\n",
      "[180]\tcv_agg's rmse: 3.67679 + 0.0699469\n",
      "[190]\tcv_agg's rmse: 3.6749 + 0.0698557\n",
      "[200]\tcv_agg's rmse: 3.67342 + 0.0697372\n",
      "[210]\tcv_agg's rmse: 3.67184 + 0.0697355\n",
      "[220]\tcv_agg's rmse: 3.67058 + 0.0697474\n",
      "[230]\tcv_agg's rmse: 3.66939 + 0.0696877\n",
      "[240]\tcv_agg's rmse: 3.66834 + 0.0696239\n",
      "[250]\tcv_agg's rmse: 3.66734 + 0.0695287\n",
      "[260]\tcv_agg's rmse: 3.66642 + 0.0695332\n",
      "[270]\tcv_agg's rmse: 3.66576 + 0.0694469\n",
      "[280]\tcv_agg's rmse: 3.66499 + 0.0694037\n",
      "[290]\tcv_agg's rmse: 3.66432 + 0.0694436\n",
      "[300]\tcv_agg's rmse: 3.66375 + 0.0694192\n",
      "[310]\tcv_agg's rmse: 3.66319 + 0.069394\n",
      "[320]\tcv_agg's rmse: 3.66266 + 0.0693621\n",
      "[330]\tcv_agg's rmse: 3.66215 + 0.0692881\n",
      "[340]\tcv_agg's rmse: 3.66175 + 0.0693005\n",
      "[350]\tcv_agg's rmse: 3.66134 + 0.0692778\n",
      "[360]\tcv_agg's rmse: 3.66104 + 0.0692203\n",
      "[370]\tcv_agg's rmse: 3.66077 + 0.069401\n",
      "[380]\tcv_agg's rmse: 3.66051 + 0.0693318\n",
      "[390]\tcv_agg's rmse: 3.66026 + 0.0693074\n",
      "[400]\tcv_agg's rmse: 3.66009 + 0.0692379\n",
      "[410]\tcv_agg's rmse: 3.65987 + 0.0693325\n",
      "[420]\tcv_agg's rmse: 3.65969 + 0.0692841\n",
      "[430]\tcv_agg's rmse: 3.65948 + 0.0693325\n",
      "[440]\tcv_agg's rmse: 3.65926 + 0.0693149\n",
      "[450]\tcv_agg's rmse: 3.65923 + 0.069344\n",
      "[460]\tcv_agg's rmse: 3.65913 + 0.0693182\n",
      "[470]\tcv_agg's rmse: 3.65895 + 0.0693085\n",
      "[480]\tcv_agg's rmse: 3.65877 + 0.0692876\n",
      "[490]\tcv_agg's rmse: 3.65867 + 0.0692537\n",
      "[500]\tcv_agg's rmse: 3.65863 + 0.0692069\n",
      "[3.659312528156499, 3.6593143714040357, 3.6593731629323663, 3.6593213315855686, 3.6590754972585544, 3.6587630783031586, 3.6587630783031586, 3.6587630783031586, 3.6587630783031586, 3.6585884635069634]\n"
     ]
    },
    {
     "name": "stderr",
     "output_type": "stream",
     "text": [
      "C:\\Users\\tanch\\anaconda3\\envs\\ml\\lib\\site-packages\\lightgbm\\engine.py:577: UserWarning: 'early_stopping_rounds' argument is deprecated and will be removed in a future release of LightGBM. Pass 'early_stopping()' callback via 'callbacks' argument instead.\n",
      "  _log_warning(\"'early_stopping_rounds' argument is deprecated and will be removed in a future release of LightGBM. \"\n"
     ]
    },
    {
     "name": "stdout",
     "output_type": "stream",
     "text": [
      "[LightGBM] [Info] Total Bins 81070\n",
      "[LightGBM] [Info] Number of data points in the train set: 161532, number of used features: 431\n",
      "[LightGBM] [Info] Total Bins 81070\n",
      "[LightGBM] [Info] Number of data points in the train set: 161532, number of used features: 431\n",
      "[LightGBM] [Info] Total Bins 81070\n",
      "[LightGBM] [Info] Number of data points in the train set: 161532, number of used features: 431\n",
      "[LightGBM] [Info] Total Bins 81070\n",
      "[LightGBM] [Info] Number of data points in the train set: 161532, number of used features: 431\n",
      "[LightGBM] [Info] Total Bins 81070\n",
      "[LightGBM] [Info] Number of data points in the train set: 161532, number of used features: 431\n",
      "[LightGBM] [Info] Start training from score -0.387307\n"
     ]
    },
    {
     "name": "stderr",
     "output_type": "stream",
     "text": [
      "C:\\Users\\tanch\\anaconda3\\envs\\ml\\lib\\site-packages\\lightgbm\\engine.py:620: UserWarning: 'verbose_eval' argument is deprecated and will be removed in a future release of LightGBM. Pass 'log_evaluation()' callback via 'callbacks' argument instead.\n",
      "  _log_warning(\"'verbose_eval' argument is deprecated and will be removed in a future release of LightGBM. \"\n"
     ]
    },
    {
     "name": "stdout",
     "output_type": "stream",
     "text": [
      "[LightGBM] [Info] Start training from score -0.394715\n",
      "[LightGBM] [Info] Start training from score -0.396989\n",
      "[LightGBM] [Info] Start training from score -0.400525\n",
      "[LightGBM] [Info] Start training from score -0.388645\n",
      "[10]\tcv_agg's rmse: 3.82306 + 0.0702961\n",
      "[20]\tcv_agg's rmse: 3.80031 + 0.0704232\n",
      "[30]\tcv_agg's rmse: 3.78113 + 0.0704474\n",
      "[40]\tcv_agg's rmse: 3.76458 + 0.0701967\n",
      "[50]\tcv_agg's rmse: 3.75048 + 0.0702478\n",
      "[60]\tcv_agg's rmse: 3.73878 + 0.0703035\n",
      "[70]\tcv_agg's rmse: 3.72861 + 0.0704143\n",
      "[80]\tcv_agg's rmse: 3.72019 + 0.0702996\n",
      "[90]\tcv_agg's rmse: 3.71281 + 0.0702339\n",
      "[100]\tcv_agg's rmse: 3.70619 + 0.0701399\n",
      "[110]\tcv_agg's rmse: 3.70053 + 0.0701224\n",
      "[120]\tcv_agg's rmse: 3.69577 + 0.0699694\n",
      "[130]\tcv_agg's rmse: 3.69168 + 0.0698367\n",
      "[140]\tcv_agg's rmse: 3.68806 + 0.069747\n",
      "[150]\tcv_agg's rmse: 3.68493 + 0.0698041\n",
      "[160]\tcv_agg's rmse: 3.68218 + 0.0696613\n",
      "[170]\tcv_agg's rmse: 3.67997 + 0.0696486\n",
      "[180]\tcv_agg's rmse: 3.67768 + 0.0696496\n",
      "[190]\tcv_agg's rmse: 3.67594 + 0.0696514\n",
      "[200]\tcv_agg's rmse: 3.67427 + 0.0695372\n",
      "[210]\tcv_agg's rmse: 3.67285 + 0.0695043\n",
      "[220]\tcv_agg's rmse: 3.67149 + 0.0694569\n",
      "[230]\tcv_agg's rmse: 3.67013 + 0.069418\n",
      "[240]\tcv_agg's rmse: 3.6689 + 0.0692819\n",
      "[250]\tcv_agg's rmse: 3.66788 + 0.0692523\n",
      "[260]\tcv_agg's rmse: 3.66694 + 0.0692288\n",
      "[270]\tcv_agg's rmse: 3.66619 + 0.0692596\n",
      "[280]\tcv_agg's rmse: 3.66538 + 0.0693702\n",
      "[290]\tcv_agg's rmse: 3.66473 + 0.0693502\n",
      "[300]\tcv_agg's rmse: 3.66408 + 0.0693684\n",
      "[310]\tcv_agg's rmse: 3.66343 + 0.0691972\n",
      "[320]\tcv_agg's rmse: 3.66288 + 0.0691859\n",
      "[330]\tcv_agg's rmse: 3.66237 + 0.0692008\n",
      "[340]\tcv_agg's rmse: 3.66195 + 0.0692384\n",
      "[350]\tcv_agg's rmse: 3.6615 + 0.0692505\n",
      "[360]\tcv_agg's rmse: 3.66129 + 0.0692029\n",
      "[370]\tcv_agg's rmse: 3.66099 + 0.0692408\n",
      "[380]\tcv_agg's rmse: 3.66086 + 0.0693464\n",
      "[390]\tcv_agg's rmse: 3.66063 + 0.0693425\n",
      "[400]\tcv_agg's rmse: 3.66043 + 0.069223\n",
      "[410]\tcv_agg's rmse: 3.66014 + 0.0692012\n",
      "[420]\tcv_agg's rmse: 3.65996 + 0.0692307\n",
      "[430]\tcv_agg's rmse: 3.65979 + 0.0691449\n",
      "[440]\tcv_agg's rmse: 3.65958 + 0.0690831\n",
      "[450]\tcv_agg's rmse: 3.65952 + 0.0690303\n",
      "[460]\tcv_agg's rmse: 3.65932 + 0.0691047\n",
      "[470]\tcv_agg's rmse: 3.6592 + 0.0691566\n",
      "[480]\tcv_agg's rmse: 3.65909 + 0.069136\n",
      "[490]\tcv_agg's rmse: 3.65897 + 0.0691057\n",
      "[500]\tcv_agg's rmse: 3.65897 + 0.0689734\n",
      "[3.659312528156499, 3.6593143714040357, 3.6593731629323663, 3.6593213315855686, 3.6590754972585544, 3.6587630783031586, 3.6587630783031586, 3.6587630783031586, 3.6587630783031586, 3.6585884635069634, 3.658928720347265]\n"
     ]
    },
    {
     "name": "stderr",
     "output_type": "stream",
     "text": [
      "C:\\Users\\tanch\\anaconda3\\envs\\ml\\lib\\site-packages\\lightgbm\\engine.py:577: UserWarning: 'early_stopping_rounds' argument is deprecated and will be removed in a future release of LightGBM. Pass 'early_stopping()' callback via 'callbacks' argument instead.\n",
      "  _log_warning(\"'early_stopping_rounds' argument is deprecated and will be removed in a future release of LightGBM. \"\n"
     ]
    },
    {
     "name": "stdout",
     "output_type": "stream",
     "text": [
      "[LightGBM] [Info] Total Bins 81039\n",
      "[LightGBM] [Info] Number of data points in the train set: 161532, number of used features: 430\n",
      "[LightGBM] [Info] Total Bins 81039\n",
      "[LightGBM] [Info] Number of data points in the train set: 161532, number of used features: 430\n",
      "[LightGBM] [Info] Total Bins 81039\n",
      "[LightGBM] [Info] Number of data points in the train set: 161532, number of used features: 430\n",
      "[LightGBM] [Info] Total Bins 81039\n",
      "[LightGBM] [Info] Number of data points in the train set: 161532, number of used features: 430\n",
      "[LightGBM] [Info] Total Bins 81039\n",
      "[LightGBM] [Info] Number of data points in the train set: 161532, number of used features: 430\n",
      "[LightGBM] [Info] Start training from score -0.387307\n"
     ]
    },
    {
     "name": "stderr",
     "output_type": "stream",
     "text": [
      "C:\\Users\\tanch\\anaconda3\\envs\\ml\\lib\\site-packages\\lightgbm\\engine.py:620: UserWarning: 'verbose_eval' argument is deprecated and will be removed in a future release of LightGBM. Pass 'log_evaluation()' callback via 'callbacks' argument instead.\n",
      "  _log_warning(\"'verbose_eval' argument is deprecated and will be removed in a future release of LightGBM. \"\n"
     ]
    },
    {
     "name": "stdout",
     "output_type": "stream",
     "text": [
      "[LightGBM] [Info] Start training from score -0.394715\n",
      "[LightGBM] [Info] Start training from score -0.396989\n",
      "[LightGBM] [Info] Start training from score -0.400525\n",
      "[LightGBM] [Info] Start training from score -0.388645\n",
      "[10]\tcv_agg's rmse: 3.82333 + 0.070247\n",
      "[20]\tcv_agg's rmse: 3.80042 + 0.0704614\n",
      "[30]\tcv_agg's rmse: 3.78158 + 0.0704075\n",
      "[40]\tcv_agg's rmse: 3.76503 + 0.0703633\n",
      "[50]\tcv_agg's rmse: 3.75137 + 0.0703474\n",
      "[60]\tcv_agg's rmse: 3.73923 + 0.0705757\n",
      "[70]\tcv_agg's rmse: 3.72911 + 0.0707499\n",
      "[80]\tcv_agg's rmse: 3.72046 + 0.0707774\n",
      "[90]\tcv_agg's rmse: 3.71294 + 0.0705437\n",
      "[100]\tcv_agg's rmse: 3.70645 + 0.0703586\n",
      "[110]\tcv_agg's rmse: 3.70071 + 0.0704193\n",
      "[120]\tcv_agg's rmse: 3.69592 + 0.0703211\n",
      "[130]\tcv_agg's rmse: 3.69193 + 0.0700514\n",
      "[140]\tcv_agg's rmse: 3.68835 + 0.0699635\n",
      "[150]\tcv_agg's rmse: 3.68516 + 0.0698797\n",
      "[160]\tcv_agg's rmse: 3.68253 + 0.069747\n",
      "[170]\tcv_agg's rmse: 3.68013 + 0.0697573\n",
      "[180]\tcv_agg's rmse: 3.67781 + 0.0697448\n",
      "[190]\tcv_agg's rmse: 3.67601 + 0.069839\n",
      "[200]\tcv_agg's rmse: 3.67438 + 0.069778\n",
      "[210]\tcv_agg's rmse: 3.67283 + 0.0697252\n",
      "[220]\tcv_agg's rmse: 3.67158 + 0.0697444\n",
      "[230]\tcv_agg's rmse: 3.67035 + 0.0696614\n",
      "[240]\tcv_agg's rmse: 3.66909 + 0.0695341\n",
      "[250]\tcv_agg's rmse: 3.6681 + 0.0694468\n",
      "[260]\tcv_agg's rmse: 3.66723 + 0.0694887\n",
      "[270]\tcv_agg's rmse: 3.66653 + 0.0694855\n",
      "[280]\tcv_agg's rmse: 3.66575 + 0.0694889\n",
      "[290]\tcv_agg's rmse: 3.66515 + 0.0694071\n",
      "[300]\tcv_agg's rmse: 3.66466 + 0.0693819\n",
      "[310]\tcv_agg's rmse: 3.66421 + 0.0694061\n",
      "[320]\tcv_agg's rmse: 3.66362 + 0.069445\n",
      "[330]\tcv_agg's rmse: 3.66308 + 0.0693686\n",
      "[340]\tcv_agg's rmse: 3.66259 + 0.069433\n",
      "[350]\tcv_agg's rmse: 3.66223 + 0.0694279\n",
      "[360]\tcv_agg's rmse: 3.66192 + 0.0693996\n",
      "[370]\tcv_agg's rmse: 3.6616 + 0.0695349\n",
      "[380]\tcv_agg's rmse: 3.66141 + 0.0694569\n",
      "[390]\tcv_agg's rmse: 3.66117 + 0.0694378\n",
      "[400]\tcv_agg's rmse: 3.66105 + 0.069445\n",
      "[410]\tcv_agg's rmse: 3.6608 + 0.0695333\n",
      "[420]\tcv_agg's rmse: 3.66071 + 0.0695245\n",
      "[430]\tcv_agg's rmse: 3.66057 + 0.0695073\n",
      "[440]\tcv_agg's rmse: 3.6604 + 0.0694243\n",
      "[450]\tcv_agg's rmse: 3.66019 + 0.0693625\n",
      "[460]\tcv_agg's rmse: 3.66002 + 0.0693239\n",
      "[470]\tcv_agg's rmse: 3.65996 + 0.0693402\n",
      "[480]\tcv_agg's rmse: 3.65992 + 0.0692978\n",
      "[490]\tcv_agg's rmse: 3.65982 + 0.0693422\n",
      "[500]\tcv_agg's rmse: 3.65969 + 0.0692936\n",
      "[3.659312528156499, 3.6593143714040357, 3.6593731629323663, 3.6593213315855686, 3.6590754972585544, 3.6587630783031586, 3.6587630783031586, 3.6587630783031586, 3.6587630783031586, 3.6585884635069634, 3.658928720347265, 3.6596865672558403]\n"
     ]
    },
    {
     "name": "stderr",
     "output_type": "stream",
     "text": [
      "C:\\Users\\tanch\\anaconda3\\envs\\ml\\lib\\site-packages\\lightgbm\\engine.py:577: UserWarning: 'early_stopping_rounds' argument is deprecated and will be removed in a future release of LightGBM. Pass 'early_stopping()' callback via 'callbacks' argument instead.\n",
      "  _log_warning(\"'early_stopping_rounds' argument is deprecated and will be removed in a future release of LightGBM. \"\n"
     ]
    },
    {
     "name": "stdout",
     "output_type": "stream",
     "text": [
      "[LightGBM] [Info] Total Bins 81037\n",
      "[LightGBM] [Info] Number of data points in the train set: 161532, number of used features: 429\n",
      "[LightGBM] [Info] Total Bins 81037\n",
      "[LightGBM] [Info] Number of data points in the train set: 161532, number of used features: 429\n",
      "[LightGBM] [Info] Total Bins 81037\n",
      "[LightGBM] [Info] Number of data points in the train set: 161532, number of used features: 429\n",
      "[LightGBM] [Info] Total Bins 81037\n",
      "[LightGBM] [Info] Number of data points in the train set: 161532, number of used features: 429\n",
      "[LightGBM] [Info] Total Bins 81037\n",
      "[LightGBM] [Info] Number of data points in the train set: 161532, number of used features: 429\n",
      "[LightGBM] [Info] Start training from score -0.387307\n"
     ]
    },
    {
     "name": "stderr",
     "output_type": "stream",
     "text": [
      "C:\\Users\\tanch\\anaconda3\\envs\\ml\\lib\\site-packages\\lightgbm\\engine.py:620: UserWarning: 'verbose_eval' argument is deprecated and will be removed in a future release of LightGBM. Pass 'log_evaluation()' callback via 'callbacks' argument instead.\n",
      "  _log_warning(\"'verbose_eval' argument is deprecated and will be removed in a future release of LightGBM. \"\n"
     ]
    },
    {
     "name": "stdout",
     "output_type": "stream",
     "text": [
      "[LightGBM] [Info] Start training from score -0.394715\n",
      "[LightGBM] [Info] Start training from score -0.396989\n",
      "[LightGBM] [Info] Start training from score -0.400525\n",
      "[LightGBM] [Info] Start training from score -0.388645\n",
      "[10]\tcv_agg's rmse: 3.82261 + 0.0700541\n",
      "[20]\tcv_agg's rmse: 3.80014 + 0.0701697\n",
      "[30]\tcv_agg's rmse: 3.78125 + 0.0702362\n",
      "[40]\tcv_agg's rmse: 3.76487 + 0.0701462\n",
      "[50]\tcv_agg's rmse: 3.75052 + 0.0700685\n",
      "[60]\tcv_agg's rmse: 3.73865 + 0.0703071\n",
      "[70]\tcv_agg's rmse: 3.72839 + 0.0703347\n",
      "[80]\tcv_agg's rmse: 3.71975 + 0.0703676\n",
      "[90]\tcv_agg's rmse: 3.71225 + 0.0702182\n",
      "[100]\tcv_agg's rmse: 3.70542 + 0.0699652\n",
      "[110]\tcv_agg's rmse: 3.69994 + 0.0699457\n",
      "[120]\tcv_agg's rmse: 3.69522 + 0.0698348\n",
      "[130]\tcv_agg's rmse: 3.69118 + 0.0696637\n",
      "[140]\tcv_agg's rmse: 3.6876 + 0.0697349\n",
      "[150]\tcv_agg's rmse: 3.68465 + 0.0696635\n",
      "[160]\tcv_agg's rmse: 3.68189 + 0.0694911\n",
      "[170]\tcv_agg's rmse: 3.67953 + 0.0693603\n",
      "[180]\tcv_agg's rmse: 3.67724 + 0.0693725\n",
      "[190]\tcv_agg's rmse: 3.67541 + 0.0693074\n",
      "[200]\tcv_agg's rmse: 3.67385 + 0.0691709\n",
      "[210]\tcv_agg's rmse: 3.67226 + 0.0691227\n",
      "[220]\tcv_agg's rmse: 3.671 + 0.0689738\n",
      "[230]\tcv_agg's rmse: 3.66977 + 0.0689223\n",
      "[240]\tcv_agg's rmse: 3.6686 + 0.0687809\n",
      "[250]\tcv_agg's rmse: 3.66761 + 0.0688489\n",
      "[260]\tcv_agg's rmse: 3.66667 + 0.0689548\n",
      "[270]\tcv_agg's rmse: 3.66589 + 0.0689288\n",
      "[280]\tcv_agg's rmse: 3.66515 + 0.0689238\n",
      "[290]\tcv_agg's rmse: 3.66443 + 0.0688985\n",
      "[300]\tcv_agg's rmse: 3.66391 + 0.0687595\n",
      "[310]\tcv_agg's rmse: 3.66336 + 0.0687064\n",
      "[320]\tcv_agg's rmse: 3.66273 + 0.0686521\n",
      "[330]\tcv_agg's rmse: 3.66222 + 0.0685099\n",
      "[340]\tcv_agg's rmse: 3.66175 + 0.068574\n",
      "[350]\tcv_agg's rmse: 3.66128 + 0.0684984\n",
      "[360]\tcv_agg's rmse: 3.6609 + 0.0684872\n",
      "[370]\tcv_agg's rmse: 3.66064 + 0.0686396\n",
      "[380]\tcv_agg's rmse: 3.66046 + 0.0686731\n",
      "[390]\tcv_agg's rmse: 3.6602 + 0.0686128\n",
      "[400]\tcv_agg's rmse: 3.66002 + 0.0686305\n",
      "[410]\tcv_agg's rmse: 3.65982 + 0.0686683\n",
      "[420]\tcv_agg's rmse: 3.65967 + 0.0685955\n",
      "[430]\tcv_agg's rmse: 3.65954 + 0.0685768\n",
      "[440]\tcv_agg's rmse: 3.65947 + 0.0685443\n",
      "[450]\tcv_agg's rmse: 3.65934 + 0.068525\n",
      "[460]\tcv_agg's rmse: 3.65924 + 0.0685174\n",
      "[470]\tcv_agg's rmse: 3.65901 + 0.0685436\n",
      "[480]\tcv_agg's rmse: 3.65884 + 0.0686098\n",
      "[490]\tcv_agg's rmse: 3.65875 + 0.0686417\n",
      "[500]\tcv_agg's rmse: 3.65869 + 0.0686201\n",
      "[3.659312528156499, 3.6593143714040357, 3.6593731629323663, 3.6593213315855686, 3.6590754972585544, 3.6587630783031586, 3.6587630783031586, 3.6587630783031586, 3.6587630783031586, 3.6585884635069634, 3.658928720347265, 3.6596865672558403, 3.6586710103407767]\n"
     ]
    },
    {
     "name": "stderr",
     "output_type": "stream",
     "text": [
      "C:\\Users\\tanch\\anaconda3\\envs\\ml\\lib\\site-packages\\lightgbm\\engine.py:577: UserWarning: 'early_stopping_rounds' argument is deprecated and will be removed in a future release of LightGBM. Pass 'early_stopping()' callback via 'callbacks' argument instead.\n",
      "  _log_warning(\"'early_stopping_rounds' argument is deprecated and will be removed in a future release of LightGBM. \"\n"
     ]
    },
    {
     "name": "stdout",
     "output_type": "stream",
     "text": [
      "[LightGBM] [Info] Total Bins 81015\n",
      "[LightGBM] [Info] Number of data points in the train set: 161532, number of used features: 428\n",
      "[LightGBM] [Info] Total Bins 81015\n",
      "[LightGBM] [Info] Number of data points in the train set: 161532, number of used features: 428\n",
      "[LightGBM] [Info] Total Bins 81015\n",
      "[LightGBM] [Info] Number of data points in the train set: 161532, number of used features: 428\n",
      "[LightGBM] [Info] Total Bins 81015\n",
      "[LightGBM] [Info] Number of data points in the train set: 161532, number of used features: 428\n",
      "[LightGBM] [Info] Total Bins 81015\n",
      "[LightGBM] [Info] Number of data points in the train set: 161532, number of used features: 428\n",
      "[LightGBM] [Info] Start training from score -0.387307\n"
     ]
    },
    {
     "name": "stderr",
     "output_type": "stream",
     "text": [
      "C:\\Users\\tanch\\anaconda3\\envs\\ml\\lib\\site-packages\\lightgbm\\engine.py:620: UserWarning: 'verbose_eval' argument is deprecated and will be removed in a future release of LightGBM. Pass 'log_evaluation()' callback via 'callbacks' argument instead.\n",
      "  _log_warning(\"'verbose_eval' argument is deprecated and will be removed in a future release of LightGBM. \"\n"
     ]
    },
    {
     "name": "stdout",
     "output_type": "stream",
     "text": [
      "[LightGBM] [Info] Start training from score -0.394715\n",
      "[LightGBM] [Info] Start training from score -0.396989\n",
      "[LightGBM] [Info] Start training from score -0.400525\n",
      "[LightGBM] [Info] Start training from score -0.388645\n",
      "[10]\tcv_agg's rmse: 3.82257 + 0.0699167\n",
      "[20]\tcv_agg's rmse: 3.7999 + 0.0700897\n",
      "[30]\tcv_agg's rmse: 3.78074 + 0.0702593\n",
      "[40]\tcv_agg's rmse: 3.76423 + 0.0701336\n",
      "[50]\tcv_agg's rmse: 3.75033 + 0.0703096\n",
      "[60]\tcv_agg's rmse: 3.73846 + 0.0705247\n",
      "[70]\tcv_agg's rmse: 3.72857 + 0.0705911\n",
      "[80]\tcv_agg's rmse: 3.72016 + 0.0703564\n",
      "[90]\tcv_agg's rmse: 3.71269 + 0.0702547\n",
      "[100]\tcv_agg's rmse: 3.70605 + 0.0701623\n",
      "[110]\tcv_agg's rmse: 3.70044 + 0.0701548\n",
      "[120]\tcv_agg's rmse: 3.6957 + 0.070048\n",
      "[130]\tcv_agg's rmse: 3.69148 + 0.0699508\n",
      "[140]\tcv_agg's rmse: 3.68764 + 0.0699931\n",
      "[150]\tcv_agg's rmse: 3.68451 + 0.0699107\n",
      "[160]\tcv_agg's rmse: 3.68182 + 0.0699698\n",
      "[170]\tcv_agg's rmse: 3.67953 + 0.0700425\n",
      "[180]\tcv_agg's rmse: 3.67739 + 0.0699649\n",
      "[190]\tcv_agg's rmse: 3.67543 + 0.0699149\n",
      "[200]\tcv_agg's rmse: 3.6738 + 0.0699155\n",
      "[210]\tcv_agg's rmse: 3.67234 + 0.0698592\n",
      "[220]\tcv_agg's rmse: 3.67104 + 0.0697649\n",
      "[230]\tcv_agg's rmse: 3.66989 + 0.0696715\n",
      "[240]\tcv_agg's rmse: 3.66865 + 0.0695511\n",
      "[250]\tcv_agg's rmse: 3.66759 + 0.069553\n",
      "[260]\tcv_agg's rmse: 3.66666 + 0.0695873\n",
      "[270]\tcv_agg's rmse: 3.66583 + 0.0696354\n",
      "[280]\tcv_agg's rmse: 3.66496 + 0.0697084\n",
      "[290]\tcv_agg's rmse: 3.6642 + 0.0696228\n",
      "[300]\tcv_agg's rmse: 3.66361 + 0.0696834\n",
      "[310]\tcv_agg's rmse: 3.66304 + 0.0696128\n",
      "[320]\tcv_agg's rmse: 3.66245 + 0.0695062\n",
      "[330]\tcv_agg's rmse: 3.66202 + 0.0694812\n",
      "[340]\tcv_agg's rmse: 3.66158 + 0.069516\n",
      "[350]\tcv_agg's rmse: 3.66126 + 0.0695134\n",
      "[360]\tcv_agg's rmse: 3.66091 + 0.0695308\n",
      "[370]\tcv_agg's rmse: 3.6607 + 0.0696372\n",
      "[380]\tcv_agg's rmse: 3.66045 + 0.0697267\n",
      "[390]\tcv_agg's rmse: 3.66011 + 0.0696036\n",
      "[400]\tcv_agg's rmse: 3.65983 + 0.069559\n",
      "[410]\tcv_agg's rmse: 3.65965 + 0.069472\n",
      "[420]\tcv_agg's rmse: 3.65961 + 0.0695101\n",
      "[430]\tcv_agg's rmse: 3.65943 + 0.0695313\n",
      "[440]\tcv_agg's rmse: 3.65929 + 0.0694286\n",
      "[450]\tcv_agg's rmse: 3.65918 + 0.0693597\n",
      "[460]\tcv_agg's rmse: 3.65897 + 0.0693267\n",
      "[470]\tcv_agg's rmse: 3.6588 + 0.0692975\n",
      "[480]\tcv_agg's rmse: 3.65873 + 0.0692926\n",
      "[490]\tcv_agg's rmse: 3.65867 + 0.069225\n",
      "[500]\tcv_agg's rmse: 3.65871 + 0.0692331\n",
      "[3.659312528156499, 3.6593143714040357, 3.6593731629323663, 3.6593213315855686, 3.6590754972585544, 3.6587630783031586, 3.6587630783031586, 3.6587630783031586, 3.6587630783031586, 3.6585884635069634, 3.658928720347265, 3.6596865672558403, 3.6586710103407767, 3.6586093254749272]\n"
     ]
    },
    {
     "name": "stderr",
     "output_type": "stream",
     "text": [
      "C:\\Users\\tanch\\anaconda3\\envs\\ml\\lib\\site-packages\\lightgbm\\engine.py:577: UserWarning: 'early_stopping_rounds' argument is deprecated and will be removed in a future release of LightGBM. Pass 'early_stopping()' callback via 'callbacks' argument instead.\n",
      "  _log_warning(\"'early_stopping_rounds' argument is deprecated and will be removed in a future release of LightGBM. \"\n"
     ]
    },
    {
     "name": "stdout",
     "output_type": "stream",
     "text": [
      "[LightGBM] [Info] Total Bins 80760\n",
      "[LightGBM] [Info] Number of data points in the train set: 161532, number of used features: 427\n",
      "[LightGBM] [Info] Total Bins 80760\n",
      "[LightGBM] [Info] Number of data points in the train set: 161532, number of used features: 427\n",
      "[LightGBM] [Info] Total Bins 80760\n",
      "[LightGBM] [Info] Number of data points in the train set: 161532, number of used features: 427\n",
      "[LightGBM] [Info] Total Bins 80760\n",
      "[LightGBM] [Info] Number of data points in the train set: 161532, number of used features: 427\n",
      "[LightGBM] [Info] Total Bins 80760\n",
      "[LightGBM] [Info] Number of data points in the train set: 161532, number of used features: 427\n",
      "[LightGBM] [Info] Start training from score -0.387307\n"
     ]
    },
    {
     "name": "stderr",
     "output_type": "stream",
     "text": [
      "C:\\Users\\tanch\\anaconda3\\envs\\ml\\lib\\site-packages\\lightgbm\\engine.py:620: UserWarning: 'verbose_eval' argument is deprecated and will be removed in a future release of LightGBM. Pass 'log_evaluation()' callback via 'callbacks' argument instead.\n",
      "  _log_warning(\"'verbose_eval' argument is deprecated and will be removed in a future release of LightGBM. \"\n"
     ]
    },
    {
     "name": "stdout",
     "output_type": "stream",
     "text": [
      "[LightGBM] [Info] Start training from score -0.394715\n",
      "[LightGBM] [Info] Start training from score -0.396989\n",
      "[LightGBM] [Info] Start training from score -0.400525\n",
      "[LightGBM] [Info] Start training from score -0.388645\n",
      "[10]\tcv_agg's rmse: 3.823 + 0.0702543\n",
      "[20]\tcv_agg's rmse: 3.8007 + 0.0702424\n",
      "[30]\tcv_agg's rmse: 3.78138 + 0.0705386\n",
      "[40]\tcv_agg's rmse: 3.76481 + 0.0703516\n",
      "[50]\tcv_agg's rmse: 3.75083 + 0.0704454\n",
      "[60]\tcv_agg's rmse: 3.73905 + 0.070467\n",
      "[70]\tcv_agg's rmse: 3.72909 + 0.0704073\n",
      "[80]\tcv_agg's rmse: 3.72037 + 0.0704638\n",
      "[90]\tcv_agg's rmse: 3.71304 + 0.0702487\n",
      "[100]\tcv_agg's rmse: 3.70646 + 0.0701054\n",
      "[110]\tcv_agg's rmse: 3.70075 + 0.0701276\n",
      "[120]\tcv_agg's rmse: 3.69597 + 0.0701375\n",
      "[130]\tcv_agg's rmse: 3.69161 + 0.0699624\n",
      "[140]\tcv_agg's rmse: 3.68785 + 0.0697426\n",
      "[150]\tcv_agg's rmse: 3.68474 + 0.0697501\n",
      "[160]\tcv_agg's rmse: 3.68214 + 0.0696755\n",
      "[170]\tcv_agg's rmse: 3.67972 + 0.0695116\n",
      "[180]\tcv_agg's rmse: 3.67738 + 0.069471\n",
      "[190]\tcv_agg's rmse: 3.67554 + 0.0694289\n",
      "[200]\tcv_agg's rmse: 3.67402 + 0.0693342\n",
      "[210]\tcv_agg's rmse: 3.67243 + 0.0692704\n",
      "[220]\tcv_agg's rmse: 3.67109 + 0.0691581\n",
      "[230]\tcv_agg's rmse: 3.6698 + 0.069167\n",
      "[240]\tcv_agg's rmse: 3.66862 + 0.0689805\n",
      "[250]\tcv_agg's rmse: 3.66765 + 0.0689035\n",
      "[260]\tcv_agg's rmse: 3.66672 + 0.0688626\n",
      "[270]\tcv_agg's rmse: 3.66589 + 0.0688697\n",
      "[280]\tcv_agg's rmse: 3.66517 + 0.0688677\n",
      "[290]\tcv_agg's rmse: 3.66446 + 0.0689259\n",
      "[300]\tcv_agg's rmse: 3.6639 + 0.0690065\n",
      "[310]\tcv_agg's rmse: 3.66323 + 0.0689391\n",
      "[320]\tcv_agg's rmse: 3.66255 + 0.068861\n",
      "[330]\tcv_agg's rmse: 3.66204 + 0.0688007\n",
      "[340]\tcv_agg's rmse: 3.66147 + 0.0688944\n",
      "[350]\tcv_agg's rmse: 3.66113 + 0.0689447\n",
      "[360]\tcv_agg's rmse: 3.66074 + 0.0688759\n",
      "[370]\tcv_agg's rmse: 3.6604 + 0.0688509\n",
      "[380]\tcv_agg's rmse: 3.66021 + 0.0688162\n",
      "[390]\tcv_agg's rmse: 3.65997 + 0.0688957\n",
      "[400]\tcv_agg's rmse: 3.65982 + 0.0689084\n",
      "[410]\tcv_agg's rmse: 3.6597 + 0.0689664\n",
      "[420]\tcv_agg's rmse: 3.65961 + 0.0689932\n",
      "[430]\tcv_agg's rmse: 3.65949 + 0.0689719\n",
      "[440]\tcv_agg's rmse: 3.65935 + 0.0689395\n",
      "[450]\tcv_agg's rmse: 3.6592 + 0.0688447\n",
      "[460]\tcv_agg's rmse: 3.65904 + 0.0688307\n",
      "[470]\tcv_agg's rmse: 3.65887 + 0.0688298\n",
      "[480]\tcv_agg's rmse: 3.65872 + 0.0688117\n",
      "[490]\tcv_agg's rmse: 3.65856 + 0.068706\n",
      "[3.659312528156499, 3.6593143714040357, 3.6593731629323663, 3.6593213315855686, 3.6590754972585544, 3.6587630783031586, 3.6587630783031586, 3.6587630783031586, 3.6587630783031586, 3.6585884635069634, 3.658928720347265, 3.6596865672558403, 3.6586710103407767, 3.6586093254749272, 3.6585393398799417]\n"
     ]
    },
    {
     "name": "stderr",
     "output_type": "stream",
     "text": [
      "C:\\Users\\tanch\\anaconda3\\envs\\ml\\lib\\site-packages\\lightgbm\\engine.py:577: UserWarning: 'early_stopping_rounds' argument is deprecated and will be removed in a future release of LightGBM. Pass 'early_stopping()' callback via 'callbacks' argument instead.\n",
      "  _log_warning(\"'early_stopping_rounds' argument is deprecated and will be removed in a future release of LightGBM. \"\n"
     ]
    },
    {
     "name": "stdout",
     "output_type": "stream",
     "text": [
      "[LightGBM] [Info] Total Bins 80734\n",
      "[LightGBM] [Info] Number of data points in the train set: 161532, number of used features: 426\n",
      "[LightGBM] [Info] Total Bins 80734\n",
      "[LightGBM] [Info] Number of data points in the train set: 161532, number of used features: 426\n",
      "[LightGBM] [Info] Total Bins 80734\n",
      "[LightGBM] [Info] Number of data points in the train set: 161532, number of used features: 426\n",
      "[LightGBM] [Info] Total Bins 80734\n",
      "[LightGBM] [Info] Number of data points in the train set: 161532, number of used features: 426\n",
      "[LightGBM] [Info] Total Bins 80734\n",
      "[LightGBM] [Info] Number of data points in the train set: 161532, number of used features: 426\n",
      "[LightGBM] [Info] Start training from score -0.387307\n"
     ]
    },
    {
     "name": "stderr",
     "output_type": "stream",
     "text": [
      "C:\\Users\\tanch\\anaconda3\\envs\\ml\\lib\\site-packages\\lightgbm\\engine.py:620: UserWarning: 'verbose_eval' argument is deprecated and will be removed in a future release of LightGBM. Pass 'log_evaluation()' callback via 'callbacks' argument instead.\n",
      "  _log_warning(\"'verbose_eval' argument is deprecated and will be removed in a future release of LightGBM. \"\n"
     ]
    },
    {
     "name": "stdout",
     "output_type": "stream",
     "text": [
      "[LightGBM] [Info] Start training from score -0.394715\n",
      "[LightGBM] [Info] Start training from score -0.396989\n",
      "[LightGBM] [Info] Start training from score -0.400525\n",
      "[LightGBM] [Info] Start training from score -0.388645\n",
      "[10]\tcv_agg's rmse: 3.82335 + 0.0702795\n",
      "[20]\tcv_agg's rmse: 3.80007 + 0.0704133\n",
      "[30]\tcv_agg's rmse: 3.78104 + 0.0703836\n",
      "[40]\tcv_agg's rmse: 3.76455 + 0.0701991\n",
      "[50]\tcv_agg's rmse: 3.75013 + 0.0701379\n",
      "[60]\tcv_agg's rmse: 3.73853 + 0.0703405\n",
      "[70]\tcv_agg's rmse: 3.72842 + 0.0703519\n",
      "[80]\tcv_agg's rmse: 3.71973 + 0.0703064\n",
      "[90]\tcv_agg's rmse: 3.71218 + 0.0700073\n",
      "[100]\tcv_agg's rmse: 3.70569 + 0.0698467\n",
      "[110]\tcv_agg's rmse: 3.7001 + 0.0699904\n",
      "[120]\tcv_agg's rmse: 3.69533 + 0.0698072\n",
      "[130]\tcv_agg's rmse: 3.69119 + 0.0696733\n",
      "[140]\tcv_agg's rmse: 3.68743 + 0.0695386\n",
      "[150]\tcv_agg's rmse: 3.68436 + 0.0694292\n",
      "[160]\tcv_agg's rmse: 3.68165 + 0.0694688\n",
      "[170]\tcv_agg's rmse: 3.67913 + 0.0696016\n",
      "[180]\tcv_agg's rmse: 3.67693 + 0.0695468\n",
      "[190]\tcv_agg's rmse: 3.67512 + 0.0694902\n",
      "[200]\tcv_agg's rmse: 3.67361 + 0.0693755\n",
      "[210]\tcv_agg's rmse: 3.67213 + 0.0693592\n",
      "[220]\tcv_agg's rmse: 3.67072 + 0.0693382\n",
      "[230]\tcv_agg's rmse: 3.66951 + 0.0693423\n",
      "[240]\tcv_agg's rmse: 3.66833 + 0.0691417\n",
      "[250]\tcv_agg's rmse: 3.66734 + 0.0690239\n",
      "[260]\tcv_agg's rmse: 3.66644 + 0.0690137\n",
      "[270]\tcv_agg's rmse: 3.66566 + 0.0689801\n",
      "[280]\tcv_agg's rmse: 3.66502 + 0.0690749\n",
      "[290]\tcv_agg's rmse: 3.66443 + 0.069015\n",
      "[300]\tcv_agg's rmse: 3.6639 + 0.0690293\n",
      "[310]\tcv_agg's rmse: 3.66333 + 0.0689374\n",
      "[320]\tcv_agg's rmse: 3.66278 + 0.0688751\n",
      "[330]\tcv_agg's rmse: 3.66235 + 0.0688182\n",
      "[340]\tcv_agg's rmse: 3.66183 + 0.0688078\n",
      "[350]\tcv_agg's rmse: 3.66146 + 0.0687605\n",
      "[360]\tcv_agg's rmse: 3.66114 + 0.0686451\n",
      "[370]\tcv_agg's rmse: 3.6609 + 0.0687215\n",
      "[380]\tcv_agg's rmse: 3.66059 + 0.0687668\n",
      "[390]\tcv_agg's rmse: 3.66028 + 0.0687325\n",
      "[400]\tcv_agg's rmse: 3.66006 + 0.0687185\n",
      "[410]\tcv_agg's rmse: 3.65992 + 0.0687351\n",
      "[420]\tcv_agg's rmse: 3.6597 + 0.06874\n",
      "[430]\tcv_agg's rmse: 3.6595 + 0.0687299\n",
      "[440]\tcv_agg's rmse: 3.65941 + 0.0687674\n",
      "[450]\tcv_agg's rmse: 3.65922 + 0.0687134\n",
      "[460]\tcv_agg's rmse: 3.65918 + 0.0686852\n",
      "[470]\tcv_agg's rmse: 3.65906 + 0.0687028\n",
      "[480]\tcv_agg's rmse: 3.65894 + 0.0686454\n",
      "[490]\tcv_agg's rmse: 3.65885 + 0.0686404\n",
      "[500]\tcv_agg's rmse: 3.65876 + 0.0686489\n",
      "[3.659312528156499, 3.6593143714040357, 3.6593731629323663, 3.6593213315855686, 3.6590754972585544, 3.6587630783031586, 3.6587630783031586, 3.6587630783031586, 3.6587630783031586, 3.6585884635069634, 3.658928720347265, 3.6596865672558403, 3.6586710103407767, 3.6586093254749272, 3.6585393398799417, 3.6587559515089096]\n"
     ]
    },
    {
     "name": "stderr",
     "output_type": "stream",
     "text": [
      "C:\\Users\\tanch\\anaconda3\\envs\\ml\\lib\\site-packages\\lightgbm\\engine.py:577: UserWarning: 'early_stopping_rounds' argument is deprecated and will be removed in a future release of LightGBM. Pass 'early_stopping()' callback via 'callbacks' argument instead.\n",
      "  _log_warning(\"'early_stopping_rounds' argument is deprecated and will be removed in a future release of LightGBM. \"\n"
     ]
    },
    {
     "name": "stdout",
     "output_type": "stream",
     "text": [
      "[LightGBM] [Info] Total Bins 80727\n",
      "[LightGBM] [Info] Number of data points in the train set: 161532, number of used features: 425\n",
      "[LightGBM] [Info] Total Bins 80727\n",
      "[LightGBM] [Info] Number of data points in the train set: 161532, number of used features: 425\n",
      "[LightGBM] [Info] Total Bins 80727\n",
      "[LightGBM] [Info] Number of data points in the train set: 161532, number of used features: 425\n",
      "[LightGBM] [Info] Total Bins 80727\n",
      "[LightGBM] [Info] Number of data points in the train set: 161532, number of used features: 425\n",
      "[LightGBM] [Info] Total Bins 80727\n",
      "[LightGBM] [Info] Number of data points in the train set: 161532, number of used features: 425\n",
      "[LightGBM] [Info] Start training from score -0.387307\n"
     ]
    },
    {
     "name": "stderr",
     "output_type": "stream",
     "text": [
      "C:\\Users\\tanch\\anaconda3\\envs\\ml\\lib\\site-packages\\lightgbm\\engine.py:620: UserWarning: 'verbose_eval' argument is deprecated and will be removed in a future release of LightGBM. Pass 'log_evaluation()' callback via 'callbacks' argument instead.\n",
      "  _log_warning(\"'verbose_eval' argument is deprecated and will be removed in a future release of LightGBM. \"\n"
     ]
    },
    {
     "name": "stdout",
     "output_type": "stream",
     "text": [
      "[LightGBM] [Info] Start training from score -0.394715\n",
      "[LightGBM] [Info] Start training from score -0.396989\n",
      "[LightGBM] [Info] Start training from score -0.400525\n",
      "[LightGBM] [Info] Start training from score -0.388645\n",
      "[10]\tcv_agg's rmse: 3.82303 + 0.0701528\n",
      "[20]\tcv_agg's rmse: 3.80044 + 0.0704018\n",
      "[30]\tcv_agg's rmse: 3.78113 + 0.0704716\n",
      "[40]\tcv_agg's rmse: 3.76464 + 0.0703703\n",
      "[50]\tcv_agg's rmse: 3.75059 + 0.0703193\n",
      "[60]\tcv_agg's rmse: 3.73885 + 0.0704248\n",
      "[70]\tcv_agg's rmse: 3.72868 + 0.0704493\n",
      "[80]\tcv_agg's rmse: 3.71998 + 0.0703848\n",
      "[90]\tcv_agg's rmse: 3.71251 + 0.070181\n",
      "[100]\tcv_agg's rmse: 3.70583 + 0.0700829\n",
      "[110]\tcv_agg's rmse: 3.70044 + 0.0700575\n",
      "[120]\tcv_agg's rmse: 3.69574 + 0.0699134\n",
      "[130]\tcv_agg's rmse: 3.69149 + 0.0697342\n",
      "[140]\tcv_agg's rmse: 3.68784 + 0.069562\n",
      "[150]\tcv_agg's rmse: 3.68469 + 0.0695247\n",
      "[160]\tcv_agg's rmse: 3.68197 + 0.0694324\n",
      "[170]\tcv_agg's rmse: 3.67969 + 0.0692346\n",
      "[180]\tcv_agg's rmse: 3.67751 + 0.0692559\n",
      "[190]\tcv_agg's rmse: 3.67564 + 0.0692327\n",
      "[200]\tcv_agg's rmse: 3.67399 + 0.0692774\n",
      "[210]\tcv_agg's rmse: 3.67243 + 0.0691821\n",
      "[220]\tcv_agg's rmse: 3.67106 + 0.0691185\n",
      "[230]\tcv_agg's rmse: 3.66982 + 0.0691041\n",
      "[240]\tcv_agg's rmse: 3.66872 + 0.0691553\n",
      "[250]\tcv_agg's rmse: 3.66774 + 0.0691249\n",
      "[260]\tcv_agg's rmse: 3.66699 + 0.0691171\n",
      "[270]\tcv_agg's rmse: 3.66631 + 0.0691675\n",
      "[280]\tcv_agg's rmse: 3.66558 + 0.0691434\n",
      "[290]\tcv_agg's rmse: 3.66492 + 0.0691688\n",
      "[300]\tcv_agg's rmse: 3.6643 + 0.069174\n",
      "[310]\tcv_agg's rmse: 3.66388 + 0.0692095\n",
      "[320]\tcv_agg's rmse: 3.66331 + 0.0691434\n",
      "[330]\tcv_agg's rmse: 3.66276 + 0.0690922\n",
      "[340]\tcv_agg's rmse: 3.66232 + 0.0691547\n",
      "[350]\tcv_agg's rmse: 3.66186 + 0.0690998\n",
      "[360]\tcv_agg's rmse: 3.66151 + 0.0690077\n",
      "[370]\tcv_agg's rmse: 3.66122 + 0.0690033\n",
      "[380]\tcv_agg's rmse: 3.66097 + 0.0689467\n",
      "[390]\tcv_agg's rmse: 3.66076 + 0.0689575\n",
      "[400]\tcv_agg's rmse: 3.66056 + 0.0688512\n",
      "[410]\tcv_agg's rmse: 3.66044 + 0.0689954\n",
      "[420]\tcv_agg's rmse: 3.66015 + 0.0689784\n",
      "[430]\tcv_agg's rmse: 3.65996 + 0.0689817\n",
      "[440]\tcv_agg's rmse: 3.65986 + 0.068927\n",
      "[450]\tcv_agg's rmse: 3.6597 + 0.0689816\n",
      "[460]\tcv_agg's rmse: 3.65959 + 0.0689435\n",
      "[470]\tcv_agg's rmse: 3.65938 + 0.0690011\n",
      "[480]\tcv_agg's rmse: 3.65925 + 0.0690082\n",
      "[490]\tcv_agg's rmse: 3.6592 + 0.0690206\n",
      "[500]\tcv_agg's rmse: 3.65918 + 0.0690028\n",
      "[3.659312528156499, 3.6593143714040357, 3.6593731629323663, 3.6593213315855686, 3.6590754972585544, 3.6587630783031586, 3.6587630783031586, 3.6587630783031586, 3.6587630783031586, 3.6585884635069634, 3.658928720347265, 3.6596865672558403, 3.6586710103407767, 3.6586093254749272, 3.6585393398799417, 3.6587559515089096, 3.6591524587569673]\n"
     ]
    },
    {
     "name": "stderr",
     "output_type": "stream",
     "text": [
      "C:\\Users\\tanch\\anaconda3\\envs\\ml\\lib\\site-packages\\lightgbm\\engine.py:577: UserWarning: 'early_stopping_rounds' argument is deprecated and will be removed in a future release of LightGBM. Pass 'early_stopping()' callback via 'callbacks' argument instead.\n",
      "  _log_warning(\"'early_stopping_rounds' argument is deprecated and will be removed in a future release of LightGBM. \"\n"
     ]
    },
    {
     "name": "stdout",
     "output_type": "stream",
     "text": [
      "[LightGBM] [Info] Total Bins 80725\n",
      "[LightGBM] [Info] Number of data points in the train set: 161532, number of used features: 424\n",
      "[LightGBM] [Info] Total Bins 80725\n",
      "[LightGBM] [Info] Number of data points in the train set: 161532, number of used features: 424\n",
      "[LightGBM] [Info] Total Bins 80725\n",
      "[LightGBM] [Info] Number of data points in the train set: 161532, number of used features: 424\n",
      "[LightGBM] [Info] Total Bins 80725\n",
      "[LightGBM] [Info] Number of data points in the train set: 161532, number of used features: 424\n",
      "[LightGBM] [Info] Total Bins 80725\n",
      "[LightGBM] [Info] Number of data points in the train set: 161532, number of used features: 424\n",
      "[LightGBM] [Info] Start training from score -0.387307\n"
     ]
    },
    {
     "name": "stderr",
     "output_type": "stream",
     "text": [
      "C:\\Users\\tanch\\anaconda3\\envs\\ml\\lib\\site-packages\\lightgbm\\engine.py:620: UserWarning: 'verbose_eval' argument is deprecated and will be removed in a future release of LightGBM. Pass 'log_evaluation()' callback via 'callbacks' argument instead.\n",
      "  _log_warning(\"'verbose_eval' argument is deprecated and will be removed in a future release of LightGBM. \"\n"
     ]
    },
    {
     "name": "stdout",
     "output_type": "stream",
     "text": [
      "[LightGBM] [Info] Start training from score -0.394715\n",
      "[LightGBM] [Info] Start training from score -0.396989\n",
      "[LightGBM] [Info] Start training from score -0.400525\n",
      "[LightGBM] [Info] Start training from score -0.388645\n",
      "[10]\tcv_agg's rmse: 3.82287 + 0.0701899\n",
      "[20]\tcv_agg's rmse: 3.80023 + 0.0701083\n",
      "[30]\tcv_agg's rmse: 3.78131 + 0.0700074\n",
      "[40]\tcv_agg's rmse: 3.76482 + 0.0698038\n",
      "[50]\tcv_agg's rmse: 3.75074 + 0.0698113\n",
      "[60]\tcv_agg's rmse: 3.73872 + 0.0699165\n",
      "[70]\tcv_agg's rmse: 3.72828 + 0.0700279\n",
      "[80]\tcv_agg's rmse: 3.71946 + 0.0698767\n",
      "[90]\tcv_agg's rmse: 3.71192 + 0.0697551\n",
      "[100]\tcv_agg's rmse: 3.7053 + 0.0697935\n",
      "[110]\tcv_agg's rmse: 3.69968 + 0.0698038\n",
      "[120]\tcv_agg's rmse: 3.695 + 0.0698364\n",
      "[130]\tcv_agg's rmse: 3.69095 + 0.0696911\n",
      "[140]\tcv_agg's rmse: 3.68726 + 0.0695403\n",
      "[150]\tcv_agg's rmse: 3.68423 + 0.0695283\n",
      "[160]\tcv_agg's rmse: 3.68149 + 0.0694978\n",
      "[170]\tcv_agg's rmse: 3.67925 + 0.0692609\n",
      "[180]\tcv_agg's rmse: 3.67701 + 0.0692207\n",
      "[190]\tcv_agg's rmse: 3.67504 + 0.0691659\n",
      "[200]\tcv_agg's rmse: 3.6735 + 0.0691412\n",
      "[210]\tcv_agg's rmse: 3.67201 + 0.0690911\n",
      "[220]\tcv_agg's rmse: 3.67076 + 0.068983\n",
      "[230]\tcv_agg's rmse: 3.6696 + 0.0689569\n",
      "[240]\tcv_agg's rmse: 3.66831 + 0.0688953\n",
      "[250]\tcv_agg's rmse: 3.66718 + 0.0688573\n",
      "[260]\tcv_agg's rmse: 3.66635 + 0.0688502\n",
      "[270]\tcv_agg's rmse: 3.66548 + 0.0689291\n",
      "[280]\tcv_agg's rmse: 3.6648 + 0.0688495\n",
      "[290]\tcv_agg's rmse: 3.66413 + 0.0689323\n",
      "[300]\tcv_agg's rmse: 3.66353 + 0.0689427\n",
      "[310]\tcv_agg's rmse: 3.6629 + 0.0690488\n",
      "[320]\tcv_agg's rmse: 3.66236 + 0.0690288\n",
      "[330]\tcv_agg's rmse: 3.66189 + 0.069034\n",
      "[340]\tcv_agg's rmse: 3.66147 + 0.0691197\n",
      "[350]\tcv_agg's rmse: 3.66104 + 0.0691679\n",
      "[360]\tcv_agg's rmse: 3.66071 + 0.0690954\n",
      "[370]\tcv_agg's rmse: 3.66048 + 0.069174\n",
      "[380]\tcv_agg's rmse: 3.66021 + 0.0691146\n",
      "[390]\tcv_agg's rmse: 3.65989 + 0.0691175\n",
      "[400]\tcv_agg's rmse: 3.6597 + 0.0691851\n",
      "[410]\tcv_agg's rmse: 3.65947 + 0.0692732\n",
      "[420]\tcv_agg's rmse: 3.65932 + 0.0692669\n",
      "[430]\tcv_agg's rmse: 3.65909 + 0.0692935\n",
      "[440]\tcv_agg's rmse: 3.6588 + 0.0693237\n",
      "[450]\tcv_agg's rmse: 3.65867 + 0.0692742\n",
      "[460]\tcv_agg's rmse: 3.65854 + 0.0693439\n",
      "[470]\tcv_agg's rmse: 3.65838 + 0.0692756\n",
      "[480]\tcv_agg's rmse: 3.65832 + 0.0692878\n",
      "[490]\tcv_agg's rmse: 3.65824 + 0.0692364\n",
      "[500]\tcv_agg's rmse: 3.65811 + 0.0692277\n",
      "[3.659312528156499, 3.6593143714040357, 3.6593731629323663, 3.6593213315855686, 3.6590754972585544, 3.6587630783031586, 3.6587630783031586, 3.6587630783031586, 3.6587630783031586, 3.6585884635069634, 3.658928720347265, 3.6596865672558403, 3.6586710103407767, 3.6586093254749272, 3.6585393398799417, 3.6587559515089096, 3.6591524587569673, 3.6581050272358624]\n"
     ]
    },
    {
     "name": "stderr",
     "output_type": "stream",
     "text": [
      "C:\\Users\\tanch\\anaconda3\\envs\\ml\\lib\\site-packages\\lightgbm\\engine.py:577: UserWarning: 'early_stopping_rounds' argument is deprecated and will be removed in a future release of LightGBM. Pass 'early_stopping()' callback via 'callbacks' argument instead.\n",
      "  _log_warning(\"'early_stopping_rounds' argument is deprecated and will be removed in a future release of LightGBM. \"\n"
     ]
    },
    {
     "name": "stdout",
     "output_type": "stream",
     "text": [
      "[LightGBM] [Info] Total Bins 80546\n",
      "[LightGBM] [Info] Number of data points in the train set: 161532, number of used features: 423\n",
      "[LightGBM] [Info] Total Bins 80546\n",
      "[LightGBM] [Info] Number of data points in the train set: 161532, number of used features: 423\n",
      "[LightGBM] [Info] Total Bins 80546\n",
      "[LightGBM] [Info] Number of data points in the train set: 161532, number of used features: 423\n",
      "[LightGBM] [Info] Total Bins 80546\n",
      "[LightGBM] [Info] Number of data points in the train set: 161532, number of used features: 423\n",
      "[LightGBM] [Info] Total Bins 80546\n",
      "[LightGBM] [Info] Number of data points in the train set: 161532, number of used features: 423\n",
      "[LightGBM] [Info] Start training from score -0.387307\n"
     ]
    },
    {
     "name": "stderr",
     "output_type": "stream",
     "text": [
      "C:\\Users\\tanch\\anaconda3\\envs\\ml\\lib\\site-packages\\lightgbm\\engine.py:620: UserWarning: 'verbose_eval' argument is deprecated and will be removed in a future release of LightGBM. Pass 'log_evaluation()' callback via 'callbacks' argument instead.\n",
      "  _log_warning(\"'verbose_eval' argument is deprecated and will be removed in a future release of LightGBM. \"\n"
     ]
    },
    {
     "name": "stdout",
     "output_type": "stream",
     "text": [
      "[LightGBM] [Info] Start training from score -0.394715\n",
      "[LightGBM] [Info] Start training from score -0.396989\n",
      "[LightGBM] [Info] Start training from score -0.400525\n",
      "[LightGBM] [Info] Start training from score -0.388645\n",
      "[10]\tcv_agg's rmse: 3.82308 + 0.070224\n",
      "[20]\tcv_agg's rmse: 3.80015 + 0.0703942\n",
      "[30]\tcv_agg's rmse: 3.78103 + 0.070577\n",
      "[40]\tcv_agg's rmse: 3.76411 + 0.0704426\n",
      "[50]\tcv_agg's rmse: 3.75003 + 0.0703753\n",
      "[60]\tcv_agg's rmse: 3.73804 + 0.070526\n",
      "[70]\tcv_agg's rmse: 3.72777 + 0.0706271\n",
      "[80]\tcv_agg's rmse: 3.71923 + 0.0706213\n",
      "[90]\tcv_agg's rmse: 3.7119 + 0.0704403\n",
      "[100]\tcv_agg's rmse: 3.70564 + 0.0703056\n",
      "[110]\tcv_agg's rmse: 3.70002 + 0.0702514\n",
      "[120]\tcv_agg's rmse: 3.69522 + 0.0701256\n",
      "[130]\tcv_agg's rmse: 3.69129 + 0.0699507\n",
      "[140]\tcv_agg's rmse: 3.68769 + 0.0699276\n",
      "[150]\tcv_agg's rmse: 3.68472 + 0.0699059\n",
      "[160]\tcv_agg's rmse: 3.68194 + 0.0698178\n",
      "[170]\tcv_agg's rmse: 3.67968 + 0.0696027\n",
      "[180]\tcv_agg's rmse: 3.67748 + 0.0695703\n",
      "[190]\tcv_agg's rmse: 3.67558 + 0.0694811\n",
      "[200]\tcv_agg's rmse: 3.67401 + 0.0696133\n",
      "[210]\tcv_agg's rmse: 3.67248 + 0.0695154\n",
      "[220]\tcv_agg's rmse: 3.67124 + 0.0694608\n",
      "[230]\tcv_agg's rmse: 3.67001 + 0.0694543\n",
      "[240]\tcv_agg's rmse: 3.6689 + 0.0693761\n",
      "[250]\tcv_agg's rmse: 3.66786 + 0.069412\n",
      "[260]\tcv_agg's rmse: 3.66711 + 0.0695487\n",
      "[270]\tcv_agg's rmse: 3.66636 + 0.0695333\n",
      "[280]\tcv_agg's rmse: 3.66568 + 0.0694458\n",
      "[290]\tcv_agg's rmse: 3.66488 + 0.0693065\n",
      "[300]\tcv_agg's rmse: 3.66426 + 0.0693509\n",
      "[310]\tcv_agg's rmse: 3.66364 + 0.0692242\n",
      "[320]\tcv_agg's rmse: 3.66314 + 0.0692874\n",
      "[330]\tcv_agg's rmse: 3.66259 + 0.0691085\n",
      "[340]\tcv_agg's rmse: 3.66205 + 0.0691541\n",
      "[350]\tcv_agg's rmse: 3.66169 + 0.0690603\n",
      "[360]\tcv_agg's rmse: 3.66143 + 0.0691572\n",
      "[370]\tcv_agg's rmse: 3.66113 + 0.069113\n",
      "[380]\tcv_agg's rmse: 3.66082 + 0.069156\n",
      "[390]\tcv_agg's rmse: 3.66051 + 0.069129\n",
      "[400]\tcv_agg's rmse: 3.66026 + 0.0691688\n",
      "[410]\tcv_agg's rmse: 3.66003 + 0.0691859\n",
      "[420]\tcv_agg's rmse: 3.65979 + 0.0691336\n",
      "[430]\tcv_agg's rmse: 3.65961 + 0.0691829\n",
      "[440]\tcv_agg's rmse: 3.65943 + 0.0691537\n",
      "[450]\tcv_agg's rmse: 3.6594 + 0.0691574\n",
      "[460]\tcv_agg's rmse: 3.65926 + 0.0691236\n",
      "[470]\tcv_agg's rmse: 3.65909 + 0.0691044\n",
      "[480]\tcv_agg's rmse: 3.65895 + 0.0691705\n",
      "[490]\tcv_agg's rmse: 3.65891 + 0.0692261\n",
      "[500]\tcv_agg's rmse: 3.65877 + 0.0691413\n",
      "[3.659312528156499, 3.6593143714040357, 3.6593731629323663, 3.6593213315855686, 3.6590754972585544, 3.6587630783031586, 3.6587630783031586, 3.6587630783031586, 3.6587630783031586, 3.6585884635069634, 3.658928720347265, 3.6596865672558403, 3.6586710103407767, 3.6586093254749272, 3.6585393398799417, 3.6587559515089096, 3.6591524587569673, 3.6581050272358624, 3.658737854011104]\n"
     ]
    },
    {
     "name": "stderr",
     "output_type": "stream",
     "text": [
      "C:\\Users\\tanch\\anaconda3\\envs\\ml\\lib\\site-packages\\lightgbm\\engine.py:577: UserWarning: 'early_stopping_rounds' argument is deprecated and will be removed in a future release of LightGBM. Pass 'early_stopping()' callback via 'callbacks' argument instead.\n",
      "  _log_warning(\"'early_stopping_rounds' argument is deprecated and will be removed in a future release of LightGBM. \"\n"
     ]
    },
    {
     "name": "stdout",
     "output_type": "stream",
     "text": [
      "[LightGBM] [Info] Total Bins 80370\n",
      "[LightGBM] [Info] Number of data points in the train set: 161532, number of used features: 422\n",
      "[LightGBM] [Info] Total Bins 80370\n",
      "[LightGBM] [Info] Number of data points in the train set: 161532, number of used features: 422\n",
      "[LightGBM] [Info] Total Bins 80370\n",
      "[LightGBM] [Info] Number of data points in the train set: 161532, number of used features: 422\n",
      "[LightGBM] [Info] Total Bins 80370\n",
      "[LightGBM] [Info] Number of data points in the train set: 161532, number of used features: 422\n",
      "[LightGBM] [Info] Total Bins 80370\n",
      "[LightGBM] [Info] Number of data points in the train set: 161532, number of used features: 422\n",
      "[LightGBM] [Info] Start training from score -0.387307\n"
     ]
    },
    {
     "name": "stderr",
     "output_type": "stream",
     "text": [
      "C:\\Users\\tanch\\anaconda3\\envs\\ml\\lib\\site-packages\\lightgbm\\engine.py:620: UserWarning: 'verbose_eval' argument is deprecated and will be removed in a future release of LightGBM. Pass 'log_evaluation()' callback via 'callbacks' argument instead.\n",
      "  _log_warning(\"'verbose_eval' argument is deprecated and will be removed in a future release of LightGBM. \"\n"
     ]
    },
    {
     "name": "stdout",
     "output_type": "stream",
     "text": [
      "[LightGBM] [Info] Start training from score -0.394715\n",
      "[LightGBM] [Info] Start training from score -0.396989\n",
      "[LightGBM] [Info] Start training from score -0.400525\n",
      "[LightGBM] [Info] Start training from score -0.388645\n",
      "[10]\tcv_agg's rmse: 3.8234 + 0.0701201\n",
      "[20]\tcv_agg's rmse: 3.80109 + 0.0701116\n",
      "[30]\tcv_agg's rmse: 3.78192 + 0.0701235\n",
      "[40]\tcv_agg's rmse: 3.76497 + 0.0699624\n",
      "[50]\tcv_agg's rmse: 3.75085 + 0.0699796\n",
      "[60]\tcv_agg's rmse: 3.7389 + 0.0699262\n",
      "[70]\tcv_agg's rmse: 3.72886 + 0.0698992\n",
      "[80]\tcv_agg's rmse: 3.72006 + 0.0699593\n",
      "[90]\tcv_agg's rmse: 3.71255 + 0.0699079\n",
      "[100]\tcv_agg's rmse: 3.70604 + 0.0697871\n",
      "[110]\tcv_agg's rmse: 3.70048 + 0.0699083\n",
      "[120]\tcv_agg's rmse: 3.6958 + 0.0698541\n",
      "[130]\tcv_agg's rmse: 3.69161 + 0.0697718\n",
      "[140]\tcv_agg's rmse: 3.68795 + 0.069733\n",
      "[150]\tcv_agg's rmse: 3.68475 + 0.0696706\n",
      "[160]\tcv_agg's rmse: 3.68198 + 0.0696458\n",
      "[170]\tcv_agg's rmse: 3.67971 + 0.0695398\n",
      "[180]\tcv_agg's rmse: 3.67739 + 0.0695241\n",
      "[190]\tcv_agg's rmse: 3.67572 + 0.0693844\n",
      "[200]\tcv_agg's rmse: 3.67409 + 0.0693469\n",
      "[210]\tcv_agg's rmse: 3.67263 + 0.0692399\n",
      "[220]\tcv_agg's rmse: 3.67126 + 0.069172\n",
      "[230]\tcv_agg's rmse: 3.66994 + 0.0692448\n",
      "[240]\tcv_agg's rmse: 3.66868 + 0.0690181\n",
      "[250]\tcv_agg's rmse: 3.66772 + 0.069072\n",
      "[260]\tcv_agg's rmse: 3.66693 + 0.06903\n",
      "[270]\tcv_agg's rmse: 3.66605 + 0.0690534\n",
      "[280]\tcv_agg's rmse: 3.66532 + 0.0689499\n",
      "[290]\tcv_agg's rmse: 3.66467 + 0.0688792\n",
      "[300]\tcv_agg's rmse: 3.66411 + 0.0688088\n",
      "[310]\tcv_agg's rmse: 3.66358 + 0.0687627\n",
      "[320]\tcv_agg's rmse: 3.66305 + 0.0687946\n",
      "[330]\tcv_agg's rmse: 3.66265 + 0.0686934\n",
      "[340]\tcv_agg's rmse: 3.66207 + 0.0687303\n",
      "[350]\tcv_agg's rmse: 3.66174 + 0.068759\n",
      "[360]\tcv_agg's rmse: 3.66136 + 0.06872\n",
      "[370]\tcv_agg's rmse: 3.66102 + 0.0687021\n",
      "[380]\tcv_agg's rmse: 3.66081 + 0.0686019\n",
      "[390]\tcv_agg's rmse: 3.66056 + 0.0685172\n",
      "[400]\tcv_agg's rmse: 3.66025 + 0.0685688\n",
      "[410]\tcv_agg's rmse: 3.66011 + 0.0685902\n",
      "[420]\tcv_agg's rmse: 3.65988 + 0.068631\n",
      "[430]\tcv_agg's rmse: 3.65973 + 0.0685624\n",
      "[440]\tcv_agg's rmse: 3.65949 + 0.0685242\n",
      "[450]\tcv_agg's rmse: 3.65947 + 0.0684657\n",
      "[460]\tcv_agg's rmse: 3.65938 + 0.0685454\n",
      "[470]\tcv_agg's rmse: 3.65921 + 0.0685593\n",
      "[480]\tcv_agg's rmse: 3.65912 + 0.068618\n",
      "[490]\tcv_agg's rmse: 3.65899 + 0.0686847\n",
      "[500]\tcv_agg's rmse: 3.65893 + 0.0686767\n",
      "[3.659312528156499, 3.6593143714040357, 3.6593731629323663, 3.6593213315855686, 3.6590754972585544, 3.6587630783031586, 3.6587630783031586, 3.6587630783031586, 3.6587630783031586, 3.6585884635069634, 3.658928720347265, 3.6596865672558403, 3.6586710103407767, 3.6586093254749272, 3.6585393398799417, 3.6587559515089096, 3.6591524587569673, 3.6581050272358624, 3.658737854011104, 3.6589276046350157]\n"
     ]
    },
    {
     "name": "stderr",
     "output_type": "stream",
     "text": [
      "C:\\Users\\tanch\\anaconda3\\envs\\ml\\lib\\site-packages\\lightgbm\\engine.py:577: UserWarning: 'early_stopping_rounds' argument is deprecated and will be removed in a future release of LightGBM. Pass 'early_stopping()' callback via 'callbacks' argument instead.\n",
      "  _log_warning(\"'early_stopping_rounds' argument is deprecated and will be removed in a future release of LightGBM. \"\n"
     ]
    },
    {
     "name": "stdout",
     "output_type": "stream",
     "text": [
      "[LightGBM] [Info] Total Bins 80368\n",
      "[LightGBM] [Info] Number of data points in the train set: 161532, number of used features: 421\n",
      "[LightGBM] [Info] Total Bins 80368\n",
      "[LightGBM] [Info] Number of data points in the train set: 161532, number of used features: 421\n",
      "[LightGBM] [Info] Total Bins 80368\n",
      "[LightGBM] [Info] Number of data points in the train set: 161532, number of used features: 421\n",
      "[LightGBM] [Info] Total Bins 80368\n",
      "[LightGBM] [Info] Number of data points in the train set: 161532, number of used features: 421\n",
      "[LightGBM] [Info] Total Bins 80368\n",
      "[LightGBM] [Info] Number of data points in the train set: 161532, number of used features: 421\n",
      "[LightGBM] [Info] Start training from score -0.387307\n"
     ]
    },
    {
     "name": "stderr",
     "output_type": "stream",
     "text": [
      "C:\\Users\\tanch\\anaconda3\\envs\\ml\\lib\\site-packages\\lightgbm\\engine.py:620: UserWarning: 'verbose_eval' argument is deprecated and will be removed in a future release of LightGBM. Pass 'log_evaluation()' callback via 'callbacks' argument instead.\n",
      "  _log_warning(\"'verbose_eval' argument is deprecated and will be removed in a future release of LightGBM. \"\n"
     ]
    },
    {
     "name": "stdout",
     "output_type": "stream",
     "text": [
      "[LightGBM] [Info] Start training from score -0.394715\n",
      "[LightGBM] [Info] Start training from score -0.396989\n",
      "[LightGBM] [Info] Start training from score -0.400525\n",
      "[LightGBM] [Info] Start training from score -0.388645\n",
      "[10]\tcv_agg's rmse: 3.82307 + 0.0701264\n",
      "[20]\tcv_agg's rmse: 3.80023 + 0.0701507\n",
      "[30]\tcv_agg's rmse: 3.78082 + 0.0703197\n",
      "[40]\tcv_agg's rmse: 3.76437 + 0.0700848\n",
      "[50]\tcv_agg's rmse: 3.75026 + 0.0700955\n",
      "[60]\tcv_agg's rmse: 3.73855 + 0.0702809\n",
      "[70]\tcv_agg's rmse: 3.72873 + 0.0703139\n",
      "[80]\tcv_agg's rmse: 3.72021 + 0.0702021\n",
      "[90]\tcv_agg's rmse: 3.71264 + 0.0700682\n",
      "[100]\tcv_agg's rmse: 3.70596 + 0.0698568\n",
      "[110]\tcv_agg's rmse: 3.70031 + 0.069952\n",
      "[120]\tcv_agg's rmse: 3.69558 + 0.0698689\n",
      "[130]\tcv_agg's rmse: 3.69146 + 0.0696794\n",
      "[140]\tcv_agg's rmse: 3.68768 + 0.0695855\n",
      "[150]\tcv_agg's rmse: 3.68459 + 0.0695261\n",
      "[160]\tcv_agg's rmse: 3.68194 + 0.0694547\n",
      "[170]\tcv_agg's rmse: 3.67962 + 0.0694446\n",
      "[180]\tcv_agg's rmse: 3.67755 + 0.0695113\n",
      "[190]\tcv_agg's rmse: 3.67576 + 0.0694924\n",
      "[200]\tcv_agg's rmse: 3.67414 + 0.0694645\n",
      "[210]\tcv_agg's rmse: 3.6727 + 0.0695532\n",
      "[220]\tcv_agg's rmse: 3.67135 + 0.0694756\n",
      "[230]\tcv_agg's rmse: 3.67001 + 0.0694518\n",
      "[240]\tcv_agg's rmse: 3.66878 + 0.0693964\n",
      "[250]\tcv_agg's rmse: 3.66787 + 0.0693818\n",
      "[260]\tcv_agg's rmse: 3.66695 + 0.0693819\n",
      "[270]\tcv_agg's rmse: 3.66605 + 0.0693669\n",
      "[280]\tcv_agg's rmse: 3.66528 + 0.0694207\n",
      "[290]\tcv_agg's rmse: 3.66447 + 0.0694334\n",
      "[300]\tcv_agg's rmse: 3.66396 + 0.0694417\n",
      "[310]\tcv_agg's rmse: 3.66329 + 0.0694506\n",
      "[320]\tcv_agg's rmse: 3.66273 + 0.0694547\n",
      "[330]\tcv_agg's rmse: 3.66226 + 0.0693339\n",
      "[340]\tcv_agg's rmse: 3.66176 + 0.0694188\n",
      "[350]\tcv_agg's rmse: 3.66129 + 0.0694666\n",
      "[360]\tcv_agg's rmse: 3.66108 + 0.0693204\n",
      "[370]\tcv_agg's rmse: 3.66078 + 0.0694906\n",
      "[380]\tcv_agg's rmse: 3.66058 + 0.0695208\n",
      "[390]\tcv_agg's rmse: 3.66043 + 0.0695517\n",
      "[400]\tcv_agg's rmse: 3.66016 + 0.0694915\n",
      "[410]\tcv_agg's rmse: 3.65992 + 0.0695234\n",
      "[420]\tcv_agg's rmse: 3.65969 + 0.0695907\n",
      "[430]\tcv_agg's rmse: 3.65962 + 0.0695366\n",
      "[440]\tcv_agg's rmse: 3.6595 + 0.0696457\n",
      "[450]\tcv_agg's rmse: 3.65945 + 0.0696286\n",
      "[460]\tcv_agg's rmse: 3.65934 + 0.0697019\n",
      "[470]\tcv_agg's rmse: 3.65912 + 0.0697181\n",
      "[480]\tcv_agg's rmse: 3.65902 + 0.0697091\n",
      "[490]\tcv_agg's rmse: 3.65898 + 0.0696686\n",
      "[500]\tcv_agg's rmse: 3.6589 + 0.0696416\n",
      "[3.659312528156499, 3.6593143714040357, 3.6593731629323663, 3.6593213315855686, 3.6590754972585544, 3.6587630783031586, 3.6587630783031586, 3.6587630783031586, 3.6587630783031586, 3.6585884635069634, 3.658928720347265, 3.6596865672558403, 3.6586710103407767, 3.6586093254749272, 3.6585393398799417, 3.6587559515089096, 3.6591524587569673, 3.6581050272358624, 3.658737854011104, 3.6589276046350157, 3.6588912976191317]\n"
     ]
    },
    {
     "name": "stderr",
     "output_type": "stream",
     "text": [
      "C:\\Users\\tanch\\anaconda3\\envs\\ml\\lib\\site-packages\\lightgbm\\engine.py:577: UserWarning: 'early_stopping_rounds' argument is deprecated and will be removed in a future release of LightGBM. Pass 'early_stopping()' callback via 'callbacks' argument instead.\n",
      "  _log_warning(\"'early_stopping_rounds' argument is deprecated and will be removed in a future release of LightGBM. \"\n"
     ]
    },
    {
     "name": "stdout",
     "output_type": "stream",
     "text": [
      "[LightGBM] [Info] Total Bins 80359\n",
      "[LightGBM] [Info] Number of data points in the train set: 161532, number of used features: 420\n",
      "[LightGBM] [Info] Total Bins 80359\n",
      "[LightGBM] [Info] Number of data points in the train set: 161532, number of used features: 420\n",
      "[LightGBM] [Info] Total Bins 80359\n",
      "[LightGBM] [Info] Number of data points in the train set: 161532, number of used features: 420\n",
      "[LightGBM] [Info] Total Bins 80359\n",
      "[LightGBM] [Info] Number of data points in the train set: 161532, number of used features: 420\n",
      "[LightGBM] [Info] Total Bins 80359\n",
      "[LightGBM] [Info] Number of data points in the train set: 161532, number of used features: 420\n",
      "[LightGBM] [Info] Start training from score -0.387307\n"
     ]
    },
    {
     "name": "stderr",
     "output_type": "stream",
     "text": [
      "C:\\Users\\tanch\\anaconda3\\envs\\ml\\lib\\site-packages\\lightgbm\\engine.py:620: UserWarning: 'verbose_eval' argument is deprecated and will be removed in a future release of LightGBM. Pass 'log_evaluation()' callback via 'callbacks' argument instead.\n",
      "  _log_warning(\"'verbose_eval' argument is deprecated and will be removed in a future release of LightGBM. \"\n"
     ]
    },
    {
     "name": "stdout",
     "output_type": "stream",
     "text": [
      "[LightGBM] [Info] Start training from score -0.394715\n",
      "[LightGBM] [Info] Start training from score -0.396989\n",
      "[LightGBM] [Info] Start training from score -0.400525\n",
      "[LightGBM] [Info] Start training from score -0.388645\n",
      "[10]\tcv_agg's rmse: 3.8229 + 0.0702687\n",
      "[20]\tcv_agg's rmse: 3.80002 + 0.0704275\n",
      "[30]\tcv_agg's rmse: 3.78116 + 0.0702589\n",
      "[40]\tcv_agg's rmse: 3.76462 + 0.0699245\n",
      "[50]\tcv_agg's rmse: 3.75071 + 0.0700161\n",
      "[60]\tcv_agg's rmse: 3.73905 + 0.0701066\n",
      "[70]\tcv_agg's rmse: 3.72871 + 0.070317\n",
      "[80]\tcv_agg's rmse: 3.72008 + 0.0702644\n",
      "[90]\tcv_agg's rmse: 3.71278 + 0.0698923\n",
      "[100]\tcv_agg's rmse: 3.70629 + 0.0698878\n",
      "[110]\tcv_agg's rmse: 3.70068 + 0.0698516\n",
      "[120]\tcv_agg's rmse: 3.69584 + 0.0696839\n",
      "[130]\tcv_agg's rmse: 3.69154 + 0.0694278\n",
      "[140]\tcv_agg's rmse: 3.68792 + 0.0694029\n",
      "[150]\tcv_agg's rmse: 3.68481 + 0.0692503\n",
      "[160]\tcv_agg's rmse: 3.6821 + 0.069212\n",
      "[170]\tcv_agg's rmse: 3.67978 + 0.0690891\n",
      "[180]\tcv_agg's rmse: 3.67739 + 0.0691353\n",
      "[190]\tcv_agg's rmse: 3.67547 + 0.0690527\n",
      "[200]\tcv_agg's rmse: 3.67392 + 0.0691047\n",
      "[210]\tcv_agg's rmse: 3.67241 + 0.0690967\n",
      "[220]\tcv_agg's rmse: 3.67107 + 0.069003\n",
      "[230]\tcv_agg's rmse: 3.66987 + 0.0689147\n",
      "[240]\tcv_agg's rmse: 3.66864 + 0.068825\n",
      "[250]\tcv_agg's rmse: 3.66772 + 0.068759\n",
      "[260]\tcv_agg's rmse: 3.6668 + 0.0687488\n",
      "[270]\tcv_agg's rmse: 3.66603 + 0.0687832\n",
      "[280]\tcv_agg's rmse: 3.66542 + 0.0688432\n",
      "[290]\tcv_agg's rmse: 3.66476 + 0.0688313\n",
      "[300]\tcv_agg's rmse: 3.66413 + 0.0688562\n",
      "[310]\tcv_agg's rmse: 3.6635 + 0.0686865\n",
      "[320]\tcv_agg's rmse: 3.66299 + 0.0685514\n",
      "[330]\tcv_agg's rmse: 3.66256 + 0.0685396\n",
      "[340]\tcv_agg's rmse: 3.6621 + 0.0686182\n",
      "[350]\tcv_agg's rmse: 3.66165 + 0.068491\n",
      "[360]\tcv_agg's rmse: 3.66123 + 0.0684658\n",
      "[370]\tcv_agg's rmse: 3.66101 + 0.0684869\n",
      "[380]\tcv_agg's rmse: 3.66078 + 0.0685098\n",
      "[390]\tcv_agg's rmse: 3.6605 + 0.0684732\n",
      "[400]\tcv_agg's rmse: 3.66031 + 0.0684131\n",
      "[410]\tcv_agg's rmse: 3.66012 + 0.068545\n",
      "[420]\tcv_agg's rmse: 3.65996 + 0.0685179\n",
      "[430]\tcv_agg's rmse: 3.6599 + 0.0685179\n",
      "[440]\tcv_agg's rmse: 3.65969 + 0.0685682\n",
      "[450]\tcv_agg's rmse: 3.65961 + 0.0684442\n",
      "[460]\tcv_agg's rmse: 3.65944 + 0.0684676\n",
      "[470]\tcv_agg's rmse: 3.65919 + 0.0683924\n",
      "[480]\tcv_agg's rmse: 3.65914 + 0.068389\n",
      "[490]\tcv_agg's rmse: 3.65899 + 0.0684172\n",
      "[500]\tcv_agg's rmse: 3.65891 + 0.0684519\n",
      "[3.659312528156499, 3.6593143714040357, 3.6593731629323663, 3.6593213315855686, 3.6590754972585544, 3.6587630783031586, 3.6587630783031586, 3.6587630783031586, 3.6587630783031586, 3.6585884635069634, 3.658928720347265, 3.6596865672558403, 3.6586710103407767, 3.6586093254749272, 3.6585393398799417, 3.6587559515089096, 3.6591524587569673, 3.6581050272358624, 3.658737854011104, 3.6589276046350157, 3.6588912976191317, 3.658906464704328]\n"
     ]
    },
    {
     "name": "stderr",
     "output_type": "stream",
     "text": [
      "C:\\Users\\tanch\\anaconda3\\envs\\ml\\lib\\site-packages\\lightgbm\\engine.py:577: UserWarning: 'early_stopping_rounds' argument is deprecated and will be removed in a future release of LightGBM. Pass 'early_stopping()' callback via 'callbacks' argument instead.\n",
      "  _log_warning(\"'early_stopping_rounds' argument is deprecated and will be removed in a future release of LightGBM. \"\n"
     ]
    },
    {
     "name": "stdout",
     "output_type": "stream",
     "text": [
      "[LightGBM] [Info] Total Bins 80352\n",
      "[LightGBM] [Info] Number of data points in the train set: 161532, number of used features: 419\n",
      "[LightGBM] [Info] Total Bins 80352\n",
      "[LightGBM] [Info] Number of data points in the train set: 161532, number of used features: 419\n",
      "[LightGBM] [Info] Total Bins 80352\n",
      "[LightGBM] [Info] Number of data points in the train set: 161532, number of used features: 419\n",
      "[LightGBM] [Info] Total Bins 80352\n",
      "[LightGBM] [Info] Number of data points in the train set: 161532, number of used features: 419\n",
      "[LightGBM] [Info] Total Bins 80352\n",
      "[LightGBM] [Info] Number of data points in the train set: 161532, number of used features: 419\n",
      "[LightGBM] [Info] Start training from score -0.387307\n"
     ]
    },
    {
     "name": "stderr",
     "output_type": "stream",
     "text": [
      "C:\\Users\\tanch\\anaconda3\\envs\\ml\\lib\\site-packages\\lightgbm\\engine.py:620: UserWarning: 'verbose_eval' argument is deprecated and will be removed in a future release of LightGBM. Pass 'log_evaluation()' callback via 'callbacks' argument instead.\n",
      "  _log_warning(\"'verbose_eval' argument is deprecated and will be removed in a future release of LightGBM. \"\n"
     ]
    },
    {
     "name": "stdout",
     "output_type": "stream",
     "text": [
      "[LightGBM] [Info] Start training from score -0.394715\n",
      "[LightGBM] [Info] Start training from score -0.396989\n",
      "[LightGBM] [Info] Start training from score -0.400525\n",
      "[LightGBM] [Info] Start training from score -0.388645\n",
      "[10]\tcv_agg's rmse: 3.82348 + 0.0702995\n",
      "[20]\tcv_agg's rmse: 3.80064 + 0.0705354\n",
      "[30]\tcv_agg's rmse: 3.78133 + 0.070657\n",
      "[40]\tcv_agg's rmse: 3.76488 + 0.0704267\n",
      "[50]\tcv_agg's rmse: 3.75085 + 0.0704864\n",
      "[60]\tcv_agg's rmse: 3.73904 + 0.0703344\n",
      "[70]\tcv_agg's rmse: 3.72858 + 0.070431\n",
      "[80]\tcv_agg's rmse: 3.71991 + 0.070287\n",
      "[90]\tcv_agg's rmse: 3.7125 + 0.0700544\n",
      "[100]\tcv_agg's rmse: 3.70607 + 0.0698717\n",
      "[110]\tcv_agg's rmse: 3.70057 + 0.0699165\n",
      "[120]\tcv_agg's rmse: 3.69586 + 0.069788\n",
      "[130]\tcv_agg's rmse: 3.6918 + 0.0696976\n",
      "[140]\tcv_agg's rmse: 3.68817 + 0.069569\n",
      "[150]\tcv_agg's rmse: 3.68505 + 0.069486\n",
      "[160]\tcv_agg's rmse: 3.68237 + 0.0694808\n",
      "[170]\tcv_agg's rmse: 3.67993 + 0.0693091\n",
      "[180]\tcv_agg's rmse: 3.67765 + 0.0694331\n",
      "[190]\tcv_agg's rmse: 3.67573 + 0.0693245\n",
      "[200]\tcv_agg's rmse: 3.6741 + 0.0693036\n",
      "[210]\tcv_agg's rmse: 3.67261 + 0.0693638\n",
      "[220]\tcv_agg's rmse: 3.67126 + 0.0693082\n",
      "[230]\tcv_agg's rmse: 3.67008 + 0.0693489\n",
      "[240]\tcv_agg's rmse: 3.66891 + 0.0694339\n",
      "[250]\tcv_agg's rmse: 3.66783 + 0.0694689\n",
      "[260]\tcv_agg's rmse: 3.66698 + 0.0694023\n",
      "[270]\tcv_agg's rmse: 3.66626 + 0.0694114\n",
      "[280]\tcv_agg's rmse: 3.66564 + 0.0694835\n",
      "[290]\tcv_agg's rmse: 3.66498 + 0.0694476\n",
      "[300]\tcv_agg's rmse: 3.66445 + 0.0692723\n",
      "[310]\tcv_agg's rmse: 3.66396 + 0.0691833\n",
      "[320]\tcv_agg's rmse: 3.66341 + 0.0692125\n",
      "[330]\tcv_agg's rmse: 3.66293 + 0.0692896\n",
      "[340]\tcv_agg's rmse: 3.66248 + 0.0693122\n",
      "[350]\tcv_agg's rmse: 3.66208 + 0.0692938\n",
      "[360]\tcv_agg's rmse: 3.66185 + 0.0693685\n",
      "[370]\tcv_agg's rmse: 3.66158 + 0.0694635\n",
      "[380]\tcv_agg's rmse: 3.66138 + 0.06945\n",
      "[390]\tcv_agg's rmse: 3.66104 + 0.0693435\n",
      "[400]\tcv_agg's rmse: 3.66085 + 0.0693701\n",
      "[410]\tcv_agg's rmse: 3.66072 + 0.0693462\n",
      "[420]\tcv_agg's rmse: 3.66053 + 0.0693718\n",
      "[430]\tcv_agg's rmse: 3.66033 + 0.0694297\n",
      "[440]\tcv_agg's rmse: 3.6602 + 0.069374\n",
      "[450]\tcv_agg's rmse: 3.66004 + 0.0694231\n",
      "[460]\tcv_agg's rmse: 3.65993 + 0.0694616\n",
      "[470]\tcv_agg's rmse: 3.65972 + 0.0693845\n",
      "[480]\tcv_agg's rmse: 3.65969 + 0.0694452\n",
      "[490]\tcv_agg's rmse: 3.65964 + 0.0693577\n",
      "[3.659312528156499, 3.6593143714040357, 3.6593731629323663, 3.6593213315855686, 3.6590754972585544, 3.6587630783031586, 3.6587630783031586, 3.6587630783031586, 3.6587630783031586, 3.6585884635069634, 3.658928720347265, 3.6596865672558403, 3.6586710103407767, 3.6586093254749272, 3.6585393398799417, 3.6587559515089096, 3.6591524587569673, 3.6581050272358624, 3.658737854011104, 3.6589276046350157, 3.6588912976191317, 3.658906464704328, 3.6595781755314016]\n"
     ]
    },
    {
     "name": "stderr",
     "output_type": "stream",
     "text": [
      "C:\\Users\\tanch\\anaconda3\\envs\\ml\\lib\\site-packages\\lightgbm\\engine.py:577: UserWarning: 'early_stopping_rounds' argument is deprecated and will be removed in a future release of LightGBM. Pass 'early_stopping()' callback via 'callbacks' argument instead.\n",
      "  _log_warning(\"'early_stopping_rounds' argument is deprecated and will be removed in a future release of LightGBM. \"\n"
     ]
    },
    {
     "name": "stdout",
     "output_type": "stream",
     "text": [
      "[LightGBM] [Info] Total Bins 80173\n",
      "[LightGBM] [Info] Number of data points in the train set: 161532, number of used features: 418\n",
      "[LightGBM] [Info] Total Bins 80173\n",
      "[LightGBM] [Info] Number of data points in the train set: 161532, number of used features: 418\n",
      "[LightGBM] [Info] Total Bins 80173\n",
      "[LightGBM] [Info] Number of data points in the train set: 161532, number of used features: 418\n",
      "[LightGBM] [Info] Total Bins 80173\n",
      "[LightGBM] [Info] Number of data points in the train set: 161532, number of used features: 418\n",
      "[LightGBM] [Info] Total Bins 80173\n",
      "[LightGBM] [Info] Number of data points in the train set: 161532, number of used features: 418\n",
      "[LightGBM] [Info] Start training from score -0.387307\n"
     ]
    },
    {
     "name": "stderr",
     "output_type": "stream",
     "text": [
      "C:\\Users\\tanch\\anaconda3\\envs\\ml\\lib\\site-packages\\lightgbm\\engine.py:620: UserWarning: 'verbose_eval' argument is deprecated and will be removed in a future release of LightGBM. Pass 'log_evaluation()' callback via 'callbacks' argument instead.\n",
      "  _log_warning(\"'verbose_eval' argument is deprecated and will be removed in a future release of LightGBM. \"\n"
     ]
    },
    {
     "name": "stdout",
     "output_type": "stream",
     "text": [
      "[LightGBM] [Info] Start training from score -0.394715\n",
      "[LightGBM] [Info] Start training from score -0.396989\n",
      "[LightGBM] [Info] Start training from score -0.400525\n",
      "[LightGBM] [Info] Start training from score -0.388645\n",
      "[10]\tcv_agg's rmse: 3.82345 + 0.0701074\n",
      "[20]\tcv_agg's rmse: 3.8008 + 0.0701236\n",
      "[30]\tcv_agg's rmse: 3.7814 + 0.0702698\n",
      "[40]\tcv_agg's rmse: 3.76461 + 0.0700524\n",
      "[50]\tcv_agg's rmse: 3.75052 + 0.0698915\n",
      "[60]\tcv_agg's rmse: 3.7386 + 0.0700941\n",
      "[70]\tcv_agg's rmse: 3.7282 + 0.0704368\n",
      "[80]\tcv_agg's rmse: 3.7195 + 0.0702891\n",
      "[90]\tcv_agg's rmse: 3.71207 + 0.0701241\n",
      "[100]\tcv_agg's rmse: 3.70545 + 0.0699016\n",
      "[110]\tcv_agg's rmse: 3.69981 + 0.0699123\n",
      "[120]\tcv_agg's rmse: 3.69507 + 0.0698192\n",
      "[130]\tcv_agg's rmse: 3.69087 + 0.0697271\n",
      "[140]\tcv_agg's rmse: 3.68726 + 0.0696513\n",
      "[150]\tcv_agg's rmse: 3.68416 + 0.069456\n",
      "[160]\tcv_agg's rmse: 3.68156 + 0.069454\n",
      "[170]\tcv_agg's rmse: 3.67916 + 0.0694312\n",
      "[180]\tcv_agg's rmse: 3.67675 + 0.0694616\n",
      "[190]\tcv_agg's rmse: 3.67474 + 0.0693448\n",
      "[200]\tcv_agg's rmse: 3.67309 + 0.0691167\n",
      "[210]\tcv_agg's rmse: 3.67161 + 0.0690232\n",
      "[220]\tcv_agg's rmse: 3.6704 + 0.0690213\n",
      "[230]\tcv_agg's rmse: 3.66931 + 0.0690146\n",
      "[240]\tcv_agg's rmse: 3.66819 + 0.0687843\n",
      "[250]\tcv_agg's rmse: 3.66726 + 0.068807\n",
      "[260]\tcv_agg's rmse: 3.66649 + 0.0687426\n",
      "[270]\tcv_agg's rmse: 3.66572 + 0.0687448\n",
      "[280]\tcv_agg's rmse: 3.66506 + 0.0686992\n",
      "[290]\tcv_agg's rmse: 3.66442 + 0.0686412\n",
      "[300]\tcv_agg's rmse: 3.66376 + 0.0686211\n",
      "[310]\tcv_agg's rmse: 3.66337 + 0.0686299\n",
      "[320]\tcv_agg's rmse: 3.66287 + 0.0685816\n",
      "[330]\tcv_agg's rmse: 3.66242 + 0.0684273\n",
      "[340]\tcv_agg's rmse: 3.66197 + 0.0684695\n",
      "[350]\tcv_agg's rmse: 3.66155 + 0.0685994\n",
      "[360]\tcv_agg's rmse: 3.66124 + 0.0684276\n",
      "[370]\tcv_agg's rmse: 3.66106 + 0.068476\n",
      "[380]\tcv_agg's rmse: 3.66076 + 0.0685094\n",
      "[390]\tcv_agg's rmse: 3.66054 + 0.0684979\n",
      "[400]\tcv_agg's rmse: 3.66038 + 0.0683942\n",
      "[410]\tcv_agg's rmse: 3.66018 + 0.0684458\n",
      "[420]\tcv_agg's rmse: 3.65992 + 0.0684635\n",
      "[430]\tcv_agg's rmse: 3.65973 + 0.0684407\n",
      "[440]\tcv_agg's rmse: 3.65954 + 0.0684167\n",
      "[450]\tcv_agg's rmse: 3.65947 + 0.0683696\n",
      "[460]\tcv_agg's rmse: 3.6593 + 0.0684206\n",
      "[470]\tcv_agg's rmse: 3.65905 + 0.0683949\n",
      "[480]\tcv_agg's rmse: 3.659 + 0.0683287\n",
      "[3.659312528156499, 3.6593143714040357, 3.6593731629323663, 3.6593213315855686, 3.6590754972585544, 3.6587630783031586, 3.6587630783031586, 3.6587630783031586, 3.6587630783031586, 3.6585884635069634, 3.658928720347265, 3.6596865672558403, 3.6586710103407767, 3.6586093254749272, 3.6585393398799417, 3.6587559515089096, 3.6591524587569673, 3.6581050272358624, 3.658737854011104, 3.6589276046350157, 3.6588912976191317, 3.658906464704328, 3.6595781755314016, 3.658958353919135]\n"
     ]
    },
    {
     "name": "stderr",
     "output_type": "stream",
     "text": [
      "C:\\Users\\tanch\\anaconda3\\envs\\ml\\lib\\site-packages\\lightgbm\\engine.py:577: UserWarning: 'early_stopping_rounds' argument is deprecated and will be removed in a future release of LightGBM. Pass 'early_stopping()' callback via 'callbacks' argument instead.\n",
      "  _log_warning(\"'early_stopping_rounds' argument is deprecated and will be removed in a future release of LightGBM. \"\n"
     ]
    },
    {
     "name": "stdout",
     "output_type": "stream",
     "text": [
      "[LightGBM] [Info] Total Bins 80158\n",
      "[LightGBM] [Info] Number of data points in the train set: 161532, number of used features: 417\n",
      "[LightGBM] [Info] Total Bins 80158\n",
      "[LightGBM] [Info] Number of data points in the train set: 161532, number of used features: 417\n",
      "[LightGBM] [Info] Total Bins 80158\n",
      "[LightGBM] [Info] Number of data points in the train set: 161532, number of used features: 417\n",
      "[LightGBM] [Info] Total Bins 80158\n",
      "[LightGBM] [Info] Number of data points in the train set: 161532, number of used features: 417\n",
      "[LightGBM] [Info] Total Bins 80158\n",
      "[LightGBM] [Info] Number of data points in the train set: 161532, number of used features: 417\n",
      "[LightGBM] [Info] Start training from score -0.387307\n"
     ]
    },
    {
     "name": "stderr",
     "output_type": "stream",
     "text": [
      "C:\\Users\\tanch\\anaconda3\\envs\\ml\\lib\\site-packages\\lightgbm\\engine.py:620: UserWarning: 'verbose_eval' argument is deprecated and will be removed in a future release of LightGBM. Pass 'log_evaluation()' callback via 'callbacks' argument instead.\n",
      "  _log_warning(\"'verbose_eval' argument is deprecated and will be removed in a future release of LightGBM. \"\n"
     ]
    },
    {
     "name": "stdout",
     "output_type": "stream",
     "text": [
      "[LightGBM] [Info] Start training from score -0.394715\n",
      "[LightGBM] [Info] Start training from score -0.396989\n",
      "[LightGBM] [Info] Start training from score -0.400525\n",
      "[LightGBM] [Info] Start training from score -0.388645\n",
      "[10]\tcv_agg's rmse: 3.82298 + 0.0700918\n",
      "[20]\tcv_agg's rmse: 3.80032 + 0.0703524\n",
      "[30]\tcv_agg's rmse: 3.78129 + 0.0704431\n",
      "[40]\tcv_agg's rmse: 3.76486 + 0.0702852\n",
      "[50]\tcv_agg's rmse: 3.75096 + 0.0702606\n",
      "[60]\tcv_agg's rmse: 3.73888 + 0.070302\n",
      "[70]\tcv_agg's rmse: 3.72874 + 0.0704142\n",
      "[80]\tcv_agg's rmse: 3.72024 + 0.070484\n",
      "[90]\tcv_agg's rmse: 3.71287 + 0.0703186\n",
      "[100]\tcv_agg's rmse: 3.70606 + 0.0702174\n",
      "[110]\tcv_agg's rmse: 3.70029 + 0.0702969\n",
      "[120]\tcv_agg's rmse: 3.6955 + 0.0703301\n",
      "[130]\tcv_agg's rmse: 3.69145 + 0.0701421\n",
      "[140]\tcv_agg's rmse: 3.68781 + 0.0699602\n",
      "[150]\tcv_agg's rmse: 3.68475 + 0.0699622\n",
      "[160]\tcv_agg's rmse: 3.68188 + 0.0699039\n",
      "[170]\tcv_agg's rmse: 3.67952 + 0.0698239\n",
      "[180]\tcv_agg's rmse: 3.67723 + 0.0698012\n",
      "[190]\tcv_agg's rmse: 3.67524 + 0.0697941\n",
      "[200]\tcv_agg's rmse: 3.67371 + 0.0697922\n",
      "[210]\tcv_agg's rmse: 3.67218 + 0.0697309\n",
      "[220]\tcv_agg's rmse: 3.67086 + 0.0697258\n",
      "[230]\tcv_agg's rmse: 3.66965 + 0.0696645\n",
      "[240]\tcv_agg's rmse: 3.6683 + 0.0695649\n",
      "[250]\tcv_agg's rmse: 3.66729 + 0.0695685\n",
      "[260]\tcv_agg's rmse: 3.66649 + 0.0695027\n",
      "[270]\tcv_agg's rmse: 3.66573 + 0.0695641\n",
      "[280]\tcv_agg's rmse: 3.66495 + 0.0695127\n",
      "[290]\tcv_agg's rmse: 3.66429 + 0.0696412\n",
      "[300]\tcv_agg's rmse: 3.6638 + 0.0696645\n",
      "[310]\tcv_agg's rmse: 3.6632 + 0.0696606\n",
      "[320]\tcv_agg's rmse: 3.66257 + 0.069611\n",
      "[330]\tcv_agg's rmse: 3.66209 + 0.0695911\n",
      "[340]\tcv_agg's rmse: 3.66177 + 0.069544\n",
      "[350]\tcv_agg's rmse: 3.66147 + 0.0695715\n",
      "[360]\tcv_agg's rmse: 3.66108 + 0.0695358\n",
      "[370]\tcv_agg's rmse: 3.66077 + 0.0695689\n",
      "[380]\tcv_agg's rmse: 3.66049 + 0.0695562\n",
      "[390]\tcv_agg's rmse: 3.66024 + 0.0694773\n",
      "[400]\tcv_agg's rmse: 3.66005 + 0.0694083\n",
      "[410]\tcv_agg's rmse: 3.65984 + 0.0693643\n",
      "[420]\tcv_agg's rmse: 3.65965 + 0.0692375\n",
      "[430]\tcv_agg's rmse: 3.65941 + 0.0692428\n",
      "[440]\tcv_agg's rmse: 3.65911 + 0.069176\n",
      "[450]\tcv_agg's rmse: 3.65889 + 0.0691594\n",
      "[460]\tcv_agg's rmse: 3.65877 + 0.0691642\n",
      "[470]\tcv_agg's rmse: 3.65856 + 0.069138\n",
      "[480]\tcv_agg's rmse: 3.65848 + 0.0692179\n",
      "[490]\tcv_agg's rmse: 3.65843 + 0.069149\n",
      "[500]\tcv_agg's rmse: 3.65836 + 0.0691256\n",
      "[3.659312528156499, 3.6593143714040357, 3.6593731629323663, 3.6593213315855686, 3.6590754972585544, 3.6587630783031586, 3.6587630783031586, 3.6587630783031586, 3.6587630783031586, 3.6585884635069634, 3.658928720347265, 3.6596865672558403, 3.6586710103407767, 3.6586093254749272, 3.6585393398799417, 3.6587559515089096, 3.6591524587569673, 3.6581050272358624, 3.658737854011104, 3.6589276046350157, 3.6588912976191317, 3.658906464704328, 3.6595781755314016, 3.658958353919135, 3.6583649219300183]\n"
     ]
    },
    {
     "name": "stderr",
     "output_type": "stream",
     "text": [
      "C:\\Users\\tanch\\anaconda3\\envs\\ml\\lib\\site-packages\\lightgbm\\engine.py:577: UserWarning: 'early_stopping_rounds' argument is deprecated and will be removed in a future release of LightGBM. Pass 'early_stopping()' callback via 'callbacks' argument instead.\n",
      "  _log_warning(\"'early_stopping_rounds' argument is deprecated and will be removed in a future release of LightGBM. \"\n"
     ]
    },
    {
     "name": "stdout",
     "output_type": "stream",
     "text": [
      "[LightGBM] [Info] Total Bins 80128\n",
      "[LightGBM] [Info] Number of data points in the train set: 161532, number of used features: 416\n",
      "[LightGBM] [Info] Total Bins 80128\n",
      "[LightGBM] [Info] Number of data points in the train set: 161532, number of used features: 416\n",
      "[LightGBM] [Info] Total Bins 80128\n",
      "[LightGBM] [Info] Number of data points in the train set: 161532, number of used features: 416\n",
      "[LightGBM] [Info] Total Bins 80128\n",
      "[LightGBM] [Info] Number of data points in the train set: 161532, number of used features: 416\n",
      "[LightGBM] [Info] Total Bins 80128\n",
      "[LightGBM] [Info] Number of data points in the train set: 161532, number of used features: 416\n",
      "[LightGBM] [Info] Start training from score -0.387307\n"
     ]
    },
    {
     "name": "stderr",
     "output_type": "stream",
     "text": [
      "C:\\Users\\tanch\\anaconda3\\envs\\ml\\lib\\site-packages\\lightgbm\\engine.py:620: UserWarning: 'verbose_eval' argument is deprecated and will be removed in a future release of LightGBM. Pass 'log_evaluation()' callback via 'callbacks' argument instead.\n",
      "  _log_warning(\"'verbose_eval' argument is deprecated and will be removed in a future release of LightGBM. \"\n"
     ]
    },
    {
     "name": "stdout",
     "output_type": "stream",
     "text": [
      "[LightGBM] [Info] Start training from score -0.394715\n",
      "[LightGBM] [Info] Start training from score -0.396989\n",
      "[LightGBM] [Info] Start training from score -0.400525\n",
      "[LightGBM] [Info] Start training from score -0.388645\n",
      "[10]\tcv_agg's rmse: 3.82271 + 0.0700919\n",
      "[20]\tcv_agg's rmse: 3.79993 + 0.0701181\n",
      "[30]\tcv_agg's rmse: 3.78076 + 0.0701085\n",
      "[40]\tcv_agg's rmse: 3.76417 + 0.0699987\n",
      "[50]\tcv_agg's rmse: 3.75016 + 0.069958\n",
      "[60]\tcv_agg's rmse: 3.73831 + 0.0700681\n",
      "[70]\tcv_agg's rmse: 3.72814 + 0.070172\n",
      "[80]\tcv_agg's rmse: 3.7196 + 0.0700973\n",
      "[90]\tcv_agg's rmse: 3.71237 + 0.0697295\n",
      "[100]\tcv_agg's rmse: 3.70593 + 0.069579\n",
      "[110]\tcv_agg's rmse: 3.70024 + 0.0696128\n",
      "[120]\tcv_agg's rmse: 3.69543 + 0.0696408\n",
      "[130]\tcv_agg's rmse: 3.69135 + 0.0693695\n",
      "[140]\tcv_agg's rmse: 3.68769 + 0.0693896\n",
      "[150]\tcv_agg's rmse: 3.68463 + 0.069302\n",
      "[160]\tcv_agg's rmse: 3.68184 + 0.0693531\n",
      "[170]\tcv_agg's rmse: 3.67963 + 0.0691138\n",
      "[180]\tcv_agg's rmse: 3.6774 + 0.0691577\n",
      "[190]\tcv_agg's rmse: 3.67547 + 0.0691119\n",
      "[200]\tcv_agg's rmse: 3.67376 + 0.0691832\n",
      "[210]\tcv_agg's rmse: 3.67229 + 0.0691769\n",
      "[220]\tcv_agg's rmse: 3.67096 + 0.0691032\n",
      "[230]\tcv_agg's rmse: 3.66983 + 0.0690705\n",
      "[240]\tcv_agg's rmse: 3.66868 + 0.06891\n",
      "[250]\tcv_agg's rmse: 3.66772 + 0.0688278\n",
      "[260]\tcv_agg's rmse: 3.66681 + 0.0688154\n",
      "[270]\tcv_agg's rmse: 3.66598 + 0.0687985\n",
      "[280]\tcv_agg's rmse: 3.66525 + 0.0687945\n",
      "[290]\tcv_agg's rmse: 3.66453 + 0.0687815\n",
      "[300]\tcv_agg's rmse: 3.66398 + 0.06874\n",
      "[310]\tcv_agg's rmse: 3.66331 + 0.06869\n",
      "[320]\tcv_agg's rmse: 3.66279 + 0.06875\n",
      "[330]\tcv_agg's rmse: 3.66239 + 0.068675\n",
      "[340]\tcv_agg's rmse: 3.66192 + 0.06872\n",
      "[350]\tcv_agg's rmse: 3.66152 + 0.0686814\n",
      "[360]\tcv_agg's rmse: 3.66113 + 0.0685422\n",
      "[370]\tcv_agg's rmse: 3.6608 + 0.068627\n",
      "[380]\tcv_agg's rmse: 3.66049 + 0.0685731\n",
      "[390]\tcv_agg's rmse: 3.6602 + 0.0685126\n",
      "[400]\tcv_agg's rmse: 3.66 + 0.068459\n",
      "[410]\tcv_agg's rmse: 3.65982 + 0.0684357\n",
      "[420]\tcv_agg's rmse: 3.65949 + 0.0683125\n",
      "[430]\tcv_agg's rmse: 3.65936 + 0.0684236\n",
      "[440]\tcv_agg's rmse: 3.65914 + 0.0683537\n",
      "[450]\tcv_agg's rmse: 3.65906 + 0.0682905\n",
      "[460]\tcv_agg's rmse: 3.65901 + 0.0682729\n",
      "[470]\tcv_agg's rmse: 3.65891 + 0.0682528\n",
      "[480]\tcv_agg's rmse: 3.65884 + 0.0682886\n",
      "[490]\tcv_agg's rmse: 3.6587 + 0.0682355\n",
      "[500]\tcv_agg's rmse: 3.65857 + 0.0682655\n",
      "[3.659312528156499, 3.6593143714040357, 3.6593731629323663, 3.6593213315855686, 3.6590754972585544, 3.6587630783031586, 3.6587630783031586, 3.6587630783031586, 3.6587630783031586, 3.6585884635069634, 3.658928720347265, 3.6596865672558403, 3.6586710103407767, 3.6586093254749272, 3.6585393398799417, 3.6587559515089096, 3.6591524587569673, 3.6581050272358624, 3.658737854011104, 3.6589276046350157, 3.6588912976191317, 3.658906464704328, 3.6595781755314016, 3.658958353919135, 3.6583649219300183, 3.6585740400877045]\n"
     ]
    },
    {
     "name": "stderr",
     "output_type": "stream",
     "text": [
      "C:\\Users\\tanch\\anaconda3\\envs\\ml\\lib\\site-packages\\lightgbm\\engine.py:577: UserWarning: 'early_stopping_rounds' argument is deprecated and will be removed in a future release of LightGBM. Pass 'early_stopping()' callback via 'callbacks' argument instead.\n",
      "  _log_warning(\"'early_stopping_rounds' argument is deprecated and will be removed in a future release of LightGBM. \"\n"
     ]
    },
    {
     "name": "stdout",
     "output_type": "stream",
     "text": [
      "[LightGBM] [Info] Total Bins 79873\n",
      "[LightGBM] [Info] Number of data points in the train set: 161532, number of used features: 415\n",
      "[LightGBM] [Info] Total Bins 79873\n",
      "[LightGBM] [Info] Number of data points in the train set: 161532, number of used features: 415\n",
      "[LightGBM] [Info] Total Bins 79873\n",
      "[LightGBM] [Info] Number of data points in the train set: 161532, number of used features: 415\n",
      "[LightGBM] [Info] Total Bins 79873\n",
      "[LightGBM] [Info] Number of data points in the train set: 161532, number of used features: 415\n",
      "[LightGBM] [Info] Total Bins 79873\n",
      "[LightGBM] [Info] Number of data points in the train set: 161532, number of used features: 415\n",
      "[LightGBM] [Info] Start training from score -0.387307\n"
     ]
    },
    {
     "name": "stderr",
     "output_type": "stream",
     "text": [
      "C:\\Users\\tanch\\anaconda3\\envs\\ml\\lib\\site-packages\\lightgbm\\engine.py:620: UserWarning: 'verbose_eval' argument is deprecated and will be removed in a future release of LightGBM. Pass 'log_evaluation()' callback via 'callbacks' argument instead.\n",
      "  _log_warning(\"'verbose_eval' argument is deprecated and will be removed in a future release of LightGBM. \"\n"
     ]
    },
    {
     "name": "stdout",
     "output_type": "stream",
     "text": [
      "[LightGBM] [Info] Start training from score -0.394715\n",
      "[LightGBM] [Info] Start training from score -0.396989\n",
      "[LightGBM] [Info] Start training from score -0.400525\n",
      "[LightGBM] [Info] Start training from score -0.388645\n",
      "[10]\tcv_agg's rmse: 3.82334 + 0.0702554\n",
      "[20]\tcv_agg's rmse: 3.80027 + 0.0703121\n",
      "[30]\tcv_agg's rmse: 3.78125 + 0.0703501\n",
      "[40]\tcv_agg's rmse: 3.76465 + 0.0702652\n",
      "[50]\tcv_agg's rmse: 3.75053 + 0.0703547\n",
      "[60]\tcv_agg's rmse: 3.7387 + 0.0702641\n",
      "[70]\tcv_agg's rmse: 3.72855 + 0.0703819\n",
      "[80]\tcv_agg's rmse: 3.71994 + 0.0702871\n",
      "[90]\tcv_agg's rmse: 3.71259 + 0.0701109\n",
      "[100]\tcv_agg's rmse: 3.70613 + 0.0700034\n",
      "[110]\tcv_agg's rmse: 3.70026 + 0.069838\n",
      "[120]\tcv_agg's rmse: 3.69553 + 0.0698035\n",
      "[130]\tcv_agg's rmse: 3.69127 + 0.0695366\n",
      "[140]\tcv_agg's rmse: 3.68781 + 0.0694508\n",
      "[150]\tcv_agg's rmse: 3.68461 + 0.0695283\n",
      "[160]\tcv_agg's rmse: 3.68201 + 0.0695366\n",
      "[170]\tcv_agg's rmse: 3.67969 + 0.0694207\n",
      "[180]\tcv_agg's rmse: 3.67754 + 0.0694683\n",
      "[190]\tcv_agg's rmse: 3.67581 + 0.069427\n",
      "[200]\tcv_agg's rmse: 3.67412 + 0.0693904\n",
      "[210]\tcv_agg's rmse: 3.67274 + 0.0694606\n",
      "[220]\tcv_agg's rmse: 3.67137 + 0.0692952\n",
      "[230]\tcv_agg's rmse: 3.67009 + 0.0692031\n",
      "[240]\tcv_agg's rmse: 3.66873 + 0.0691241\n",
      "[250]\tcv_agg's rmse: 3.66778 + 0.0690737\n",
      "[260]\tcv_agg's rmse: 3.66689 + 0.0690659\n",
      "[270]\tcv_agg's rmse: 3.66626 + 0.069018\n",
      "[280]\tcv_agg's rmse: 3.66554 + 0.069033\n",
      "[290]\tcv_agg's rmse: 3.66475 + 0.0690675\n",
      "[300]\tcv_agg's rmse: 3.66417 + 0.0691498\n",
      "[310]\tcv_agg's rmse: 3.6636 + 0.0691299\n",
      "[320]\tcv_agg's rmse: 3.66308 + 0.0691864\n",
      "[330]\tcv_agg's rmse: 3.66266 + 0.0690639\n",
      "[340]\tcv_agg's rmse: 3.66224 + 0.0690046\n",
      "[350]\tcv_agg's rmse: 3.66183 + 0.0690286\n",
      "[360]\tcv_agg's rmse: 3.66142 + 0.068886\n",
      "[370]\tcv_agg's rmse: 3.66119 + 0.0687867\n",
      "[380]\tcv_agg's rmse: 3.66094 + 0.0687449\n",
      "[390]\tcv_agg's rmse: 3.66063 + 0.0687307\n",
      "[400]\tcv_agg's rmse: 3.66054 + 0.0686397\n",
      "[410]\tcv_agg's rmse: 3.66036 + 0.0686619\n",
      "[420]\tcv_agg's rmse: 3.66011 + 0.0686594\n",
      "[430]\tcv_agg's rmse: 3.65993 + 0.068585\n",
      "[440]\tcv_agg's rmse: 3.65977 + 0.0685013\n",
      "[450]\tcv_agg's rmse: 3.65961 + 0.0683857\n",
      "[460]\tcv_agg's rmse: 3.65955 + 0.0683828\n",
      "[470]\tcv_agg's rmse: 3.65936 + 0.0684029\n",
      "[480]\tcv_agg's rmse: 3.65928 + 0.068458\n",
      "[490]\tcv_agg's rmse: 3.65917 + 0.0684466\n",
      "[500]\tcv_agg's rmse: 3.65914 + 0.0684269\n",
      "[3.659312528156499, 3.6593143714040357, 3.6593731629323663, 3.6593213315855686, 3.6590754972585544, 3.6587630783031586, 3.6587630783031586, 3.6587630783031586, 3.6587630783031586, 3.6585884635069634, 3.658928720347265, 3.6596865672558403, 3.6586710103407767, 3.6586093254749272, 3.6585393398799417, 3.6587559515089096, 3.6591524587569673, 3.6581050272358624, 3.658737854011104, 3.6589276046350157, 3.6588912976191317, 3.658906464704328, 3.6595781755314016, 3.658958353919135, 3.6583649219300183, 3.6585740400877045, 3.6591120883179102]\n"
     ]
    },
    {
     "name": "stderr",
     "output_type": "stream",
     "text": [
      "C:\\Users\\tanch\\anaconda3\\envs\\ml\\lib\\site-packages\\lightgbm\\engine.py:577: UserWarning: 'early_stopping_rounds' argument is deprecated and will be removed in a future release of LightGBM. Pass 'early_stopping()' callback via 'callbacks' argument instead.\n",
      "  _log_warning(\"'early_stopping_rounds' argument is deprecated and will be removed in a future release of LightGBM. \"\n"
     ]
    },
    {
     "name": "stdout",
     "output_type": "stream",
     "text": [
      "[LightGBM] [Info] Total Bins 79690\n",
      "[LightGBM] [Info] Number of data points in the train set: 161532, number of used features: 414\n",
      "[LightGBM] [Info] Total Bins 79690\n",
      "[LightGBM] [Info] Number of data points in the train set: 161532, number of used features: 414\n",
      "[LightGBM] [Info] Total Bins 79690\n",
      "[LightGBM] [Info] Number of data points in the train set: 161532, number of used features: 414\n",
      "[LightGBM] [Info] Total Bins 79690\n",
      "[LightGBM] [Info] Number of data points in the train set: 161532, number of used features: 414\n",
      "[LightGBM] [Info] Total Bins 79690\n",
      "[LightGBM] [Info] Number of data points in the train set: 161532, number of used features: 414\n",
      "[LightGBM] [Info] Start training from score -0.387307\n"
     ]
    },
    {
     "name": "stderr",
     "output_type": "stream",
     "text": [
      "C:\\Users\\tanch\\anaconda3\\envs\\ml\\lib\\site-packages\\lightgbm\\engine.py:620: UserWarning: 'verbose_eval' argument is deprecated and will be removed in a future release of LightGBM. Pass 'log_evaluation()' callback via 'callbacks' argument instead.\n",
      "  _log_warning(\"'verbose_eval' argument is deprecated and will be removed in a future release of LightGBM. \"\n"
     ]
    },
    {
     "name": "stdout",
     "output_type": "stream",
     "text": [
      "[LightGBM] [Info] Start training from score -0.394715\n",
      "[LightGBM] [Info] Start training from score -0.396989\n",
      "[LightGBM] [Info] Start training from score -0.400525\n",
      "[LightGBM] [Info] Start training from score -0.388645\n",
      "[10]\tcv_agg's rmse: 3.82306 + 0.0701779\n",
      "[20]\tcv_agg's rmse: 3.80028 + 0.070133\n",
      "[30]\tcv_agg's rmse: 3.78092 + 0.0702989\n",
      "[40]\tcv_agg's rmse: 3.76446 + 0.0700455\n",
      "[50]\tcv_agg's rmse: 3.75008 + 0.0702622\n",
      "[60]\tcv_agg's rmse: 3.73829 + 0.0703425\n",
      "[70]\tcv_agg's rmse: 3.72812 + 0.0705571\n",
      "[80]\tcv_agg's rmse: 3.71942 + 0.0706026\n",
      "[90]\tcv_agg's rmse: 3.71204 + 0.0704052\n",
      "[100]\tcv_agg's rmse: 3.70554 + 0.0701793\n",
      "[110]\tcv_agg's rmse: 3.70012 + 0.0701494\n",
      "[120]\tcv_agg's rmse: 3.69536 + 0.0701775\n",
      "[130]\tcv_agg's rmse: 3.69129 + 0.0699921\n",
      "[140]\tcv_agg's rmse: 3.68763 + 0.0700083\n",
      "[150]\tcv_agg's rmse: 3.68468 + 0.069956\n",
      "[160]\tcv_agg's rmse: 3.68207 + 0.0699171\n",
      "[170]\tcv_agg's rmse: 3.67982 + 0.0699129\n",
      "[180]\tcv_agg's rmse: 3.67777 + 0.0699737\n",
      "[190]\tcv_agg's rmse: 3.67582 + 0.069894\n",
      "[200]\tcv_agg's rmse: 3.67422 + 0.0697537\n",
      "[210]\tcv_agg's rmse: 3.67275 + 0.069774\n",
      "[220]\tcv_agg's rmse: 3.67137 + 0.0697765\n",
      "[230]\tcv_agg's rmse: 3.67034 + 0.0697331\n",
      "[240]\tcv_agg's rmse: 3.66905 + 0.0697358\n",
      "[250]\tcv_agg's rmse: 3.66807 + 0.069691\n",
      "[260]\tcv_agg's rmse: 3.66721 + 0.0696366\n",
      "[270]\tcv_agg's rmse: 3.66644 + 0.0695707\n",
      "[280]\tcv_agg's rmse: 3.66581 + 0.0695725\n",
      "[290]\tcv_agg's rmse: 3.66511 + 0.0696371\n",
      "[300]\tcv_agg's rmse: 3.66459 + 0.0696106\n",
      "[310]\tcv_agg's rmse: 3.66397 + 0.0696273\n",
      "[320]\tcv_agg's rmse: 3.66342 + 0.0695145\n",
      "[330]\tcv_agg's rmse: 3.66285 + 0.0693842\n",
      "[340]\tcv_agg's rmse: 3.6624 + 0.0693046\n",
      "[350]\tcv_agg's rmse: 3.66186 + 0.0692978\n",
      "[360]\tcv_agg's rmse: 3.66152 + 0.069244\n",
      "[370]\tcv_agg's rmse: 3.66121 + 0.069204\n",
      "[380]\tcv_agg's rmse: 3.66103 + 0.0692372\n",
      "[390]\tcv_agg's rmse: 3.66052 + 0.0691469\n",
      "[400]\tcv_agg's rmse: 3.66036 + 0.0691544\n",
      "[410]\tcv_agg's rmse: 3.66019 + 0.0691338\n",
      "[420]\tcv_agg's rmse: 3.65994 + 0.0692299\n",
      "[430]\tcv_agg's rmse: 3.65982 + 0.069302\n",
      "[440]\tcv_agg's rmse: 3.65969 + 0.0692253\n",
      "[450]\tcv_agg's rmse: 3.65962 + 0.0692528\n",
      "[460]\tcv_agg's rmse: 3.65947 + 0.069332\n",
      "[470]\tcv_agg's rmse: 3.6593 + 0.069419\n",
      "[480]\tcv_agg's rmse: 3.65912 + 0.0693884\n",
      "[490]\tcv_agg's rmse: 3.65912 + 0.0693251\n",
      "[500]\tcv_agg's rmse: 3.65903 + 0.069332\n",
      "[3.659312528156499, 3.6593143714040357, 3.6593731629323663, 3.6593213315855686, 3.6590754972585544, 3.6587630783031586, 3.6587630783031586, 3.6587630783031586, 3.6587630783031586, 3.6585884635069634, 3.658928720347265, 3.6596865672558403, 3.6586710103407767, 3.6586093254749272, 3.6585393398799417, 3.6587559515089096, 3.6591524587569673, 3.6581050272358624, 3.658737854011104, 3.6589276046350157, 3.6588912976191317, 3.658906464704328, 3.6595781755314016, 3.658958353919135, 3.6583649219300183, 3.6585740400877045, 3.6591120883179102, 3.659000049504705]\n"
     ]
    },
    {
     "name": "stderr",
     "output_type": "stream",
     "text": [
      "C:\\Users\\tanch\\anaconda3\\envs\\ml\\lib\\site-packages\\lightgbm\\engine.py:577: UserWarning: 'early_stopping_rounds' argument is deprecated and will be removed in a future release of LightGBM. Pass 'early_stopping()' callback via 'callbacks' argument instead.\n",
      "  _log_warning(\"'early_stopping_rounds' argument is deprecated and will be removed in a future release of LightGBM. \"\n"
     ]
    },
    {
     "name": "stdout",
     "output_type": "stream",
     "text": [
      "[LightGBM] [Info] Total Bins 79681\n",
      "[LightGBM] [Info] Number of data points in the train set: 161532, number of used features: 413\n",
      "[LightGBM] [Info] Total Bins 79681\n",
      "[LightGBM] [Info] Number of data points in the train set: 161532, number of used features: 413\n",
      "[LightGBM] [Info] Total Bins 79681\n",
      "[LightGBM] [Info] Number of data points in the train set: 161532, number of used features: 413\n",
      "[LightGBM] [Info] Total Bins 79681\n",
      "[LightGBM] [Info] Number of data points in the train set: 161532, number of used features: 413\n",
      "[LightGBM] [Info] Total Bins 79681\n",
      "[LightGBM] [Info] Number of data points in the train set: 161532, number of used features: 413\n",
      "[LightGBM] [Info] Start training from score -0.387307\n"
     ]
    },
    {
     "name": "stderr",
     "output_type": "stream",
     "text": [
      "C:\\Users\\tanch\\anaconda3\\envs\\ml\\lib\\site-packages\\lightgbm\\engine.py:620: UserWarning: 'verbose_eval' argument is deprecated and will be removed in a future release of LightGBM. Pass 'log_evaluation()' callback via 'callbacks' argument instead.\n",
      "  _log_warning(\"'verbose_eval' argument is deprecated and will be removed in a future release of LightGBM. \"\n"
     ]
    },
    {
     "name": "stdout",
     "output_type": "stream",
     "text": [
      "[LightGBM] [Info] Start training from score -0.394715\n",
      "[LightGBM] [Info] Start training from score -0.396989\n",
      "[LightGBM] [Info] Start training from score -0.400525\n",
      "[LightGBM] [Info] Start training from score -0.388645\n",
      "[10]\tcv_agg's rmse: 3.82314 + 0.0701016\n",
      "[20]\tcv_agg's rmse: 3.80034 + 0.0701713\n",
      "[30]\tcv_agg's rmse: 3.7814 + 0.070134\n",
      "[40]\tcv_agg's rmse: 3.76491 + 0.0700549\n",
      "[50]\tcv_agg's rmse: 3.75066 + 0.0700273\n",
      "[60]\tcv_agg's rmse: 3.739 + 0.0700852\n",
      "[70]\tcv_agg's rmse: 3.72877 + 0.070186\n",
      "[80]\tcv_agg's rmse: 3.72013 + 0.0701251\n",
      "[90]\tcv_agg's rmse: 3.71272 + 0.0698928\n",
      "[100]\tcv_agg's rmse: 3.70608 + 0.0698001\n",
      "[110]\tcv_agg's rmse: 3.70048 + 0.0698874\n",
      "[120]\tcv_agg's rmse: 3.69569 + 0.0698857\n",
      "[130]\tcv_agg's rmse: 3.69171 + 0.0697943\n",
      "[140]\tcv_agg's rmse: 3.68817 + 0.0697461\n",
      "[150]\tcv_agg's rmse: 3.68508 + 0.069674\n",
      "[160]\tcv_agg's rmse: 3.68233 + 0.0697337\n",
      "[170]\tcv_agg's rmse: 3.68004 + 0.0696759\n",
      "[180]\tcv_agg's rmse: 3.6778 + 0.0696695\n",
      "[190]\tcv_agg's rmse: 3.67591 + 0.0696695\n",
      "[200]\tcv_agg's rmse: 3.67428 + 0.0696661\n",
      "[210]\tcv_agg's rmse: 3.67285 + 0.0696615\n",
      "[220]\tcv_agg's rmse: 3.67161 + 0.0697364\n",
      "[230]\tcv_agg's rmse: 3.67039 + 0.069533\n",
      "[240]\tcv_agg's rmse: 3.66934 + 0.0694853\n",
      "[250]\tcv_agg's rmse: 3.66835 + 0.0693916\n",
      "[260]\tcv_agg's rmse: 3.66763 + 0.0694742\n",
      "[270]\tcv_agg's rmse: 3.66683 + 0.0695676\n",
      "[280]\tcv_agg's rmse: 3.66597 + 0.0696205\n",
      "[290]\tcv_agg's rmse: 3.66534 + 0.0696323\n",
      "[300]\tcv_agg's rmse: 3.66472 + 0.0694265\n",
      "[310]\tcv_agg's rmse: 3.66414 + 0.0694153\n",
      "[320]\tcv_agg's rmse: 3.66362 + 0.0693509\n",
      "[330]\tcv_agg's rmse: 3.66305 + 0.0692562\n",
      "[340]\tcv_agg's rmse: 3.66258 + 0.0692013\n",
      "[350]\tcv_agg's rmse: 3.66224 + 0.0691804\n",
      "[360]\tcv_agg's rmse: 3.66196 + 0.0690605\n",
      "[370]\tcv_agg's rmse: 3.66155 + 0.0690748\n",
      "[380]\tcv_agg's rmse: 3.66136 + 0.0691136\n",
      "[390]\tcv_agg's rmse: 3.66113 + 0.0690472\n",
      "[400]\tcv_agg's rmse: 3.66097 + 0.0690578\n",
      "[410]\tcv_agg's rmse: 3.66081 + 0.0690638\n",
      "[420]\tcv_agg's rmse: 3.66057 + 0.0691285\n",
      "[430]\tcv_agg's rmse: 3.66035 + 0.0692031\n",
      "[440]\tcv_agg's rmse: 3.66015 + 0.0691293\n",
      "[450]\tcv_agg's rmse: 3.66 + 0.0691496\n",
      "[460]\tcv_agg's rmse: 3.65975 + 0.0691595\n",
      "[470]\tcv_agg's rmse: 3.65958 + 0.0692596\n",
      "[480]\tcv_agg's rmse: 3.65945 + 0.069236\n",
      "[490]\tcv_agg's rmse: 3.65943 + 0.0692457\n",
      "[500]\tcv_agg's rmse: 3.65934 + 0.0693002\n",
      "[3.659312528156499, 3.6593143714040357, 3.6593731629323663, 3.6593213315855686, 3.6590754972585544, 3.6587630783031586, 3.6587630783031586, 3.6587630783031586, 3.6587630783031586, 3.6585884635069634, 3.658928720347265, 3.6596865672558403, 3.6586710103407767, 3.6586093254749272, 3.6585393398799417, 3.6587559515089096, 3.6591524587569673, 3.6581050272358624, 3.658737854011104, 3.6589276046350157, 3.6588912976191317, 3.658906464704328, 3.6595781755314016, 3.658958353919135, 3.6583649219300183, 3.6585740400877045, 3.6591120883179102, 3.659000049504705, 3.6593405811784137]\n"
     ]
    },
    {
     "name": "stderr",
     "output_type": "stream",
     "text": [
      "C:\\Users\\tanch\\anaconda3\\envs\\ml\\lib\\site-packages\\lightgbm\\engine.py:577: UserWarning: 'early_stopping_rounds' argument is deprecated and will be removed in a future release of LightGBM. Pass 'early_stopping()' callback via 'callbacks' argument instead.\n",
      "  _log_warning(\"'early_stopping_rounds' argument is deprecated and will be removed in a future release of LightGBM. \"\n"
     ]
    },
    {
     "name": "stdout",
     "output_type": "stream",
     "text": [
      "[LightGBM] [Info] Total Bins 79679\n",
      "[LightGBM] [Info] Number of data points in the train set: 161532, number of used features: 412\n",
      "[LightGBM] [Info] Total Bins 79679\n",
      "[LightGBM] [Info] Number of data points in the train set: 161532, number of used features: 412\n",
      "[LightGBM] [Info] Total Bins 79679\n",
      "[LightGBM] [Info] Number of data points in the train set: 161532, number of used features: 412\n",
      "[LightGBM] [Info] Total Bins 79679\n",
      "[LightGBM] [Info] Number of data points in the train set: 161532, number of used features: 412\n",
      "[LightGBM] [Info] Total Bins 79679\n",
      "[LightGBM] [Info] Number of data points in the train set: 161532, number of used features: 412\n",
      "[LightGBM] [Info] Start training from score -0.387307\n"
     ]
    },
    {
     "name": "stderr",
     "output_type": "stream",
     "text": [
      "C:\\Users\\tanch\\anaconda3\\envs\\ml\\lib\\site-packages\\lightgbm\\engine.py:620: UserWarning: 'verbose_eval' argument is deprecated and will be removed in a future release of LightGBM. Pass 'log_evaluation()' callback via 'callbacks' argument instead.\n",
      "  _log_warning(\"'verbose_eval' argument is deprecated and will be removed in a future release of LightGBM. \"\n"
     ]
    },
    {
     "name": "stdout",
     "output_type": "stream",
     "text": [
      "[LightGBM] [Info] Start training from score -0.394715\n",
      "[LightGBM] [Info] Start training from score -0.396989\n",
      "[LightGBM] [Info] Start training from score -0.400525\n",
      "[LightGBM] [Info] Start training from score -0.388645\n",
      "[10]\tcv_agg's rmse: 3.82351 + 0.0702161\n",
      "[20]\tcv_agg's rmse: 3.801 + 0.0705186\n",
      "[30]\tcv_agg's rmse: 3.78156 + 0.0705726\n",
      "[40]\tcv_agg's rmse: 3.765 + 0.0703279\n",
      "[50]\tcv_agg's rmse: 3.7508 + 0.0702189\n",
      "[60]\tcv_agg's rmse: 3.73935 + 0.0704264\n",
      "[70]\tcv_agg's rmse: 3.72899 + 0.0704251\n",
      "[80]\tcv_agg's rmse: 3.72041 + 0.0704793\n",
      "[90]\tcv_agg's rmse: 3.7128 + 0.0703142\n",
      "[100]\tcv_agg's rmse: 3.70634 + 0.0703396\n",
      "[110]\tcv_agg's rmse: 3.70082 + 0.0702012\n",
      "[120]\tcv_agg's rmse: 3.696 + 0.070193\n",
      "[130]\tcv_agg's rmse: 3.69191 + 0.0701254\n",
      "[140]\tcv_agg's rmse: 3.68812 + 0.069899\n",
      "[150]\tcv_agg's rmse: 3.68484 + 0.0699024\n",
      "[160]\tcv_agg's rmse: 3.68212 + 0.0698398\n",
      "[170]\tcv_agg's rmse: 3.67989 + 0.0696863\n",
      "[180]\tcv_agg's rmse: 3.67766 + 0.0696886\n",
      "[190]\tcv_agg's rmse: 3.67583 + 0.0696076\n",
      "[200]\tcv_agg's rmse: 3.67424 + 0.0696653\n",
      "[210]\tcv_agg's rmse: 3.67283 + 0.0695863\n",
      "[220]\tcv_agg's rmse: 3.67155 + 0.0694937\n",
      "[230]\tcv_agg's rmse: 3.67042 + 0.0694847\n",
      "[240]\tcv_agg's rmse: 3.66913 + 0.0694679\n",
      "[250]\tcv_agg's rmse: 3.66808 + 0.0694179\n",
      "[260]\tcv_agg's rmse: 3.66729 + 0.0694635\n",
      "[270]\tcv_agg's rmse: 3.66644 + 0.0694437\n",
      "[280]\tcv_agg's rmse: 3.6657 + 0.0694633\n",
      "[290]\tcv_agg's rmse: 3.66507 + 0.0693982\n",
      "[300]\tcv_agg's rmse: 3.66451 + 0.0693815\n",
      "[310]\tcv_agg's rmse: 3.66406 + 0.0694129\n",
      "[320]\tcv_agg's rmse: 3.66346 + 0.0693319\n",
      "[330]\tcv_agg's rmse: 3.66297 + 0.0692478\n",
      "[340]\tcv_agg's rmse: 3.66242 + 0.0691186\n",
      "[350]\tcv_agg's rmse: 3.6621 + 0.0690404\n",
      "[360]\tcv_agg's rmse: 3.66162 + 0.0690016\n",
      "[370]\tcv_agg's rmse: 3.66133 + 0.0691172\n",
      "[380]\tcv_agg's rmse: 3.66114 + 0.0691902\n",
      "[390]\tcv_agg's rmse: 3.66095 + 0.0692316\n",
      "[400]\tcv_agg's rmse: 3.66082 + 0.0691633\n",
      "[410]\tcv_agg's rmse: 3.66063 + 0.069182\n",
      "[420]\tcv_agg's rmse: 3.66046 + 0.0690997\n",
      "[430]\tcv_agg's rmse: 3.66032 + 0.0691187\n",
      "[440]\tcv_agg's rmse: 3.65998 + 0.0691218\n",
      "[450]\tcv_agg's rmse: 3.65998 + 0.0690806\n",
      "[460]\tcv_agg's rmse: 3.65988 + 0.0691111\n",
      "[470]\tcv_agg's rmse: 3.65974 + 0.0690894\n",
      "[480]\tcv_agg's rmse: 3.6597 + 0.069067\n",
      "[3.659312528156499, 3.6593143714040357, 3.6593731629323663, 3.6593213315855686, 3.6590754972585544, 3.6587630783031586, 3.6587630783031586, 3.6587630783031586, 3.6587630783031586, 3.6585884635069634, 3.658928720347265, 3.6596865672558403, 3.6586710103407767, 3.6586093254749272, 3.6585393398799417, 3.6587559515089096, 3.6591524587569673, 3.6581050272358624, 3.658737854011104, 3.6589276046350157, 3.6588912976191317, 3.658906464704328, 3.6595781755314016, 3.658958353919135, 3.6583649219300183, 3.6585740400877045, 3.6591120883179102, 3.659000049504705, 3.6593405811784137, 3.6596966573208434]\n"
     ]
    },
    {
     "name": "stderr",
     "output_type": "stream",
     "text": [
      "C:\\Users\\tanch\\anaconda3\\envs\\ml\\lib\\site-packages\\lightgbm\\engine.py:577: UserWarning: 'early_stopping_rounds' argument is deprecated and will be removed in a future release of LightGBM. Pass 'early_stopping()' callback via 'callbacks' argument instead.\n",
      "  _log_warning(\"'early_stopping_rounds' argument is deprecated and will be removed in a future release of LightGBM. \"\n"
     ]
    },
    {
     "name": "stdout",
     "output_type": "stream",
     "text": [
      "[LightGBM] [Info] Total Bins 79487\n",
      "[LightGBM] [Info] Number of data points in the train set: 161532, number of used features: 411\n",
      "[LightGBM] [Info] Total Bins 79487\n",
      "[LightGBM] [Info] Number of data points in the train set: 161532, number of used features: 411\n",
      "[LightGBM] [Info] Total Bins 79487\n",
      "[LightGBM] [Info] Number of data points in the train set: 161532, number of used features: 411\n",
      "[LightGBM] [Info] Total Bins 79487\n",
      "[LightGBM] [Info] Number of data points in the train set: 161532, number of used features: 411\n",
      "[LightGBM] [Info] Total Bins 79487\n",
      "[LightGBM] [Info] Number of data points in the train set: 161532, number of used features: 411\n",
      "[LightGBM] [Info] Start training from score -0.387307\n"
     ]
    },
    {
     "name": "stderr",
     "output_type": "stream",
     "text": [
      "C:\\Users\\tanch\\anaconda3\\envs\\ml\\lib\\site-packages\\lightgbm\\engine.py:620: UserWarning: 'verbose_eval' argument is deprecated and will be removed in a future release of LightGBM. Pass 'log_evaluation()' callback via 'callbacks' argument instead.\n",
      "  _log_warning(\"'verbose_eval' argument is deprecated and will be removed in a future release of LightGBM. \"\n"
     ]
    },
    {
     "name": "stdout",
     "output_type": "stream",
     "text": [
      "[LightGBM] [Info] Start training from score -0.394715\n",
      "[LightGBM] [Info] Start training from score -0.396989\n",
      "[LightGBM] [Info] Start training from score -0.400525\n",
      "[LightGBM] [Info] Start training from score -0.388645\n",
      "[10]\tcv_agg's rmse: 3.82266 + 0.0703126\n",
      "[20]\tcv_agg's rmse: 3.80028 + 0.0705663\n",
      "[30]\tcv_agg's rmse: 3.78149 + 0.0706445\n",
      "[40]\tcv_agg's rmse: 3.76491 + 0.0704866\n",
      "[50]\tcv_agg's rmse: 3.75094 + 0.0705741\n",
      "[60]\tcv_agg's rmse: 3.73899 + 0.070694\n",
      "[70]\tcv_agg's rmse: 3.72874 + 0.0707038\n",
      "[80]\tcv_agg's rmse: 3.72003 + 0.0706284\n",
      "[90]\tcv_agg's rmse: 3.71261 + 0.070484\n",
      "[100]\tcv_agg's rmse: 3.70596 + 0.0703639\n",
      "[110]\tcv_agg's rmse: 3.7003 + 0.0703331\n",
      "[120]\tcv_agg's rmse: 3.69563 + 0.0702726\n",
      "[130]\tcv_agg's rmse: 3.69149 + 0.0702684\n",
      "[140]\tcv_agg's rmse: 3.68788 + 0.0701549\n",
      "[150]\tcv_agg's rmse: 3.68482 + 0.070002\n",
      "[160]\tcv_agg's rmse: 3.68217 + 0.0698731\n",
      "[170]\tcv_agg's rmse: 3.67988 + 0.0697953\n",
      "[180]\tcv_agg's rmse: 3.67771 + 0.0697678\n",
      "[190]\tcv_agg's rmse: 3.67589 + 0.0696924\n",
      "[200]\tcv_agg's rmse: 3.67426 + 0.0697112\n",
      "[210]\tcv_agg's rmse: 3.67262 + 0.0696257\n",
      "[220]\tcv_agg's rmse: 3.67135 + 0.0695513\n",
      "[230]\tcv_agg's rmse: 3.6701 + 0.0694058\n",
      "[240]\tcv_agg's rmse: 3.66896 + 0.0694601\n",
      "[250]\tcv_agg's rmse: 3.66801 + 0.0693594\n",
      "[260]\tcv_agg's rmse: 3.66726 + 0.0694112\n",
      "[270]\tcv_agg's rmse: 3.66654 + 0.0693383\n",
      "[280]\tcv_agg's rmse: 3.6659 + 0.0693536\n",
      "[290]\tcv_agg's rmse: 3.66521 + 0.0694592\n",
      "[300]\tcv_agg's rmse: 3.66463 + 0.0694897\n",
      "[310]\tcv_agg's rmse: 3.66407 + 0.0694794\n",
      "[320]\tcv_agg's rmse: 3.6635 + 0.0694334\n",
      "[330]\tcv_agg's rmse: 3.66301 + 0.0693642\n",
      "[340]\tcv_agg's rmse: 3.66246 + 0.0695186\n",
      "[350]\tcv_agg's rmse: 3.66212 + 0.0695692\n",
      "[360]\tcv_agg's rmse: 3.66182 + 0.0695332\n",
      "[370]\tcv_agg's rmse: 3.66147 + 0.069583\n",
      "[380]\tcv_agg's rmse: 3.66122 + 0.069624\n",
      "[390]\tcv_agg's rmse: 3.66091 + 0.0697337\n"
     ]
    },
    {
     "ename": "KeyboardInterrupt",
     "evalue": "",
     "output_type": "error",
     "traceback": [
      "\u001b[1;31m---------------------------------------------------------------------------\u001b[0m",
      "\u001b[1;31mKeyboardInterrupt\u001b[0m                         Traceback (most recent call last)",
      "Input \u001b[1;32mIn [11]\u001b[0m, in \u001b[0;36m<cell line: 1>\u001b[1;34m()\u001b[0m\n\u001b[0;32m      4\u001b[0m X, y \u001b[38;5;241m=\u001b[39m data[subset_features], data[\u001b[38;5;124m\"\u001b[39m\u001b[38;5;124mtarget\u001b[39m\u001b[38;5;124m\"\u001b[39m]\n\u001b[0;32m      5\u001b[0m train \u001b[38;5;241m=\u001b[39m lgb\u001b[38;5;241m.\u001b[39mDataset(data \u001b[38;5;241m=\u001b[39m X, label \u001b[38;5;241m=\u001b[39m y)\n\u001b[1;32m----> 6\u001b[0m cv \u001b[38;5;241m=\u001b[39m \u001b[43mlgb\u001b[49m\u001b[38;5;241;43m.\u001b[39;49m\u001b[43mcv\u001b[49m\u001b[43m(\u001b[49m\n\u001b[0;32m      7\u001b[0m \u001b[43m    \u001b[49m\u001b[43mparams\u001b[49m\u001b[43m \u001b[49m\u001b[38;5;241;43m=\u001b[39;49m\u001b[43m \u001b[49m\u001b[43mbest_params\u001b[49m\u001b[43m,\u001b[49m\u001b[43m \u001b[49m\n\u001b[0;32m      8\u001b[0m \u001b[43m    \u001b[49m\u001b[43mtrain_set\u001b[49m\u001b[43m \u001b[49m\u001b[38;5;241;43m=\u001b[39;49m\u001b[43m \u001b[49m\u001b[43mtrain\u001b[49m\u001b[43m,\u001b[49m\u001b[43m \u001b[49m\n\u001b[0;32m      9\u001b[0m \u001b[43m    \u001b[49m\u001b[43mnum_boost_round\u001b[49m\u001b[43m \u001b[49m\u001b[38;5;241;43m=\u001b[39;49m\u001b[43m \u001b[49m\u001b[38;5;241;43m500\u001b[39;49m\u001b[43m,\u001b[49m\u001b[43m \u001b[49m\n\u001b[0;32m     10\u001b[0m \u001b[43m    \u001b[49m\u001b[43mnfold\u001b[49m\u001b[38;5;241;43m=\u001b[39;49m\u001b[38;5;241;43m5\u001b[39;49m\u001b[43m,\u001b[49m\u001b[43m \u001b[49m\n\u001b[0;32m     11\u001b[0m \u001b[43m    \u001b[49m\u001b[43mmetrics\u001b[49m\u001b[43m \u001b[49m\u001b[38;5;241;43m=\u001b[39;49m\u001b[43m \u001b[49m\u001b[43m[\u001b[49m\u001b[38;5;124;43m\"\u001b[39;49m\u001b[38;5;124;43mrmse\u001b[39;49m\u001b[38;5;124;43m\"\u001b[39;49m\u001b[43m]\u001b[49m\u001b[43m,\u001b[49m\n\u001b[0;32m     12\u001b[0m \u001b[43m    \u001b[49m\u001b[43mstratified\u001b[49m\u001b[43m \u001b[49m\u001b[38;5;241;43m=\u001b[39;49m\u001b[43m \u001b[49m\u001b[38;5;28;43;01mFalse\u001b[39;49;00m\u001b[43m,\u001b[49m\u001b[43m \u001b[49m\n\u001b[0;32m     13\u001b[0m \u001b[43m    \u001b[49m\u001b[43mcategorical_feature\u001b[49m\u001b[43m \u001b[49m\u001b[38;5;241;43m=\u001b[39;49m\u001b[43m \u001b[49m\u001b[38;5;124;43m\"\u001b[39;49m\u001b[38;5;124;43mauto\u001b[39;49m\u001b[38;5;124;43m\"\u001b[39;49m\u001b[43m,\u001b[49m\n\u001b[0;32m     14\u001b[0m \u001b[43m    \u001b[49m\u001b[43mverbose_eval\u001b[49m\u001b[43m \u001b[49m\u001b[38;5;241;43m=\u001b[39;49m\u001b[43m \u001b[49m\u001b[38;5;241;43m10\u001b[39;49m\u001b[43m,\u001b[49m\n\u001b[0;32m     15\u001b[0m \u001b[43m    \u001b[49m\u001b[43mearly_stopping_rounds\u001b[49m\u001b[43m \u001b[49m\u001b[38;5;241;43m=\u001b[39;49m\u001b[43m \u001b[49m\u001b[38;5;241;43m10\u001b[39;49m\u001b[43m,\u001b[49m\n\u001b[0;32m     16\u001b[0m \u001b[43m    \u001b[49m\u001b[43mreturn_cvbooster\u001b[49m\u001b[43m \u001b[49m\u001b[38;5;241;43m=\u001b[39;49m\u001b[43m \u001b[49m\u001b[38;5;28;43;01mFalse\u001b[39;49;00m\n\u001b[0;32m     17\u001b[0m \u001b[43m\u001b[49m\u001b[43m)\u001b[49m\n\u001b[0;32m     18\u001b[0m score \u001b[38;5;241m=\u001b[39m \u001b[38;5;28mmin\u001b[39m(cv[\u001b[38;5;124m\"\u001b[39m\u001b[38;5;124mrmse-mean\u001b[39m\u001b[38;5;124m\"\u001b[39m])\n\u001b[0;32m     19\u001b[0m BE_results\u001b[38;5;241m.\u001b[39mappend(score)\n",
      "File \u001b[1;32m~\\anaconda3\\envs\\ml\\lib\\site-packages\\lightgbm\\engine.py:640\u001b[0m, in \u001b[0;36mcv\u001b[1;34m(params, train_set, num_boost_round, folds, nfold, stratified, shuffle, metrics, fobj, feval, init_model, feature_name, categorical_feature, early_stopping_rounds, fpreproc, verbose_eval, show_stdv, seed, callbacks, eval_train_metric, return_cvbooster)\u001b[0m\n\u001b[0;32m    633\u001b[0m \u001b[38;5;28;01mfor\u001b[39;00m cb \u001b[38;5;129;01min\u001b[39;00m callbacks_before_iter:\n\u001b[0;32m    634\u001b[0m     cb(callback\u001b[38;5;241m.\u001b[39mCallbackEnv(model\u001b[38;5;241m=\u001b[39mcvfolds,\n\u001b[0;32m    635\u001b[0m                             params\u001b[38;5;241m=\u001b[39mparams,\n\u001b[0;32m    636\u001b[0m                             iteration\u001b[38;5;241m=\u001b[39mi,\n\u001b[0;32m    637\u001b[0m                             begin_iteration\u001b[38;5;241m=\u001b[39m\u001b[38;5;241m0\u001b[39m,\n\u001b[0;32m    638\u001b[0m                             end_iteration\u001b[38;5;241m=\u001b[39mnum_boost_round,\n\u001b[0;32m    639\u001b[0m                             evaluation_result_list\u001b[38;5;241m=\u001b[39m\u001b[38;5;28;01mNone\u001b[39;00m))\n\u001b[1;32m--> 640\u001b[0m \u001b[43mcvfolds\u001b[49m\u001b[38;5;241;43m.\u001b[39;49m\u001b[43mupdate\u001b[49m\u001b[43m(\u001b[49m\u001b[43mfobj\u001b[49m\u001b[38;5;241;43m=\u001b[39;49m\u001b[43mfobj\u001b[49m\u001b[43m)\u001b[49m\n\u001b[0;32m    641\u001b[0m res \u001b[38;5;241m=\u001b[39m _agg_cv_result(cvfolds\u001b[38;5;241m.\u001b[39meval_valid(feval), eval_train_metric)\n\u001b[0;32m    642\u001b[0m \u001b[38;5;28;01mfor\u001b[39;00m _, key, mean, _, std \u001b[38;5;129;01min\u001b[39;00m res:\n",
      "File \u001b[1;32m~\\anaconda3\\envs\\ml\\lib\\site-packages\\lightgbm\\engine.py:353\u001b[0m, in \u001b[0;36mCVBooster.__getattr__.<locals>.handler_function\u001b[1;34m(*args, **kwargs)\u001b[0m\n\u001b[0;32m    351\u001b[0m ret \u001b[38;5;241m=\u001b[39m []\n\u001b[0;32m    352\u001b[0m \u001b[38;5;28;01mfor\u001b[39;00m booster \u001b[38;5;129;01min\u001b[39;00m \u001b[38;5;28mself\u001b[39m\u001b[38;5;241m.\u001b[39mboosters:\n\u001b[1;32m--> 353\u001b[0m     ret\u001b[38;5;241m.\u001b[39mappend(\u001b[38;5;28mgetattr\u001b[39m(booster, name)(\u001b[38;5;241m*\u001b[39margs, \u001b[38;5;241m*\u001b[39m\u001b[38;5;241m*\u001b[39mkwargs))\n\u001b[0;32m    354\u001b[0m \u001b[38;5;28;01mreturn\u001b[39;00m ret\n",
      "File \u001b[1;32m~\\anaconda3\\envs\\ml\\lib\\site-packages\\lightgbm\\basic.py:3021\u001b[0m, in \u001b[0;36mBooster.update\u001b[1;34m(self, train_set, fobj)\u001b[0m\n\u001b[0;32m   3019\u001b[0m \u001b[38;5;28;01mif\u001b[39;00m \u001b[38;5;28mself\u001b[39m\u001b[38;5;241m.\u001b[39m__set_objective_to_none:\n\u001b[0;32m   3020\u001b[0m     \u001b[38;5;28;01mraise\u001b[39;00m LightGBMError(\u001b[38;5;124m'\u001b[39m\u001b[38;5;124mCannot update due to null objective function.\u001b[39m\u001b[38;5;124m'\u001b[39m)\n\u001b[1;32m-> 3021\u001b[0m _safe_call(\u001b[43m_LIB\u001b[49m\u001b[38;5;241;43m.\u001b[39;49m\u001b[43mLGBM_BoosterUpdateOneIter\u001b[49m\u001b[43m(\u001b[49m\n\u001b[0;32m   3022\u001b[0m \u001b[43m    \u001b[49m\u001b[38;5;28;43mself\u001b[39;49m\u001b[38;5;241;43m.\u001b[39;49m\u001b[43mhandle\u001b[49m\u001b[43m,\u001b[49m\n\u001b[0;32m   3023\u001b[0m \u001b[43m    \u001b[49m\u001b[43mctypes\u001b[49m\u001b[38;5;241;43m.\u001b[39;49m\u001b[43mbyref\u001b[49m\u001b[43m(\u001b[49m\u001b[43mis_finished\u001b[49m\u001b[43m)\u001b[49m\u001b[43m)\u001b[49m)\n\u001b[0;32m   3024\u001b[0m \u001b[38;5;28mself\u001b[39m\u001b[38;5;241m.\u001b[39m__is_predicted_cur_iter \u001b[38;5;241m=\u001b[39m [\u001b[38;5;28;01mFalse\u001b[39;00m \u001b[38;5;28;01mfor\u001b[39;00m _ \u001b[38;5;129;01min\u001b[39;00m \u001b[38;5;28mrange\u001b[39m(\u001b[38;5;28mself\u001b[39m\u001b[38;5;241m.\u001b[39m__num_dataset)]\n\u001b[0;32m   3025\u001b[0m \u001b[38;5;28;01mreturn\u001b[39;00m is_finished\u001b[38;5;241m.\u001b[39mvalue \u001b[38;5;241m==\u001b[39m \u001b[38;5;241m1\u001b[39m\n",
      "\u001b[1;31mKeyboardInterrupt\u001b[0m: "
     ]
    }
   ],
   "source": [
    "for i in range(0,31):\n",
    "    subset_features = feature_importances[\"Feature Name\"][:-i].tolist()\n",
    "    subset_features = feature_importances[\"Feature Name\"].tolist() if i==0 else subset_features\n",
    "    X, y = data[subset_features], data[\"target\"]\n",
    "    train = lgb.Dataset(data = X, label = y)\n",
    "    cv = lgb.cv(\n",
    "        params = best_params, \n",
    "        train_set = train, \n",
    "        num_boost_round = 500, \n",
    "        nfold=5, \n",
    "        metrics = [\"rmse\"],\n",
    "        stratified = False, \n",
    "        categorical_feature = \"auto\",\n",
    "        verbose_eval = 10,\n",
    "        early_stopping_rounds = 10,\n",
    "        return_cvbooster = False\n",
    "    )\n",
    "    score = min(cv[\"rmse-mean\"])\n",
    "    BE_results.append(score)\n",
    "    print(BE_results)"
   ]
  },
  {
   "cell_type": "code",
   "execution_count": 12,
   "id": "11d5f797",
   "metadata": {},
   "outputs": [
    {
     "data": {
      "text/plain": [
       "[3.659312528156499,\n",
       " 3.6593143714040357,\n",
       " 3.6593731629323663,\n",
       " 3.6593213315855686,\n",
       " 3.6590754972585544,\n",
       " 3.6587630783031586,\n",
       " 3.6587630783031586,\n",
       " 3.6587630783031586,\n",
       " 3.6587630783031586,\n",
       " 3.6585884635069634,\n",
       " 3.658928720347265,\n",
       " 3.6596865672558403,\n",
       " 3.6586710103407767,\n",
       " 3.6586093254749272,\n",
       " 3.6585393398799417,\n",
       " 3.6587559515089096,\n",
       " 3.6591524587569673,\n",
       " 3.6581050272358624,\n",
       " 3.658737854011104,\n",
       " 3.6589276046350157,\n",
       " 3.6588912976191317,\n",
       " 3.658906464704328,\n",
       " 3.6595781755314016,\n",
       " 3.658958353919135,\n",
       " 3.6583649219300183,\n",
       " 3.6585740400877045,\n",
       " 3.6591120883179102,\n",
       " 3.659000049504705,\n",
       " 3.6593405811784137,\n",
       " 3.6596966573208434]"
      ]
     },
     "execution_count": 12,
     "metadata": {},
     "output_type": "execute_result"
    }
   ],
   "source": [
    "BE_results"
   ]
  },
  {
   "cell_type": "code",
   "execution_count": 18,
   "id": "4cae23d7",
   "metadata": {
    "scrolled": true
   },
   "outputs": [],
   "source": [
    "import pandas as pd\n",
    "tmp = pd.DataFrame({\"Mean RMSE - cross validated\":BE_results, \"Number of features removed\":range(len(BE_results))})\n",
    "path = r\"C:\\Users\\tanch\\Documents\\NTU\\NTU Year 4\\Semester 1\\CZ4041 - Machine Learning\\Team Project\\data\\BE_results.csv\"\n",
    "tmp.to_pickle(path)"
   ]
  },
  {
   "cell_type": "code",
   "execution_count": 19,
   "id": "26db81fb",
   "metadata": {
    "scrolled": true
   },
   "outputs": [
    {
     "data": {
      "text/html": [
       "<div>\n",
       "<style scoped>\n",
       "    .dataframe tbody tr th:only-of-type {\n",
       "        vertical-align: middle;\n",
       "    }\n",
       "\n",
       "    .dataframe tbody tr th {\n",
       "        vertical-align: top;\n",
       "    }\n",
       "\n",
       "    .dataframe thead th {\n",
       "        text-align: right;\n",
       "    }\n",
       "</style>\n",
       "<table border=\"1\" class=\"dataframe\">\n",
       "  <thead>\n",
       "    <tr style=\"text-align: right;\">\n",
       "      <th></th>\n",
       "      <th>Mean RMSE - cross validated</th>\n",
       "      <th>Number of features removed</th>\n",
       "    </tr>\n",
       "  </thead>\n",
       "  <tbody>\n",
       "    <tr>\n",
       "      <th>0</th>\n",
       "      <td>3.659313</td>\n",
       "      <td>0</td>\n",
       "    </tr>\n",
       "    <tr>\n",
       "      <th>1</th>\n",
       "      <td>3.659314</td>\n",
       "      <td>1</td>\n",
       "    </tr>\n",
       "    <tr>\n",
       "      <th>2</th>\n",
       "      <td>3.659373</td>\n",
       "      <td>2</td>\n",
       "    </tr>\n",
       "    <tr>\n",
       "      <th>3</th>\n",
       "      <td>3.659321</td>\n",
       "      <td>3</td>\n",
       "    </tr>\n",
       "    <tr>\n",
       "      <th>4</th>\n",
       "      <td>3.659075</td>\n",
       "      <td>4</td>\n",
       "    </tr>\n",
       "    <tr>\n",
       "      <th>5</th>\n",
       "      <td>3.658763</td>\n",
       "      <td>5</td>\n",
       "    </tr>\n",
       "    <tr>\n",
       "      <th>6</th>\n",
       "      <td>3.658763</td>\n",
       "      <td>6</td>\n",
       "    </tr>\n",
       "    <tr>\n",
       "      <th>7</th>\n",
       "      <td>3.658763</td>\n",
       "      <td>7</td>\n",
       "    </tr>\n",
       "    <tr>\n",
       "      <th>8</th>\n",
       "      <td>3.658763</td>\n",
       "      <td>8</td>\n",
       "    </tr>\n",
       "    <tr>\n",
       "      <th>9</th>\n",
       "      <td>3.658588</td>\n",
       "      <td>9</td>\n",
       "    </tr>\n",
       "    <tr>\n",
       "      <th>10</th>\n",
       "      <td>3.658929</td>\n",
       "      <td>10</td>\n",
       "    </tr>\n",
       "    <tr>\n",
       "      <th>11</th>\n",
       "      <td>3.659687</td>\n",
       "      <td>11</td>\n",
       "    </tr>\n",
       "    <tr>\n",
       "      <th>12</th>\n",
       "      <td>3.658671</td>\n",
       "      <td>12</td>\n",
       "    </tr>\n",
       "    <tr>\n",
       "      <th>13</th>\n",
       "      <td>3.658609</td>\n",
       "      <td>13</td>\n",
       "    </tr>\n",
       "    <tr>\n",
       "      <th>14</th>\n",
       "      <td>3.658539</td>\n",
       "      <td>14</td>\n",
       "    </tr>\n",
       "    <tr>\n",
       "      <th>15</th>\n",
       "      <td>3.658756</td>\n",
       "      <td>15</td>\n",
       "    </tr>\n",
       "    <tr>\n",
       "      <th>16</th>\n",
       "      <td>3.659152</td>\n",
       "      <td>16</td>\n",
       "    </tr>\n",
       "    <tr>\n",
       "      <th>17</th>\n",
       "      <td>3.658105</td>\n",
       "      <td>17</td>\n",
       "    </tr>\n",
       "    <tr>\n",
       "      <th>18</th>\n",
       "      <td>3.658738</td>\n",
       "      <td>18</td>\n",
       "    </tr>\n",
       "    <tr>\n",
       "      <th>19</th>\n",
       "      <td>3.658928</td>\n",
       "      <td>19</td>\n",
       "    </tr>\n",
       "    <tr>\n",
       "      <th>20</th>\n",
       "      <td>3.658891</td>\n",
       "      <td>20</td>\n",
       "    </tr>\n",
       "    <tr>\n",
       "      <th>21</th>\n",
       "      <td>3.658906</td>\n",
       "      <td>21</td>\n",
       "    </tr>\n",
       "    <tr>\n",
       "      <th>22</th>\n",
       "      <td>3.659578</td>\n",
       "      <td>22</td>\n",
       "    </tr>\n",
       "    <tr>\n",
       "      <th>23</th>\n",
       "      <td>3.658958</td>\n",
       "      <td>23</td>\n",
       "    </tr>\n",
       "    <tr>\n",
       "      <th>24</th>\n",
       "      <td>3.658365</td>\n",
       "      <td>24</td>\n",
       "    </tr>\n",
       "    <tr>\n",
       "      <th>25</th>\n",
       "      <td>3.658574</td>\n",
       "      <td>25</td>\n",
       "    </tr>\n",
       "    <tr>\n",
       "      <th>26</th>\n",
       "      <td>3.659112</td>\n",
       "      <td>26</td>\n",
       "    </tr>\n",
       "    <tr>\n",
       "      <th>27</th>\n",
       "      <td>3.659000</td>\n",
       "      <td>27</td>\n",
       "    </tr>\n",
       "    <tr>\n",
       "      <th>28</th>\n",
       "      <td>3.659341</td>\n",
       "      <td>28</td>\n",
       "    </tr>\n",
       "    <tr>\n",
       "      <th>29</th>\n",
       "      <td>3.659697</td>\n",
       "      <td>29</td>\n",
       "    </tr>\n",
       "  </tbody>\n",
       "</table>\n",
       "</div>"
      ],
      "text/plain": [
       "    Mean RMSE - cross validated  Number of features removed\n",
       "0                      3.659313                           0\n",
       "1                      3.659314                           1\n",
       "2                      3.659373                           2\n",
       "3                      3.659321                           3\n",
       "4                      3.659075                           4\n",
       "5                      3.658763                           5\n",
       "6                      3.658763                           6\n",
       "7                      3.658763                           7\n",
       "8                      3.658763                           8\n",
       "9                      3.658588                           9\n",
       "10                     3.658929                          10\n",
       "11                     3.659687                          11\n",
       "12                     3.658671                          12\n",
       "13                     3.658609                          13\n",
       "14                     3.658539                          14\n",
       "15                     3.658756                          15\n",
       "16                     3.659152                          16\n",
       "17                     3.658105                          17\n",
       "18                     3.658738                          18\n",
       "19                     3.658928                          19\n",
       "20                     3.658891                          20\n",
       "21                     3.658906                          21\n",
       "22                     3.659578                          22\n",
       "23                     3.658958                          23\n",
       "24                     3.658365                          24\n",
       "25                     3.658574                          25\n",
       "26                     3.659112                          26\n",
       "27                     3.659000                          27\n",
       "28                     3.659341                          28\n",
       "29                     3.659697                          29"
      ]
     },
     "execution_count": 19,
     "metadata": {},
     "output_type": "execute_result"
    }
   ],
   "source": [
    "tmp"
   ]
  },
  {
   "cell_type": "code",
   "execution_count": 22,
   "id": "3f9d0122",
   "metadata": {
    "scrolled": false
   },
   "outputs": [
    {
     "data": {
      "text/plain": [
       "(3.657722957636304, 3.6600787269204016)"
      ]
     },
     "execution_count": 22,
     "metadata": {},
     "output_type": "execute_result"
    },
    {
     "data": {
      "image/png": "[encoded data removed]",
      "text/plain": [
       "<Figure size 640x480 with 1 Axes>"
      ]
     },
     "metadata": {},
     "output_type": "display_data"
    }
   ],
   "source": [
    "\n",
    "p = barplot(data = tmp, y = \"Mean RMSE - cross validated\", x = \"Number of features removed\")\n",
    "p.set_ylim(tmp['Mean RMSE - cross validated'].min()-tmp['Mean RMSE - cross validated'].std(), tmp['Mean RMSE - cross validated'].max()+ tmp['Mean RMSE - cross validated'].std())\n",
    "# p.set(ylabel = \"Mean RMSE - cross validated\", xlabel = \"Number of features removed\")"
   ]
  },
  {
   "cell_type": "markdown",
   "id": "a848d340",
   "metadata": {},
   "source": [
    "### features to drop "
   ]
  },
  {
   "cell_type": "code",
   "execution_count": 7,
   "id": "672f2540",
   "metadata": {},
   "outputs": [
    {
     "data": {
      "text/plain": [
       "['feature1_5',\n",
       " 'new_merchant_category_id_bins_5_822_7_156_count',\n",
       " 'new_city_id_bins_6_778_7_249_count',\n",
       " 'count_state_id',\n",
       " 'new_city_id_bins_1_608_6_778_count',\n",
       " 'feature3_0',\n",
       " 'new_state_id_bins_5_877_9_474_count',\n",
       " 'new_merchant_category_id_bins_3_434_5_822_count',\n",
       " 'count_city_id',\n",
       " 'new_merchant_category_id_bins_0_001_3_434_count',\n",
       " 'new_merchant_category_id_bins_0_001_3_434_fraction',\n",
       " 'old_purchase_date_min_year',\n",
       " 'new_purchase_date_max_year',\n",
       " 'new_subsector_id_bins_2_0780000000000003_7_706_count',\n",
       " 'new_purchase_date_min_year',\n",
       " 'new_subsector_id_bins_2_0780000000000003_7_706_fraction',\n",
       " 'feature3_1']"
      ]
     },
     "execution_count": 7,
     "metadata": {},
     "output_type": "execute_result"
    }
   ],
   "source": [
    "features_to_drop = feature_importances[\"Feature Name\"][-17:].tolist()\n",
    "features_to_drop"
   ]
  },
  {
   "cell_type": "code",
   "execution_count": 1,
   "id": "5863b7b4",
   "metadata": {},
   "outputs": [
    {
     "data": {
      "text/plain": [
       "17"
      ]
     },
     "execution_count": 1,
     "metadata": {},
     "output_type": "execute_result"
    }
   ],
   "source": [
    "len(['feature1_5',\n",
    " 'new_merchant_category_id_bins_5_822_7_156_count',\n",
    " 'new_city_id_bins_6_778_7_249_count',\n",
    " 'count_state_id',\n",
    " 'new_city_id_bins_1_608_6_778_count',\n",
    " 'feature3_0',\n",
    " 'new_state_id_bins_5_877_9_474_count',\n",
    " 'new_merchant_category_id_bins_3_434_5_822_count',\n",
    " 'count_city_id',\n",
    " 'new_merchant_category_id_bins_0_001_3_434_count',\n",
    " 'new_merchant_category_id_bins_0_001_3_434_fraction',\n",
    " 'old_purchase_date_min_year',\n",
    " 'new_purchase_date_max_year',\n",
    " 'new_subsector_id_bins_2_0780000000000003_7_706_count',\n",
    " 'new_purchase_date_min_year',\n",
    " 'new_subsector_id_bins_2_0780000000000003_7_706_fraction',\n",
    " 'feature3_1'])\n"
   ]
  },
  {
   "cell_type": "code",
   "execution_count": null,
   "id": "a804fedb",
   "metadata": {},
   "outputs": [],
   "source": []
  },
  {
   "cell_type": "code",
   "execution_count": null,
   "id": "1e850311",
   "metadata": {},
   "outputs": [],
   "source": []
  },
  {
   "cell_type": "code",
   "execution_count": null,
   "id": "caff0339",
   "metadata": {},
   "outputs": [],
   "source": []
  },
  {
   "cell_type": "markdown",
   "id": "0cddf542",
   "metadata": {},
   "source": [
    "### check effectiveness to feature elimination\n",
    "- perform 5 fold cv"
   ]
  },
  {
   "cell_type": "code",
   "execution_count": 10,
   "id": "ef43c62b",
   "metadata": {},
   "outputs": [
    {
     "name": "stderr",
     "output_type": "stream",
     "text": [
      "C:\\Users\\tanch\\anaconda3\\envs\\ml\\lib\\site-packages\\lightgbm\\engine.py:577: UserWarning: 'early_stopping_rounds' argument is deprecated and will be removed in a future release of LightGBM. Pass 'early_stopping()' callback via 'callbacks' argument instead.\n",
      "  _log_warning(\"'early_stopping_rounds' argument is deprecated and will be removed in a future release of LightGBM. \"\n"
     ]
    },
    {
     "name": "stdout",
     "output_type": "stream",
     "text": [
      "[LightGBM] [Info] Total Bins 80725\n",
      "[LightGBM] [Info] Number of data points in the train set: 161532, number of used features: 424\n",
      "[LightGBM] [Info] Total Bins 80725\n",
      "[LightGBM] [Info] Number of data points in the train set: 161532, number of used features: 424\n",
      "[LightGBM] [Info] Total Bins 80725\n",
      "[LightGBM] [Info] Number of data points in the train set: 161532, number of used features: 424\n",
      "[LightGBM] [Info] Total Bins 80725\n",
      "[LightGBM] [Info] Number of data points in the train set: 161532, number of used features: 424\n",
      "[LightGBM] [Info] Total Bins 80725\n",
      "[LightGBM] [Info] Number of data points in the train set: 161532, number of used features: 424\n",
      "[LightGBM] [Info] Start training from score -0.387307\n"
     ]
    },
    {
     "name": "stderr",
     "output_type": "stream",
     "text": [
      "C:\\Users\\tanch\\anaconda3\\envs\\ml\\lib\\site-packages\\lightgbm\\engine.py:620: UserWarning: 'verbose_eval' argument is deprecated and will be removed in a future release of LightGBM. Pass 'log_evaluation()' callback via 'callbacks' argument instead.\n",
      "  _log_warning(\"'verbose_eval' argument is deprecated and will be removed in a future release of LightGBM. \"\n"
     ]
    },
    {
     "name": "stdout",
     "output_type": "stream",
     "text": [
      "[LightGBM] [Info] Start training from score -0.394715\n",
      "[LightGBM] [Info] Start training from score -0.396989\n",
      "[LightGBM] [Info] Start training from score -0.400525\n",
      "[LightGBM] [Info] Start training from score -0.388645\n",
      "[10]\tcv_agg's rmse: 3.82358 + 0.0703391\n",
      "[20]\tcv_agg's rmse: 3.80078 + 0.0703793\n",
      "[30]\tcv_agg's rmse: 3.78132 + 0.0703846\n",
      "[40]\tcv_agg's rmse: 3.76467 + 0.0700627\n",
      "[50]\tcv_agg's rmse: 3.75019 + 0.0701135\n",
      "[60]\tcv_agg's rmse: 3.73846 + 0.0703139\n",
      "[70]\tcv_agg's rmse: 3.72835 + 0.0703836\n",
      "[80]\tcv_agg's rmse: 3.71985 + 0.070151\n",
      "[90]\tcv_agg's rmse: 3.71244 + 0.070005\n",
      "[100]\tcv_agg's rmse: 3.70603 + 0.0698574\n",
      "[110]\tcv_agg's rmse: 3.70024 + 0.0700078\n",
      "[120]\tcv_agg's rmse: 3.69555 + 0.069969\n",
      "[130]\tcv_agg's rmse: 3.69147 + 0.0698496\n",
      "[140]\tcv_agg's rmse: 3.68777 + 0.0696681\n",
      "[150]\tcv_agg's rmse: 3.68455 + 0.0696151\n",
      "[160]\tcv_agg's rmse: 3.68178 + 0.0696468\n",
      "[170]\tcv_agg's rmse: 3.67946 + 0.0695946\n",
      "[180]\tcv_agg's rmse: 3.67718 + 0.0695956\n",
      "[190]\tcv_agg's rmse: 3.67539 + 0.0695557\n",
      "[200]\tcv_agg's rmse: 3.67372 + 0.0695825\n",
      "[210]\tcv_agg's rmse: 3.67216 + 0.0695719\n",
      "[220]\tcv_agg's rmse: 3.67069 + 0.0696247\n",
      "[230]\tcv_agg's rmse: 3.66944 + 0.0695496\n",
      "[240]\tcv_agg's rmse: 3.66819 + 0.0695232\n",
      "[250]\tcv_agg's rmse: 3.66723 + 0.0695646\n",
      "[260]\tcv_agg's rmse: 3.66633 + 0.0696462\n",
      "[270]\tcv_agg's rmse: 3.66557 + 0.0696849\n",
      "[280]\tcv_agg's rmse: 3.66474 + 0.0697017\n",
      "[290]\tcv_agg's rmse: 3.66408 + 0.0697173\n",
      "[300]\tcv_agg's rmse: 3.66336 + 0.0695889\n",
      "[310]\tcv_agg's rmse: 3.66283 + 0.0695118\n",
      "[320]\tcv_agg's rmse: 3.66236 + 0.0694646\n",
      "[330]\tcv_agg's rmse: 3.6619 + 0.0693696\n",
      "[340]\tcv_agg's rmse: 3.66145 + 0.0692333\n",
      "[350]\tcv_agg's rmse: 3.66109 + 0.0692406\n",
      "[360]\tcv_agg's rmse: 3.6607 + 0.0691312\n",
      "[370]\tcv_agg's rmse: 3.66036 + 0.0691119\n",
      "[380]\tcv_agg's rmse: 3.66018 + 0.0690614\n",
      "[390]\tcv_agg's rmse: 3.65994 + 0.0690795\n",
      "[400]\tcv_agg's rmse: 3.65978 + 0.0689937\n",
      "[410]\tcv_agg's rmse: 3.65958 + 0.0690018\n",
      "[420]\tcv_agg's rmse: 3.65949 + 0.0689615\n",
      "[430]\tcv_agg's rmse: 3.65929 + 0.0690157\n",
      "[440]\tcv_agg's rmse: 3.65901 + 0.0689953\n",
      "[450]\tcv_agg's rmse: 3.65892 + 0.0690107\n",
      "[460]\tcv_agg's rmse: 3.65874 + 0.0690232\n",
      "[470]\tcv_agg's rmse: 3.65861 + 0.0689352\n",
      "[480]\tcv_agg's rmse: 3.65846 + 0.0689187\n",
      "[490]\tcv_agg's rmse: 3.6583 + 0.0689265\n",
      "[500]\tcv_agg's rmse: 3.65823 + 0.0689467\n",
      "[510]\tcv_agg's rmse: 3.6581 + 0.0689516\n",
      "[520]\tcv_agg's rmse: 3.65797 + 0.0690107\n",
      "[530]\tcv_agg's rmse: 3.65789 + 0.0688478\n",
      "[540]\tcv_agg's rmse: 3.65781 + 0.0689303\n",
      "[550]\tcv_agg's rmse: 3.65783 + 0.0688775\n",
      "[560]\tcv_agg's rmse: 3.65777 + 0.0689098\n",
      "[570]\tcv_agg's rmse: 3.65769 + 0.0689552\n",
      "[580]\tcv_agg's rmse: 3.65765 + 0.0689316\n",
      "3.6576312671514812\n"
     ]
    }
   ],
   "source": [
    "subset_features = list(set(feature_importances[\"Feature Name\"].tolist())-set(features_to_drop))\n",
    "X, y = data[subset_features], data[\"target\"]\n",
    "train = lgb.Dataset(data = X, label = y)\n",
    "cv = lgb.cv(\n",
    "    params = best_params, \n",
    "    train_set = train, \n",
    "    num_boost_round = 1000, \n",
    "    nfold=5, \n",
    "    metrics = [\"rmse\"],\n",
    "    stratified = False, \n",
    "    categorical_feature = \"auto\",\n",
    "    verbose_eval = 10,\n",
    "    early_stopping_rounds = 10,\n",
    "    return_cvbooster = False\n",
    ")\n",
    "score = min(cv[\"rmse-mean\"])\n",
    "print(score)"
   ]
  },
  {
   "cell_type": "code",
   "execution_count": 11,
   "id": "1e6a0d83",
   "metadata": {},
   "outputs": [
    {
     "name": "stderr",
     "output_type": "stream",
     "text": [
      "C:\\Users\\tanch\\anaconda3\\envs\\ml\\lib\\site-packages\\lightgbm\\engine.py:577: UserWarning: 'early_stopping_rounds' argument is deprecated and will be removed in a future release of LightGBM. Pass 'early_stopping()' callback via 'callbacks' argument instead.\n",
      "  _log_warning(\"'early_stopping_rounds' argument is deprecated and will be removed in a future release of LightGBM. \"\n"
     ]
    },
    {
     "name": "stdout",
     "output_type": "stream",
     "text": [
      "[LightGBM] [Info] Total Bins 81429\n",
      "[LightGBM] [Info] Number of data points in the train set: 161532, number of used features: 438\n",
      "[LightGBM] [Info] Total Bins 81429\n",
      "[LightGBM] [Info] Number of data points in the train set: 161532, number of used features: 438\n",
      "[LightGBM] [Info] Total Bins 81429\n",
      "[LightGBM] [Info] Number of data points in the train set: 161532, number of used features: 438\n",
      "[LightGBM] [Info] Total Bins 81429\n",
      "[LightGBM] [Info] Number of data points in the train set: 161532, number of used features: 438\n",
      "[LightGBM] [Info] Total Bins 81429\n",
      "[LightGBM] [Info] Number of data points in the train set: 161532, number of used features: 438\n",
      "[LightGBM] [Info] Start training from score -0.387307\n"
     ]
    },
    {
     "name": "stderr",
     "output_type": "stream",
     "text": [
      "C:\\Users\\tanch\\anaconda3\\envs\\ml\\lib\\site-packages\\lightgbm\\engine.py:620: UserWarning: 'verbose_eval' argument is deprecated and will be removed in a future release of LightGBM. Pass 'log_evaluation()' callback via 'callbacks' argument instead.\n",
      "  _log_warning(\"'verbose_eval' argument is deprecated and will be removed in a future release of LightGBM. \"\n"
     ]
    },
    {
     "name": "stdout",
     "output_type": "stream",
     "text": [
      "[LightGBM] [Info] Start training from score -0.394715\n",
      "[LightGBM] [Info] Start training from score -0.396989\n",
      "[LightGBM] [Info] Start training from score -0.400525\n",
      "[LightGBM] [Info] Start training from score -0.388645\n",
      "[10]\tcv_agg's rmse: 3.82255 + 0.070164\n",
      "[20]\tcv_agg's rmse: 3.79994 + 0.070288\n",
      "[30]\tcv_agg's rmse: 3.78075 + 0.0700187\n",
      "[40]\tcv_agg's rmse: 3.76428 + 0.0697281\n",
      "[50]\tcv_agg's rmse: 3.75024 + 0.0696638\n",
      "[60]\tcv_agg's rmse: 3.73863 + 0.0697181\n",
      "[70]\tcv_agg's rmse: 3.72841 + 0.069884\n",
      "[80]\tcv_agg's rmse: 3.72008 + 0.0698152\n",
      "[90]\tcv_agg's rmse: 3.71271 + 0.0697166\n",
      "[100]\tcv_agg's rmse: 3.70621 + 0.069602\n",
      "[110]\tcv_agg's rmse: 3.70039 + 0.0697897\n",
      "[120]\tcv_agg's rmse: 3.69569 + 0.0695674\n",
      "[130]\tcv_agg's rmse: 3.69143 + 0.0694324\n",
      "[140]\tcv_agg's rmse: 3.68795 + 0.0693524\n",
      "[150]\tcv_agg's rmse: 3.68489 + 0.0693902\n",
      "[160]\tcv_agg's rmse: 3.6823 + 0.0694168\n",
      "[170]\tcv_agg's rmse: 3.6799 + 0.0691723\n",
      "[180]\tcv_agg's rmse: 3.67771 + 0.0691296\n",
      "[190]\tcv_agg's rmse: 3.67581 + 0.0691372\n",
      "[200]\tcv_agg's rmse: 3.67428 + 0.06919\n",
      "[210]\tcv_agg's rmse: 3.67272 + 0.0690612\n",
      "[220]\tcv_agg's rmse: 3.67143 + 0.0690856\n",
      "[230]\tcv_agg's rmse: 3.67019 + 0.0689598\n",
      "[240]\tcv_agg's rmse: 3.6689 + 0.0688857\n",
      "[250]\tcv_agg's rmse: 3.66795 + 0.0689783\n",
      "[260]\tcv_agg's rmse: 3.66717 + 0.0688897\n",
      "[270]\tcv_agg's rmse: 3.66651 + 0.0689679\n",
      "[280]\tcv_agg's rmse: 3.66582 + 0.0689723\n",
      "[290]\tcv_agg's rmse: 3.66509 + 0.0690164\n",
      "[300]\tcv_agg's rmse: 3.66448 + 0.0690443\n",
      "[310]\tcv_agg's rmse: 3.66388 + 0.0689466\n",
      "[320]\tcv_agg's rmse: 3.66334 + 0.0688896\n",
      "[330]\tcv_agg's rmse: 3.66291 + 0.0688722\n",
      "[340]\tcv_agg's rmse: 3.66246 + 0.0688625\n",
      "[350]\tcv_agg's rmse: 3.66204 + 0.068882\n",
      "[360]\tcv_agg's rmse: 3.66175 + 0.068715\n",
      "[370]\tcv_agg's rmse: 3.66146 + 0.0687243\n",
      "[380]\tcv_agg's rmse: 3.66131 + 0.0686272\n",
      "[390]\tcv_agg's rmse: 3.66103 + 0.0686399\n",
      "[400]\tcv_agg's rmse: 3.66074 + 0.068573\n",
      "[410]\tcv_agg's rmse: 3.66057 + 0.0685904\n",
      "[420]\tcv_agg's rmse: 3.66041 + 0.06855\n",
      "[430]\tcv_agg's rmse: 3.66026 + 0.0685272\n",
      "[440]\tcv_agg's rmse: 3.66003 + 0.0684894\n",
      "[450]\tcv_agg's rmse: 3.6599 + 0.0684998\n",
      "[460]\tcv_agg's rmse: 3.65979 + 0.0685947\n",
      "[470]\tcv_agg's rmse: 3.65966 + 0.0684975\n",
      "[480]\tcv_agg's rmse: 3.65954 + 0.0684958\n",
      "[490]\tcv_agg's rmse: 3.65944 + 0.0685195\n",
      "[500]\tcv_agg's rmse: 3.65937 + 0.0684574\n",
      "3.659312528156499\n"
     ]
    }
   ],
   "source": [
    "subset_features = feature_importances[\"Feature Name\"].tolist()\n",
    "X, y = data[subset_features], data[\"target\"]\n",
    "train = lgb.Dataset(data = X, label = y)\n",
    "cv = lgb.cv(\n",
    "    params = best_params, \n",
    "    train_set = train, \n",
    "    num_boost_round = 1000, \n",
    "    nfold=5, \n",
    "    metrics = [\"rmse\"],\n",
    "    stratified = False, \n",
    "    categorical_feature = \"auto\",\n",
    "    verbose_eval = 10,\n",
    "    early_stopping_rounds = 10,\n",
    "    return_cvbooster = False\n",
    ")\n",
    "score = min(cv[\"rmse-mean\"])\n",
    "print(score)"
   ]
  },
  {
   "cell_type": "code",
   "execution_count": null,
   "id": "944c35d5",
   "metadata": {},
   "outputs": [],
   "source": []
  }
 ],
 "metadata": {
  "kernelspec": {
   "display_name": "ml",
   "language": "python",
   "name": "ml"
  },
  "language_info": {
   "codemirror_mode": {
    "name": "ipython",
    "version": 3
   },
   "file_extension": ".py",
   "mimetype": "text/x-python",
   "name": "python",
   "nbconvert_exporter": "python",
   "pygments_lexer": "ipython3",
   "version": "3.9.12"
  }
 },
 "nbformat": 4,
 "nbformat_minor": 5
}
